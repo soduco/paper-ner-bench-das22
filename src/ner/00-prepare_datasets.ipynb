{
 "cells": [
  {
   "cell_type": "markdown",
   "id": "8189029c-0b96-45a0-8d89-6c49ffdda9b4",
   "metadata": {
    "tags": []
   },
   "source": [
    "# 00 - Datasets generation\n",
    "\n",
    "Outputs:\n",
    "- In `01-experiment_1_prepared_datasets`: train, dev & test datasets for each size of training sets for experiment 1\n",
    "- In `02-experiment_2_prepared_datasets`: train, dev & test datasets for clean & noisy OCR data (Pero-OCR, Tesseract) for experiment 2 "
   ]
  },
  {
   "cell_type": "markdown",
   "id": "da77ed69-9fa6-4462-9b1b-00ecb3f17392",
   "metadata": {
    "tags": []
   },
   "source": [
    "## Initialization"
   ]
  },
  {
   "cell_type": "code",
   "execution_count": 12,
   "id": "6ff04646-29cc-4cb7-a931-45b18016ed64",
   "metadata": {
    "tags": []
   },
   "outputs": [
    {
     "name": "stdout",
     "output_type": "stream",
     "text": [
      "['/home/bertrand/dev/paper-ner-bench-das22/src/ner', '/home/bertrand/anaconda3/lib/python39.zip', '/home/bertrand/anaconda3/lib/python3.9', '/home/bertrand/anaconda3/lib/python3.9/lib-dynload', '', '/home/bertrand/anaconda3/lib/python3.9/site-packages', '/home/bertrand/anaconda3/lib/python3.9/site-packages/locket-0.2.1-py3.9.egg', '/home/bertrand/anaconda3/lib/python3.9/site-packages/IPython/extensions', '/home/bertrand/.ipython']\n"
     ]
    },
    {
     "data": {
      "text/plain": [
       "PosixPath('/home/bertrand/dev/paper-ner-bench-das22/src/ner')"
      ]
     },
     "execution_count": 12,
     "metadata": {},
     "output_type": "execute_result"
    }
   ],
   "source": [
    "import os, sys\n",
    "from pathlib import Path\n",
    "\n",
    "ENV_IS_GOOGLE_COLAB = True if 'google.colab' in str(get_ipython()) else False\n",
    "os.environ[\"ENV_IS_GOOGLE_COLAB\"] = str(ENV_IS_GOOGLE_COLAB)\n",
    "\n",
    "if ENV_IS_GOOGLE_COLAB:\n",
    "  from google.colab import drive\n",
    "  mountpoint = Path(\"/content/drive\")\n",
    "  drive.mount(str(mountpoint)) # Mount gdrive to BASE\n",
    "  base = mountpoint / \"MyDrive/SODUCO/article_das_2022\" # Adapt this to your situation\n",
    "  sys.path.append(str(base)) # Add BASE to Python Path\n",
    "else:\n",
    "  base = os.path.dirname(os.path.realpath(\"__file__\")) # If not on GColab, BASE will be the directory of this notebook\n",
    "\n",
    "BASE = Path(base).resolve() # Make BASE absolute\n",
    "print(sys.path)\n",
    "BASE"
   ]
  },
  {
   "cell_type": "markdown",
   "id": "6d3ab2a8-d126-4a36-87c1-5bd934a2f5c4",
   "metadata": {
    "tags": []
   },
   "source": [
    "## Constants"
   ]
  },
  {
   "cell_type": "code",
   "execution_count": 13,
   "id": "16874c6b-e422-4e07-b31c-856841a71300",
   "metadata": {
    "tags": []
   },
   "outputs": [
    {
     "data": {
      "text/plain": [
       "PosixPath('/home/bertrand/dev/paper-ner-bench-das22/src/ner')"
      ]
     },
     "execution_count": 13,
     "metadata": {},
     "output_type": "execute_result"
    }
   ],
   "source": [
    "# GLOBAL CONSTANTS\n",
    "import config\n",
    "import os\n",
    "from pathlib import Path\n",
    "\n",
    "config.SPLIT_SEED = 42 # Random seed used in train/dev/test. Do not change it if you want to recreate the paper results.\n",
    "config.DEBUG = False # If true, text versions of the spacy datasets will be savec along with the .spacy files\n",
    "\n",
    "# INPUT / OUTPUT\n",
    "OUTPUT_DIR = BASE\n",
    "OUTPUT_DIR"
   ]
  },
  {
   "cell_type": "markdown",
   "id": "71010115-8bac-43d9-9638-15f56f029493",
   "metadata": {},
   "source": [
    "# 01. Experiment #1"
   ]
  },
  {
   "cell_type": "code",
   "execution_count": 14,
   "id": "de597797-0541-404e-b721-8667077eb7f1",
   "metadata": {},
   "outputs": [
    {
     "data": {
      "text/html": [
       "<div>\n",
       "<style scoped>\n",
       "    .dataframe tbody tr th:only-of-type {\n",
       "        vertical-align: middle;\n",
       "    }\n",
       "\n",
       "    .dataframe tbody tr th {\n",
       "        vertical-align: top;\n",
       "    }\n",
       "\n",
       "    .dataframe thead th {\n",
       "        text-align: right;\n",
       "    }\n",
       "</style>\n",
       "<table border=\"1\" class=\"dataframe\">\n",
       "  <thead>\n",
       "    <tr style=\"text-align: right;\">\n",
       "      <th></th>\n",
       "      <th>ner_xml</th>\n",
       "      <th>book</th>\n",
       "    </tr>\n",
       "  </thead>\n",
       "  <tbody>\n",
       "    <tr>\n",
       "      <th>0</th>\n",
       "      <td>&lt;PER&gt;Dufan et Clémendot&lt;/PER&gt;, &lt;ACT&gt;pharmacien...</td>\n",
       "      <td>Bottin1_1820</td>\n",
       "    </tr>\n",
       "    <tr>\n",
       "      <th>1</th>\n",
       "      <td>&lt;PER&gt;Dufant (Victor)&lt;/PER&gt;, &lt;ACT&gt;libraire&lt;/ACT...</td>\n",
       "      <td>Bottin1_1820</td>\n",
       "    </tr>\n",
       "    <tr>\n",
       "      <th>2</th>\n",
       "      <td>&lt;PER&gt;Dufay&lt;/PER&gt;, &lt;ACT&gt;essayeur du commerce&lt;/A...</td>\n",
       "      <td>Bottin1_1820</td>\n",
       "    </tr>\n",
       "    <tr>\n",
       "      <th>3</th>\n",
       "      <td>&lt;PER&gt;Dulay&lt;/PER&gt;, &lt;ACT&gt;chandronnier&lt;/ACT&gt;, &lt;LO...</td>\n",
       "      <td>Bottin1_1820</td>\n",
       "    </tr>\n",
       "    <tr>\n",
       "      <th>4</th>\n",
       "      <td>&lt;PER&gt;Dufay (V.e)&lt;/PER&gt;, &lt;ACT&gt;grenetière&lt;/ACT&gt;,...</td>\n",
       "      <td>Bottin1_1820</td>\n",
       "    </tr>\n",
       "    <tr>\n",
       "      <th>...</th>\n",
       "      <td>...</td>\n",
       "      <td>...</td>\n",
       "    </tr>\n",
       "    <tr>\n",
       "      <th>8767</th>\n",
       "      <td>&lt;PER&gt;Lamarche&lt;/PER&gt;, &lt;ACT&gt;géographe&lt;/ACT&gt; , &lt;L...</td>\n",
       "      <td>notables_communaux_seine_1801</td>\n",
       "    </tr>\n",
       "    <tr>\n",
       "      <th>8768</th>\n",
       "      <td>&lt;PER&gt;Lamarck&lt;/PER&gt;, &lt;ACT&gt;membre de l&amp;apos;inst...</td>\n",
       "      <td>notables_communaux_seine_1801</td>\n",
       "    </tr>\n",
       "    <tr>\n",
       "      <th>8769</th>\n",
       "      <td>&lt;PER&gt;Lamare&lt;/PER&gt;, &lt;ACT&gt;notaire&lt;/ACT&gt;, &lt;LOC&gt;ru...</td>\n",
       "      <td>notables_communaux_seine_1801</td>\n",
       "    </tr>\n",
       "    <tr>\n",
       "      <th>8770</th>\n",
       "      <td>&lt;PER&gt;Lamarre&lt;/PER&gt; , &lt;ACT&gt;carrier&lt;/ACT&gt;, &lt;LOC&gt;...</td>\n",
       "      <td>notables_communaux_seine_1801</td>\n",
       "    </tr>\n",
       "    <tr>\n",
       "      <th>8771</th>\n",
       "      <td>&lt;PER&gt;Lamarre&lt;/PER&gt;, &lt;ACT&gt;clerc de notaire&lt;/ACT...</td>\n",
       "      <td>notables_communaux_seine_1801</td>\n",
       "    </tr>\n",
       "  </tbody>\n",
       "</table>\n",
       "<p>8772 rows × 2 columns</p>\n",
       "</div>"
      ],
      "text/plain": [
       "                                                ner_xml  \\\n",
       "0     <PER>Dufan et Clémendot</PER>, <ACT>pharmacien...   \n",
       "1     <PER>Dufant (Victor)</PER>, <ACT>libraire</ACT...   \n",
       "2     <PER>Dufay</PER>, <ACT>essayeur du commerce</A...   \n",
       "3     <PER>Dulay</PER>, <ACT>chandronnier</ACT>, <LO...   \n",
       "4     <PER>Dufay (V.e)</PER>, <ACT>grenetière</ACT>,...   \n",
       "...                                                 ...   \n",
       "8767  <PER>Lamarche</PER>, <ACT>géographe</ACT> , <L...   \n",
       "8768  <PER>Lamarck</PER>, <ACT>membre de l&apos;inst...   \n",
       "8769  <PER>Lamare</PER>, <ACT>notaire</ACT>, <LOC>ru...   \n",
       "8770  <PER>Lamarre</PER> , <ACT>carrier</ACT>, <LOC>...   \n",
       "8771  <PER>Lamarre</PER>, <ACT>clerc de notaire</ACT...   \n",
       "\n",
       "                               book  \n",
       "0                      Bottin1_1820  \n",
       "1                      Bottin1_1820  \n",
       "2                      Bottin1_1820  \n",
       "3                      Bottin1_1820  \n",
       "4                      Bottin1_1820  \n",
       "...                             ...  \n",
       "8767  notables_communaux_seine_1801  \n",
       "8768  notables_communaux_seine_1801  \n",
       "8769  notables_communaux_seine_1801  \n",
       "8770  notables_communaux_seine_1801  \n",
       "8771  notables_communaux_seine_1801  \n",
       "\n",
       "[8772 rows x 2 columns]"
      ]
     },
     "execution_count": 14,
     "metadata": {},
     "output_type": "execute_result"
    }
   ],
   "source": [
    "import numpy as np\n",
    "import pandas as pd\n",
    "import csv\n",
    "\n",
    "GOLD_REF = DATASET_DIR / \"supervised/10-ref-ocr-ner-json/gold.csv\"\n",
    "assert GOLD_REF.exists()\n",
    "\n",
    "gold_reference = pd.read_csv(GOLD_REF, header=None, names=[\"ner_xml\",\"book\"],skipinitialspace='True')\n",
    "gold_reference"
   ]
  },
  {
   "cell_type": "code",
   "execution_count": 15,
   "id": "ee5bdd42-8847-48e5-833f-8cbb8106e172",
   "metadata": {},
   "outputs": [
    {
     "data": {
      "text/plain": [
       "[6373, 3186, 1593, 796, 398, 199, 99, 49]"
      ]
     },
     "execution_count": 15,
     "metadata": {},
     "output_type": "execute_result"
    }
   ],
   "source": [
    "from dataset_util import train_dev_test_split, unwrap # Local imports\n",
    "from sklearn.model_selection import train_test_split\n",
    "\n",
    "# CONSTANTS\n",
    "MIN_TRAINSET_SIZE = 30\n",
    "\n",
    " # Split 72/8/20% w. stratified sampling on directories names\n",
    "train, dev, test = train_dev_test_split(gold_reference.to_numpy())\n",
    "\n",
    "# Iteratively split the trainset in half to create smaller trainsets\n",
    "exp1_trainsets = [train]\n",
    "t_len = len(train)\n",
    "\n",
    "while True:\n",
    "    try:\n",
    "        current = exp1_trainsets[-1]\n",
    "        _, groups = unwrap(current)\n",
    "        smaller, rest = train_test_split(\n",
    "            current,\n",
    "            train_size=0.5,\n",
    "            shuffle=True,\n",
    "            random_state=config.SPLIT_SEED,\n",
    "            stratify=groups,\n",
    "        )\n",
    "        t_len = len(rest)\n",
    "        if t_len < MIN_TRAINSET_SIZE:\n",
    "            break\n",
    "        exp1_trainsets.append(smaller)\n",
    "\n",
    "    except ValueError:\n",
    "        # Stop now if we encounter the error \"The least populated class in y has only 1 member\".\n",
    "        break\n",
    "\n",
    "[len(s) for s in exp1_trainsets] # Should be \n",
    "            "
   ]
  },
  {
   "cell_type": "code",
   "execution_count": 16,
   "id": "d9f4fd33-72da-4eb8-bec2-c90aa3798c00",
   "metadata": {},
   "outputs": [],
   "source": [
    "# Sanity checks\n",
    "\n",
    "# Dev set should contain 709 examples\n",
    "assert len(dev) == 709\n",
    "\n",
    "# Test set should contain 1690 examples\n",
    "assert len(test) == 1690\n",
    "\n",
    "# Lenghts of exp1_trainsets should be fixed\n",
    "assert sorted([len(s) for s in exp1_trainsets] ) == sorted([6373, 3186, 1593, 796, 398, 199, 99, 49])"
   ]
  },
  {
   "cell_type": "code",
   "execution_count": 17,
   "id": "bcd88d23-c062-4772-b53f-610927523397",
   "metadata": {},
   "outputs": [
    {
     "data": {
      "application/vnd.jupyter.widget-view+json": {
       "model_id": "efa25bda437a49a1969636d1635480c2",
       "version_major": 2,
       "version_minor": 0
      },
      "text/plain": [
       "  0%|          | 0/7 [00:00<?, ?ba/s]"
      ]
     },
     "metadata": {},
     "output_type": "display_data"
    },
    {
     "data": {
      "application/vnd.jupyter.widget-view+json": {
       "model_id": "b17486952ad44c638dace44705029903",
       "version_major": 2,
       "version_minor": 0
      },
      "text/plain": [
       "  0%|          | 0/1 [00:00<?, ?ba/s]"
      ]
     },
     "metadata": {},
     "output_type": "display_data"
    },
    {
     "data": {
      "application/vnd.jupyter.widget-view+json": {
       "model_id": "e3b32e0a99f146caa9cb6468c9c6a22a",
       "version_major": 2,
       "version_minor": 0
      },
      "text/plain": [
       "  0%|          | 0/2 [00:00<?, ?ba/s]"
      ]
     },
     "metadata": {},
     "output_type": "display_data"
    },
    {
     "data": {
      "application/vnd.jupyter.widget-view+json": {
       "model_id": "b46173d47c4e4d54b9ff5e5059534078",
       "version_major": 2,
       "version_minor": 0
      },
      "text/plain": [
       "  0%|          | 0/4 [00:00<?, ?ba/s]"
      ]
     },
     "metadata": {},
     "output_type": "display_data"
    },
    {
     "data": {
      "application/vnd.jupyter.widget-view+json": {
       "model_id": "af7068fbe67f4622b9db046cd0257f9c",
       "version_major": 2,
       "version_minor": 0
      },
      "text/plain": [
       "  0%|          | 0/1 [00:00<?, ?ba/s]"
      ]
     },
     "metadata": {},
     "output_type": "display_data"
    },
    {
     "data": {
      "application/vnd.jupyter.widget-view+json": {
       "model_id": "761fe9dcaea14f5dbdbdf2194ac226ac",
       "version_major": 2,
       "version_minor": 0
      },
      "text/plain": [
       "  0%|          | 0/2 [00:00<?, ?ba/s]"
      ]
     },
     "metadata": {},
     "output_type": "display_data"
    },
    {
     "data": {
      "application/vnd.jupyter.widget-view+json": {
       "model_id": "ac5c477f0d794424903726a660900049",
       "version_major": 2,
       "version_minor": 0
      },
      "text/plain": [
       "  0%|          | 0/2 [00:00<?, ?ba/s]"
      ]
     },
     "metadata": {},
     "output_type": "display_data"
    },
    {
     "data": {
      "application/vnd.jupyter.widget-view+json": {
       "model_id": "4d0aab955c6045579646d47fcac65faa",
       "version_major": 2,
       "version_minor": 0
      },
      "text/plain": [
       "  0%|          | 0/1 [00:00<?, ?ba/s]"
      ]
     },
     "metadata": {},
     "output_type": "display_data"
    },
    {
     "data": {
      "application/vnd.jupyter.widget-view+json": {
       "model_id": "c67ae394052a4ddb8d8bf01b3e8aa2b2",
       "version_major": 2,
       "version_minor": 0
      },
      "text/plain": [
       "  0%|          | 0/2 [00:00<?, ?ba/s]"
      ]
     },
     "metadata": {},
     "output_type": "display_data"
    },
    {
     "data": {
      "application/vnd.jupyter.widget-view+json": {
       "model_id": "f52fd03d280e4832bccf3bbd3b578dec",
       "version_major": 2,
       "version_minor": 0
      },
      "text/plain": [
       "  0%|          | 0/1 [00:00<?, ?ba/s]"
      ]
     },
     "metadata": {},
     "output_type": "display_data"
    },
    {
     "data": {
      "application/vnd.jupyter.widget-view+json": {
       "model_id": "4d3e96b07d38472fa9d9c2b8b7691aff",
       "version_major": 2,
       "version_minor": 0
      },
      "text/plain": [
       "  0%|          | 0/1 [00:00<?, ?ba/s]"
      ]
     },
     "metadata": {},
     "output_type": "display_data"
    },
    {
     "data": {
      "application/vnd.jupyter.widget-view+json": {
       "model_id": "d0477b64f97b4f2e872d23e594366b41",
       "version_major": 2,
       "version_minor": 0
      },
      "text/plain": [
       "  0%|          | 0/2 [00:00<?, ?ba/s]"
      ]
     },
     "metadata": {},
     "output_type": "display_data"
    },
    {
     "data": {
      "application/vnd.jupyter.widget-view+json": {
       "model_id": "49b8d6d058784805b0ea35532f42cb3a",
       "version_major": 2,
       "version_minor": 0
      },
      "text/plain": [
       "  0%|          | 0/1 [00:00<?, ?ba/s]"
      ]
     },
     "metadata": {},
     "output_type": "display_data"
    },
    {
     "data": {
      "application/vnd.jupyter.widget-view+json": {
       "model_id": "12aaf8295fcc475bbe43ae2ba3dce3c3",
       "version_major": 2,
       "version_minor": 0
      },
      "text/plain": [
       "  0%|          | 0/1 [00:00<?, ?ba/s]"
      ]
     },
     "metadata": {},
     "output_type": "display_data"
    },
    {
     "data": {
      "application/vnd.jupyter.widget-view+json": {
       "model_id": "7fc07c6052bc440e8ea644ae26dc3f6c",
       "version_major": 2,
       "version_minor": 0
      },
      "text/plain": [
       "  0%|          | 0/2 [00:00<?, ?ba/s]"
      ]
     },
     "metadata": {},
     "output_type": "display_data"
    },
    {
     "data": {
      "application/vnd.jupyter.widget-view+json": {
       "model_id": "9c21c6c0563c4c2dafbb5c5d65b18434",
       "version_major": 2,
       "version_minor": 0
      },
      "text/plain": [
       "  0%|          | 0/1 [00:00<?, ?ba/s]"
      ]
     },
     "metadata": {},
     "output_type": "display_data"
    },
    {
     "data": {
      "application/vnd.jupyter.widget-view+json": {
       "model_id": "83721de7b029419c8b93eedfea77c67f",
       "version_major": 2,
       "version_minor": 0
      },
      "text/plain": [
       "  0%|          | 0/1 [00:00<?, ?ba/s]"
      ]
     },
     "metadata": {},
     "output_type": "display_data"
    },
    {
     "data": {
      "application/vnd.jupyter.widget-view+json": {
       "model_id": "9a9270e19c374cf6a4b8aa7b042fa3bf",
       "version_major": 2,
       "version_minor": 0
      },
      "text/plain": [
       "  0%|          | 0/2 [00:00<?, ?ba/s]"
      ]
     },
     "metadata": {},
     "output_type": "display_data"
    },
    {
     "data": {
      "application/vnd.jupyter.widget-view+json": {
       "model_id": "b9e75e9fec324d0ba2243396e53e35e0",
       "version_major": 2,
       "version_minor": 0
      },
      "text/plain": [
       "  0%|          | 0/1 [00:00<?, ?ba/s]"
      ]
     },
     "metadata": {},
     "output_type": "display_data"
    },
    {
     "data": {
      "application/vnd.jupyter.widget-view+json": {
       "model_id": "2637eab815114ea48e212f71a0493c37",
       "version_major": 2,
       "version_minor": 0
      },
      "text/plain": [
       "  0%|          | 0/1 [00:00<?, ?ba/s]"
      ]
     },
     "metadata": {},
     "output_type": "display_data"
    },
    {
     "data": {
      "application/vnd.jupyter.widget-view+json": {
       "model_id": "1b31b69dc7334030acf071adf61f3ac4",
       "version_major": 2,
       "version_minor": 0
      },
      "text/plain": [
       "  0%|          | 0/2 [00:00<?, ?ba/s]"
      ]
     },
     "metadata": {},
     "output_type": "display_data"
    },
    {
     "data": {
      "application/vnd.jupyter.widget-view+json": {
       "model_id": "202b3934de9547d9bf90d446169cfcef",
       "version_major": 2,
       "version_minor": 0
      },
      "text/plain": [
       "  0%|          | 0/1 [00:00<?, ?ba/s]"
      ]
     },
     "metadata": {},
     "output_type": "display_data"
    },
    {
     "data": {
      "application/vnd.jupyter.widget-view+json": {
       "model_id": "e1c3c9a3cfbb497a921c909754172ba7",
       "version_major": 2,
       "version_minor": 0
      },
      "text/plain": [
       "  0%|          | 0/1 [00:00<?, ?ba/s]"
      ]
     },
     "metadata": {},
     "output_type": "display_data"
    },
    {
     "data": {
      "application/vnd.jupyter.widget-view+json": {
       "model_id": "064e44aa3fd141ae89066dee0b2db71b",
       "version_major": 2,
       "version_minor": 0
      },
      "text/plain": [
       "  0%|          | 0/2 [00:00<?, ?ba/s]"
      ]
     },
     "metadata": {},
     "output_type": "display_data"
    }
   ],
   "source": [
    "# Save on disk\n",
    "from dataset_util import save_dataset # Local import\n",
    "\n",
    "output_directory = OUTPUT_DIR / \"01-experiment_1_prepared_datasets\"\n",
    "output_directory.mkdir(exist_ok=True, parents=True) # Create if necessary\n",
    "   \n",
    "for train in exp1_trainsets:\n",
    "    datasets = [train, dev, test]\n",
    "    save_dataset(output_directory, datasets, [\"train\",\"dev\",\"test\"], suffix=len(train))"
   ]
  },
  {
   "cell_type": "markdown",
   "id": "7e623237-eb40-4bef-80d2-7a21a334023f",
   "metadata": {},
   "source": [
    "# 02. Experiment #2"
   ]
  },
  {
   "cell_type": "code",
   "execution_count": 18,
   "id": "7a74252e-1857-4aff-a2bc-a9c89be16980",
   "metadata": {},
   "outputs": [
    {
     "data": {
      "text/html": [
       "<div>\n",
       "<style scoped>\n",
       "    .dataframe tbody tr th:only-of-type {\n",
       "        vertical-align: middle;\n",
       "    }\n",
       "\n",
       "    .dataframe tbody tr th {\n",
       "        vertical-align: top;\n",
       "    }\n",
       "\n",
       "    .dataframe thead th {\n",
       "        text-align: right;\n",
       "    }\n",
       "</style>\n",
       "<table border=\"1\" class=\"dataframe\">\n",
       "  <thead>\n",
       "    <tr style=\"text-align: right;\">\n",
       "      <th></th>\n",
       "      <th>ner_xml_ref</th>\n",
       "      <th>ner_xml_pero</th>\n",
       "      <th>ner_xml_tess</th>\n",
       "      <th>book</th>\n",
       "    </tr>\n",
       "  </thead>\n",
       "  <tbody>\n",
       "    <tr>\n",
       "      <th>0</th>\n",
       "      <td>&lt;PER&gt;Dufant (Victor)&lt;/PER&gt;, &lt;ACT&gt;libraire&lt;/ACT...</td>\n",
       "      <td>☞ ",
       " ",
       "T ",
       "&lt;PER&gt;Dufant (Victor)&lt;/PER&gt;, &lt;ACT&gt;libraire...</td>\n",
       "      <td>&lt;PER&gt;Dofaut (Victor)&lt;/PER&gt;, &lt;ACT&gt;Sbraire&lt;/ACT&gt;...</td>\n",
       "      <td>Bottin1_1820</td>\n",
       "    </tr>\n",
       "    <tr>\n",
       "      <th>1</th>\n",
       "      <td>&lt;PER&gt;Dufay&lt;/PER&gt;, &lt;ACT&gt;essayeur du commerce&lt;/A...</td>\n",
       "      <td>&lt;PER&gt;Dutay&lt;/PER&gt;, &lt;ACT&gt;essayeur du commerce&lt;/A...</td>\n",
       "      <td>&lt;PER&gt;Dufay&lt;/PER&gt;, &lt;ACT&gt;essayeur du commerce&lt;/A...</td>\n",
       "      <td>Bottin1_1820</td>\n",
       "    </tr>\n",
       "    <tr>\n",
       "      <th>2</th>\n",
       "      <td>&lt;PER&gt;Dulay&lt;/PER&gt;, &lt;ACT&gt;chandronnier&lt;/ACT&gt;, &lt;LO...</td>\n",
       "      <td>&lt;PER&gt;Dulay&lt;/PER&gt;, &lt;ACT&gt;chandronnier&lt;/ACT&gt;, &lt;LO...</td>\n",
       "      <td>&lt;PER&gt;Dufay&lt;/PER&gt;, &lt;ACT&gt;chandronnier&lt;/ACT&gt;, &lt;LO...</td>\n",
       "      <td>Bottin1_1820</td>\n",
       "    </tr>\n",
       "    <tr>\n",
       "      <th>3</th>\n",
       "      <td>&lt;PER&gt;Dufay (V.e)&lt;/PER&gt;, &lt;ACT&gt;grenetière&lt;/ACT&gt;,...</td>\n",
       "      <td>&lt;PER&gt;Dufay (V.e)&lt;/PER&gt;, &lt;ACT&gt;grenetière&lt;/ACT&gt;,...</td>\n",
       "      <td>&amp;quot;&lt;PER&gt;Dufay (V.e)&lt;/PER&gt;, &lt;ACT&gt;grenetière&lt;...</td>\n",
       "      <td>Bottin1_1820</td>\n",
       "    </tr>\n",
       "    <tr>\n",
       "      <th>4</th>\n",
       "      <td>&lt;PER&gt;Dufeu&lt;/PER&gt;, &lt;ACT&gt;charcutier&lt;/ACT&gt;, &lt;LOC&gt;...</td>\n",
       "      <td>Y ",
       "☞ ",
       "&lt;PER&gt;Dnten&lt;/PER&gt;,&lt;ACT&gt;charentier&lt;/ACT&gt;, &lt;L...</td>\n",
       "      <td>&lt;PER&gt;Dufen&lt;/PER&gt; . &lt;ACT&gt;chareutier&lt;/ACT&gt;, &lt;LOC...</td>\n",
       "      <td>Bottin1_1820</td>\n",
       "    </tr>\n",
       "    <tr>\n",
       "      <th>...</th>\n",
       "      <td>...</td>\n",
       "      <td>...</td>\n",
       "      <td>...</td>\n",
       "      <td>...</td>\n",
       "    </tr>\n",
       "    <tr>\n",
       "      <th>8336</th>\n",
       "      <td>&lt;PER&gt;Lamarche&lt;/PER&gt;, &lt;ACT&gt;géographe&lt;/ACT&gt; , &lt;L...</td>\n",
       "      <td>&lt;PER&gt;Lamarche&lt;/PER&gt;, &lt;ACT&gt;geographe&lt;/ACT&gt; , &lt;L...</td>\n",
       "      <td>&lt;PER&gt;Lamarche&lt;/PER&gt;, &lt;ACT&gt;geographe&lt;/ACT&gt; , &lt;L...</td>\n",
       "      <td>notables_communaux_seine_1801</td>\n",
       "    </tr>\n",
       "    <tr>\n",
       "      <th>8337</th>\n",
       "      <td>&lt;PER&gt;Lamarck&lt;/PER&gt;, &lt;ACT&gt;membre de l&amp;apos;inst...</td>\n",
       "      <td>&lt;PER&gt;Lamarck&lt;/PER&gt;, &lt;ACT&gt;membre de l&amp;apos;inst...</td>\n",
       "      <td>&lt;PER&gt;Lamarck&lt;/PER&gt;, &lt;ACT&gt;membre de l&amp;apos;inst...</td>\n",
       "      <td>notables_communaux_seine_1801</td>\n",
       "    </tr>\n",
       "    <tr>\n",
       "      <th>8338</th>\n",
       "      <td>&lt;PER&gt;Lamare&lt;/PER&gt;, &lt;ACT&gt;notaire&lt;/ACT&gt;, &lt;LOC&gt;ru...</td>\n",
       "      <td>&lt;PER&gt;Lamare&lt;/PER&gt; , &lt;ACT&gt;notaire&lt;/ACT&gt;, &lt;LOC&gt;r...</td>\n",
       "      <td>&lt;PER&gt;Lamare&lt;/PER&gt; , &lt;ACT&gt;notaire&lt;/ACT&gt;, &lt;LOC&gt;r...</td>\n",
       "      <td>notables_communaux_seine_1801</td>\n",
       "    </tr>\n",
       "    <tr>\n",
       "      <th>8339</th>\n",
       "      <td>&lt;PER&gt;Lamarre&lt;/PER&gt; , &lt;ACT&gt;carrier&lt;/ACT&gt;, &lt;LOC&gt;...</td>\n",
       "      <td>&lt;PER&gt;Lamarre&lt;/PER&gt;, &lt;ACT&gt;carrier&lt;/ACT&gt;, &lt;LOC&gt;r...</td>\n",
       "      <td>&lt;PER&gt;Lamarre&lt;/PER&gt; , &lt;ACT&gt;Carrier&lt;/ACT&gt;, &lt;LOC&gt;...</td>\n",
       "      <td>notables_communaux_seine_1801</td>\n",
       "    </tr>\n",
       "    <tr>\n",
       "      <th>8340</th>\n",
       "      <td>&lt;PER&gt;Lamarre&lt;/PER&gt;, &lt;ACT&gt;clerc de notaire&lt;/ACT...</td>\n",
       "      <td>&lt;PER&gt;Lamarre&lt;/PER&gt;, &lt;ACT&gt;clerc de notaire&lt;/ACT...</td>\n",
       "      <td>&lt;PER&gt;Lamarre&lt;/PER&gt;, &lt;ACT&gt;clerc de notaire&lt;/ACT...</td>\n",
       "      <td>notables_communaux_seine_1801</td>\n",
       "    </tr>\n",
       "  </tbody>\n",
       "</table>\n",
       "<p>8341 rows × 4 columns</p>\n",
       "</div>"
      ],
      "text/plain": [
       "                                            ner_xml_ref  \\\n",
       "0     <PER>Dufant (Victor)</PER>, <ACT>libraire</ACT...   \n",
       "1     <PER>Dufay</PER>, <ACT>essayeur du commerce</A...   \n",
       "2     <PER>Dulay</PER>, <ACT>chandronnier</ACT>, <LO...   \n",
       "3     <PER>Dufay (V.e)</PER>, <ACT>grenetière</ACT>,...   \n",
       "4     <PER>Dufeu</PER>, <ACT>charcutier</ACT>, <LOC>...   \n",
       "...                                                 ...   \n",
       "8336  <PER>Lamarche</PER>, <ACT>géographe</ACT> , <L...   \n",
       "8337  <PER>Lamarck</PER>, <ACT>membre de l&apos;inst...   \n",
       "8338  <PER>Lamare</PER>, <ACT>notaire</ACT>, <LOC>ru...   \n",
       "8339  <PER>Lamarre</PER> , <ACT>carrier</ACT>, <LOC>...   \n",
       "8340  <PER>Lamarre</PER>, <ACT>clerc de notaire</ACT...   \n",
       "\n",
       "                                           ner_xml_pero  \\\n",
       "0     ☞\n",
       "\n",
       "T\n",
       "<PER>Dufant (Victor)</PER>, <ACT>libraire...   \n",
       "1     <PER>Dutay</PER>, <ACT>essayeur du commerce</A...   \n",
       "2     <PER>Dulay</PER>, <ACT>chandronnier</ACT>, <LO...   \n",
       "3     <PER>Dufay (V.e)</PER>, <ACT>grenetière</ACT>,...   \n",
       "4     Y\n",
       "☞\n",
       "<PER>Dnten</PER>,<ACT>charentier</ACT>, <L...   \n",
       "...                                                 ...   \n",
       "8336  <PER>Lamarche</PER>, <ACT>geographe</ACT> , <L...   \n",
       "8337  <PER>Lamarck</PER>, <ACT>membre de l&apos;inst...   \n",
       "8338  <PER>Lamare</PER> , <ACT>notaire</ACT>, <LOC>r...   \n",
       "8339  <PER>Lamarre</PER>, <ACT>carrier</ACT>, <LOC>r...   \n",
       "8340  <PER>Lamarre</PER>, <ACT>clerc de notaire</ACT...   \n",
       "\n",
       "                                           ner_xml_tess  \\\n",
       "0     <PER>Dofaut (Victor)</PER>, <ACT>Sbraire</ACT>...   \n",
       "1     <PER>Dufay</PER>, <ACT>essayeur du commerce</A...   \n",
       "2     <PER>Dufay</PER>, <ACT>chandronnier</ACT>, <LO...   \n",
       "3     &quot;<PER>Dufay (V.e)</PER>, <ACT>grenetière<...   \n",
       "4     <PER>Dufen</PER> . <ACT>chareutier</ACT>, <LOC...   \n",
       "...                                                 ...   \n",
       "8336  <PER>Lamarche</PER>, <ACT>geographe</ACT> , <L...   \n",
       "8337  <PER>Lamarck</PER>, <ACT>membre de l&apos;inst...   \n",
       "8338  <PER>Lamare</PER> , <ACT>notaire</ACT>, <LOC>r...   \n",
       "8339  <PER>Lamarre</PER> , <ACT>Carrier</ACT>, <LOC>...   \n",
       "8340  <PER>Lamarre</PER>, <ACT>clerc de notaire</ACT...   \n",
       "\n",
       "                               book  \n",
       "0                      Bottin1_1820  \n",
       "1                      Bottin1_1820  \n",
       "2                      Bottin1_1820  \n",
       "3                      Bottin1_1820  \n",
       "4                      Bottin1_1820  \n",
       "...                             ...  \n",
       "8336  notables_communaux_seine_1801  \n",
       "8337  notables_communaux_seine_1801  \n",
       "8338  notables_communaux_seine_1801  \n",
       "8339  notables_communaux_seine_1801  \n",
       "8340  notables_communaux_seine_1801  \n",
       "\n",
       "[8341 rows x 4 columns]"
      ]
     },
     "execution_count": 18,
     "metadata": {},
     "output_type": "execute_result"
    }
   ],
   "source": [
    "import pandas as pd\n",
    "\n",
    "# Load the Gold dataset\n",
    "GOLD_REF = DATASET_DIR / \"supervised/40-ner_aligned_valid_subset/gold.csv\"\n",
    "\n",
    "assert GOLD_REF.exists()\n",
    "\n",
    "exp_2_gold_total = pd.read_csv(GOLD_REF, skipinitialspace='True')\n",
    "exp_2_gold_total"
   ]
  },
  {
   "cell_type": "code",
   "execution_count": 19,
   "id": "a6f4c8c2-2982-45e0-8fac-132133e58ba7",
   "metadata": {},
   "outputs": [],
   "source": [
    "from dataset_util import train_dev_test_split # Local imports\n",
    "\n",
    "# Reference gold (manually annotated & corrected examples): Split 72/8/20% w. stratified sampling on directories names\n",
    "ref = exp_2_gold_total[[\"ner_xml_ref\",\"book\"]]\n",
    "train_ref, dev_ref, test_ref = train_dev_test_split(ref.to_numpy())\n",
    "\n",
    "# Pero-OCR gold: split 72/8/20% w. stratified sampling on directories names\n",
    "pero = exp_2_gold_total[[\"ner_xml_pero\",\"book\"]]\n",
    "train_pero, dev_pero, test_pero = train_dev_test_split(pero.to_numpy())\n",
    "\n",
    "# Tesseract gold: split 72/8/20% w. stratified sampling on directories names\n",
    "tess = exp_2_gold_total[[\"ner_xml_tess\",\"book\"]]\n",
    "train_tess, dev_tess, test_tess = train_dev_test_split(tess.to_numpy())\n",
    "\n",
    "# Kraken gold: split 72/8/20% w. stratified sampling on directories names\n",
    "kraken = exp_2_gold_total[[\"ner_xml_kraken\",\"book\"]]\n",
    "train_kraken, dev_kraken, test_kraken = train_dev_test_split(tess.to_numpy())\n"
   ]
  },
  {
   "cell_type": "code",
   "execution_count": 20,
   "id": "16dfa485-5b32-40c6-9b60-3f7242b53a82",
   "metadata": {},
   "outputs": [],
   "source": [
    "# Sanity checks: all train (resp. dev, test) sets must be the exact same size.\n",
    "\n",
    "assert len(train_ref) == 8342\n",
    "\n",
    "assert len(train_ref) == len(train_pero) and len(train_ref) == len(train_tess)  and len(train_ref) == len(train_kraken)\n",
    "\n",
    "assert len(dev_ref) == len(dev_pero) and len(dev_ref) == len(dev_tess) and len(dev_ref) == len(dev_kraken)\n",
    "\n",
    "assert len(test_ref) == len(test_pero) and len(test_ref) == len(test_tess) and len(test_ref) == len(test_kraken)"
   ]
  },
  {
   "cell_type": "code",
   "execution_count": 21,
   "id": "7a341959-728c-4bd0-9c33-c067c4b69bdb",
   "metadata": {},
   "outputs": [
    {
     "data": {
      "application/vnd.jupyter.widget-view+json": {
       "model_id": "c1f5f1ee49834caa8a741f337aed6b87",
       "version_major": 2,
       "version_minor": 0
      },
      "text/plain": [
       "  0%|          | 0/7 [00:00<?, ?ba/s]"
      ]
     },
     "metadata": {},
     "output_type": "display_data"
    },
    {
     "data": {
      "application/vnd.jupyter.widget-view+json": {
       "model_id": "4827334fc06045908cd39df92a63dcab",
       "version_major": 2,
       "version_minor": 0
      },
      "text/plain": [
       "  0%|          | 0/1 [00:00<?, ?ba/s]"
      ]
     },
     "metadata": {},
     "output_type": "display_data"
    },
    {
     "data": {
      "application/vnd.jupyter.widget-view+json": {
       "model_id": "e0f6a963da664795b3f80c20a5e18f4d",
       "version_major": 2,
       "version_minor": 0
      },
      "text/plain": [
       "  0%|          | 0/2 [00:00<?, ?ba/s]"
      ]
     },
     "metadata": {},
     "output_type": "display_data"
    },
    {
     "data": {
      "application/vnd.jupyter.widget-view+json": {
       "model_id": "cb3b29f64c1a4db8a5a3340f2f253720",
       "version_major": 2,
       "version_minor": 0
      },
      "text/plain": [
       "  0%|          | 0/7 [00:00<?, ?ba/s]"
      ]
     },
     "metadata": {},
     "output_type": "display_data"
    },
    {
     "data": {
      "application/vnd.jupyter.widget-view+json": {
       "model_id": "f73b746c9b214c5e8f4d66d4e95242cb",
       "version_major": 2,
       "version_minor": 0
      },
      "text/plain": [
       "  0%|          | 0/1 [00:00<?, ?ba/s]"
      ]
     },
     "metadata": {},
     "output_type": "display_data"
    },
    {
     "data": {
      "application/vnd.jupyter.widget-view+json": {
       "model_id": "202df9cf709a4100a60b36694c2379a3",
       "version_major": 2,
       "version_minor": 0
      },
      "text/plain": [
       "  0%|          | 0/2 [00:00<?, ?ba/s]"
      ]
     },
     "metadata": {},
     "output_type": "display_data"
    },
    {
     "data": {
      "application/vnd.jupyter.widget-view+json": {
       "model_id": "0c449955b4124fc09448e35f669d7dfb",
       "version_major": 2,
       "version_minor": 0
      },
      "text/plain": [
       "  0%|          | 0/7 [00:00<?, ?ba/s]"
      ]
     },
     "metadata": {},
     "output_type": "display_data"
    },
    {
     "data": {
      "application/vnd.jupyter.widget-view+json": {
       "model_id": "cd8b55df7e9549548b0a6dd7472623da",
       "version_major": 2,
       "version_minor": 0
      },
      "text/plain": [
       "  0%|          | 0/1 [00:00<?, ?ba/s]"
      ]
     },
     "metadata": {},
     "output_type": "display_data"
    },
    {
     "data": {
      "application/vnd.jupyter.widget-view+json": {
       "model_id": "e2efc22ea4884de8a3fa98fa5187676a",
       "version_major": 2,
       "version_minor": 0
      },
      "text/plain": [
       "  0%|          | 0/2 [00:00<?, ?ba/s]"
      ]
     },
     "metadata": {},
     "output_type": "display_data"
    }
   ],
   "source": [
    "# Save on disk\n",
    "from dataset_util import save_dataset # Local import\n",
    "\n",
    "output_directory = OUTPUT_DIR / \"02-experiment_2_prepared_datasets\"\n",
    "output_directory.mkdir(exist_ok=True, parents=True) # Create if necessary\n",
    "\n",
    "names = [\"train\", \"dev\", \"test\"]\n",
    "save_dataset(output_directory, [train_ref, dev_ref, test_ref], names, suffix=\"ref\")\n",
    "save_dataset(output_directory, [train_pero, dev_pero, test_pero], names, suffix=\"pero\")\n",
    "save_dataset(output_directory, [train_tess, dev_tess, test_tess], names, suffix=\"tess\")\n",
    "save_dataset(output_directory, [train_kraken, dev_kraken, test_kraken], names, suffix=\"kraken\")\n"
   ]
  },
  {
   "cell_type": "code",
   "execution_count": null,
   "id": "7e9be092-6ceb-4e7a-abf5-063525856ed4",
   "metadata": {},
   "outputs": [],
   "source": []
  }
 ],
 "metadata": {
  "kernelspec": {
   "display_name": "Python 3 (ipykernel)",
   "language": "python",
   "name": "python3"
  },
  "language_info": {
   "codemirror_mode": {
    "name": "ipython",
    "version": 3
   },
   "file_extension": ".py",
   "mimetype": "text/x-python",
   "name": "python",
   "nbconvert_exporter": "python",
   "pygments_lexer": "ipython3",
   "version": "3.9.7"
  }
 },
 "nbformat": 4,
 "nbformat_minor": 5
}
