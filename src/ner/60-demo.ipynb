{
 "cells": [
  {
   "cell_type": "code",
   "execution_count": 1,
   "id": "da53ce29-cd5f-4295-ac93-2677c2d07034",
   "metadata": {},
   "outputs": [
    {
     "name": "stdout",
     "output_type": "stream",
     "text": [
      "['/home/bertrand/dev/paper-ner-bench-das22/src/ner', '/home/bertrand/anaconda3/lib/python39.zip', '/home/bertrand/anaconda3/lib/python3.9', '/home/bertrand/anaconda3/lib/python3.9/lib-dynload', '', '/home/bertrand/anaconda3/lib/python3.9/site-packages', '/home/bertrand/anaconda3/lib/python3.9/site-packages/locket-0.2.1-py3.9.egg', '/home/bertrand/anaconda3/lib/python3.9/site-packages/IPython/extensions', '/home/bertrand/.ipython']\n",
      "/home/bertrand/dev/paper-ner-bench-das22/src/ner\n",
      "/home/bertrand/dev/paper-ner-bench-das22/dataset\n"
     ]
    }
   ],
   "source": [
    "import os, sys\n",
    "from pathlib import Path\n",
    "\n",
    "ENV_IS_GOOGLE_COLAB = True if 'google.colab' in str(get_ipython()) else False\n",
    "os.environ[\"ENV_IS_GOOGLE_COLAB\"] = str(ENV_IS_GOOGLE_COLAB)\n",
    "\n",
    "if ENV_IS_GOOGLE_COLAB:\n",
    "  from google.colab import drive\n",
    "  mountpoint = Path(\"/content/drive\")\n",
    "  drive.mount(str(mountpoint)) # Mount gdrive to BASE\n",
    "  base = mountpoint / \"MyDrive/SODUCO/article_das_2022\" # Adapt this to your situation\n",
    "  sys.path.append(str(base)) # Add BASE to Python Path\n",
    "  BASE = Path(base).resolve() # Make BASE absolute\n",
    "  DATASETS =  BASE / \"dataset\"\n",
    "else:\n",
    "  BASE = Path(os.path.dirname(os.path.realpath(\"__file__\"))).resolve() # If not on GColab, BASE will be the directory of this notebook\n",
    "  DATASETS = BASE.parent.parent / \"dataset\"\n",
    "\n",
    "print(sys.path)\n",
    "print(BASE)\n",
    "print(DATASETS)"
   ]
  },
  {
   "cell_type": "code",
   "execution_count": 2,
   "id": "5827004a-13a7-4268-88aa-800ef1c70c85",
   "metadata": {},
   "outputs": [],
   "source": [
    "import csv\n",
    "from transformers import AutoTokenizer, AutoModelForTokenClassification\n",
    "\n",
    "LIMIT = 100\n",
    "\n",
    "tokenizer = AutoTokenizer.from_pretrained(BASE / \"43-camembert_pretrained_finetuned_pero\")\n",
    "model = AutoModelForTokenClassification.from_pretrained(BASE / \"43-camembert_pretrained_finetuned_pero\")\n",
    "\n",
    "def xmlize(text, annot):\n",
    "    txt_l = list(text)\n",
    "    annot_r = annot.copy()\n",
    "    annot_r.reverse()\n",
    "    for elem in annot_r:\n",
    "        s_ix = elem[\"start\"]\n",
    "        e_ix = elem[\"end\"]\n",
    "        txt_l.insert(e_ix,f'</{elem[\"entity_group\"]}>')\n",
    "        if txt_l[s_ix] == ' ': # Patch entities starting with a whitespace\n",
    "            s_ix += 1\n",
    "        txt_l.insert(s_ix,f'<{elem[\"entity_group\"]}>')\n",
    "    return \"\".join(txt_l)\n",
    "\n",
    "\n",
    "##### Process text sample (from wikipedia)\n",
    "\n",
    "from transformers import pipeline\n",
    "\n",
    "nlp = pipeline('ner', model=model, tokenizer=tokenizer, aggregation_strategy=\"simple\", use_fast=True)"
   ]
  },
  {
   "cell_type": "code",
   "execution_count": 5,
   "id": "f9ecab43-7166-4e97-9ff4-151e88f457f6",
   "metadata": {},
   "outputs": [
    {
     "data": {
      "text/plain": [
       "'☞\\u2029\\u2029T\\u2029Dufant (Victor), libraire, r. du Gros-Che-\\u2029net. 2.\\u2029JO \\n\\nDutay, essayeur du commerce, place Dau-\\u2029\\u2029-\\u2029píině, 5.\\u2029DOB \\n\\nDulay, chandronnier, r. du Pont- aux-\\u2029Chuux, 15.\\u2029SI \\n\\nDufay (V.e), grenetière, r. du Fauh.-S.\\u2029Denis, 20.\\u2029372 \\n\\nY\\u2029☞\\u2029Dnten,charentier, 1. Montmartre, 89. 318 \\n\\nDufey fils, bijoutier, passage de la Réunion\\u2029A \\n\\nDnley, boucher, r. S.&quot;Louis-au-Marais,3.\\u2029* \\n\\n☞\\u2029Duffand, bijonteer, r. S.-Martin, 107. 284 \\n\\nDuftaud, maçon, r. S-Honore\\u2029\\u2029353.\\u2029O \\n\\nDullaut, chandronnier, r. de la Sourdière\\u2029I- (\\u2029☞T4 \\n\\nlukils. limonauier, 1. des Colonnes, 6. J9 \\n\\n—\\u2029T\\u2029Dullocu, architecte, r. Basse-Porte-S.De-\\u2029—\\u2029Ris, 28. \\n\\nDuflot, loueur de carrosses, r. de Paradis-\\u2029505\\u2029Poissonnière, 22. \\n\\nDufort, bottier, Palais-R., gal. vitrée, 215.\\u2029A \\n\\nDufort fils, bottier (exp. 1819.), r. J.-J..\\u2029Rousscan. 18.\\u2029290 \\n\\n*\\u2029Dufort, tabletier, r. Jean-Pain-Mollet, 10.\\u20294O \\n\\nDufossé, teiniurier, r. du Faub.-Montmar-\\u2029tre , 63.\\u2029483 \\n\\nDuſour el Besnard, march, de bois à bruler,\\u2029quai de la Tournelle, 17. etr. des Fossés-\\u2029SBernard. 11.\\u2029Dí \\n\\nDufour jeune, march, de bois à brüler\\u2029de la Pépinière, 53.\\u20297 r. \\n\\nDufour (Mad.), march. de chapeaux de\\u2029paitle, passage dn Panorama, 11.\\u2029IO \\n\\nDutour, thapelier, r. S.-Honore\\u2029383. 3og \\n\\nDufour, cirier, r. de PArbre-Sec, 6o.\\u2029316 \\n\\nDufour et co., commiss., r. des Contures-\\u2029\\u2029DAO\\u2029S. Dervajs, 18. \\n\\nDulour, corropeir, 1. des Vertusy1d 3 \\n\\nDufour (Charles), épicier, r. S.-Denis,\\u2029Jo7.\\u2029☞\\u2029332 \\n\\nDufour, fab. d&apos;éventails (erp. 1819)\\u2029Beaubourg, 48.\\u2029\\u2029360 \\n\\nDufour, faiencter, r. S.-Anne , 50.\\u2029302 \\n\\nDufour,\\u2029A. Sarnt,r. Ventadour,\\u2029☞7 \\n\\nDufour (Gabriel), libraire, r. de Vaugirard,\\u2029A \\n\\nDufour, maçon, r. S.-Jean-Baptiste, 4 402 \\n\\nDufour, architecte, r. de Chartres-S.-Ho-\\u20292781 40a\\u2029nore, 12. (Elig.) \\n\\nDufour (Mad.), nouveautes, 1. Neuve-des-\\u2029H12\\u2029Petits-Champs, 4. \\n\\nDufour Chabrol, papetier, r. S.-Martin\\u2029☞\\u20294 \\n\\nDufour (J.) et co,, fab. de papiers peints,\\u2029((1819); r. Beauvean-S. Antoine, 19.'"
      ]
     },
     "execution_count": 5,
     "metadata": {},
     "output_type": "execute_result"
    }
   ],
   "source": [
    "samples = \"\"\"☞ ",
    " ",
    "T ",
    "Dufant (Victor), libraire, r. du Gros-Che- ",
    "net. 2. ",
    "JO \\n\n",
    "Dutay, essayeur du commerce, place Dau- ",
    " ",
    "- ",
    "píině, 5. ",
    "DOB \\n\n",
    "Dulay, chandronnier, r. du Pont- aux- ",
    "Chuux, 15. ",
    "SI \\n\n",
    "Dufay (V.e), grenetière, r. du Fauh.-S. ",
    "Denis, 20. ",
    "372 \\n\n",
    "Y ",
    "☞ ",
    "Dnten,charentier, 1. Montmartre, 89. 318 \\n\n",
    "Dufey fils, bijoutier, passage de la Réunion ",
    "A \\n\n",
    "Dnley, boucher, r. S.&quot;Louis-au-Marais,3. ",
    "* \\n\n",
    "☞ ",
    "Duffand, bijonteer, r. S.-Martin, 107. 284 \\n\n",
    "Duftaud, maçon, r. S-Honore ",
    " ",
    "353. ",
    "O \\n\n",
    "Dullaut, chandronnier, r. de la Sourdière ",
    "I- ( ",
    "☞T4 \\n\n",
    "lukils. limonauier, 1. des Colonnes, 6. J9 \\n\n",
    "— ",
    "T ",
    "Dullocu, architecte, r. Basse-Porte-S.De- ",
    "— ",
    "Ris, 28. \\n\n",
    "Duflot, loueur de carrosses, r. de Paradis- ",
    "505 ",
    "Poissonnière, 22. \\n\n",
    "Dufort, bottier, Palais-R., gal. vitrée, 215. ",
    "A \\n\n",
    "Dufort fils, bottier (exp. 1819.), r. J.-J.. ",
    "Rousscan. 18. ",
    "290 \\n\n",
    "* ",
    "Dufort, tabletier, r. Jean-Pain-Mollet, 10. ",
    "4O \\n\n",
    "Dufossé, teiniurier, r. du Faub.-Montmar- ",
    "tre , 63. ",
    "483 \\n\n",
    "Duſour el Besnard, march, de bois à bruler, ",
    "quai de la Tournelle, 17. etr. des Fossés- ",
    "SBernard. 11. ",
    "Dí \\n\n",
    "Dufour jeune, march, de bois à brüler ",
    "de la Pépinière, 53. ",
    "7 r. \\n\n",
    "Dufour (Mad.), march. de chapeaux de ",
    "paitle, passage dn Panorama, 11. ",
    "IO \\n\n",
    "Dutour, thapelier, r. S.-Honore ",
    "383. 3og \\n\n",
    "Dufour, cirier, r. de PArbre-Sec, 6o. ",
    "316 \\n\n",
    "Dufour et co., commiss., r. des Contures- ",
    " ",
    "DAO ",
    "S. Dervajs, 18. \\n\n",
    "Dulour, corropeir, 1. des Vertusy1d 3 \\n\n",
    "Dufour (Charles), épicier, r. S.-Denis, ",
    "Jo7. ",
    "☞ ",
    "332 \\n\n",
    "Dufour, fab. d&apos;éventails (erp. 1819) ",
    "Beaubourg, 48. ",
    " ",
    "360 \\n\n",
    "Dufour, faiencter, r. S.-Anne , 50. ",
    "302 \\n\n",
    "Dufour, ",
    "A. Sarnt,r. Ventadour, ",
    "☞7 \\n\n",
    "Dufour (Gabriel), libraire, r. de Vaugirard, ",
    "A \\n\n",
    "Dufour, maçon, r. S.-Jean-Baptiste, 4 402 \\n\n",
    "Dufour, architecte, r. de Chartres-S.-Ho- ",
    "2781 40a ",
    "nore, 12. (Elig.) \\n\n",
    "Dufour (Mad.), nouveautes, 1. Neuve-des- ",
    "H12 ",
    "Petits-Champs, 4. \\n\n",
    "Dufour Chabrol, papetier, r. S.-Martin ",
    "☞ ",
    "4 \\n\n",
    "Dufour (J.) et co,, fab. de papiers peints, ",
    "((1819); r. Beauvean-S. Antoine, 19.\"\"\"\n"
   ]
  },
  {
   "cell_type": "code",
   "execution_count": 8,
   "id": "0155d8a5-2735-4dd6-a368-38fd99f5042c",
   "metadata": {},
   "outputs": [
    {
     "name": "stdout",
     "output_type": "stream",
     "text": [
      "☞ ",
      " ",
      "T<PER> ",
      "Dufant (Victor),</PER> <ACT>libraire</ACT>, <LOC>r. du Gros-Che- ",
      "net</LOC>. <CARDINAL>2</CARDINAL>. ",
      "JO \n",
      "\n",
      "<PER>Dutay</PER><ACT>, essayeur du commerce</ACT>, <LOC>place Dau- ",
      " ",
      "- ",
      "píin</LOC>ě, <CARDINAL>5</CARDINAL>. ",
      "DOB \n",
      "\n",
      "<PER>Dulay</PER>, <ACT>chandronnier</ACT>, <LOC>r. du Pont- aux- ",
      "Chuux</LOC>, <CARDINAL>15</CARDINAL>. ",
      "SI \n",
      "\n",
      "<PER>Dufay (V.e),</PER> <ACT>grenetière</ACT>, <LOC>r. du Fauh.-S. ",
      "Denis</LOC>, <CARDINAL>20</CARDINAL>. ",
      "372 \n",
      "\n",
      "Y ",
      "☞<PER> ",
      "Dnten</PER>,<ACT>charentier</ACT>, <LOC>1. Montmartre</LOC>, <CARDINAL>89</CARDINAL>. 318 \n",
      "\n",
      "<PER>Dufey fils</PER><ACT>, bijoutier</ACT>, <LOC>passage de la Réunion</LOC><CARDINAL> ",
      "A</CARDINAL> \n",
      "\n",
      "<PER>Dnley</PER>, <ACT>boucher</ACT>, <LOC>r. S.&quot;Louis-au-Marais</LOC>,<CARDINAL>3.</CARDINAL><TITRE> ",
      "*</TITRE> \n",
      "\n",
      "☞<PER> ",
      "Duffand</PER>, <ACT>bijonteer</ACT>, <LOC>r. S.-Martin</LOC>, <CARDINAL>107</CARDINAL>. 284 \n",
      "\n",
      "<PER>Duftaud</PER><ACT>, maçon</ACT>, <LOC>r. S-Honore</LOC> ",
      "<CARDINAL> ",
      "353.</CARDINAL> ",
      "O \n",
      "\n",
      "<PER>Dullaut</PER>, <ACT>chandronnier</ACT>, <LOC>r. de la Sourdière</LOC><CARDINAL> ",
      "I</CARDINAL>- ( ",
      "☞T4 \n",
      "\n",
      "<PER>lukils</PER>. <ACT>limonauier</ACT>, <LOC>1. des Colonnes</LOC>, <CARDINAL>6</CARDINAL>. J9 \n",
      "\n",
      "— ",
      "T<PER> ",
      "Dull</PER>ocu, <ACT>architecte</ACT>, <LOC>r. Basse-Porte-S.De- ",
      "— ",
      "Ris</LOC>, <CARDINAL>28</CARDINAL>. \n",
      "\n",
      "<PER>Duflot</PER>, <ACT>loueur de carrosses</ACT>, <LOC>r. de Paradis- ",
      "505 ",
      "Poissonnière</LOC>, <CARDINAL>22</CARDINAL>. \n",
      "\n",
      "<PER>Dufort</PER>, <ACT>bottier</ACT>, <LOC>Palais-R., gal. vitrée</LOC>, <CARDINAL>215.</CARDINAL> ",
      "A \n",
      "\n",
      "<PER>Dufort fils</PER><ACT>, bottier (exp. 1819.),</ACT> <LOC>r. J.-J.. ",
      "Rousscan</LOC>. <CARDINAL>18</CARDINAL>.<CARDINAL> ",
      "290</CARDINAL> \n",
      "\n",
      "*<PER> ",
      "Dufort</PER>, <ACT>tabletier</ACT>, <LOC>r. Jean-Pain-Mollet</LOC>, <CARDINAL>10</CARDINAL>. ",
      "4O \n",
      "\n",
      "<PER>Dufossé</PER>, <ACT>teiniurier</ACT>, <LOC>r. du Faub.-Montmar- ",
      "tre</LOC> , <CARDINAL>63</CARDINAL>. ",
      "483 \n",
      "\n",
      "<PER>Duſour el Besnard</PER>, <ACT>march, de bois à bruler</ACT>,<LOC> ",
      "quai de la Tournelle</LOC>, <CARDINAL>17</CARDINAL>. et<LOC>r. des Fossés- ",
      "SBernard</LOC>. <CARDINAL>11</CARDINAL>. ",
      "Dí \n",
      "\n",
      "<PER>Dufour jeune</PER>, <ACT>march, de bois à brüler</ACT><LOC> ",
      "de la Pépinière</LOC>, <CARDINAL>53</CARDINAL>. ",
      "7 r. \n",
      "\n",
      "<PER>Dufour (Mad.),</PER> <ACT>march. de chapeaux de ",
      "paitle</ACT><LOC>, passage dn Panorama</LOC>, <CARDINAL>11</CARDINAL>. ",
      "IO \n",
      "\n",
      "<PER>Dutour</PER>, <ACT>thapelier</ACT>, <LOC>r. S.-Honore</LOC><CARDINAL> ",
      "38</CARDINAL>3. 3og \n",
      "\n",
      "<PER>Dufour</PER>, <ACT>cirier</ACT>, <LOC>r. de PArbre-Sec</LOC>, <CARDINAL>6</CARDINAL>o. ",
      "316 \n",
      "\n",
      "<PER>Dufour et co.</PER>, <ACT>commiss.</ACT>, <LOC>r. des Contures- ",
      " ",
      "DAO ",
      "S. Dervaj</LOC>s, <CARDINAL>18</CARDINAL>. \n",
      "\n",
      "<PER>Dulour</PER>, <ACT>corropeir</ACT>, <LOC>1. des Vertus</LOC>y<CARDINAL>1d</CARDINAL> 3 \n",
      "\n",
      "<PER>Dufour (Charles),</PER> <ACT>épicier</ACT>, <LOC>r. S.-Denis</LOC>,<CARDINAL> ",
      "Jo</CARDINAL>7. ",
      "☞ ",
      "332 \n",
      "\n",
      "<PER>Dufour</PER><ACT>, fab. d&apos;éventails (erp. 1819)</ACT><LOC> ",
      "Beaubourg</LOC>, <CARDINAL>48</CARDINAL>. ",
      " ",
      "360 \n",
      "\n",
      "<PER>Dufour</PER>, <ACT>faiencter</ACT>, <LOC>r. S.-Anne</LOC> , <CARDINAL>50</CARDINAL>. ",
      "302 \n",
      "\n",
      "<PER>Dufour</PER><ACT>, ",
      "A. Sarnt</ACT>,<LOC>r. Ventadour</LOC>,<CARDINAL> ",
      "☞</CARDINAL>7 \n",
      "\n",
      "<PER>Dufour (Gabriel),</PER> <ACT>libraire</ACT>, <LOC>r. de Vaugirard</LOC>,<CARDINAL> ",
      "A</CARDINAL> \n",
      "\n",
      "<PER>Dufour</PER>, <ACT>maçon</ACT>, <LOC>r. S.-Jean-Baptiste</LOC>, <CARDINAL>4 402 </CARDINAL>\n",
      "\n",
      "<PER>Dufour</PER>, <ACT>architecte</ACT>, <LOC>r. de Chartres-S.-Ho- ",
      "2781 40a ",
      "nore</LOC>, <CARDINAL>12</CARDINAL><TITRE>. (Elig.)</TITRE> \n",
      "\n",
      "<PER>Dufour (Mad.),</PER> <ACT>nouveautes</ACT>, <LOC>1. Neuve-des- ",
      "H12 ",
      "Petits-Champs</LOC>, <CARDINAL>4</CARDINAL>. \n",
      "\n",
      "<PER>Dufour Chabrol</PER><ACT>, papetier</ACT>, <LOC>r. S.-Martin</LOC><CARDINAL> ",
      "☞</CARDINAL> ",
      "4 \n",
      "\n",
      "<PER>Dufour (J.) et co</PER>,<ACT>, fab. de papiers peints,</ACT><TITRE> ",
      "((1819</TITRE>); <LOC>r. Beauvean-S. Antoine</LOC>, <CARDINAL>19</CARDINAL>.\n"
     ]
    }
   ],
   "source": [
    "for s in samples.split(\"\\n\"):\n",
    "        print(xmlize(s, nlp(s)))"
   ]
  }
 ],
 "metadata": {
  "kernelspec": {
   "display_name": "Python 3 (ipykernel)",
   "language": "python",
   "name": "python3"
  },
  "language_info": {
   "codemirror_mode": {
    "name": "ipython",
    "version": 3
   },
   "file_extension": ".py",
   "mimetype": "text/x-python",
   "name": "python",
   "nbconvert_exporter": "python",
   "pygments_lexer": "ipython3",
   "version": "3.9.7"
  }
 },
 "nbformat": 4,
 "nbformat_minor": 5
}
