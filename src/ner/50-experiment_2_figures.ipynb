{
 "cells": [
  {
   "cell_type": "markdown",
   "id": "d7bf6c3f-c3f8-418c-888c-136b6db008de",
   "metadata": {},
   "source": [
    "# 50 - Experiment 2: figures and tables"
   ]
  },
  {
   "cell_type": "code",
   "execution_count": 1,
   "id": "1ab5d0e0-c5b0-4586-af22-46a85c7ca721",
   "metadata": {},
   "outputs": [
    {
     "data": {
      "text/plain": [
       "PosixPath('/home/bertrand/dev/paper-ner-bench-das22/src/ner/43-experiment_2_metrics')"
      ]
     },
     "execution_count": 1,
     "metadata": {},
     "output_type": "execute_result"
    }
   ],
   "source": [
    "from pathlib import Path\n",
    "\n",
    "# PATHS\n",
    "METRICS_DIR = Path(\"43-experiment_2_metrics\").resolve() # Or set the path to the metrics extracted from the release archive\n",
    "METRICS_DIR"
   ]
  },
  {
   "cell_type": "code",
   "execution_count": 2,
   "id": "81209e84-be27-4b54-a37b-a28e7cf4e40e",
   "metadata": {},
   "outputs": [
    {
     "data": {
      "text/plain": [
       "(['camembert_pretrained_ref.json',\n",
       "  'camembert_pretrained_pero.json',\n",
       "  'camembert_pretrained_tess.json'],\n",
       " ['ref', 'pero', 'tess'])"
      ]
     },
     "execution_count": 2,
     "metadata": {},
     "output_type": "execute_result"
    }
   ],
   "source": [
    "import os, re\n",
    "\n",
    "metrics_camembert_pretrained = [f for f in os.listdir(METRICS_DIR) if \"camembert_pretrained\" in f]\n",
    "metrics_ds = [re.match(\".+_(\\w+)\\.json\",f).group(1) for f in metrics_camembert_pretrained]\n",
    "metrics_camembert_pretrained, metrics_ds"
   ]
  },
  {
   "cell_type": "code",
   "execution_count": 3,
   "id": "0d35306e-9756-431e-b02c-27809fadc4eb",
   "metadata": {},
   "outputs": [
    {
     "data": {
      "text/html": [
       "<div>\n",
       "<style scoped>\n",
       "    .dataframe tbody tr th:only-of-type {\n",
       "        vertical-align: middle;\n",
       "    }\n",
       "\n",
       "    .dataframe tbody tr th {\n",
       "        vertical-align: top;\n",
       "    }\n",
       "\n",
       "    .dataframe thead th {\n",
       "        text-align: right;\n",
       "    }\n",
       "</style>\n",
       "<table border=\"1\" class=\"dataframe\">\n",
       "  <thead>\n",
       "    <tr style=\"text-align: right;\">\n",
       "      <th></th>\n",
       "      <th>test_loss</th>\n",
       "      <th>test_precision</th>\n",
       "      <th>test_recall</th>\n",
       "      <th>test_f1</th>\n",
       "      <th>test_accuracy</th>\n",
       "      <th>test_runtime</th>\n",
       "      <th>test_samples_per_second</th>\n",
       "      <th>test_steps_per_second</th>\n",
       "    </tr>\n",
       "  </thead>\n",
       "  <tbody>\n",
       "    <tr>\n",
       "      <th>ref</th>\n",
       "      <td>0.169713</td>\n",
       "      <td>0.965261</td>\n",
       "      <td>0.965261</td>\n",
       "      <td>0.965261</td>\n",
       "      <td>0.952012</td>\n",
       "      <td>51.1994</td>\n",
       "      <td>32.598</td>\n",
       "      <td>4.082</td>\n",
       "    </tr>\n",
       "    <tr>\n",
       "      <th>pero</th>\n",
       "      <td>0.259704</td>\n",
       "      <td>0.932983</td>\n",
       "      <td>0.925616</td>\n",
       "      <td>0.929285</td>\n",
       "      <td>0.934323</td>\n",
       "      <td>51.2087</td>\n",
       "      <td>32.592</td>\n",
       "      <td>4.081</td>\n",
       "    </tr>\n",
       "    <tr>\n",
       "      <th>tess</th>\n",
       "      <td>0.306922</td>\n",
       "      <td>0.902732</td>\n",
       "      <td>0.913140</td>\n",
       "      <td>0.907906</td>\n",
       "      <td>0.924237</td>\n",
       "      <td>52.3309</td>\n",
       "      <td>31.893</td>\n",
       "      <td>3.994</td>\n",
       "    </tr>\n",
       "  </tbody>\n",
       "</table>\n",
       "</div>"
      ],
      "text/plain": [
       "      test_loss  test_precision  test_recall   test_f1  test_accuracy  \\\n",
       "ref    0.169713        0.965261     0.965261  0.965261       0.952012   \n",
       "pero   0.259704        0.932983     0.925616  0.929285       0.934323   \n",
       "tess   0.306922        0.902732     0.913140  0.907906       0.924237   \n",
       "\n",
       "      test_runtime  test_samples_per_second  test_steps_per_second  \n",
       "ref        51.1994                   32.598                  4.082  \n",
       "pero       51.2087                   32.592                  4.081  \n",
       "tess       52.3309                   31.893                  3.994  "
      ]
     },
     "execution_count": 3,
     "metadata": {},
     "output_type": "execute_result"
    }
   ],
   "source": [
    "import pandas as pd\n",
    "import functools\n",
    "\n",
    "data_frames = [pd.read_json(METRICS_DIR / metrics,typ='series') for metrics in metrics_camembert_pretrained]\n",
    "data_frames = [pd.DataFrame([df]) for df in data_frames]\n",
    "camembert_pretrained = pd.concat(data_frames, keys=metrics_ds)\n",
    "camembert_pretrained = camembert_pretrained.droplevel(1)\n",
    "camembert_pretrained = camembert_pretrained.loc[[\"ref\",\"pero\",\"tess\"]] # Force index order to be ref - pero - tess\n",
    "camembert_pretrained"
   ]
  },
  {
   "cell_type": "code",
   "execution_count": 4,
   "id": "db7e7113-0fb9-474f-9186-ae94c2bdd608",
   "metadata": {},
   "outputs": [
    {
     "data": {
      "text/plain": [
       "(['camembert_simple_pero.json',\n",
       "  'camembert_simple_tess.json',\n",
       "  'camembert_simple_ref.json'],\n",
       " ['pero', 'tess', 'ref'])"
      ]
     },
     "execution_count": 4,
     "metadata": {},
     "output_type": "execute_result"
    }
   ],
   "source": [
    "metrics_camembert = [f for f in os.listdir(METRICS_DIR) if \"camembert_simple\" in f]\n",
    "metrics_ds = [re.match(\".+_(\\w+)\\.json\",f).group(1) for f in metrics_camembert]\n",
    "metrics_camembert, metrics_ds"
   ]
  },
  {
   "cell_type": "code",
   "execution_count": 5,
   "id": "878896a0-c766-4eba-807e-6c681c91fb8c",
   "metadata": {},
   "outputs": [
    {
     "data": {
      "text/html": [
       "<div>\n",
       "<style scoped>\n",
       "    .dataframe tbody tr th:only-of-type {\n",
       "        vertical-align: middle;\n",
       "    }\n",
       "\n",
       "    .dataframe tbody tr th {\n",
       "        vertical-align: top;\n",
       "    }\n",
       "\n",
       "    .dataframe thead th {\n",
       "        text-align: right;\n",
       "    }\n",
       "</style>\n",
       "<table border=\"1\" class=\"dataframe\">\n",
       "  <thead>\n",
       "    <tr style=\"text-align: right;\">\n",
       "      <th></th>\n",
       "      <th>test_loss</th>\n",
       "      <th>test_precision</th>\n",
       "      <th>test_recall</th>\n",
       "      <th>test_f1</th>\n",
       "      <th>test_accuracy</th>\n",
       "      <th>test_runtime</th>\n",
       "      <th>test_samples_per_second</th>\n",
       "      <th>test_steps_per_second</th>\n",
       "    </tr>\n",
       "  </thead>\n",
       "  <tbody>\n",
       "    <tr>\n",
       "      <th>ref</th>\n",
       "      <td>0.165194</td>\n",
       "      <td>0.961339</td>\n",
       "      <td>0.965893</td>\n",
       "      <td>0.963611</td>\n",
       "      <td>0.951439</td>\n",
       "      <td>50.4340</td>\n",
       "      <td>33.093</td>\n",
       "      <td>4.144</td>\n",
       "    </tr>\n",
       "    <tr>\n",
       "      <th>pero</th>\n",
       "      <td>0.238639</td>\n",
       "      <td>0.924242</td>\n",
       "      <td>0.924826</td>\n",
       "      <td>0.924534</td>\n",
       "      <td>0.933691</td>\n",
       "      <td>50.8430</td>\n",
       "      <td>32.827</td>\n",
       "      <td>4.111</td>\n",
       "    </tr>\n",
       "    <tr>\n",
       "      <th>tess</th>\n",
       "      <td>0.274461</td>\n",
       "      <td>0.897312</td>\n",
       "      <td>0.912192</td>\n",
       "      <td>0.904691</td>\n",
       "      <td>0.923882</td>\n",
       "      <td>52.1782</td>\n",
       "      <td>31.987</td>\n",
       "      <td>4.006</td>\n",
       "    </tr>\n",
       "  </tbody>\n",
       "</table>\n",
       "</div>"
      ],
      "text/plain": [
       "      test_loss  test_precision  test_recall   test_f1  test_accuracy  \\\n",
       "ref    0.165194        0.961339     0.965893  0.963611       0.951439   \n",
       "pero   0.238639        0.924242     0.924826  0.924534       0.933691   \n",
       "tess   0.274461        0.897312     0.912192  0.904691       0.923882   \n",
       "\n",
       "      test_runtime  test_samples_per_second  test_steps_per_second  \n",
       "ref        50.4340                   33.093                  4.144  \n",
       "pero       50.8430                   32.827                  4.111  \n",
       "tess       52.1782                   31.987                  4.006  "
      ]
     },
     "execution_count": 5,
     "metadata": {},
     "output_type": "execute_result"
    }
   ],
   "source": [
    "data_frames = [pd.read_json(METRICS_DIR / metrics,typ='series') for metrics in metrics_camembert]\n",
    "data_frames = [pd.DataFrame([df]) for df in data_frames]\n",
    "camembert = pd.concat(data_frames, keys=metrics_ds)\n",
    "camembert = camembert.droplevel(1)\n",
    "camembert = camembert.loc[[\"ref\",\"pero\",\"tess\"]] # Force index order to be ref - pero - tess\n",
    "camembert"
   ]
  },
  {
   "cell_type": "code",
   "execution_count": 6,
   "id": "b8a9ce92-0545-42f3-ba4b-f2eb11d01cde",
   "metadata": {},
   "outputs": [
    {
     "data": {
      "text/html": [
       "<div>\n",
       "<style scoped>\n",
       "    .dataframe tbody tr th:only-of-type {\n",
       "        vertical-align: middle;\n",
       "    }\n",
       "\n",
       "    .dataframe tbody tr th {\n",
       "        vertical-align: top;\n",
       "    }\n",
       "\n",
       "    .dataframe thead th {\n",
       "        text-align: right;\n",
       "    }\n",
       "</style>\n",
       "<table border=\"1\" class=\"dataframe\">\n",
       "  <thead>\n",
       "    <tr style=\"text-align: right;\">\n",
       "      <th></th>\n",
       "      <th></th>\n",
       "      <th>test_loss</th>\n",
       "      <th>test_precision</th>\n",
       "      <th>test_recall</th>\n",
       "      <th>test_f1</th>\n",
       "      <th>test_accuracy</th>\n",
       "      <th>test_runtime</th>\n",
       "      <th>test_samples_per_second</th>\n",
       "      <th>test_steps_per_second</th>\n",
       "    </tr>\n",
       "  </thead>\n",
       "  <tbody>\n",
       "    <tr>\n",
       "      <th rowspan=\"3\" valign=\"top\">camembert_pretrained</th>\n",
       "      <th>ref</th>\n",
       "      <td>0.169713</td>\n",
       "      <td>0.965261</td>\n",
       "      <td>0.965261</td>\n",
       "      <td>0.965261</td>\n",
       "      <td>0.952012</td>\n",
       "      <td>51.1994</td>\n",
       "      <td>32.598</td>\n",
       "      <td>4.082</td>\n",
       "    </tr>\n",
       "    <tr>\n",
       "      <th>pero</th>\n",
       "      <td>0.259704</td>\n",
       "      <td>0.932983</td>\n",
       "      <td>0.925616</td>\n",
       "      <td>0.929285</td>\n",
       "      <td>0.934323</td>\n",
       "      <td>51.2087</td>\n",
       "      <td>32.592</td>\n",
       "      <td>4.081</td>\n",
       "    </tr>\n",
       "    <tr>\n",
       "      <th>tess</th>\n",
       "      <td>0.306922</td>\n",
       "      <td>0.902732</td>\n",
       "      <td>0.913140</td>\n",
       "      <td>0.907906</td>\n",
       "      <td>0.924237</td>\n",
       "      <td>52.3309</td>\n",
       "      <td>31.893</td>\n",
       "      <td>3.994</td>\n",
       "    </tr>\n",
       "    <tr>\n",
       "      <th rowspan=\"3\" valign=\"top\">camembert</th>\n",
       "      <th>ref</th>\n",
       "      <td>0.165194</td>\n",
       "      <td>0.961339</td>\n",
       "      <td>0.965893</td>\n",
       "      <td>0.963611</td>\n",
       "      <td>0.951439</td>\n",
       "      <td>50.4340</td>\n",
       "      <td>33.093</td>\n",
       "      <td>4.144</td>\n",
       "    </tr>\n",
       "    <tr>\n",
       "      <th>pero</th>\n",
       "      <td>0.238639</td>\n",
       "      <td>0.924242</td>\n",
       "      <td>0.924826</td>\n",
       "      <td>0.924534</td>\n",
       "      <td>0.933691</td>\n",
       "      <td>50.8430</td>\n",
       "      <td>32.827</td>\n",
       "      <td>4.111</td>\n",
       "    </tr>\n",
       "    <tr>\n",
       "      <th>tess</th>\n",
       "      <td>0.274461</td>\n",
       "      <td>0.897312</td>\n",
       "      <td>0.912192</td>\n",
       "      <td>0.904691</td>\n",
       "      <td>0.923882</td>\n",
       "      <td>52.1782</td>\n",
       "      <td>31.987</td>\n",
       "      <td>4.006</td>\n",
       "    </tr>\n",
       "  </tbody>\n",
       "</table>\n",
       "</div>"
      ],
      "text/plain": [
       "                           test_loss  test_precision  test_recall   test_f1  \\\n",
       "camembert_pretrained ref    0.169713        0.965261     0.965261  0.965261   \n",
       "                     pero   0.259704        0.932983     0.925616  0.929285   \n",
       "                     tess   0.306922        0.902732     0.913140  0.907906   \n",
       "camembert            ref    0.165194        0.961339     0.965893  0.963611   \n",
       "                     pero   0.238639        0.924242     0.924826  0.924534   \n",
       "                     tess   0.274461        0.897312     0.912192  0.904691   \n",
       "\n",
       "                           test_accuracy  test_runtime  \\\n",
       "camembert_pretrained ref        0.952012       51.1994   \n",
       "                     pero       0.934323       51.2087   \n",
       "                     tess       0.924237       52.3309   \n",
       "camembert            ref        0.951439       50.4340   \n",
       "                     pero       0.933691       50.8430   \n",
       "                     tess       0.923882       52.1782   \n",
       "\n",
       "                           test_samples_per_second  test_steps_per_second  \n",
       "camembert_pretrained ref                    32.598                  4.082  \n",
       "                     pero                   32.592                  4.081  \n",
       "                     tess                   31.893                  3.994  \n",
       "camembert            ref                    33.093                  4.144  \n",
       "                     pero                   32.827                  4.111  \n",
       "                     tess                   31.987                  4.006  "
      ]
     },
     "execution_count": 6,
     "metadata": {},
     "output_type": "execute_result"
    }
   ],
   "source": [
    "full_dataframe = pd.concat([camembert_pretrained, camembert],keys=[\"camembert_pretrained\",\"camembert\"])\n",
    "full_dataframe"
   ]
  },
  {
   "cell_type": "code",
   "execution_count": 7,
   "id": "64939b90-b1b9-4e25-b905-fdef6cd4439e",
   "metadata": {},
   "outputs": [
    {
     "data": {
      "text/html": [
       "<div>\n",
       "<style scoped>\n",
       "    .dataframe tbody tr th:only-of-type {\n",
       "        vertical-align: middle;\n",
       "    }\n",
       "\n",
       "    .dataframe tbody tr th {\n",
       "        vertical-align: top;\n",
       "    }\n",
       "\n",
       "    .dataframe thead tr th {\n",
       "        text-align: left;\n",
       "    }\n",
       "</style>\n",
       "<table border=\"1\" class=\"dataframe\">\n",
       "  <thead>\n",
       "    <tr>\n",
       "      <th></th>\n",
       "      <th colspan=\"3\" halign=\"left\">Camembert.pretrained</th>\n",
       "      <th colspan=\"3\" halign=\"left\">Camembert</th>\n",
       "    </tr>\n",
       "    <tr>\n",
       "      <th></th>\n",
       "      <th>ref</th>\n",
       "      <th>pero-ocr</th>\n",
       "      <th>tesseract</th>\n",
       "      <th>ref</th>\n",
       "      <th>pero-ocr</th>\n",
       "      <th>tesseract</th>\n",
       "    </tr>\n",
       "  </thead>\n",
       "  <tbody>\n",
       "    <tr>\n",
       "      <th>test_precision</th>\n",
       "      <td>96.526133</td>\n",
       "      <td>93.298313</td>\n",
       "      <td>90.273224</td>\n",
       "      <td>96.133899</td>\n",
       "      <td>92.424242</td>\n",
       "      <td>89.731241</td>\n",
       "    </tr>\n",
       "    <tr>\n",
       "      <th>test_recall</th>\n",
       "      <td>96.526133</td>\n",
       "      <td>92.561592</td>\n",
       "      <td>91.313961</td>\n",
       "      <td>96.589294</td>\n",
       "      <td>92.482628</td>\n",
       "      <td>91.219204</td>\n",
       "    </tr>\n",
       "    <tr>\n",
       "      <th>test_f1</th>\n",
       "      <td>96.526133</td>\n",
       "      <td>92.928492</td>\n",
       "      <td>90.790610</td>\n",
       "      <td>96.361059</td>\n",
       "      <td>92.453426</td>\n",
       "      <td>90.469105</td>\n",
       "    </tr>\n",
       "  </tbody>\n",
       "</table>\n",
       "</div>"
      ],
      "text/plain": [
       "               Camembert.pretrained                        Camembert  \\\n",
       "                                ref   pero-ocr  tesseract        ref   \n",
       "test_precision            96.526133  93.298313  90.273224  96.133899   \n",
       "test_recall               96.526133  92.561592  91.313961  96.589294   \n",
       "test_f1                   96.526133  92.928492  90.790610  96.361059   \n",
       "\n",
       "                                      \n",
       "                 pero-ocr  tesseract  \n",
       "test_precision  92.424242  89.731241  \n",
       "test_recall     92.482628  91.219204  \n",
       "test_f1         92.453426  90.469105  "
      ]
     },
     "execution_count": 7,
     "metadata": {},
     "output_type": "execute_result"
    }
   ],
   "source": [
    "latex_table = full_dataframe[[\"test_precision\",\"test_recall\",\"test_f1\"]].T\n",
    "latex_table.rename(columns={\"camembert_pretrained\":\"Camembert.pretrained\",\"camembert\":\"Camembert\" }, inplace=True)\n",
    "latex_table.rename(columns={\"tess\":\"tesseract\",\"pero\":\"pero-ocr\" }, inplace=True)\n",
    "latex_table = latex_table.multiply(100., axis=1)\n",
    "latex_table"
   ]
  },
  {
   "cell_type": "code",
   "execution_count": 12,
   "id": "cb1a3be7-f543-42fe-8e63-5739b70c37ee",
   "metadata": {},
   "outputs": [
    {
     "name": "stdout",
     "output_type": "stream",
     "text": [
      "\\begin{tabular}{lrrrrrr}\n",
      "\\toprule\n",
      "{} & \\multicolumn{3}{l}{Camembert.pretrained} & \\multicolumn{3}{l}{Camembert} \\\\\n",
      "{} &                  ref & pero-ocr & tesseract &       ref & pero-ocr & tesseract \\\\\n",
      "\\midrule\n",
      "test\\_precision &                 96.5 &     93.3 &      90.3 &      96.1 &     92.4 &      89.7 \\\\\n",
      "test\\_recall    &                 96.5 &     92.6 &      91.3 &      96.6 &     92.5 &      91.2 \\\\\n",
      "test\\_f1        &                 96.5 &     92.9 &      90.8 &      96.4 &     92.5 &      90.5 \\\\\n",
      "\\bottomrule\n",
      "\\end{tabular}\n",
      "\n"
     ]
    }
   ],
   "source": [
    "print(latex_table.to_latex(float_format=\"%.1f\", multirow=True, caption=\"\"))"
   ]
  },
  {
   "cell_type": "code",
   "execution_count": null,
   "id": "46d6bcf4-0f20-4ef9-b5be-79ac6e59006a",
   "metadata": {},
   "outputs": [],
   "source": []
  }
 ],
 "metadata": {
  "kernelspec": {
   "display_name": "Python 3 (ipykernel)",
   "language": "python",
   "name": "python3"
  },
  "language_info": {
   "codemirror_mode": {
    "name": "ipython",
    "version": 3
   },
   "file_extension": ".py",
   "mimetype": "text/x-python",
   "name": "python",
   "nbconvert_exporter": "python",
   "pygments_lexer": "ipython3",
   "version": "3.9.7"
  }
 },
 "nbformat": 4,
 "nbformat_minor": 5
}
