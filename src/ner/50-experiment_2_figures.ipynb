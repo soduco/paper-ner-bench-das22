{
 "cells": [
  {
   "cell_type": "markdown",
   "id": "d7bf6c3f-c3f8-418c-888c-136b6db008de",
   "metadata": {},
   "source": [
    "# 50 - Experiment 2: figures and tables"
   ]
  },
  {
   "cell_type": "code",
   "execution_count": 1,
   "id": "1ab5d0e0-c5b0-4586-af22-46a85c7ca721",
   "metadata": {},
   "outputs": [
    {
     "data": {
      "text/plain": [
       "PosixPath('/home/bertrand/dev/paper-ner-bench-das22/src/ner/45-experiment_2_metrics')"
      ]
     },
     "execution_count": 1,
     "metadata": {},
     "output_type": "execute_result"
    }
   ],
   "source": [
    "from pathlib import Path\n",
    "\n",
    "# PATHS\n",
    "METRICS_DIR = Path(\"45-experiment_2_metrics\").resolve() # Or set the path to the metrics extracted from the release archive\n",
    "METRICS_DIR"
   ]
  },
  {
   "cell_type": "code",
   "execution_count": 2,
   "id": "8e7e9bed-f79a-4f74-971d-0485575eee1e",
   "metadata": {},
   "outputs": [],
   "source": [
    "import os, re\n",
    "\n",
    "import pandas as pd\n",
    "import matplotlib.pyplot as plt\n",
    "\n",
    "metrics_jsons = [f for f in os.listdir(METRICS_DIR) if \".json\" in f]\n",
    "camembert_pretrained_finetuned_on_ref = [f for f in metrics_jsons if \"camembert_pretrained_ref\" in f]\n",
    "camembert_finetuned_on_ref = [f for f in metrics_jsons if \"camembert_ref\" in f]\n",
    "camembert_pretrained_finetuned_on_pero = [f for f in metrics_jsons if \"camembert_pretrained_pero\" in f]\n",
    "camembert_finetuned_on_pero = [f for f in metrics_jsons if \"camembert_pero\" in f]\n",
    "\n",
    "def json_list_as_dataframe(jsons_files, finetuned_on, model):  \n",
    "    test_sets = [re.match(\".+_(\\w+)\\.json\",fn).group(1) for fn in jsons_files]\n",
    "    df = pd.concat([pd.read_json(METRICS_DIR / fn, lines=True) for fn in jsons_files])\n",
    "    df[\"tested_on\"] = test_sets\n",
    "    df[\"finetuned_on\"] = finetuned_on\n",
    "    df[\"model\"] = model\n",
    "    df.set_index(keys=[\"tested_on\"], inplace=True)\n",
    "    return df.loc[[\"ref\",\"pero\",\"tess\"]] \n",
    "\n",
    "camembert_pretrained_finetuned_on_ref = json_list_as_dataframe(camembert_pretrained_finetuned_on_ref,\"ref\",\"camembert_pretrained\")\n",
    "camembert_pretrained_finetuned_on_pero = json_list_as_dataframe(camembert_pretrained_finetuned_on_pero,\"pero\",\"camembert_pretrained\") \n",
    "camembert_finetuned_on_ref = json_list_as_dataframe(camembert_finetuned_on_ref,\"ref\",\"camembert\")\n",
    "camembert_finetuned_on_pero = json_list_as_dataframe(camembert_finetuned_on_pero,\"pero\",\"camembert\")"
   ]
  },
  {
   "cell_type": "markdown",
   "id": "bdc38389-eb35-42d6-bc4c-5be67bbb4fba",
   "metadata": {},
   "source": [
    "Create the table to display as bar chart"
   ]
  },
  {
   "cell_type": "code",
   "execution_count": 9,
   "id": "bbde54aa-5d42-4ade-982e-3d3ffd096db0",
   "metadata": {},
   "outputs": [],
   "source": [
    "# One group per test-set\n",
    "# Keep only the F1-score\n",
    "reshaped = pd.concat([camembert_finetuned_on_ref[[\"test_f1\"]].rename(columns={\"test_f1\":\"CmBERT$_{reference}$\"}),\n",
    "                      camembert_pretrained_finetuned_on_ref[[\"test_f1\"]].rename(columns={\"test_f1\":\"cmBERT+ptrn$_{reference}$\"}),\n",
    "                      camembert_finetuned_on_pero[[\"test_f1\"]].rename(columns={\"test_f1\":\"cmBERT$_{pero}$\"}),\n",
    "                      camembert_pretrained_finetuned_on_pero[[\"test_f1\"]].rename(columns={\"test_f1\":\"CmBERT+ptrn$_{pero}$\"}),\n",
    "              ], axis=1)\n",
    "reshaped = reshaped.multiply(100., axis=1)\n",
    "reshaped.rename(mapper={\"ref\":\"reference\", \"tess\":\"tesseract\"},axis=0, inplace=True)\n",
    "reshaped"
   ]
  },
  {
   "cell_type": "code",
   "execution_count": 9,
   "id": "8e201f56-4e48-40a8-9b15-a9e4129394e6",
   "metadata": {},
   "outputs": [
    {
     "data": {
      "text/plain": [
       "<Figure size 432x288 with 0 Axes>"
      ]
     },
     "metadata": {},
     "output_type": "display_data"
    },
    {
     "data": {
      "image/png": "[encoded data removed]",
      "text/plain": [
       "<Figure size 432x288 with 1 Axes>"
      ]
     },
     "metadata": {},
     "output_type": "display_data"
    }
   ],
   "source": [
    "plt.style.use('seaborn-whitegrid')  # Nicer plots\n",
    "# Uncomment if you want to use LaTeX fonts (on Linux, requires the packages dvipng & cm-super)\n",
    "#plt.rcParams['text.usetex'] = True\n",
    "#plt.rcParams.update({'font.size': 12, 'font.family': 'serif', 'font.serif': ['Computer Modern']})\n",
    "\n",
    "# Plot the graph\n",
    "plt.tight_layout()\n",
    "fig = reshaped.plot.bar(color=[\"#A2416B\",\"#E2C275\",\"#FF865E\",\"#086E7D\"], xlabel=\"Test set\",ylabel=\"F1 score (%)\")\n",
    "fig.grid(linestyle='dotted') \n",
    "fig.set_ylim([90, 97])\n",
    "legend = plt.legend(loc=\"upper right\")\n",
    "plt.savefig('experiment_2_f1_with_noise_graph.pdf', dpi=300, format='pdf',bbox_inches='tight')"
   ]
  },
  {
   "cell_type": "code",
   "execution_count": 4,
   "id": "033df465-276b-4c95-9522-2402f0343be3",
   "metadata": {},
   "outputs": [
    {
     "name": "stdout",
     "output_type": "stream",
     "text": [
      "\\begin{tabular}{lrrrr}\n",
      "\\toprule\n",
      "{} &  CmBERT$_{reference}$ &  cmBERT+ptrn$_{reference}$ &  cmBERT$_{pero-ocr}$ &  CmBERT+ptrn$_{pero-ocr}$ \\\\\n",
      "tested_on &                       &                            &                      &                           \\\\\n",
      "\\midrule\n",
      "reference &                  96.4 &                       96.5 &                 95.4 &                      95.2 \\\\\n",
      "pero-ocr  &                  92.5 &                       92.9 &                 93.6 &                      94.1 \\\\\n",
      "tesseract &                  90.5 &                       90.8 &                 90.2 &                      91.2 \\\\\n",
      "\\bottomrule\n",
      "\\end{tabular}\n",
      "\n"
     ]
    }
   ],
   "source": [
    "\n",
    "print(reshaped.to_latex(float_format=\"%.1f\", multirow=True, caption=\"\",escape = False))"
   ]
  }
 ],
 "metadata": {
  "kernelspec": {
   "display_name": "Python 3 (ipykernel)",
   "language": "python",
   "name": "python3"
  },
  "language_info": {
   "codemirror_mode": {
    "name": "ipython",
    "version": 3
   },
   "file_extension": ".py",
   "mimetype": "text/x-python",
   "name": "python",
   "nbconvert_exporter": "python",
   "pygments_lexer": "ipython3",
   "version": "3.9.7"
  }
 },
 "nbformat": 4,
 "nbformat_minor": 5
}
