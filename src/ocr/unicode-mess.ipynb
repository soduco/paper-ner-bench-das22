{
 "cells": [
  {
   "cell_type": "markdown",
   "metadata": {},
   "source": [
    "# Unicode mess"
   ]
  },
  {
   "cell_type": "code",
   "execution_count": null,
   "metadata": {},
   "outputs": [
    {
     "data": {
      "text/plain": [
       "5"
      ]
     },
     "metadata": {},
     "output_type": "display_data"
    }
   ],
   "source": [
    "# https://hsivonen.fi/string-length/\n",
    "# https://www.python.org/dev/peps/pep-0393/ -- PEP 393 -- Flexible String Representation\n",
    "uni_str = \"🤦🏼‍♂️\"\n",
    "len(uni_str)"
   ]
  },
  {
   "cell_type": "code",
   "execution_count": null,
   "metadata": {},
   "outputs": [
    {
     "name": "stdout",
     "output_type": "stream",
     "text": [
      "🤦 1\n"
     ]
    }
   ],
   "source": [
    "# enter large codepoints with \\UXXXXXXXX and small with \\uXXXX\n",
    "print(\"\\U0001F926\", len(\"\\U0001F926\"))"
   ]
  },
  {
   "cell_type": "code",
   "execution_count": null,
   "metadata": {},
   "outputs": [
    {
     "name": "stdout",
     "output_type": "stream",
     "text": [
      "\"\\U0001f926\"\n",
      "\"\\U0001f3fc\"\n",
      "\"\\U0000200d\"\n",
      "\"\\U00002642\"\n",
      "\"\\U0000fe0f\"\n"
     ]
    }
   ],
   "source": [
    "for char in uni_str:\n",
    "    print('\"\\\\U{:08x}\"'.format(ord(char)))"
   ]
  },
  {
   "cell_type": "markdown",
   "metadata": {},
   "source": [
    "Trying to mess up with surrogates\n",
    "\n",
    "They live between codes `\\uD800` and `\\uDFFF` included."
   ]
  },
  {
   "cell_type": "code",
   "execution_count": null,
   "metadata": {},
   "outputs": [],
   "source": [
    "# surrogate_test = \"\\uD801\"\n",
    "# print(surrogate_test, len(surrogate_test))\n",
    "\n",
    "# We would get:\n",
    "# UnicodeEncodeError: 'utf-8' codec can't encode character '\\ud801' in position 28: surrogates not allowed\n",
    "# IOStream.flush timed out\n",
    "# IOStream.flush timed out"
   ]
  },
  {
   "cell_type": "code",
   "execution_count": null,
   "metadata": {},
   "outputs": [
    {
     "data": {
      "text/plain": [
       "'\\ud801'"
      ]
     },
     "metadata": {},
     "output_type": "display_data"
    }
   ],
   "source": [
    "# Can we convert a 32 bit code in this area to something printable?\n",
    "chr(0xD801)"
   ]
  },
  {
   "cell_type": "code",
   "execution_count": null,
   "metadata": {},
   "outputs": [
    {
     "data": {
      "text/plain": [
       "True"
      ]
     },
     "metadata": {},
     "output_type": "display_data"
    }
   ],
   "source": [
    "chr(0xD801) == \"\\uD801\""
   ]
  },
  {
   "cell_type": "code",
   "execution_count": null,
   "metadata": {},
   "outputs": [
    {
     "data": {
      "text/plain": [
       "55297"
      ]
     },
     "metadata": {},
     "output_type": "display_data"
    }
   ],
   "source": [
    "ord(\"\\uD801\")"
   ]
  },
  {
   "cell_type": "code",
   "execution_count": null,
   "metadata": {},
   "outputs": [
    {
     "data": {
      "text/plain": [
       "False"
      ]
     },
     "metadata": {},
     "output_type": "display_data"
    }
   ],
   "source": [
    "# Test surrogate encoding vs direct encoding of large unicode code point\n",
    "'\\uD83D\\uDC69' == \"\\U0001F600\""
   ]
  },
  {
   "cell_type": "code",
   "execution_count": null,
   "metadata": {},
   "outputs": [
    {
     "data": {
      "text/plain": [
       "2"
      ]
     },
     "metadata": {},
     "output_type": "display_data"
    }
   ],
   "source": [
    "len('\\uD83D\\uDC69')"
   ]
  },
  {
   "cell_type": "code",
   "execution_count": null,
   "metadata": {},
   "outputs": [
    {
     "data": {
      "text/plain": [
       "1"
      ]
     },
     "metadata": {},
     "output_type": "display_data"
    }
   ],
   "source": [
    "len(\"\\U0001F600\")"
   ]
  },
  {
   "cell_type": "code",
   "execution_count": null,
   "metadata": {},
   "outputs": [
    {
     "data": {
      "text/plain": [
       "True"
      ]
     },
     "metadata": {},
     "output_type": "display_data"
    }
   ],
   "source": [
    "'\\uD83D\\uDC69' == '\\U0000D83D\\U0000DC69'"
   ]
  },
  {
   "cell_type": "markdown",
   "metadata": {},
   "source": [
    "Ok, so it seems we should also avoid surrogates to accept surrogates, though Python tolerates them in its internal representation.\n",
    "We are likely to produce errors in the output.\n",
    "More background about UTF-16 surrogates in UTF-32 below.\n",
    "\n",
    "From: https://en.wikipedia.org/wiki/UTF-32#Variants\n",
    "\"ISO/IEC 10646:2020\". standards.iso.org. Retrieved 2021-10-12. \"Clause 9.4: \"Because surrogate code points are not UCS scalar values, UTF-32 code units in the range 0000 D800-0000 DFFF are ill-formed\". Clause 4.57: \"[UCS codespace] consisting of the integers from 0 to 10 FFFF (hexadecimal)\". Clause 4.58: \"[UCS scalar value] any UCS code point except high-surrogate and low-surrogate code points\".\""
   ]
  },
  {
   "cell_type": "markdown",
   "metadata": {},
   "source": [
    "Conclusion about the characters we will accept: a subset of `[\\u0000 - \\uD7FF] U [\\uE000 - \\uFFFF]\n",
    "\n",
    "Acceptable Blocks from the BMP (https://en.wikipedia.org/wiki/Plane_(Unicode)#Basic_Multilingual_Plane):\n",
    "- Basic Latin (Lower half of ISO/IEC 8859-1: ISO/IEC 646:1991-IRV aka ASCII) (0000–007F) for values => \\u0020 and < U+007F and \\n...\n",
    "- Latin-1 Supplement (Upper half of ISO/IEC 8859-1) (0080–00FF) for values => U+00A0\n",
    "- Latin Extended-A (0100–017F)\n",
    "- ~~Latin Extended-B (0180–024F)~~\n",
    "- ~~Spacing Modifier Letters (02B0–02FF)~~\n",
    "- ~~Combining Diacritical Marks (0300–036F)~~\n",
    "- Greek and Coptic (0370–03FF) -> only if needed\n",
    "- ~~Cyrillic (0400–04FF)~~ -> project to replacement char\n",
    "- ~~Cyrillic Supplement (0500–052F)~~ -> project to replacement char\n",
    "- ~~Cyrillic Extended-C (1C80–1C8F)~~ -> project to replacement char\n",
    "- Latin supplements:\n",
    "  *  ~~Phonetic Extensions (1D00–1D7F)~~\n",
    "  *  ~~Phonetic Extensions Supplement (1D80–1DBF)~~\n",
    "  *  ~~Combining Diacritical Marks Supplement (1DC0–1DFF)~~\n",
    "  *  ~~Latin Extended Additional (1E00–1EFF)~~\n",
    "- ~~Greek Extended (1F00–1FFF)~~\n",
    "- Symbols:\n",
    "  *  General Punctuation (2000–206F) -> en dash, em dash, etc. (PROJECT SPACES, HYPHENS AND DASHES, FORBID EXTRA CHARS)\n",
    "  *  ~~Superscripts and Subscripts (2070–209F)~~ -> GT should actually use this (to project)\n",
    "  *  ~~Currency Symbols (20A0–20CF)~~\n",
    "  *  ~~Combining Diacritical Marks for Symbols (20D0–20FF)~~\n",
    "  *  ~~Letterlike Symbols (2100–214F)~~\n",
    "  *  ~~Number Forms (2150–218F)~~ -> project roman numerals to latin letters if needed (done with NFKD in theory)\n",
    "  *  ~~Arrows (2190–21FF)~~ -> avoid if possible\n",
    "  *  ~~Mathematical Operators (2200–22FF)~~\n",
    "  *  ~~Miscellaneous Technical (2300–23FF)~~ -> would be anachronistic\n",
    "  *  ~~Control Pictures (2400–243F)~~\n",
    "  *  ~~Optical Character Recognition (2440–245F)~~\n",
    "  *  Enclosed Alphanumerics (2460–24FF) -> Used for medals\n",
    "  *  ~~Box Drawing (2500–257F)~~\n",
    "  *  ~~Block Elements (2580–259F)~~\n",
    "  *  ~~Geometric Shapes (25A0–25FF)~~\n",
    "  *  Miscellaneous Symbols (2600–26FF) -> maybe one or two (hand, star), to project if possible (0x261e...)\n",
    "  *  Dingbats (2700–27BF) -> maybe one or two, to project if possible\n",
    "  *  ~~Miscellaneous Mathematical Symbols-A (27C0–27EF)~~\n",
    "  *  ~~Supplemental Arrows-A (27F0–27FF)~~ -> avoid if possible\n",
    "  *  ~~Braille Patterns (2800–28FF)~~\n",
    "  *  ~~Supplemental Arrows-B (2900–297F)~~\n",
    "  *  ~~Miscellaneous Mathematical Symbols-B (2980–29FF)~~\n",
    "  *  ~~Supplemental Mathematical Operators (2A00–2AFF)~~\n",
    "  *  ~~Miscellaneous Symbols and Arrows (2B00–2BFF)~~ -> project stars if needed\n",
    "- ~~Latin Extended-C (2C60–2C7F)~~\n",
    "- ~~Cyrillic Extended-A (2DE0–2DFF)~~\n",
    "- ~~Supplemental Punctuation (2E00–2E7F)~~\n",
    "- ~~Cyrillic Extended-B (A640–A69F)~~\n",
    "- ~~Latin Extended-D (A720–A7FF)~~\n",
    "- Private Use Area (E000–F8FF) -> only if needed, to substitute long custom codes, unhandled scripts, etc.\n",
    "- Alphabetic Presentation Forms (FB00–FB4F) -> only U+FB00 - U+FB06 (ligatures)\n",
    "- U+FEFF BYTE ORDER MARK\n",
    "- U+FFFD � REPLACEMENT CHARACTER\n",
    "\n",
    "WARNING: what about the \"end of paragraph\" (or so) that we can get from the OCR or NER output?\n",
    "\n",
    "WARNING: replace hand symbols like \"👉\" (0x1f449) from the \"Miscellaneous Symbols and Pictographs\" block (plane 1) with \"☞\" (0x261e)\n",
    "https://www.unicode.org/charts/PDF/U1F300.pdf"
   ]
  },
  {
   "cell_type": "markdown",
   "metadata": {},
   "source": []
  }
 ],
 "metadata": {
  "kernelspec": {
   "display_name": "Python 3",
   "language": "python",
   "name": "python3"
  },
  "orig_nbformat": 4
 },
 "nbformat": 4,
 "nbformat_minor": 2
}
