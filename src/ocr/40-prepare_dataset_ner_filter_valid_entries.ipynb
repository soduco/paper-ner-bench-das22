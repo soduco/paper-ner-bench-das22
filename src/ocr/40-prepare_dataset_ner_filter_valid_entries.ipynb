{
 "cells": [
  {
   "cell_type": "markdown",
   "metadata": {},
   "source": [
    "# Prepare dataset - NER filter valid entries\n",
    "We want to filter the subset of entries for which the alignment of reference tags was successful (i.e. no empty tags were generated) **for all OCR outputs ate the same time.**\n",
    "\n",
    "We will generate a subset with these entries suitable for stratified train/val/test split for experiment 2 (comparison of NER performance on different OCR outputs)."
   ]
  },
  {
   "cell_type": "code",
   "execution_count": 1,
   "metadata": {},
   "outputs": [],
   "source": [
    "import os.path"
   ]
  },
  {
   "cell_type": "code",
   "execution_count": 2,
   "metadata": {},
   "outputs": [
    {
     "data": {
      "text/plain": [
       "'/home/joseph/git_github/soduco/paper-ner-bench-das22/dataset/supervised'"
      ]
     },
     "execution_count": 2,
     "metadata": {},
     "output_type": "execute_result"
    }
   ],
   "source": [
    "DATASET_PATH = os.path.abspath(\"../../dataset/supervised\")\n",
    "DATASET_PATH"
   ]
  },
  {
   "cell_type": "code",
   "execution_count": 3,
   "metadata": {},
   "outputs": [],
   "source": [
    "ref_path = os.path.join(DATASET_PATH, \"10-ref-ocr-ner-json\", \"all.json\")\n",
    "pero_path = os.path.join(DATASET_PATH, \"31-ner_align_pero\", \"all.json\")\n",
    "tess_path = os.path.join(DATASET_PATH, \"32-ner_align_tess\", \"all.json\")"
   ]
  },
  {
   "cell_type": "code",
   "execution_count": 4,
   "metadata": {},
   "outputs": [],
   "source": [
    "import json\n",
    "import io"
   ]
  },
  {
   "cell_type": "code",
   "execution_count": 5,
   "metadata": {},
   "outputs": [],
   "source": [
    "def merge_filter_ner_gt(ref_path, pero_path, tess_path, csv_path) -> list:\n",
    "    with open(ref_path) as f:\n",
    "        reference = json.load(f)\n",
    "    with open(pero_path) as f:\n",
    "        pero = json.load(f)\n",
    "    with open(tess_path) as f:\n",
    "        tess = json.load(f)\n",
    "\n",
    "    uid = lambda x: (x[\"book\"], x[\"page\"], x[\"id\"]) \n",
    "    ref = { uid(x) : x[\"ner_xml\"] for x in reference}\n",
    "    pero = { uid(x) : x[\"ner_xml\"] for x in pero if x[\"has_valid_ner_xml\"]}\n",
    "    tess = { uid(x) : x[\"ner_xml\"] for x in tess if x[\"has_valid_ner_xml\"]}\n",
    "\n",
    "    valid_keys = set(ref.keys()) & set(pero.keys()) & set(tess.keys())\n",
    "\n",
    "    lines_to_write = []\n",
    "    for key, ner_xml_ref in ref.items():\n",
    "        ner_xml_pero = pero.get(key)\n",
    "        ner_xml_tess = tess.get(key)\n",
    "        if ner_xml_pero is None or ner_xml_tess is None:\n",
    "            # print(\" -- Skipping entry\")\n",
    "            continue\n",
    "        book, _page, _id = key\n",
    "\n",
    "        line = '\"' + '\", \"'.join((ner_xml_ref, ner_xml_pero, ner_xml_tess, book)) + '\"'\n",
    "        lines_to_write.append(line)\n",
    "    \n",
    "    print(\"# filtered entries:\", len(lines_to_write))\n",
    "    all_lines = \"\\n\".join(lines_to_write)\n",
    "    with io.open(csv_path, \"wt\", encoding=\"UTF-8\", newline='',\n",
    "                errors=\"strict\") as file_output:\n",
    "        header = '\"' + '\", \"'.join((\"ner_xml_ref\", \"ner_xml_pero\", \"ner_xml_tess\", \"book\")) + '\"'\n",
    "        file_output.write(header + \"\\n\")\n",
    "        file_output.write(all_lines)"
   ]
  },
  {
   "cell_type": "code",
   "execution_count": 6,
   "metadata": {},
   "outputs": [
    {
     "name": "stdout",
     "output_type": "stream",
     "text": [
      "# filtered entries: 8341\n"
     ]
    }
   ],
   "source": [
    "out_path_csv = os.path.join(DATASET_PATH, \"40-ner_aligned_valid_subset\", \"gold.csv\")\n",
    "ner_filtered = merge_filter_ner_gt(ref_path, pero_path, tess_path, out_path_csv)"
   ]
  },
  {
   "cell_type": "code",
   "execution_count": null,
   "metadata": {},
   "outputs": [],
   "source": []
  },
  {
   "cell_type": "code",
   "execution_count": null,
   "metadata": {},
   "outputs": [],
   "source": []
  }
 ],
 "metadata": {
  "kernelspec": {
   "display_name": "Python 3",
   "language": "python",
   "name": "python3"
  },
  "language_info": {
   "codemirror_mode": {
    "name": "ipython",
    "version": 3
   },
   "file_extension": ".py",
   "mimetype": "text/x-python",
   "name": "python",
   "nbconvert_exporter": "python",
   "pygments_lexer": "ipython3",
   "version": "3.8.10"
  },
  "orig_nbformat": 4
 },
 "nbformat": 4,
 "nbformat_minor": 2
}
