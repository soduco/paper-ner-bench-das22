{
 "cells": [
  {
   "cell_type": "markdown",
   "metadata": {},
   "source": [
    "# Prepare dataset - NER filter valid entries\n",
    "We want to filter the subset of entries for which the alignment of reference tags was successful (i.e. no empty tags were generated) **for all OCR outputs ate the same time.**\n",
    "\n",
    "We will generate a subset with these entries suitable for stratified train/val/test split for experiment 2 (comparison of NER performance on different OCR outputs)."
   ]
  },
  {
   "cell_type": "code",
   "execution_count": 3,
   "metadata": {},
   "outputs": [],
   "source": [
    "import os.path"
   ]
  },
  {
   "cell_type": "code",
   "execution_count": 4,
   "metadata": {},
   "outputs": [
    {
     "data": {
      "text/plain": [
       "'/home/joseph/git_github/soduco/paper-ner-bench-das22/dataset/supervised'"
      ]
     },
     "execution_count": 4,
     "metadata": {},
     "output_type": "execute_result"
    }
   ],
   "source": [
    "DATASET_PATH = os.path.abspath(\"../../dataset/supervised\")\n",
    "DATASET_PATH"
   ]
  },
  {
   "cell_type": "code",
   "execution_count": 5,
   "metadata": {},
   "outputs": [],
   "source": [
    "ref_path = os.path.join(DATASET_PATH, \"10-ref-ocr-ner-json\", \"all.json\")\n",
    "pero_path = os.path.join(DATASET_PATH, \"31-ner_align_pero\", \"all.json\")\n",
    "tess_path = os.path.join(DATASET_PATH, \"32-ner_align_tess\", \"all.json\")\n",
    "krak_path = os.path.join(DATASET_PATH, \"33-ner_align_krak\", \"all.json\")"
   ]
  },
  {
   "cell_type": "code",
   "execution_count": 6,
   "metadata": {},
   "outputs": [],
   "source": [
    "import json\n",
    "import io"
   ]
  },
  {
   "cell_type": "code",
   "execution_count": 7,
   "metadata": {},
   "outputs": [],
   "source": [
    "def merge_filter_ner_gt(ref_path, pero_path, tess_path, csv_path) -> list:  # krak_path,\n",
    "    # we do not include kraken because the raw performance is too low\n",
    "    # and this reduces too much the intersection valid entries for NER evaluation\n",
    "    with open(ref_path) as f:\n",
    "        reference = json.load(f)\n",
    "    with open(pero_path) as f:\n",
    "        pero = json.load(f)\n",
    "    with open(tess_path) as f:\n",
    "        tess = json.load(f)\n",
    "    # with open(krak_path) as f:\n",
    "    #     krak = json.load(f)\n",
    "\n",
    "    uid = lambda x: (x[\"book\"], x[\"page\"], x[\"id\"]) \n",
    "    ref = { uid(x) : x[\"ner_xml\"] for x in reference}\n",
    "    pero = { uid(x) : x[\"ner_xml\"] for x in pero if x[\"has_valid_ner_xml\"]}\n",
    "    tess = { uid(x) : x[\"ner_xml\"] for x in tess if x[\"has_valid_ner_xml\"]}\n",
    "    # krak = { uid(x) : x[\"ner_xml\"] for x in krak if x[\"has_valid_ner_xml\"]}\n",
    "\n",
    "    # valid_keys = ref.keys() & pero.keys() & tess.keys() & krak.keys()\n",
    "\n",
    "    lines_to_write = []\n",
    "    for key, ner_xml_ref in ref.items():\n",
    "        ner_xml_pero = pero.get(key)\n",
    "        ner_xml_tess = tess.get(key)\n",
    "        # ner_xml_krak = krak.get(key)\n",
    "        if ner_xml_pero is None or ner_xml_tess is None: # or ner_xml_krak is None:\n",
    "            # print(\" -- Skipping entry\")\n",
    "            continue\n",
    "        book, _page, _id = key\n",
    "\n",
    "        # line = '\"' + '\", \"'.join((ner_xml_ref, ner_xml_pero, ner_xml_tess, ner_xml_krak, book)) + '\"'\n",
    "        line = '\"' + '\", \"'.join((ner_xml_ref, ner_xml_pero, ner_xml_tess, book)) + '\"'\n",
    "        lines_to_write.append(line)\n",
    "    \n",
    "    print(\"# filtered entries:\", len(lines_to_write))\n",
    "    all_lines = \"\\n\".join(lines_to_write)\n",
    "    with io.open(csv_path, \"wt\", encoding=\"UTF-8\", newline='',\n",
    "                errors=\"strict\") as file_output:\n",
    "        # header = '\"' + '\", \"'.join((\"ner_xml_ref\", \"ner_xml_pero\", \"ner_xml_tess\", \"ner_xml_krak\", \"book\")) + '\"'\n",
    "        header = '\"' + '\", \"'.join((\"ner_xml_ref\", \"ner_xml_pero\", \"ner_xml_tess\", \"book\")) + '\"'\n",
    "        file_output.write(header + \"\\n\")\n",
    "        file_output.write(all_lines)"
   ]
  },
  {
   "cell_type": "code",
   "execution_count": 8,
   "metadata": {},
   "outputs": [
    {
     "name": "stdout",
     "output_type": "stream",
     "text": [
      "# filtered entries: 8341\n"
     ]
    }
   ],
   "source": [
    "out_path_csv = os.path.join(DATASET_PATH, \"40-ner_aligned_valid_subset\", \"gold.csv\")\n",
    "ner_filtered = merge_filter_ner_gt(ref_path, pero_path, tess_path, out_path_csv)"
   ]
  },
  {
   "cell_type": "markdown",
   "metadata": {},
   "source": [
    "## More stats"
   ]
  },
  {
   "cell_type": "code",
   "execution_count": 12,
   "metadata": {},
   "outputs": [
    {
     "ename": "NameError",
     "evalue": "name 'ref_path' is not defined",
     "output_type": "error",
     "traceback": [
      "\u001b[0;31m---------------------------------------------------------------------------\u001b[0m",
      "\u001b[0;31mNameError\u001b[0m                                 Traceback (most recent call last)",
      "\u001b[0;32m/tmp/ipykernel_839978/1464031073.py\u001b[0m in \u001b[0;36m<module>\u001b[0;34m\u001b[0m\n\u001b[0;32m----> 1\u001b[0;31m \u001b[0;32mwith\u001b[0m \u001b[0mopen\u001b[0m\u001b[0;34m(\u001b[0m\u001b[0mref_path\u001b[0m\u001b[0;34m)\u001b[0m \u001b[0;32mas\u001b[0m \u001b[0mf\u001b[0m\u001b[0;34m:\u001b[0m\u001b[0;34m\u001b[0m\u001b[0;34m\u001b[0m\u001b[0m\n\u001b[0m\u001b[1;32m      2\u001b[0m     \u001b[0mreference\u001b[0m \u001b[0;34m=\u001b[0m \u001b[0mjson\u001b[0m\u001b[0;34m.\u001b[0m\u001b[0mload\u001b[0m\u001b[0;34m(\u001b[0m\u001b[0mf\u001b[0m\u001b[0;34m)\u001b[0m\u001b[0;34m\u001b[0m\u001b[0;34m\u001b[0m\u001b[0m\n\u001b[1;32m      3\u001b[0m \u001b[0;32mwith\u001b[0m \u001b[0mopen\u001b[0m\u001b[0;34m(\u001b[0m\u001b[0mpero_path\u001b[0m\u001b[0;34m)\u001b[0m \u001b[0;32mas\u001b[0m \u001b[0mf\u001b[0m\u001b[0;34m:\u001b[0m\u001b[0;34m\u001b[0m\u001b[0;34m\u001b[0m\u001b[0m\n\u001b[1;32m      4\u001b[0m     \u001b[0mpero\u001b[0m \u001b[0;34m=\u001b[0m \u001b[0mjson\u001b[0m\u001b[0;34m.\u001b[0m\u001b[0mload\u001b[0m\u001b[0;34m(\u001b[0m\u001b[0mf\u001b[0m\u001b[0;34m)\u001b[0m\u001b[0;34m\u001b[0m\u001b[0;34m\u001b[0m\u001b[0m\n\u001b[1;32m      5\u001b[0m \u001b[0;32mwith\u001b[0m \u001b[0mopen\u001b[0m\u001b[0;34m(\u001b[0m\u001b[0mtess_path\u001b[0m\u001b[0;34m)\u001b[0m \u001b[0;32mas\u001b[0m \u001b[0mf\u001b[0m\u001b[0;34m:\u001b[0m\u001b[0;34m\u001b[0m\u001b[0;34m\u001b[0m\u001b[0m\n",
      "\u001b[0;31mNameError\u001b[0m: name 'ref_path' is not defined"
     ]
    }
   ],
   "source": [
    "with open(ref_path) as f:\n",
    "    reference = json.load(f)\n",
    "with open(pero_path) as f:\n",
    "    pero = json.load(f)\n",
    "with open(tess_path) as f:\n",
    "    tess = json.load(f)\n",
    "with open(krak_path) as f:\n",
    "    krak = json.load(f)\n",
    "\n",
    "uid = lambda x: (x[\"book\"], x[\"page\"], x[\"id\"]) \n",
    "ref = { uid(x) : x[\"ner_xml\"] for x in reference if x[\"valid_box\"]}\n",
    "pero = { uid(x) : x[\"ner_xml\"] for x in pero if x[\"has_valid_ner_xml\"]}\n",
    "tess = { uid(x) : x[\"ner_xml\"] for x in tess if x[\"has_valid_ner_xml\"]}\n",
    "krak = { uid(x) : x[\"ner_xml\"] for x in krak if x[\"has_valid_ner_xml\"]}\n",
    "\n",
    "valid_keys = ref.keys() & pero.keys() & tess.keys() & krak.keys()\n",
    "print(\"# ref entries:\", len(ref))\n",
    "print(\"# pero entries:\", len(pero))\n",
    "print(\"# tess entries:\", len(tess))\n",
    "print(\"# krak entries:\", len(krak))\n",
    "print(\"# pero ∩ tess entries:\", len(pero.keys() & tess.keys()))\n",
    "print(\"# pero ∩ krak entries:\", len(pero.keys() & krak.keys()))\n",
    "print(\"# tess ∩ krak entries:\", len(tess.keys() & krak.keys()))\n",
    "print(\"# pero ∩ tess ∩ krak entries (valid):\", len(valid_keys))"
   ]
  },
  {
   "cell_type": "code",
   "execution_count": 37,
   "metadata": {},
   "outputs": [],
   "source": [
    "from text_utils import chop_on_tags, TAG_LIST\n",
    "import numpy as np"
   ]
  },
  {
   "cell_type": "code",
   "execution_count": 41,
   "metadata": {},
   "outputs": [
    {
     "name": "stdout",
     "output_type": "stream",
     "text": [
      "Mean entry length: 49.068339988590985\n",
      "Mean number of tags: 3.9066742726754136\n",
      "# entries used for OCR eval: 8765\n"
     ]
    }
   ],
   "source": [
    "ref_text_len = []\n",
    "all_tags = []\n",
    "for xml in ref.values():\n",
    "    \n",
    "    texts, tags = chop_on_tags(xml, tag_list=TAG_LIST) \n",
    "    ref_text_len.append(len(\"\".join(texts)))\n",
    "    all_tags.append([t for t in tags if not t.startswith(\"</\")])\n",
    "print(\"Mean entry length:\", np.mean(ref_text_len))\n",
    "print(\"Mean number of tags:\", np.mean([len(tags) for tags in all_tags]))\n",
    "print(\"# entries used for OCR eval:\", len(ref))"
   ]
  },
  {
   "cell_type": "code",
   "execution_count": 39,
   "metadata": {},
   "outputs": [],
   "source": [
    "import matplotlib.pyplot as plt"
   ]
  },
  {
   "cell_type": "code",
   "execution_count": 40,
   "metadata": {},
   "outputs": [
    {
     "data": {
      "text/plain": [
       "(0.0, 744.7500000000001)"
      ]
     },
     "execution_count": 40,
     "metadata": {},
     "output_type": "execute_result"
    },
    {
     "data": {
      "image/png": "[encoded data removed]",
      "text/plain": [
       "<Figure size 432x288 with 1 Axes>"
      ]
     },
     "metadata": {
      "needs_background": "light"
     },
     "output_type": "display_data"
    }
   ],
   "source": [
    "plt.hist(ref_text_len, bins=100)\n",
    "plt.xlabel(\"Entry length (chars)\")\n",
    "plt.ylabel(\"Count\")\n",
    "plt.title(\"Distribution of entry lengths in reference text\")\n",
    "plt.xlim(left=0)"
   ]
  },
  {
   "cell_type": "code",
   "execution_count": 47,
   "metadata": {},
   "outputs": [
    {
     "data": {
      "text/plain": [
       "(0.0, 19.9)"
      ]
     },
     "execution_count": 47,
     "metadata": {},
     "output_type": "execute_result"
    },
    {
     "data": {
      "image/png": "[encoded data removed]",
      "text/plain": [
       "<Figure size 432x288 with 1 Axes>"
      ]
     },
     "metadata": {
      "needs_background": "light"
     },
     "output_type": "display_data"
    }
   ],
   "source": [
    "plt.hist([len(tags) for tags in all_tags], bins=100)\n",
    "plt.xlabel(\"Number of tags\")\n",
    "plt.ylabel(\"Count\")\n",
    "plt.title(\"Distribution of tags per entry\")\n",
    "plt.xlim(left=0)"
   ]
  },
  {
   "cell_type": "code",
   "execution_count": 43,
   "metadata": {},
   "outputs": [
    {
     "data": {
      "text/plain": [
       "[('<LOC>', 9709),\n",
       " ('<PER>', 8788),\n",
       " ('<CARDINAL>', 8747),\n",
       " ('<ACT>', 6472),\n",
       " ('<TITRE>', 483),\n",
       " ('<FT>', 43)]"
      ]
     },
     "execution_count": 43,
     "metadata": {},
     "output_type": "execute_result"
    }
   ],
   "source": [
    "# Tag stats\n",
    "from collections import Counter\n",
    "tag_counter = Counter()\n",
    "for tags in all_tags:\n",
    "    tag_counter.update(tags)\n",
    "tag_counter.most_common()"
   ]
  },
  {
   "cell_type": "code",
   "execution_count": null,
   "metadata": {},
   "outputs": [],
   "source": []
  }
 ],
 "metadata": {
  "kernelspec": {
   "display_name": "Python 3",
   "language": "python",
   "name": "python3"
  },
  "language_info": {
   "codemirror_mode": {
    "name": "ipython",
    "version": 3
   },
   "file_extension": ".py",
   "mimetype": "text/x-python",
   "name": "python",
   "nbconvert_exporter": "python",
   "pygments_lexer": "ipython3",
   "version": "3.8.10"
  },
  "orig_nbformat": 4
 },
 "nbformat": 4,
 "nbformat_minor": 2
}
