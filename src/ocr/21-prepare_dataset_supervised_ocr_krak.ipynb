{
 "cells": [
  {
   "cell_type": "markdown",
   "metadata": {},
   "source": [
    "# Dataset preparation -- Normalized OCR output\n",
    "# Special case for Kraken output"
   ]
  },
  {
   "cell_type": "markdown",
   "metadata": {},
   "source": [
    "## Read and index all entries"
   ]
  },
  {
   "cell_type": "code",
   "execution_count": 1,
   "metadata": {},
   "outputs": [],
   "source": [
    "import os.path"
   ]
  },
  {
   "cell_type": "code",
   "execution_count": 2,
   "metadata": {},
   "outputs": [],
   "source": [
    "DATASET_PATH = os.path.abspath(\"../../dataset\")\n",
    "sup_dir = os.path.join(DATASET_PATH, \"supervised\")\n",
    "kraken_path = os.path.join(sup_dir, \"01-ocr-kraken-raw-json\", \"all.json\")"
   ]
  },
  {
   "cell_type": "code",
   "execution_count": 3,
   "metadata": {},
   "outputs": [],
   "source": [
    "import pandas as pd"
   ]
  },
  {
   "cell_type": "code",
   "execution_count": 4,
   "metadata": {},
   "outputs": [],
   "source": [
    "import json"
   ]
  },
  {
   "cell_type": "code",
   "execution_count": 5,
   "metadata": {},
   "outputs": [],
   "source": [
    "entries_ref_path = os.path.join(sup_dir, \"10-ref-ocr-ner-json\", \"all.json\")"
   ]
  },
  {
   "cell_type": "code",
   "execution_count": 6,
   "metadata": {},
   "outputs": [
    {
     "data": {
      "text/plain": [
       "8772"
      ]
     },
     "execution_count": 6,
     "metadata": {},
     "output_type": "execute_result"
    }
   ],
   "source": [
    "entries_ref = None\n",
    "with open(entries_ref_path) as infile:\n",
    "    entries_ref = json.load(infile)\n",
    "len(entries_ref)"
   ]
  },
  {
   "cell_type": "code",
   "execution_count": 7,
   "metadata": {},
   "outputs": [],
   "source": [
    "uid = lambda x: (x[\"book\"], x[\"page\"], x[\"id\"]) "
   ]
  },
  {
   "cell_type": "code",
   "execution_count": 8,
   "metadata": {},
   "outputs": [],
   "source": [
    "entries_index = {uid(e):e for e in entries_ref if e[\"valid_box\"]}\n",
    "len(entries_index.keys())\n",
    "del entries_ref"
   ]
  },
  {
   "cell_type": "markdown",
   "metadata": {},
   "source": [
    "## Load predicted OCR"
   ]
  },
  {
   "cell_type": "code",
   "execution_count": 9,
   "metadata": {},
   "outputs": [
    {
     "name": "stdout",
     "output_type": "stream",
     "text": [
      "Loaded 8675 for Kraken.\n"
     ]
    }
   ],
   "source": [
    "raw_entries = None\n",
    "with open(kraken_path) as infile:\n",
    "    raw_entries = json.load(infile)\n",
    "print(f\"Loaded {len(raw_entries)} for Kraken.\")"
   ]
  },
  {
   "cell_type": "code",
   "execution_count": 10,
   "metadata": {},
   "outputs": [
    {
     "data": {
      "text/plain": [
       "{'book': 'La_Tynna_1813', 'page': 377, 'id': 501, 'text_ocr': 'Tr, vg utkt, 1'}"
      ]
     },
     "execution_count": 10,
     "metadata": {},
     "output_type": "execute_result"
    }
   ],
   "source": [
    "raw_entries[0]"
   ]
  },
  {
   "cell_type": "code",
   "execution_count": 11,
   "metadata": {},
   "outputs": [
    {
     "ename": "AssertionError",
     "evalue": "",
     "output_type": "error",
     "traceback": [
      "\u001b[0;31m---------------------------------------------------------------------------\u001b[0m",
      "\u001b[0;31mAssertionError\u001b[0m                            Traceback (most recent call last)",
      "\u001b[0;32m/tmp/ipykernel_839978/412524217.py\u001b[0m in \u001b[0;36m<module>\u001b[0;34m\u001b[0m\n\u001b[1;32m      4\u001b[0m \u001b[0;32massert\u001b[0m\u001b[0;34m(\u001b[0m\u001b[0mlen\u001b[0m\u001b[0;34m(\u001b[0m\u001b[0mkrak_idx\u001b[0m\u001b[0;34m.\u001b[0m\u001b[0mkeys\u001b[0m\u001b[0;34m(\u001b[0m\u001b[0;34m)\u001b[0m\u001b[0;34m)\u001b[0m \u001b[0;34m==\u001b[0m \u001b[0mlen\u001b[0m\u001b[0;34m(\u001b[0m\u001b[0mraw_entries\u001b[0m\u001b[0;34m)\u001b[0m\u001b[0;34m)\u001b[0m\u001b[0;34m\u001b[0m\u001b[0;34m\u001b[0m\u001b[0m\n\u001b[1;32m      5\u001b[0m \u001b[0;31m# At least all entries in reference\u001b[0m\u001b[0;34m\u001b[0m\u001b[0;34m\u001b[0m\u001b[0;34m\u001b[0m\u001b[0m\n\u001b[0;32m----> 6\u001b[0;31m \u001b[0;32massert\u001b[0m\u001b[0;34m(\u001b[0m\u001b[0mkrak_idx\u001b[0m\u001b[0;34m.\u001b[0m\u001b[0mkeys\u001b[0m\u001b[0;34m(\u001b[0m\u001b[0;34m)\u001b[0m \u001b[0;34m>=\u001b[0m \u001b[0mentries_index\u001b[0m\u001b[0;34m.\u001b[0m\u001b[0mkeys\u001b[0m\u001b[0;34m(\u001b[0m\u001b[0;34m)\u001b[0m\u001b[0;34m)\u001b[0m\u001b[0;34m\u001b[0m\u001b[0;34m\u001b[0m\u001b[0m\n\u001b[0m",
      "\u001b[0;31mAssertionError\u001b[0m: "
     ]
    }
   ],
   "source": [
    "# Sanity check\n",
    "krak_idx = {uid(e):e for e in raw_entries}\n",
    "# No duplicates\n",
    "assert(len(krak_idx.keys()) == len(raw_entries))\n",
    "# At least all entries in reference\n",
    "assert(krak_idx.keys() >= entries_index.keys())"
   ]
  },
  {
   "cell_type": "code",
   "execution_count": null,
   "metadata": {},
   "outputs": [
    {
     "data": {
      "text/plain": [
       "{('Bottin1_1820', 107, 331)}"
      ]
     },
     "execution_count": 20,
     "metadata": {},
     "output_type": "execute_result"
    }
   ],
   "source": [
    "# Extra elements (not a problem)\n",
    "krak_idx.keys() - entries_index.keys()"
   ]
  },
  {
   "cell_type": "code",
   "execution_count": null,
   "metadata": {},
   "outputs": [
    {
     "data": {
      "text/plain": [
       "{('notables_communaux_seine_1801', 57, 261),\n",
       " ('notables_communaux_seine_1801', 57, 266),\n",
       " ('notables_communaux_seine_1801', 57, 268),\n",
       " ('notables_communaux_seine_1801', 57, 270),\n",
       " ('notables_communaux_seine_1801', 57, 272),\n",
       " ('notables_communaux_seine_1801', 57, 274),\n",
       " ('notables_communaux_seine_1801', 57, 276),\n",
       " ('notables_communaux_seine_1801', 57, 278),\n",
       " ('notables_communaux_seine_1801', 57, 280),\n",
       " ('notables_communaux_seine_1801', 57, 282),\n",
       " ('notables_communaux_seine_1801', 57, 284),\n",
       " ('notables_communaux_seine_1801', 57, 286),\n",
       " ('notables_communaux_seine_1801', 57, 288),\n",
       " ('notables_communaux_seine_1801', 57, 290),\n",
       " ('notables_communaux_seine_1801', 57, 292),\n",
       " ('notables_communaux_seine_1801', 57, 294),\n",
       " ('notables_communaux_seine_1801', 57, 296),\n",
       " ('notables_communaux_seine_1801', 57, 298),\n",
       " ('notables_communaux_seine_1801', 57, 300),\n",
       " ('notables_communaux_seine_1801', 57, 302),\n",
       " ('notables_communaux_seine_1801', 57, 304),\n",
       " ('notables_communaux_seine_1801', 57, 306),\n",
       " ('notables_communaux_seine_1801', 57, 308),\n",
       " ('notables_communaux_seine_1801', 57, 310),\n",
       " ('notables_communaux_seine_1801', 57, 312),\n",
       " ('notables_communaux_seine_1801', 57, 314),\n",
       " ('notables_communaux_seine_1801', 57, 316),\n",
       " ('notables_communaux_seine_1801', 57, 318),\n",
       " ('notables_communaux_seine_1801', 57, 320),\n",
       " ('notables_communaux_seine_1801', 57, 322),\n",
       " ('notables_communaux_seine_1801', 57, 324),\n",
       " ('notables_communaux_seine_1801', 57, 326),\n",
       " ('notables_communaux_seine_1801', 57, 328),\n",
       " ('notables_communaux_seine_1801', 57, 330),\n",
       " ('notables_communaux_seine_1801', 57, 332),\n",
       " ('notables_communaux_seine_1801', 57, 334),\n",
       " ('notables_communaux_seine_1801', 57, 336),\n",
       " ('notables_communaux_seine_1801', 57, 338),\n",
       " ('notables_communaux_seine_1801', 57, 340),\n",
       " ('notables_communaux_seine_1801', 57, 342),\n",
       " ('notables_communaux_seine_1801', 57, 344),\n",
       " ('notables_communaux_seine_1801', 57, 346),\n",
       " ('notables_communaux_seine_1801', 57, 348),\n",
       " ('notables_communaux_seine_1801', 57, 350),\n",
       " ('notables_communaux_seine_1801', 57, 352),\n",
       " ('notables_communaux_seine_1801', 57, 353),\n",
       " ('notables_communaux_seine_1801', 144, 261),\n",
       " ('notables_communaux_seine_1801', 144, 263),\n",
       " ('notables_communaux_seine_1801', 144, 265),\n",
       " ('notables_communaux_seine_1801', 144, 267),\n",
       " ('notables_communaux_seine_1801', 144, 271),\n",
       " ('notables_communaux_seine_1801', 144, 273),\n",
       " ('notables_communaux_seine_1801', 144, 275),\n",
       " ('notables_communaux_seine_1801', 144, 277),\n",
       " ('notables_communaux_seine_1801', 144, 279),\n",
       " ('notables_communaux_seine_1801', 144, 281),\n",
       " ('notables_communaux_seine_1801', 144, 283),\n",
       " ('notables_communaux_seine_1801', 144, 285),\n",
       " ('notables_communaux_seine_1801', 144, 287),\n",
       " ('notables_communaux_seine_1801', 144, 289),\n",
       " ('notables_communaux_seine_1801', 144, 291),\n",
       " ('notables_communaux_seine_1801', 144, 293),\n",
       " ('notables_communaux_seine_1801', 144, 295),\n",
       " ('notables_communaux_seine_1801', 144, 297),\n",
       " ('notables_communaux_seine_1801', 144, 299),\n",
       " ('notables_communaux_seine_1801', 144, 301),\n",
       " ('notables_communaux_seine_1801', 144, 303),\n",
       " ('notables_communaux_seine_1801', 144, 305),\n",
       " ('notables_communaux_seine_1801', 144, 307),\n",
       " ('notables_communaux_seine_1801', 144, 309),\n",
       " ('notables_communaux_seine_1801', 144, 311),\n",
       " ('notables_communaux_seine_1801', 144, 313),\n",
       " ('notables_communaux_seine_1801', 144, 315),\n",
       " ('notables_communaux_seine_1801', 144, 317),\n",
       " ('notables_communaux_seine_1801', 144, 319),\n",
       " ('notables_communaux_seine_1801', 144, 321),\n",
       " ('notables_communaux_seine_1801', 144, 323),\n",
       " ('notables_communaux_seine_1801', 144, 325),\n",
       " ('notables_communaux_seine_1801', 144, 327),\n",
       " ('notables_communaux_seine_1801', 144, 329),\n",
       " ('notables_communaux_seine_1801', 144, 331),\n",
       " ('notables_communaux_seine_1801', 144, 333),\n",
       " ('notables_communaux_seine_1801', 144, 335),\n",
       " ('notables_communaux_seine_1801', 144, 337),\n",
       " ('notables_communaux_seine_1801', 144, 339),\n",
       " ('notables_communaux_seine_1801', 144, 341),\n",
       " ('notables_communaux_seine_1801', 144, 343),\n",
       " ('notables_communaux_seine_1801', 144, 345),\n",
       " ('notables_communaux_seine_1801', 144, 347),\n",
       " ('notables_communaux_seine_1801', 144, 349),\n",
       " ('notables_communaux_seine_1801', 144, 351)}"
      ]
     },
     "execution_count": 21,
     "metadata": {},
     "output_type": "execute_result"
    }
   ],
   "source": [
    "# Missing elements\n",
    "entries_index.keys() - krak_idx.keys()"
   ]
  },
  {
   "cell_type": "code",
   "execution_count": null,
   "metadata": {},
   "outputs": [
    {
     "name": "stdout",
     "output_type": "stream",
     "text": [
      "\tSkipping entry not in reference or with bad box\n",
      "\t {'book': 'Bottin1_1820', 'page': 107, 'id': 331, 'text_ocr': ''}\n",
      "=============================\n",
      "Finished. Reports:\n",
      "Skipped entries: 1\n",
      "Missed entries: 91\n"
     ]
    },
    {
     "ename": "ValueError",
     "evalue": "Missing entries.",
     "output_type": "error",
     "traceback": [
      "\u001b[0;31m---------------------------------------------------------------------------\u001b[0m",
      "\u001b[0;31mValueError\u001b[0m                                Traceback (most recent call last)",
      "\u001b[0;32m/tmp/ipykernel_839174/4276989918.py\u001b[0m in \u001b[0;36m<module>\u001b[0;34m\u001b[0m\n\u001b[1;32m     44\u001b[0m \u001b[0mprint\u001b[0m\u001b[0;34m(\u001b[0m\u001b[0;34mf\"Missed entries: {len(missed_entries)}\"\u001b[0m\u001b[0;34m)\u001b[0m\u001b[0;34m\u001b[0m\u001b[0;34m\u001b[0m\u001b[0m\n\u001b[1;32m     45\u001b[0m \u001b[0;32mif\u001b[0m \u001b[0mlen\u001b[0m\u001b[0;34m(\u001b[0m\u001b[0mmissed_entries\u001b[0m\u001b[0;34m)\u001b[0m \u001b[0;34m>\u001b[0m \u001b[0;36m0\u001b[0m\u001b[0;34m:\u001b[0m\u001b[0;34m\u001b[0m\u001b[0;34m\u001b[0m\u001b[0m\n\u001b[0;32m---> 46\u001b[0;31m     \u001b[0;32mraise\u001b[0m \u001b[0mValueError\u001b[0m\u001b[0;34m(\u001b[0m\u001b[0;34m\"Missing entries.\"\u001b[0m\u001b[0;34m)\u001b[0m\u001b[0;34m\u001b[0m\u001b[0;34m\u001b[0m\u001b[0m\n\u001b[0m",
      "\u001b[0;31mValueError\u001b[0m: Missing entries."
     ]
    }
   ],
   "source": [
    "results = []\n",
    "matched_ref = set()\n",
    "skipped_entries = 0\n",
    "\n",
    "from text_utils import (\n",
    "    simplify_unicode_charset,\n",
    "    check_alignment_charset, \n",
    ")\n",
    "\n",
    "\n",
    "for idx, krak_entry in krak_idx.items():\n",
    "    if idx not in entries_index:\n",
    "        skipped_entries += 1\n",
    "        print(f\"\\tSkipping entry not in reference or with bad box\")\n",
    "        print(f\"\\t {krak_entry}\")\n",
    "        continue\n",
    "    ref_entry = entries_index[idx]\n",
    "\n",
    "    # # No control export of the box for Kraken\n",
    "    # ref_box = [int(e) for e in ref_entry[\"box\"]]\n",
    "    # cur_box = [int(e) for e in krak_entry[\"box\"]]\n",
    "    # if ref_box != cur_box:\n",
    "    #     print(\"!!Wrong box, should not happen! Layout is different.!!\")\n",
    "    #     print(\"ref_box\", ref_box)\n",
    "    #     print(\"cur_box\", cur_box)\n",
    "    #     print(\"Reference:\")\n",
    "    #     print(f\"{ref_entry}\")\n",
    "    #     print(\"Current predicted entry:\")\n",
    "    #     print(f\"{krak_entry}\")\n",
    "    #     print(\"!!Aborting!!\")\n",
    "    #     raise ValueError(\"Incompatible layout.\")\n",
    "    \n",
    "    new_elem = {k:krak_entry[k] for k in (\"id\", \"book\", \"page\")}\n",
    "    new_elem[\"box\"] = ref_box\n",
    "    new_elem[\"text_ocr\"] = simplify_unicode_charset(krak_entry[\"text_ocr\"].strip())\n",
    "    if not check_alignment_charset(new_elem[\"text_ocr\"]):\n",
    "        raise ValueError(new_elem)\n",
    "    results.append(new_elem)\n",
    "\n",
    "print(\"=============================\")\n",
    "print(\"Finished. Reports:\")\n",
    "print(f\"Skipped entries: {skipped_entries}\")\n",
    "missed_entries = entries_index.keys() - krak_idx.keys()\n",
    "print(f\"Missed entries: {len(missed_entries)}\")\n",
    "if len(missed_entries) > 0:\n",
    "    raise ValueError(\"Missing entries.\")\n"
   ]
  },
  {
   "cell_type": "code",
   "execution_count": null,
   "metadata": {},
   "outputs": [],
   "source": [
    "krak_out_path = os.path.join(sup_dir, \"23-ocr-krak-final\", \"all.json\")"
   ]
  },
  {
   "cell_type": "code",
   "execution_count": null,
   "metadata": {},
   "outputs": [],
   "source": [
    "with open(krak_out_path, \"w\") as out_file:\n",
    "    json.dump(results, out_file, indent=2)"
   ]
  },
  {
   "cell_type": "code",
   "execution_count": null,
   "metadata": {},
   "outputs": [],
   "source": [
    "!head $krak_out_path"
   ]
  }
 ],
 "metadata": {
  "kernelspec": {
   "display_name": "Python 3",
   "language": "python",
   "name": "python3"
  },
  "language_info": {
   "codemirror_mode": {
    "name": "ipython",
    "version": 3
   },
   "file_extension": ".py",
   "mimetype": "text/x-python",
   "name": "python",
   "nbconvert_exporter": "python",
   "pygments_lexer": "ipython3",
   "version": "3.8.10"
  },
  "orig_nbformat": 4
 },
 "nbformat": 4,
 "nbformat_minor": 2
}
