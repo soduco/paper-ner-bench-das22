{
 "cells": [
  {
   "cell_type": "markdown",
   "metadata": {},
   "source": [
    "# Dataset preparation -- Normalized OCR output\n",
    "# Special case for Kraken output"
   ]
  },
  {
   "cell_type": "markdown",
   "metadata": {},
   "source": [
    "## Read and index all entries"
   ]
  },
  {
   "cell_type": "code",
   "execution_count": 1,
   "metadata": {},
   "outputs": [],
   "source": [
    "import os.path"
   ]
  },
  {
   "cell_type": "code",
   "execution_count": 2,
   "metadata": {},
   "outputs": [],
   "source": [
    "DATASET_PATH = os.path.abspath(\"../../dataset\")\n",
    "sup_dir = os.path.join(DATASET_PATH, \"supervised\")\n",
    "kraken_path = os.path.join(sup_dir, \"01-ocr-kraken-raw-json\", \"all.json\")"
   ]
  },
  {
   "cell_type": "code",
   "execution_count": 3,
   "metadata": {},
   "outputs": [],
   "source": [
    "import pandas as pd"
   ]
  },
  {
   "cell_type": "code",
   "execution_count": 4,
   "metadata": {},
   "outputs": [],
   "source": [
    "import json"
   ]
  },
  {
   "cell_type": "code",
   "execution_count": 5,
   "metadata": {},
   "outputs": [],
   "source": [
    "entries_ref_path = os.path.join(sup_dir, \"10-ref-ocr-ner-json\", \"all.json\")"
   ]
  },
  {
   "cell_type": "code",
   "execution_count": 6,
   "metadata": {},
   "outputs": [
    {
     "data": {
      "text/plain": [
       "8772"
      ]
     },
     "execution_count": 6,
     "metadata": {},
     "output_type": "execute_result"
    }
   ],
   "source": [
    "entries_ref = None\n",
    "with open(entries_ref_path) as infile:\n",
    "    entries_ref = json.load(infile)\n",
    "len(entries_ref)"
   ]
  },
  {
   "cell_type": "code",
   "execution_count": 7,
   "metadata": {},
   "outputs": [],
   "source": [
    "uid = lambda x: (x[\"book\"], x[\"page\"], x[\"id\"]) "
   ]
  },
  {
   "cell_type": "code",
   "execution_count": 8,
   "metadata": {},
   "outputs": [],
   "source": [
    "entries_index = {uid(e):e for e in entries_ref if e[\"valid_box\"]}\n",
    "len(entries_index.keys())\n",
    "del entries_ref"
   ]
  },
  {
   "cell_type": "markdown",
   "metadata": {},
   "source": [
    "## Load predicted OCR"
   ]
  },
  {
   "cell_type": "code",
   "execution_count": 9,
   "metadata": {},
   "outputs": [
    {
     "name": "stdout",
     "output_type": "stream",
     "text": [
      "Loaded 8766 for Kraken.\n"
     ]
    }
   ],
   "source": [
    "raw_entries = None\n",
    "with open(kraken_path) as infile:\n",
    "    raw_entries = json.load(infile)\n",
    "print(f\"Loaded {len(raw_entries)} for Kraken.\")"
   ]
  },
  {
   "cell_type": "code",
   "execution_count": 10,
   "metadata": {},
   "outputs": [
    {
     "data": {
      "text/plain": [
       "{'book': 'Notables_communaux_seine_1801',\n",
       " 'page': 144,\n",
       " 'id': 351,\n",
       " 'text_ocr': 'Lamarre, clerc de notaire, rue galite.'}"
      ]
     },
     "execution_count": 10,
     "metadata": {},
     "output_type": "execute_result"
    }
   ],
   "source": [
    "raw_entries[0]"
   ]
  },
  {
   "cell_type": "code",
   "execution_count": 11,
   "metadata": {},
   "outputs": [],
   "source": [
    "# Sanity check\n",
    "krak_idx = {uid(e):e for e in raw_entries}\n",
    "# No duplicates\n",
    "assert(len(krak_idx.keys()) == len(raw_entries))\n",
    "# At least all entries in reference\n",
    "assert(krak_idx.keys() >= entries_index.keys())"
   ]
  },
  {
   "cell_type": "code",
   "execution_count": 12,
   "metadata": {},
   "outputs": [
    {
     "data": {
      "text/plain": [
       "{('Bottin1_1820', 107, 331)}"
      ]
     },
     "execution_count": 12,
     "metadata": {},
     "output_type": "execute_result"
    }
   ],
   "source": [
    "# Extra elements (not a problem)\n",
    "krak_idx.keys() - entries_index.keys()"
   ]
  },
  {
   "cell_type": "code",
   "execution_count": 13,
   "metadata": {},
   "outputs": [
    {
     "data": {
      "text/plain": [
       "set()"
      ]
     },
     "execution_count": 13,
     "metadata": {},
     "output_type": "execute_result"
    }
   ],
   "source": [
    "# Missing elements\n",
    "entries_index.keys() - krak_idx.keys()"
   ]
  },
  {
   "cell_type": "code",
   "execution_count": 14,
   "metadata": {},
   "outputs": [
    {
     "name": "stdout",
     "output_type": "stream",
     "text": [
      "\tSkipping entry not in reference or with bad box\n",
      "\t {'book': 'Bottin1_1820', 'page': 107, 'id': 331, 'text_ocr': ''}\n",
      "=============================\n",
      "Finished. Reports:\n",
      "Skipped entries: 1\n",
      "Missed entries: 0\n"
     ]
    }
   ],
   "source": [
    "results = []\n",
    "matched_ref = set()\n",
    "skipped_entries = 0\n",
    "\n",
    "from text_utils import (\n",
    "    simplify_unicode_charset,\n",
    "    check_alignment_charset, \n",
    ")\n",
    "\n",
    "\n",
    "for idx, krak_entry in krak_idx.items():\n",
    "    if idx not in entries_index:\n",
    "        skipped_entries += 1\n",
    "        print(f\"\\tSkipping entry not in reference or with bad box\")\n",
    "        print(f\"\\t {krak_entry}\")\n",
    "        continue\n",
    "    ref_entry = entries_index[idx]\n",
    "\n",
    "    # # No control export of the box for Kraken\n",
    "    ref_box = [int(e) for e in ref_entry[\"box\"]]\n",
    "    # cur_box = [int(e) for e in krak_entry[\"box\"]]\n",
    "    # if ref_box != cur_box:\n",
    "    #     print(\"!!Wrong box, should not happen! Layout is different.!!\")\n",
    "    #     print(\"ref_box\", ref_box)\n",
    "    #     print(\"cur_box\", cur_box)\n",
    "    #     print(\"Reference:\")\n",
    "    #     print(f\"{ref_entry}\")\n",
    "    #     print(\"Current predicted entry:\")\n",
    "    #     print(f\"{krak_entry}\")\n",
    "    #     print(\"!!Aborting!!\")\n",
    "    #     raise ValueError(\"Incompatible layout.\")\n",
    "    \n",
    "    new_elem = {k:krak_entry[k] for k in (\"id\", \"book\", \"page\")}\n",
    "    new_elem[\"box\"] = ref_box\n",
    "    new_elem[\"text_ocr\"] = simplify_unicode_charset(krak_entry[\"text_ocr\"].strip())\n",
    "    if not check_alignment_charset(new_elem[\"text_ocr\"]):\n",
    "        raise ValueError(new_elem)\n",
    "    results.append(new_elem)\n",
    "\n",
    "print(\"=============================\")\n",
    "print(\"Finished. Reports:\")\n",
    "print(f\"Skipped entries: {skipped_entries}\")\n",
    "missed_entries = entries_index.keys() - krak_idx.keys()\n",
    "print(f\"Missed entries: {len(missed_entries)}\")\n",
    "if len(missed_entries) > 0:\n",
    "    raise ValueError(\"Missing entries.\")\n"
   ]
  },
  {
   "cell_type": "code",
   "execution_count": 15,
   "metadata": {},
   "outputs": [],
   "source": [
    "krak_out_path = os.path.join(sup_dir, \"23-ocr-krak-final\", \"all.json\")"
   ]
  },
  {
   "cell_type": "code",
   "execution_count": 16,
   "metadata": {},
   "outputs": [],
   "source": [
    "with open(krak_out_path, \"w\") as out_file:\n",
    "    json.dump(results, out_file, indent=2)"
   ]
  },
  {
   "cell_type": "code",
   "execution_count": 17,
   "metadata": {},
   "outputs": [
    {
     "name": "stdout",
     "output_type": "stream",
     "text": [
      "[\n",
      "  {\n",
      "    \"id\": 351,\n",
      "    \"book\": \"Notables_communaux_seine_1801\",\n",
      "    \"page\": 144,\n",
      "    \"box\": [\n",
      "      267,\n",
      "      1377,\n",
      "      444,\n",
      "      26\n"
     ]
    }
   ],
   "source": [
    "!head $krak_out_path"
   ]
  }
 ],
 "metadata": {
  "kernelspec": {
   "display_name": "Python 3",
   "language": "python",
   "name": "python3"
  },
  "language_info": {
   "codemirror_mode": {
    "name": "ipython",
    "version": 3
   },
   "file_extension": ".py",
   "mimetype": "text/x-python",
   "name": "python",
   "nbconvert_exporter": "python",
   "pygments_lexer": "ipython3",
   "version": "3.8.10"
  },
  "orig_nbformat": 4
 },
 "nbformat": 4,
 "nbformat_minor": 2
}
