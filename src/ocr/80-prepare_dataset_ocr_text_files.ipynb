{
 "cells": [
  {
   "cell_type": "markdown",
   "metadata": {},
   "source": [
    "# Prepare text files for each entry\n",
    "- reference\n",
    "- Pero OCR\n",
    "- Tesseract OCR"
   ]
  },
  {
   "cell_type": "code",
   "execution_count": 1,
   "metadata": {},
   "outputs": [],
   "source": [
    "import os.path"
   ]
  },
  {
   "cell_type": "code",
   "execution_count": 2,
   "metadata": {},
   "outputs": [
    {
     "data": {
      "text/plain": [
       "'/home/edwin/repos/paper-ner-bench-das22/dataset/supervised'"
      ]
     },
     "execution_count": 2,
     "metadata": {},
     "output_type": "execute_result"
    }
   ],
   "source": [
    "DATASET_PATH = os.path.abspath(\"../../dataset/supervised\")\n",
    "DATASET_PATH"
   ]
  },
  {
   "cell_type": "code",
   "execution_count": 3,
   "metadata": {},
   "outputs": [],
   "source": [
    "ref_path = os.path.join(DATASET_PATH, \"10-ref-ocr-ner-json\", \"all.json\")\n",
    "pero_path = os.path.join(DATASET_PATH, \"21-ocr-pero-final\", \"all.json\")\n",
    "tess_path = os.path.join(DATASET_PATH, \"22-ocr-tess-final\", \"all.json\")"
   ]
  },
  {
   "cell_type": "markdown",
   "metadata": {},
   "source": [
    "## Text file generation"
   ]
  },
  {
   "cell_type": "code",
   "execution_count": 49,
   "metadata": {},
   "outputs": [],
   "source": [
    "import json\n",
    "import io"
   ]
  },
  {
   "cell_type": "code",
   "execution_count": 50,
   "metadata": {},
   "outputs": [],
   "source": [
    "def generate_text_files(json_path, output_dir):\n",
    "    entries = None\n",
    "    with open(json_path) as in_file:\n",
    "        entries = json.load(in_file)\n",
    "    for entry in entries:\n",
    "        out_filename = f'{entry[\"book\"]}-{entry[\"page\"]:04d}-{entry[\"id\"]:04d}.txt'\n",
    "        out_path = os.path.join(output_dir, out_filename)\n",
    "        text = entry[\"text_ocr\"]\n",
    "        with io.open(out_path, \"wt\", encoding=\"UTF-8\", newline='', errors=\"strict\") as file_output:\n",
    "            file_output.write(text)\n"
   ]
  },
  {
   "cell_type": "code",
   "execution_count": 51,
   "metadata": {},
   "outputs": [
    {
     "name": "stdout",
     "output_type": "stream",
     "text": [
      "ref\n",
      "pero\n",
      "tess\n"
     ]
    }
   ],
   "source": [
    "for (in_, out) in [(ref_path, \"ref\"), (pero_path, \"pero\"), (tess_path, \"tess\")]:\n",
    "    out_dir = os.path.join(DATASET_PATH, \"80-ocr-text-files\", out)\n",
    "    print(out)\n",
    "    generate_text_files(in_, out_dir)"
   ]
  },
  {
   "cell_type": "markdown",
   "metadata": {},
   "source": [
    "## Generate report OCR report"
   ]
  },
  {
   "cell_type": "code",
   "execution_count": 4,
   "metadata": {},
   "outputs": [],
   "source": [
    "import OCRMetrics\n",
    "import pandas as pd\n",
    "import json\n",
    "\n",
    "with open(ref_path) as f:\n",
    "    reference = json.load(f)\n",
    "with open(pero_path) as f:\n",
    "    pero = json.load(f)\n",
    "with open(tess_path) as f:\n",
    "    tess = json.load(f)\n",
    "\n",
    "uid = lambda x: (x[\"book\"], x[\"page\"], x[\"id\"]) \n",
    "ref = { uid(x) : x[\"text_ocr\"] for x in reference }\n",
    "pero = { uid(x) : x[\"text_ocr\"] for x in pero }\n",
    "tess = { uid(x) : x[\"text_ocr\"] for x in tess }\n",
    "all_keys = set(ref.keys()) | set(pero.keys()) | set(tess.keys())\n",
    "\n",
    "pero_scores = { k : OCRMetrics.align(ref[k], pero[k]) for k in all_keys }\n",
    "tess_scores = { k : OCRMetrics.align(ref[k], tess[k]) for k in all_keys }\n",
    "\n",
    "def make_df(scores):\n",
    "    stats = { k : r.stats for k,r in scores.items() }\n",
    "    data = [ (k[0], k[1], k[2], s.errors, s.reference_length, s.length) for k, s in stats.items() ]\n",
    "    df = pd.DataFrame.from_records(data, columns=[\"Book\", \"Page\", \"Id\", \"Errors\", \"RefLength\", \"Length\"])\n",
    "    df = df.set_index([\"Book\", \"Page\", \"Id\"])\n",
    "    return df\n",
    "\n",
    "pero_df = make_df(pero_scores)\n",
    "tess_df = make_df(tess_scores)\n",
    "#all_df = pd.merge(pero_df, tess_df, suffixes=[\"_pero\", \"_tess\"], how=\"inner\", on=[\"Book\", \"Page\", \"Id\"])\n",
    "\n"
   ]
  },
  {
   "cell_type": "code",
   "execution_count": 5,
   "metadata": {},
   "outputs": [
    {
     "data": {
      "text/plain": [
       "<AxesSubplot:>"
      ]
     },
     "execution_count": 5,
     "metadata": {},
     "output_type": "execute_result"
    },
    {
     "data": {
      "image/png": "[encoded data removed]",
      "text/plain": [
       "<Figure size 432x288 with 1 Axes>"
      ]
     },
     "metadata": {
      "needs_background": "light"
     },
     "output_type": "display_data"
    }
   ],
   "source": [
    "import seaborn as sns\n",
    "\n",
    "CER_pero = pero_df[\"Errors\"] / pero_df[\"RefLength\"]\n",
    "CERnorm_pero = pero_df[\"Errors\"] / pero_df[\"Length\"]\n",
    "CER_tess = pero_df[\"Errors\"] / pero_df[\"RefLength\"]\n",
    "CERnorm_tess = pero_df[\"Errors\"] / pero_df[\"Length\"]\n",
    "\n",
    "errors = pd.DataFrame( { \"Pero\": CERnorm_pero, \"Tess\" : CERnorm_tess })\n",
    "sns.boxplot(data = errors)"
   ]
  },
  {
   "cell_type": "code",
   "execution_count": 6,
   "metadata": {},
   "outputs": [
    {
     "name": "stdout",
     "output_type": "stream",
     "text": [
      "Pero CER: 0.038380623647107\n",
      "Tess CER: 0.07405072062084257\n"
     ]
    }
   ],
   "source": [
    "print(\"Pero CER:\", pero_df[\"Errors\"].sum() / pero_df[\"Length\"].sum())\n",
    "print(\"Tess CER:\", tess_df[\"Errors\"].sum() / tess_df[\"Length\"].sum())"
   ]
  },
  {
   "cell_type": "markdown",
   "metadata": {},
   "source": [
    "## With ISRI"
   ]
  },
  {
   "cell_type": "code",
   "execution_count": 7,
   "metadata": {},
   "outputs": [
    {
     "data": {
      "text/plain": [
       "UNLV-ISRI OCR Accuracy Report Version 5.1\n",
       "-----------------------------------------\n",
       "  425102   Characters\n",
       "   16401   Errors\n",
       "   96.14%  Accuracy\n",
       "\n",
       "       0   Reject Characters\n",
       "       0   Suspect Markers\n",
       "       0   False Marks\n",
       "    0.00%  Characters Marked\n",
       "   96.14%  Accuracy After Correction\n",
       "\n",
       "     Ins    Subst      Del   Errors\n",
       "       0        0        0        0   Marked\n",
       "    6563     7615     2223    16401   Unmarked\n",
       "    6563     7615     2223    16401   Total\n",
       "\n",
       "   Count   Missed   %Right\n",
       "   54436     3234    94.06   ASCII Spacing Characters\n",
       "   57963     3885    93.30   ASCII Special Symbols\n",
       "   18175     1501    91.74   ASCII Digits\n",
       "   31990      601    98.12   ASCII Uppercase Letters\n",
       "  255390     3525    98.62   ASCII Lowercase Letters\n",
       "      66       41    37.88   Latin1 Special Symbols\n",
       "      51       44    13.73   Latin1 Uppercase Letters\n",
       "    6235      914    85.34   Latin1 Lowercase Letters\n",
       "      25        7    72.00   Latin Extended-A\n",
       "     383       42    89.03   General Punctuation\n",
       "      77       77     0.00   Enclosed Alphanumerics\n",
       "      13        9    30.77   Miscellaneous Symbols\n",
       "     298      298     0.00   Private Use Area\n",
       "  425102    14178    96.66   Total\n",
       "\n",
       "  Errors   Marked   Correct-Generated\n",
       "     793        0   { }-{}\n",
       "     524        0   {.}-{}\n",
       "     523        0   { }-{<\\n>}\n",
       "     477        0   {), }-{<\\n>}\n",
       "     466        0   {}-{ }\n",
       "     463        0   {"
      ]
     },
     "execution_count": 7,
     "metadata": {},
     "output_type": "execute_result"
    }
   ],
   "source": [
    "import isri_tools\n",
    "\n",
    "pero_report = isri_tools.compute_accurary_summary(list(ref.values()), list(pero.values()))\n",
    "pero_report"
   ]
  },
  {
   "cell_type": "code",
   "execution_count": 9,
   "metadata": {},
   "outputs": [
    {
     "data": {
      "text/plain": [
       "UNLV-ISRI OCR Accuracy Report Version 5.1\n",
       "-----------------------------------------\n",
       "  425102   Characters\n",
       "   32061   Errors\n",
       "   92.46%  Accuracy\n",
       "\n",
       "       0   Reject Characters\n",
       "       0   Suspect Markers\n",
       "       0   False Marks\n",
       "    0.00%  Characters Marked\n",
       "   92.46%  Accuracy After Correction\n",
       "\n",
       "     Ins    Subst      Del   Errors\n",
       "       0        0        0        0   Marked\n",
       "    5501    18702     7858    32061   Unmarked\n",
       "    5501    18702     7858    32061   Total\n",
       "\n",
       "   Count   Missed   %Right\n",
       "   54436     1912    96.49   ASCII Spacing Characters\n",
       "   57963     5078    91.24   ASCII Special Symbols\n",
       "   18175     2742    84.91   ASCII Digits\n",
       "   31990     2651    91.71   ASCII Uppercase Letters\n",
       "  255390    10402    95.93   ASCII Lowercase Letters\n",
       "      66       26    60.61   Latin1 Special Symbols\n",
       "      51       26    49.02   Latin1 Uppercase Letters\n",
       "    6235      934    85.02   Latin1 Lowercase Letters\n",
       "      25       10    60.00   Latin Extended-A\n",
       "     383       34    91.12   General Punctuation\n",
       "      77       77     0.00   Enclosed Alphanumerics\n",
       "      13       13     0.00   Miscellaneous Symbols\n",
       "     298      298     0.00   Private Use Area\n",
       "  425102    24203    94.31   Total\n",
       "\n",
       "  Errors   Marked   Correct-Generated\n",
       "    1293        0   {.}-{,}\n",
       "    1274        0   {}-{ }\n",
       "     889        0   { }-{}\n",
       "     425        0   {.}-{}\n",
       "     416        0   {,}-{.}\n",
       "     348        0   {"
      ]
     },
     "execution_count": 9,
     "metadata": {},
     "output_type": "execute_result"
    }
   ],
   "source": [
    "tess_report = isri_tools.compute_accurary_summary(list(ref.values()), list(tess.values()))\n",
    "tess_report"
   ]
  },
  {
   "cell_type": "code",
   "execution_count": null,
   "metadata": {},
   "outputs": [],
   "source": []
  }
 ],
 "metadata": {
  "kernelspec": {
   "display_name": "Python 3",
   "language": "python",
   "name": "python3"
  },
  "language_info": {
   "codemirror_mode": {
    "name": "ipython",
    "version": 3
   },
   "file_extension": ".py",
   "mimetype": "text/x-python",
   "name": "python",
   "nbconvert_exporter": "python",
   "pygments_lexer": "ipython3",
   "version": "3.10.1"
  },
  "orig_nbformat": 4
 },
 "nbformat": 4,
 "nbformat_minor": 2
}
