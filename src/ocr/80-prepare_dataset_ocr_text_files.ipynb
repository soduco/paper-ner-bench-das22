{
 "cells": [
  {
   "cell_type": "markdown",
   "metadata": {},
   "source": [
    "# Prepare text files for each entry\n",
    "- reference\n",
    "- Pero OCR\n",
    "- Tesseract OCR"
   ]
  },
  {
   "cell_type": "code",
   "execution_count": 31,
   "metadata": {},
   "outputs": [],
   "source": [
    "import os.path"
   ]
  },
  {
   "cell_type": "code",
   "execution_count": 47,
   "metadata": {},
   "outputs": [
    {
     "data": {
      "text/plain": [
       "'/home/joseph/git_github/soduco/paper-ner-bench-das22/dataset/supervised'"
      ]
     },
     "execution_count": 47,
     "metadata": {},
     "output_type": "execute_result"
    }
   ],
   "source": [
    "DATASET_PATH = os.path.abspath(\"../../dataset/supervised\")\n",
    "DATASET_PATH"
   ]
  },
  {
   "cell_type": "code",
   "execution_count": 48,
   "metadata": {},
   "outputs": [],
   "source": [
    "ref_path = os.path.join(DATASET_PATH, \"10-ref-ocr-ner-json\", \"all.json\")\n",
    "pero_path = os.path.join(DATASET_PATH, \"21-ocr-pero-final\", \"all.json\")\n",
    "tess_path = os.path.join(DATASET_PATH, \"22-ocr-tess-final\", \"all.json\")"
   ]
  },
  {
   "cell_type": "code",
   "execution_count": 49,
   "metadata": {},
   "outputs": [],
   "source": [
    "import json\n",
    "import io"
   ]
  },
  {
   "cell_type": "code",
   "execution_count": 50,
   "metadata": {},
   "outputs": [],
   "source": [
    "def generate_text_files(json_path, output_dir):\n",
    "    entries = None\n",
    "    with open(json_path) as in_file:\n",
    "        entries = json.load(in_file)\n",
    "    for entry in entries:\n",
    "        out_filename = f'{entry[\"book\"]}-{entry[\"page\"]:04d}-{entry[\"id\"]:04d}.txt'\n",
    "        out_path = os.path.join(output_dir, out_filename)\n",
    "        text = entry[\"text_ocr\"]\n",
    "        with io.open(out_path, \"wt\", encoding=\"UTF-8\", newline='', errors=\"strict\") as file_output:\n",
    "            file_output.write(text)\n"
   ]
  },
  {
   "cell_type": "code",
   "execution_count": 51,
   "metadata": {},
   "outputs": [
    {
     "name": "stdout",
     "output_type": "stream",
     "text": [
      "ref\n",
      "pero\n",
      "tess\n"
     ]
    }
   ],
   "source": [
    "for (in_, out) in [(ref_path, \"ref\"), (pero_path, \"pero\"), (tess_path, \"tess\")]:\n",
    "    out_dir = os.path.join(DATASET_PATH, \"80-ocr-text-files\", out)\n",
    "    print(out)\n",
    "    generate_text_files(in_, out_dir)"
   ]
  },
  {
   "cell_type": "code",
   "execution_count": null,
   "metadata": {},
   "outputs": [],
   "source": []
  }
 ],
 "metadata": {
  "kernelspec": {
   "display_name": "Python 3",
   "language": "python",
   "name": "python3"
  },
  "language_info": {
   "codemirror_mode": {
    "name": "ipython",
    "version": 3
   },
   "file_extension": ".py",
   "mimetype": "text/x-python",
   "name": "python",
   "nbconvert_exporter": "python",
   "pygments_lexer": "ipython3",
   "version": "3.8.10"
  },
  "orig_nbformat": 4
 },
 "nbformat": 4,
 "nbformat_minor": 2
}
