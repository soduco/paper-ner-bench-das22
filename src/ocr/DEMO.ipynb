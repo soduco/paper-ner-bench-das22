{
 "cells": [
  {
   "cell_type": "markdown",
   "metadata": {},
   "source": [
    "## Alignement des chaînes OCR avec les outils ISRI"
   ]
  },
  {
   "cell_type": "code",
   "execution_count": 1,
   "metadata": {},
   "outputs": [],
   "source": [
    "import isri_tools\n",
    "\n",
    "a = \"👉 étagères𐌰\"\n",
    "b = \"etag.µbleble\""
   ]
  },
  {
   "cell_type": "markdown",
   "metadata": {},
   "source": [
    "Fonction d'alignement des chaînes."
   ]
  },
  {
   "cell_type": "code",
   "execution_count": 2,
   "metadata": {},
   "outputs": [
    {
     "name": "stdout",
     "output_type": "stream",
     "text": [
      "👉 étagèrxxes𐌰x\n",
      "exxtag.µbleble\n"
     ]
    }
   ],
   "source": [
    "\n",
    "A, B = isri_tools.align(a, b, 'x')\n",
    "print(A)\n",
    "print(B)"
   ]
  },
  {
   "cell_type": "markdown",
   "metadata": {},
   "source": [
    "Pour obtenir la transformation d'alignment.\n",
    "\n",
    "On obtient ici deux listes de la même taille que les chaînes d'origine et qui donnent les positions dans l'alignement final."
   ]
  },
  {
   "cell_type": "code",
   "execution_count": 3,
   "metadata": {},
   "outputs": [
    {
     "name": "stdout",
     "output_type": "stream",
     "text": [
      "[0, 1, 2, 3, 4, 5, 6, 7, 10, 11, 12]\n",
      "[0, 3, 4, 5, 6, 7, 8, 9, 10, 11, 12, 13]\n"
     ]
    }
   ],
   "source": [
    "A, B = isri_tools.get_align_map(a, b)\n",
    "print(A)\n",
    "print(B)"
   ]
  },
  {
   "cell_type": "markdown",
   "metadata": {},
   "source": [
    "## Retagging d'une chaîne OCR à partir des Entités Nommées d'une chaîne XML"
   ]
  },
  {
   "cell_type": "code",
   "execution_count": 4,
   "metadata": {},
   "outputs": [],
   "source": [
    "from text_utils import add_tags_prediction"
   ]
  },
  {
   "cell_type": "code",
   "execution_count": 5,
   "metadata": {},
   "outputs": [
    {
     "data": {
      "text/plain": [
       "'Mme <PER>Antoine</PER>, fab la <ACT>peche</ACT>ur du <LOC>chatelet</LOC> et du Faub. St Antoine'"
      ]
     },
     "execution_count": 5,
     "metadata": {},
     "output_type": "execute_result"
    }
   ],
   "source": [
    "A = \"<PER>Anthony</PER>, fab. du <ACT>pêche</ACT>, <LOC>Châtelet</LOC>\"\n",
    "B = \"Mme Antoine, fab la pecheur du chatelet et du Faub. St Antoine\"\n",
    "add_tags_prediction(A, B)"
   ]
  },
  {
   "cell_type": "markdown",
   "metadata": {},
   "source": [
    "## Calcul de l'accuracy et rapport"
   ]
  },
  {
   "cell_type": "code",
   "execution_count": 6,
   "metadata": {},
   "outputs": [
    {
     "data": {
      "text/plain": [
       "UNLV-ISRI OCR Accuracy Report Version 5.1\n",
       "-----------------------------------------\n",
       "      11   Characters\n",
       "      10   Errors\n",
       "    9.09%  Accuracy\n",
       "\n",
       "       0   Reject Characters\n",
       "       0   Suspect Markers\n",
       "       0   False Marks\n",
       "    0.00%  Characters Marked\n",
       "    9.09%  Accuracy After Correction\n",
       "\n",
       "     Ins    Subst      Del   Errors\n",
       "       0        0        0        0   Marked\n",
       "       2        5        3       10   Unmarked\n",
       "       2        5        3       10   Total\n",
       "\n",
       "   Count   Missed   %Right\n",
       "       1        1     0.00   ASCII Spacing Characters\n",
       "       6        2    66.67   ASCII Lowercase Letters\n",
       "       2        2     0.00   Latin1 Lowercase Letters\n",
       "       1        1     0.00   Combining Diacritical Marks\n",
       "       1        1     0.00   Private Use Area\n",
       "      11        7    36.36   Total\n",
       "\n",
       "  Errors   Marked   Correct-Generated\n",
       "       4        0   {"
      ]
     },
     "execution_count": 6,
     "metadata": {},
     "output_type": "execute_result"
    }
   ],
   "source": [
    "a = \"👉 étagères𐌰\"\n",
    "b = \"etag.µbleble\"\n",
    "stats = isri_tools.compute_accurary_stats(a, b)\n",
    "stats"
   ]
  },
  {
   "cell_type": "code",
   "execution_count": 7,
   "metadata": {},
   "outputs": [
    {
     "name": "stdout",
     "output_type": "stream",
     "text": [
      "Characters: 11\n",
      "Errors: 10\n",
      "Accuracy: 9.09%\n"
     ]
    }
   ],
   "source": [
    "\n",
    "\n",
    "print(\"Characters:\", stats.characters)\n",
    "print(\"Errors:\", stats.errors)\n",
    "print(\"Accuracy: {:.2f}%\".format(100 * (1 - stats.errors / stats.characters)))\n"
   ]
  },
  {
   "cell_type": "markdown",
   "metadata": {},
   "source": [
    "## Summary de plusieurs rapports"
   ]
  },
  {
   "cell_type": "code",
   "execution_count": 8,
   "metadata": {},
   "outputs": [
    {
     "data": {
      "text/plain": [
       "UNLV-ISRI OCR Accuracy Report Version 5.1\n",
       "-----------------------------------------\n",
       "      43   Characters\n",
       "      51   Errors\n",
       "  -18.60%  Accuracy\n",
       "\n",
       "       0   Reject Characters\n",
       "       0   Suspect Markers\n",
       "       0   False Marks\n",
       "    0.00%  Characters Marked\n",
       "  -18.60%  Accuracy After Correction\n",
       "\n",
       "     Ins    Subst      Del   Errors\n",
       "       0        0        0        0   Marked\n",
       "       3       14       34       51   Unmarked\n",
       "       3       14       34       51   Total\n",
       "\n",
       "   Count   Missed   %Right\n",
       "       5        1    80.00   ASCII Spacing Characters\n",
       "       3        2    33.33   ASCII Special Symbols\n",
       "       2        1    50.00   ASCII Uppercase Letters\n",
       "      27        7    74.07   ASCII Lowercase Letters\n",
       "       4        4     0.00   Latin1 Lowercase Letters\n",
       "       1        1     0.00   Combining Diacritical Marks\n",
       "       1        1     0.00   Private Use Area\n",
       "      43       17    60.47   Total\n",
       "\n",
       "  Errors   Marked   Correct-Generated\n",
       "      23        0   {}-{ et du Faub. St Antoine}\n",
       "       4        0   {C}-{du c}\n",
       "       4        0   {}-{Mme }\n",
       "       4        0   {"
      ]
     },
     "execution_count": 8,
     "metadata": {},
     "output_type": "execute_result"
    }
   ],
   "source": [
    "A = [\"👉 étagères𐌰\", \"Anthony, fab. du pêche, Châtelet\"]\n",
    "B = [\"etag.µbleble\", \"Mme Antoine, fab la pecheur du chatelet et du Faub. St Antoine\"]\n",
    "stats = [ isri_tools.compute_accurary_stats(a, b) for (a,b) in zip(A,B) ]\n",
    "\n",
    "aggregated_stats = isri_tools.accurary_summary(stats)\n",
    "aggregated_stats"
   ]
  },
  {
   "cell_type": "code",
   "execution_count": 12,
   "metadata": {},
   "outputs": [
    {
     "name": "stdout",
     "output_type": "stream",
     "text": [
      "UNLV-ISRI OCR Accuracy Report Version 5.1\n",
      "-----------------------------------------\n",
      "      32   Characters\n",
      "      41   Errors\n",
      "  -28.12%  Accuracy\n",
      "\n",
      "       0   Reject Characters\n",
      "       0   Suspect Markers\n",
      "       0   False Marks\n",
      "    0.00%  Characters Marked\n",
      "  -28.12%  Accuracy After Correction\n",
      "\n",
      "     Ins    Subst      Del   Errors\n",
      "       0        0        0        0   Marked\n",
      "       1        9       31       41   Unmarked\n",
      "       1        9       31       41   Total\n",
      "\n",
      "   Count   Missed   %Right\n",
      "       4        0   100.00   ASCII Spacing Characters\n",
      "       3        2    33.33   ASCII Special Symbols\n",
      "       2        1    50.00   ASCII Uppercase Letters\n",
      "      21        5    76.19   ASCII Lowercase Letters\n",
      "       2        2     0.00   Latin1 Lowercase Letters\n",
      "      32       10    68.75   Total\n",
      "\n",
      "  Errors   Marked   Correct-Generated\n",
      "      23        0   {}-{ et du Faub. St Antoine}\n",
      "       4        0   {C}-{du c}\n",
      "       4        0   {}-{Mme }\n",
      "       2        0   {,}-{ur}\n",
      "       2        0   {du}-{la}\n",
      "       2        0   {ho}-{oi}\n",
      "       1        0   {.}-{}\n",
      "       1        0   {y}-{e}\n",
      "       1        0   {\n"
     ]
    }
   ],
   "source": [
    "print(stats[1])"
   ]
  },
  {
   "cell_type": "code",
   "execution_count": null,
   "metadata": {},
   "outputs": [],
   "source": []
  }
 ],
 "metadata": {
  "kernelspec": {
   "display_name": "Python 3",
   "language": "python",
   "name": "python3"
  },
  "language_info": {
   "codemirror_mode": {
    "name": "ipython",
    "version": 3
   },
   "file_extension": ".py",
   "mimetype": "text/x-python",
   "name": "python",
   "nbconvert_exporter": "python",
   "pygments_lexer": "ipython3",
   "version": "3.8.10"
  }
 },
 "nbformat": 4,
 "nbformat_minor": 4
}
