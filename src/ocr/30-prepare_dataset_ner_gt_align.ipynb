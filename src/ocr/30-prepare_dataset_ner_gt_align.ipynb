{
 "cells": [
  {
   "cell_type": "markdown",
   "metadata": {},
   "source": [
    "# Prepare dataset - NER ground truth alignment"
   ]
  },
  {
   "cell_type": "code",
   "execution_count": 1,
   "metadata": {},
   "outputs": [],
   "source": [
    "import os.path"
   ]
  },
  {
   "cell_type": "code",
   "execution_count": 2,
   "metadata": {},
   "outputs": [
    {
     "data": {
      "text/plain": [
       "'/home/joseph/git_github/soduco/paper-ner-bench-das22/dataset/supervised'"
      ]
     },
     "execution_count": 2,
     "metadata": {},
     "output_type": "execute_result"
    }
   ],
   "source": [
    "DATASET_PATH = os.path.abspath(\"../../dataset/supervised\")\n",
    "DATASET_PATH"
   ]
  },
  {
   "cell_type": "code",
   "execution_count": 3,
   "metadata": {},
   "outputs": [],
   "source": [
    "ref_path = os.path.join(DATASET_PATH, \"10-ref-ocr-ner-json\", \"all.json\")\n",
    "pero_path = os.path.join(DATASET_PATH, \"21-ocr-pero-final\", \"all.json\")\n",
    "tess_path = os.path.join(DATASET_PATH, \"22-ocr-tess-final\", \"all.json\")\n",
    "krak_path = os.path.join(DATASET_PATH, \"23-ocr-krak-final\", \"all.json\")"
   ]
  },
  {
   "cell_type": "code",
   "execution_count": 4,
   "metadata": {},
   "outputs": [],
   "source": [
    "import json\n",
    "import io"
   ]
  },
  {
   "cell_type": "code",
   "execution_count": 5,
   "metadata": {},
   "outputs": [],
   "source": [
    "def e2idx(entry, book=None, page=None):\n",
    "    book = entry[\"book\"] if book is None else book\n",
    "    page = entry[\"page\"] if page is None else page\n",
    "    return f'{book}-{page:04d}-{entry[\"id\"]:04d}'"
   ]
  },
  {
   "cell_type": "code",
   "execution_count": 6,
   "metadata": {},
   "outputs": [],
   "source": [
    "from text_utils import add_tags_prediction, xml_contains_empty_tags"
   ]
  },
  {
   "cell_type": "code",
   "execution_count": 7,
   "metadata": {},
   "outputs": [],
   "source": [
    "def generate_aligned_gt(json_path_ref, json_path_target, output_file):\n",
    "    entries_ref = None\n",
    "    invalid_entries = 0\n",
    "    entries = 0\n",
    "    with open(json_path_ref) as in_file:\n",
    "        entries_ref = json.load(in_file)\n",
    "    index_ref = {e2idx(e):e for e in entries_ref}\n",
    "\n",
    "    entries_target = None\n",
    "    with open(json_path_target) as in_file:\n",
    "        entries_target = json.load(in_file)\n",
    "    index_target = {e2idx(e):e for e in entries_target}\n",
    "\n",
    "    new_entries = []\n",
    "\n",
    "    for idx, entry_target in index_target.items():\n",
    "        entries += 1\n",
    "        new_entry = {k:entry_target[k] for k in (\"id\", \"book\", \"page\", \"text_ocr\")}\n",
    "        entry_ref = index_ref[idx]\n",
    "\n",
    "        if not entry_ref[\"valid_box\"]:\n",
    "            raise RuntimeError(\"We should not have entries with invalid boxes here.\")\n",
    "    \n",
    "        xml_ref = entry_ref[\"ner_xml\"]\n",
    "        txt_target = entry_target[\"text_ocr\"]\n",
    "        xml_target = add_tags_prediction(xml_ref, txt_target, debug=False)\n",
    "        new_entry[\"ner_xml\"] = xml_target\n",
    "        has_valid_ner_xml = not xml_contains_empty_tags(xml_target)\n",
    "        new_entry[\"has_valid_ner_xml\"] = has_valid_ner_xml\n",
    "        if not has_valid_ner_xml:\n",
    "            invalid_entries += 1\n",
    "            print(\"Invalid entry, empty tags.\")\n",
    "            print(f\"\\t{xml_target}\")\n",
    "            print(\"\")\n",
    "            # we still append the entry for diagnosis and counting\n",
    "        new_entries.append(new_entry)\n",
    "    \n",
    "    with open(output_file, 'w') as out_file:\n",
    "        json.dump(new_entries, out_file, indent=2)\n",
    "    \n",
    "    print(\"================================\")\n",
    "    print(f\"Invalid entries: {invalid_entries:6d}\")\n",
    "    print(f\"Total entries:   {entries:6d}\")\n",
    "    print(\"================================\")\n",
    "\n",
    "    return new_entries\n"
   ]
  },
  {
   "cell_type": "code",
   "execution_count": 8,
   "metadata": {},
   "outputs": [
    {
     "name": "stdout",
     "output_type": "stream",
     "text": [
      "Invalid entry, empty tags.\n",
      "\t<PER>Dufau et Clémendot</PER>, <ACT>pharmaciens</ACT>, <LOC>r. de la Chäussee-d Antin</LOC>. <CARDINAL> </CARDINAL>. <TITRE>JEII</TITRE>\n",
      "\n",
      "Invalid entry, empty tags.\n",
      "\t<PER>Dufour</PER>, <ACT>march. de planches</ACT>, <LOC>r. Chapon</LOC>,<CARDINAL> </CARDINAL> 20.\n",
      "\n",
      "Invalid entry, empty tags.\n",
      "\t<PER>Dufresne (Mad.)</PER>, <ACT>lingère</ACT>, <LOC>r. S. Denis</LOC>.<CARDINAL></CARDINAL>\n",
      "\n",
      "Invalid entry, empty tags.\n",
      "\t<PER>Dufour</PER>, <ACT>march. de vins</ACT>, <LOC>r. Ste.-Margnerite. S.-German</LOC> o<CARDINAL></CARDINAL>.\n",
      "\n",
      "Invalid entry, empty tags.\n",
      "\t<PER>Michonnet</PER>; <ACT>Maçon</ACT>, <LOC>petile r. Taranne</LOC>, <CARDINAL></CARDINAL> 403\n",
      "\n",
      "Suspect char@060: † (0x2020 DAGGER -- cat.: Po)\n",
      "Suspect char@028: † (0x2020 DAGGER -- cat.: Po)\n",
      "Invalid entry, empty tags.\n",
      "\t<PER>Miguet jeune</PER>, <ACT>épicier</ACT>, <LOC>r. Neuve-S.-Martin</LOC>,<CARDINAL></CARDINAL>\n",
      "\n",
      "Invalid entry, empty tags.\n",
      "\t<PER>Milcent</PER>, <ACT>peintre en bátimens</ACT>, <LOC>r. Buffankt</LOC>,<CARDINAL> </CARDINAL> 48\n",
      "\n",
      "Invalid entry, empty tags.\n",
      "\t<PER>Milcent</PER>, <ACT>tapiaster</ACT>, <LOC>r. Gaillon</LOC>, <CARDINAL></CARDINAL>483\n",
      "\n",
      "Invalid entry, empty tags.\n",
      "\t<PER>Millet Goebaut (J.)</PER>, <ACT>tanneur</ACT>, <LOC>r. du Faub.- LI</LOC> <CARDINAL></CARDINAL> —\n",
      "\n",
      "Invalid entry, empty tags.\n",
      "\t<PER>Roussel HeHe</PER> * ,<ACT>naturatiste</ACT>, <LOC>r. de la Tour-</LOC><CARDINAL></CARDINAL>\n",
      "\n",
      "Invalid entry, empty tags.\n",
      "\t<PER>Vache</PER>, <LOC>r. Jacob</LOC>,b<CARDINAL></CARDINAL>.\n",
      "\n",
      "Invalid entry, empty tags.\n",
      "\t<PER>Verreauk</PER>, <ACT>natirajtste</ACT>, <LOC>boul. Montmartre</LOC>,<CARDINAL></CARDINAL>\n",
      "\n",
      "Invalid entry, empty tags.\n",
      "\tp <PER>Daligny Bessière BOrlo. (Mad)</PER>, <ACT>fab.</ACT>.<LOC>r. Quincam ☞</LOC><CARDINAL></CARDINAL>\n",
      "\n",
      "Invalid entry, empty tags.\n",
      "\t<PER>Dubosca, Leloup et co,</PER> <ACT>marchi</ACT>, <LOC>r. Tracy</LOC>,<CARDINAL></CARDINAL>.\n",
      "\n",
      "Invalid entry, empty tags.\n",
      "\t<PER>Philippine</PER>, <LOC>1. Ferou</LOC>,<CARDINAL> </CARDINAL>*\n",
      "\n",
      "Invalid entry, empty tags.\n",
      "\t<PER>Avinent de Murseille</PER> <LOC>A   THeron</LOC>,<CARDINAL></CARDINAL>.\n",
      "\n",
      "Invalid entry, empty tags.\n",
      "\t<PER>m- CIE</PER>, <ACT>MT</ACT>. <LOC>HnPadlt</LOC>A<CARDINAL></CARDINAL>.\n",
      "\n",
      "Suspect char@011: † (0x2020 DAGGER -- cat.: Po)\n",
      "Invalid entry, empty tags.\n",
      "\t<PER>Hetle, M.</PER>, <LOC>† Bourhon</LOC>,<CARDINAL></CARDINAL>\n",
      "\n",
      "Invalid entry, empty tags.\n",
      "\t<PER>Berperet</PER> 1dlp<LOC>r. die Grenerle D. Derman</LOC>.<CARDINAL></CARDINAL>\n",
      "\n",
      "Invalid entry, empty tags.\n",
      "\t<PER>TRHN</PER>T, <LOC>Place des VIeIHIIeS</LOC>pI<CARDINAL></CARDINAL>\n",
      "\n",
      "Invalid entry, empty tags.\n",
      "\t<PER>Aumer</PER>, <LOC>r. d ArEOIS</LOC>.<CARDINAL></CARDINAL>\n",
      "\n",
      "Invalid entry, empty tags.\n",
      "\t<PER>AMlesstcr</PER>, Pora<LOC>k Tevacak</LOC><CARDINAL></CARDINAL>\n",
      "\n",
      "Invalid entry, empty tags.\n",
      "\t<PER>Anzou, (Mad.)</PER> 84 <LOC>r. S.-Andre-des-Arts</LOC>,<CARDINAL></CARDINAL>\n",
      "\n",
      "Invalid entry, empty tags.\n",
      "\t<PER>MatrN</PER>, R<LOC>r1 dTvedr</LOC>y<CARDINAL></CARDINAL>\n",
      "\n",
      "Invalid entry, empty tags.\n",
      "\t<PER>DeTIn</PER> vpert. <LOC>ATatHeSe</LOC>.<CARDINAL></CARDINAL>\n",
      "\n",
      "Suspect char@007: † (0x2020 DAGGER -- cat.: Po)\n",
      "Invalid entry, empty tags.\n",
      "\t<PER>Baisnée</PER>, <ACT>couleurs</ACT>, <LOC>Sèvres</LOC> Z<CARDINAL></CARDINAL>\n",
      "\n",
      "Invalid entry, empty tags.\n",
      "\t<PER>Baisnée (Mad.)</PER>, <ACT>bur. de lot. 25</ACT>, <LOC>Bourb.-Villen.</LOC>,<CARDINAL></CARDINAL>\n",
      "\n",
      "Invalid entry, empty tags.\n",
      "\t<PER>Baissey</PER> <TITRE></TITRE>, <ACT>insp. gén. enregistr.</ACT>, <LOC>Godot-de-Mauroy</LOC>,<CARDINAL>24</CARDINAL>\n",
      "\n",
      "Invalid entry, empty tags.\n",
      "\t<PER>Balvac</PER>, <LOC>Berry-Marais</LOC>,<CARDINAL></CARDINAL>\n",
      "\n",
      "Invalid entry, empty tags.\n",
      "\t<PER>Baucelin fils</PER>, <ACT>restaurateur</ACT>, <LOC>avenue de Neuilly</LOC>,<CARDINAL></CARDINAL>\n",
      "\n",
      "Invalid entry, empty tags.\n",
      "\t<PER>Baral. C* de </PER>,<LOC>Richepance</LOC>,<CARDINAL></CARDINAL>\n",
      "\n",
      "Invalid entry, empty tags.\n",
      "\t<PER>Baral</PER>, <ACT>tailleur</ACT>, <LOC>boul. Š.-Antoine</LOC>,<CARDINAL></CARDINAL>\n",
      "\n",
      "Invalid entry, empty tags.\n",
      "\t<PER>Barbançois (M&quot; de)</PER> <TITRE>O. *</TITRE>4, <ACT>colonel</ACT>, <LOC>Beaunc</LOC>,<CARDINAL></CARDINAL>\n",
      "\n",
      "Invalid entry, empty tags.\n",
      "\t<PER>Balleroy Ce de)</PER> <TITRE></TITRE>, <LOC>Fg.-S.-Honoré</LOC>, <CARDINAL>47</CARDINAL>.\n",
      "\n",
      "Invalid entry, empty tags.\n",
      "\t<PER>Barbançois ( Mis de)</PER> <TITRE>2</TITRE>, <ACT>cup. d&apos;étdt-major</ACT>, <LOC>Perle</LOC>,!<CARDINAL></CARDINAL>\n",
      "\n",
      "Invalid entry, empty tags.\n",
      "\t<PER>Desroches (Mad.)</PER>, <ACT>mercière</ACT>, <LOC>Richelieu</LOC><CARDINAL></CARDINAL>\n",
      "\n",
      "Invalid entry, empty tags.\n",
      "\t<PER>Dessin (Ecoles royales gratuites de)</PER>, <LOC>Ecole-de-Méde- (ine</LOC>, <CARDINAL>5</CARDINAL>, et <LOC>Touraine-S.-Germain</LOC>,<CARDINAL></CARDINAL>\n",
      "\n",
      "Invalid entry, empty tags.\n",
      "\t<PER>Destains</PER>, <ACT>h. de lettres</ACT>, <LOC>pass. Petits-Pères</LOC>,<CARDINAL></CARDINAL>\n",
      "\n",
      "Invalid entry, empty tags.\n",
      "\t<PER>Devaines (Mad.</PER> <LOC>S.-Florentin</LOC>,<CARDINAL></CARDINAL>\n",
      "\n",
      "Invalid entry, empty tags.\n",
      "\t<PER>Delassault (M Champs, 81. 1les)</PER>, <ACT>r. N°-des-Petits-</ACT><CARDINAL></CARDINAL>\n",
      "\n",
      "Invalid entry, empty tags.\n",
      "\t<PER>Delestre</PER>, <LOC>r. Vaucanson</LOC>,<CARDINAL></CARDINAL>\n",
      "\n",
      "Invalid entry, empty tags.\n",
      "\t<PER>Demanche (Mc)</PER>, <LOC>r. des Fossés- Montmartre</LOC>,<CARDINAL></CARDINAL>\n",
      "\n",
      "Invalid entry, empty tags.\n",
      "\t<PER>Faneau frères</PER>, <ACT>et nouveautés,</ACT> <LOC>r. du Pas-de-la-Mule</LOC>,<CARDINAL></CARDINAL>\n",
      "\n",
      "Invalid entry, empty tags.\n",
      "\t<PER>Finot (Mlle</PER> <LOC>r. Thiroux</LOC>,<CARDINAL></CARDINAL>\n",
      "\n",
      "Invalid entry, empty tags.\n",
      "\t<PER>Garnot (Mad.)</PER>, <LOC>r. N°-des-Capu- 3. cines</LOC>,<CARDINAL></CARDINAL>\n",
      "\n",
      "Invalid entry, empty tags.\n",
      "\t<PER>Havet (Mad.)</PER>, <LOC>r. du Pourtour-S.- Gervais</LOC>,<CARDINAL></CARDINAL>\n",
      "\n",
      "Invalid entry, empty tags.\n",
      "\t<PER>Papin et Blaiseau (Milss)</PER>, <LOC>r. N-</LOC><CARDINAL></CARDINAL>\n",
      "\n",
      "Invalid entry, empty tags.\n",
      "\t<PER>Cramaille</PER>, <LOC>r. de Provence</LOC>,<CARDINAL></CARDINAL>\n",
      "\n",
      "Invalid entry, empty tags.\n",
      "\t<PER>De Lanneau fils</PER> <TITRE></TITRE>, voyez Lanneau.\n",
      "\n",
      "Invalid entry, empty tags.\n",
      "\t<PER>Delaroche (Paul)</PER> <TITRE>O. X</TITRE>, <ACT>peintre</ACT>, <LOC>Tour-des-Dames</LOC>,<CARDINAL></CARDINAL>\n",
      "\n",
      "Suspect char@011: € (0x20ac EURO SIGN -- cat.: Sc)\n",
      "Invalid entry, empty tags.\n",
      "\t<PER>Lacarrière</PER> <TITRE></TITRE>,<ACT> fonderies, bronzes et appareils pour le gaz</ACT>, <LOC>Ne-St-Laurent</LOC>, <CARDINAL>6</CARDINAL>.\n",
      "\n",
      "Invalid entry, empty tags.\n",
      "\t<PER>bacaze</PER>, <ACT>fact. à la Vallée</ACT>, <LOC>Pont-de-Lodi</LOC>,<CARDINAL></CARDINAL>\n",
      "\n",
      "Invalid entry, empty tags.\n",
      "\t<PER>Lacombe</PER>, <ACT>h. garni</ACT>, <LOC>Cité Bergère</LOC>,<CARDINAL></CARDINAL>\n",
      "\n",
      "Invalid entry, empty tags.\n",
      "\t—man, 28. <PER>Leconte et Mauppin</PER>, <ACT>en gros</ACT>, <LOC>r. Croix-des-Pet.-Champs</LOC>,<CARDINAL></CARDINAL>\n",
      "\n",
      "Invalid entry, empty tags.\n",
      "\t<PER>Morand</PER>, <ACT>fournit. de chapellerie</ACT>, <LOC>r. Vieille-du-Temple</LOC>,<CARDINAL></CARDINAL>\n",
      "\n",
      "Invalid entry, empty tags.\n",
      "\t<PER>Desvignes</PER>, <ACT>vin</ACT>, <LOC>St-Maurice, Grande-Rue</LOC>,<CARDINAL></CARDINAL>\n",
      "\n",
      "Invalid entry, empty tags.\n",
      "\t<PER>Didiot (Maurice-Hippolyte)</PER>, <ACT>bois</ACT>, <LOC>Lyon</LOC>,<CARDINAL></CARDINAL>\n",
      "\n",
      "Invalid entry, empty tags.\n",
      "\t<PER>Drouard</PER>, <ACT>fab. de poterie</ACT>, <LOC>Popincourt</LOC>,<CARDINAL></CARDINAL>\n",
      "\n",
      "Invalid entry, empty tags.\n",
      "\t<PER>Fouquet (Robert-Michel)</PER> , <ACT>entrepreneur</ACT>, <LOC>Londres</LOC>,<CARDINAL></CARDINAL>\n",
      "\n",
      "Invalid entry, empty tags.\n",
      "\t<PER>Galichon (Louis</PER> <ACT>négoc. en vins</ACT>, <LOC>Guillaume</LOC>,<CARDINAL></CARDINAL>\n",
      "\n",
      "Invalid entry, empty tags.\n",
      "\t<PER>Garnier (Auguste)</PER>, <ACT>métaux</ACT>, <LOC>St-Pierre-Popincourt</LOC>,<CARDINAL></CARDINAL>\n",
      "\n",
      "Invalid entry, empty tags.\n",
      "\t<PER>Gaume aîné (Jean)</PER> , <ACT>libraire-éditeur</ACT>, <LOC>Cassette</LOC>,<CARDINAL></CARDINAL>\n",
      "\n",
      "Invalid entry, empty tags.\n",
      "\t<PER>Gaussen (Maxime </PER>,<ACT>fab. de châles</ACT>, <LOC>Banque</LOC>,<CARDINAL></CARDINAL>\n",
      "\n",
      "Invalid entry, empty tags.\n",
      "\t<PER>Lasserre</PER>, <ACT>fab. d&apos;instrum. d   e chirurg.</ACT>, <LOC>Cloftre-</LOC><CARDINAL></CARDINAL>\n",
      "\n",
      "Invalid entry, empty tags.\n",
      "\t<PER>Lion (Mayer</PER> <ACT>fab. de châles</ACT>, <LOC>pl. des Petits-Pères</LOC>,<CARDINAL></CARDINAL>\n",
      "\n",
      "Invalid entry, empty tags.\n",
      "\t<PER>Massez (Martin)</PER> <ACT>chaussures</ACT>, <LOC>Martel</LOC>,<CARDINAL></CARDINAL>\n",
      "\n",
      "Invalid entry, empty tags.\n",
      "\t<PER>Milori (Sylvain)</PER>, <ACT>couleurs</ACT>, <LOC>Barre-du-Bec</LOC>,<CARDINAL></CARDINAL>\n",
      "\n",
      "Invalid entry, empty tags.\n",
      "\t<PER>Lecoffre Jacques)</PER>, <ACT>libraire</ACT><LOC></LOC><CARDINAL></CARDINAL>\n",
      "\n",
      "Invalid entry, empty tags.\n",
      "\t<PER>Ducreux</PER>, <ACT>imprim. lithogr.</ACT> <LOC>Faub.-St-Marlin</LOC>,<CARDINAL></CARDINAL>\n",
      "\n",
      "Invalid entry, empty tags.\n",
      "\t<PER>Ducros le Sixl </PER>&quot;*<TITRE></TITRE>, <ACT>avocat</ACT>, <LOC>Casselte</LOC>, <CARDINAL>15</CARDINAL>.\n",
      "\n",
      "Invalid entry, empty tags.\n",
      "\t<PER>Germain</PER>, <ACT>laines</ACT>, <LOC>Hauteville</LOC>,<CARDINAL></CARDINAL>\n",
      "\n",
      "Invalid entry, empty tags.\n",
      "\t<PER>Germain (A.)</PER>, <TITRE></TITRE>. <PER>et co.</PER>, <ACT>soies en gros</ACT>, <LOC>Echiquier</LOC>, <CARDINAL>30</CARDINAL>.\n",
      "\n",
      "Invalid entry, empty tags.\n",
      "\t<PER>Germain-Petit et Dupérier</PER> <TITRE></TITRE>. <ACT>drap.</ACT>, <LOC>av. Montaigue</LOC>, <CARDINAL>53</CARDINAL>.\n",
      "\n",
      "Invalid entry, empty tags.\n",
      "\t<PER>Aréra</PER>. <TITRE></TITRE>. <LOC>Barillerie</LOC>, <CARDINAL>3</CARDINAL>.\n",
      "\n",
      "Invalid entry, empty tags.\n",
      "\t<PER>c</PER><ACT>int. cl éc2</ACT> <LOC>St-</LOC><CARDINAL></CARDINAL>\n",
      "\n",
      "Invalid entry, empty tags.\n",
      "\t<PER>Gillet fr. et soeur</PER>, <ACT>fab. soies teintes 225.227. et écr.</ACT>, <LOC>St-Denis</LOC>,<CARDINAL></CARDINAL>\n",
      "\n",
      "Invalid entry, empty tags.\n",
      "\t<PER>Mauppin</PER> <TITRE>K</TITRE>E, <LOC>N.-D.-Vicloires</LOC>.<CARDINAL></CARDINAL>\n",
      "\n",
      "Invalid entry, empty tags.\n",
      "\t<PER>Raffart</PER> <TITRE></TITRE>, <LOC>St-Denis</LOC>, <CARDINAL>374</CARDINAL>.\n",
      "\n",
      "Invalid entry, empty tags.\n",
      "\t<PER>Sciama (N.)</PER>, <ACT>soie écr. de t. prov.</ACT>,<LOC> 40. Hauteville</LOC>,<CARDINAL></CARDINAL>\n",
      "\n",
      "Invalid entry, empty tags.\n",
      "\t<PER>Collin et comp</PER>. <ACT>imp. sur étof.</ACT> <LOC>St Louis en PIle</LOC>.<CARDINAL></CARDINAL>\n",
      "\n",
      "Invalid entry, empty tags.\n",
      "\t<PER>Vollot</PER> <ACT>SCLIUr.</ACT> <LOC>Pontaux Ch.</LOC><CARDINAL></CARDINAL>\n",
      "\n",
      "Invalid entry, empty tags.\n",
      "\t<PER>Combet</PER>, <ACT>times</ACT>. <LOC>Beautreillis</LOC>.<CARDINAL></CARDINAL>\n",
      "\n",
      "Invalid entry, empty tags.\n",
      "\t<PER>Menut</PER>, <ACT>mécan.</ACT> <LOC>Pépinière</LOC>,<CARDINAL></CARDINAL>\n",
      "\n",
      "Invalid entry, empty tags.\n",
      "\t<PER>Mercier (le baron</PER> <TITRE></TITRE>,<ACT>dep.</ACT> <LOC>Godot</LOC>, <CARDINAL>1</CARDINAL>.\n",
      "\n",
      "Invalid entry, empty tags.\n",
      "\t<PER>Mercier</PER>, <ACT>taptss.</ACT> <LOC>St Vincent de Paul</LOC>,<CARDINAL></CARDINAL>\n",
      "\n",
      "Invalid entry, empty tags.\n",
      "\t<PER>Mérilhou</PER> <TITRE></TITRE>, <ACT>cons. c. de c.</ACT> <LOC>Moulins</LOC>, <CARDINAL>15</CARDINAL>.\n",
      "\n",
      "Invalid entry, empty tags.\n",
      "\t<PER>Fetit</PER>, <ACT>layet.</ACT> <LOC>Martyrs</LOC>,<CARDINAL></CARDINAL>\n",
      "\n",
      "Invalid entry, empty tags.\n",
      "\t<PER>Petitet-Fassier</PER>, <ACT>nouv.</ACT> <LOC>Mauv. Paroles</LOC>,<CARDINAL></CARDINAL>\n",
      "\n",
      "Invalid entry, empty tags.\n",
      "\t<PER>P&apos;etitpont</PER>, <ACT>prop.</ACT> <LOC>Ste Anastase</LOC>,<CARDINAL></CARDINAL>.\n",
      "\n",
      "Invalid entry, empty tags.\n",
      "\t<PER>Stockuy</PER>, <ACT>serrur, en vort.</ACT> <LOC>Pépinière</LOC>.Z<CARDINAL></CARDINAL>\n",
      "\n",
      "Invalid entry, empty tags.\n",
      "\t<PER>Strauss</PER>, <ACT>tailt</ACT>. <LOC>Prêtres St Germ. RA</LOC><CARDINAL></CARDINAL>\n",
      "\n",
      "Invalid entry, empty tags.\n",
      "\t<PER>Surmont, Brebien et Collin</PER>, <ACT>totles</ACT>, <LOC>Bertin 22. Poirée</LOC><CARDINAL></CARDINAL>.\n",
      "\n",
      "Invalid entry, empty tags.\n",
      "\t<PER>Suser</PER>, <ACT>chauss.</ACT> <LOC>boul Bonne Nouv.</LOC> <CARDINAL></CARDINAL>.\n",
      "\n",
      "Invalid entry, empty tags.\n",
      "\t<PER>Bernard </PER><LOC>r. Grenier St Lazare</LOC>,<CARDINAL></CARDINAL>\n",
      "\n",
      "Invalid entry, empty tags.\n",
      "\t<PER>Delille</PER>, <LOC>r. de la Poterie des Arcis</LOC>,<CARDINAL></CARDINAL>.\n",
      "\n",
      "Invalid entry, empty tags.\n",
      "\t<PER>Thomas</PER> <LOC>Bourbon-Villeneuve</LOC><CARDINAL></CARDINAL>\n",
      "\n",
      "Invalid entry, empty tags.\n",
      "\t<PER>VOOg</PER> <LOC>ruc du Bac</LOC><CARDINAL></CARDINAL>\n",
      "\n",
      "Invalid entry, empty tags.\n",
      "\t<PER>PILLOT</PER>, <LOC>Palais-Rova</LOC><CARDINAL></CARDINAL>\n",
      "\n",
      "Invalid entry, empty tags.\n",
      "\t<PER>RIEUR</PER>, <LOC>I.St.-Honore</LOC><CARDINAL></CARDINAL>\n",
      "\n",
      "Invalid entry, empty tags.\n",
      "\t<PER>HENALDY</PER> <LOC>r. NeUVeSt</LOC>.<CARDINAL></CARDINAL>.\n",
      "\n",
      "Invalid entry, empty tags.\n",
      "\t<PER>DURNEY</PER>, <LOC>r. Ste.-Anne</LOC>,<CARDINAL></CARDINAL><ACT> 1</ACT>.\n",
      "\n",
      "Invalid entry, empty tags.\n",
      "\t<PER>DUBRILLE</PER> <LOC>I. du BaC</LOC><CARDINAL></CARDINAL>\n",
      "\n",
      "Invalid entry, empty tags.\n",
      "\t<PER>Durand fils et comp.</PER>, <ACT>negocians, pelleterie</ACT><LOC> Marie-Stuart</LOC>.<CARDINAL></CARDINAL>\n",
      "\n",
      "Invalid entry, empty tags.\n",
      "\t<PER>Durand fils</PER>, <ACT>tourn, sur metaux</ACT>, <LOC>r. du Faub.-  Poissonniére</LOC>.<CARDINAL></CARDINAL>\n",
      "\n",
      "Invalid entry, empty tags.\n",
      "\t<PER>Durand-Badoulleau</PER>, <ACT>drog.</ACT>, <LOC>r. des Vieilles- Audriettes</LOC><CARDINAL></CARDINAL>\n",
      "\n",
      "Invalid entry, empty tags.\n",
      "\t<PER>Durand-Badouileau</PER>, <ACT>commiss. en marchand.</ACT>,<LOC> 1. des Vieilles-Audriettes</LOC><CARDINAL></CARDINAL>\n",
      "\n",
      "Invalid entry, empty tags.\n",
      "\t<PER>Durand-Gillet</PER>, <ACT>f. aiguilles à bas</ACT>, <LOC>r. de Cha- rentom</LOC><CARDINAL></CARDINAL>\n",
      "\n",
      "Invalid entry, empty tags.\n",
      "\t<PER>Durn fils</PER>, <ACT>f. pot. de terre</ACT>, <LOC>r. de la Roquette</LOC>,<CARDINAL> </CARDINAL><LOC>faub. St.-Antoine</LOC>.\n",
      "\n",
      "Invalid entry, empty tags.\n",
      "\t<PER>Duruflé</PER>, <ACT>huiles</ACT>, <LOC>r.d&apos; Enghien</LOC>,<CARDINAL></CARDINAL>\n",
      "\n",
      "Invalid entry, empty tags.\n",
      "\t<PER>Dusaussay Demély et comp.</PER>, <ACT>toiles blanches</ACT><LOC> 1-Por</LOC><CARDINAL></CARDINAL>\n",
      "\n",
      "Invalid entry, empty tags.\n",
      "\t<PER>Dusaussois</PER>, <ACT>pot. d etain</ACT>, <LOC>r. des Boucheries</LOC>.<CARDINAL></CARDINAL>\n",
      "\n",
      "Invalid entry, empty tags.\n",
      "\t<PER>Dussausse</PER>, <ACT>boulangerie</ACT>, <LOC>r. du Rocher</LOC>,<CARDINAL></CARDINAL>\n",
      "\n",
      "Invalid entry, empty tags.\n",
      "\t<PER>Legrain</PER>. <ACT>f.souflets</ACT>, <LOC>r. de Lappe</LOC>.<CARDINAL></CARDINAL>\n",
      "\n",
      "Invalid entry, empty tags.\n",
      "\t<PER>Legrand</PER>, <ACT>bois à oeuvrer et bois de détail</ACT>, <LOC>r. (e iversité</LOC>.<CARDINAL></CARDINAL>\n",
      "\n",
      "Invalid entry, empty tags.\n",
      "\t<PER>Legrand</PER>, <ACT>f. peignes</ACT>, <LOC>r. Chapon</LOC>,<CARDINAL></CARDINAL>\n",
      "\n",
      "Invalid entry, empty tags.\n",
      "\t<PER>Degrand  </PER> <ACT>tIblcaux</ACT>. <LOC>r.de Clery</LOC>.9<CARDINAL></CARDINAL>.\n",
      "\n",
      "Invalid entry, empty tags.\n",
      "\t<PER>Legrand</PER>, <ACT>tonnell</ACT> <LOC>r. Thiroux</LOC>,<CARDINAL></CARDINAL>\n",
      "\n",
      "Invalid entry, empty tags.\n",
      "\t<PER>Legrand jeune</PER>, <ACT>menuis. en m.</ACT>, <LOC>r. et imp. du Phon</LOC>.<CARDINAL></CARDINAL>\n",
      "\n",
      "Invalid entry, empty tags.\n",
      "\t<PER>Leguin</PER>, <ACT>pot. de terre</ACT>, <LOC>r. N.St.Medard</LOC>,<CARDINAL></CARDINAL>\n",
      "\n",
      "Invalid entry, empty tags.\n",
      "\t<PER>Leguillez</PER>, <ACT>h. de Boulogne</ACT>, <LOC>r. Poissonn.</LOC>,<CARDINAL></CARDINAL>\n",
      "\n",
      "Invalid entry, empty tags.\n",
      "\t<PER>Legav,</PER> <ACT>bouch.</ACT>, <LOC>r. du F.-du-Temple</LOC>.<CARDINAL></CARDINAL>\n",
      "\n",
      "Invalid entry, empty tags.\n",
      "\t<PER>Legros</PER>, <ACT>dent.</ACT>, <LOC>r. du Monceau-St.-Gervais</LOC>,<CARDINAL></CARDINAL>\n",
      "\n",
      "Invalid entry, empty tags.\n",
      "\t<PER>Legros d&apos;Anizi</PER> <TITRE>7</TITRE>8, <ACT>peintre sur porcelaine</ACT>, <LOC>r.  harlot</LOC><CARDINAL></CARDINAL>\n",
      "\n",
      "Invalid entry, empty tags.\n",
      "\t<PER>Legros-Delondre</PER>, <ACT>coutell.</ACT> <LOC>Palaiš-Roval</LOC>.<CARDINAL></CARDINAL>\n",
      "\n",
      "Invalid entry, empty tags.\n",
      "\t<PER>Legros</PER>, <ACT>prof. de danse</ACT>, <LOC>q. des Orfevres</LOC>.<CARDINAL></CARDINAL>\n",
      "\n",
      "Invalid entry, empty tags.\n",
      "\t<PER>Legros (Mie)</PER>, <ACT>1. de la Paix</ACT>. <LOC>r. du CrOisSINf</LOC>.&quot;<CARDINAL></CARDINAL>\n",
      "\n",
      "Invalid entry, empty tags.\n",
      "\t<PER>LeoN</PER><ACT>eDIC</ACT> <LOC>ILacdues</LOC>.<CARDINAL></CARDINAL>\n",
      "\n",
      "Invalid entry, empty tags.\n",
      "\t<PER>Legris</PER>, <ACT>peint en bat.</ACT> <LOC>r. du Faub.-Montí.</LOC><CARDINAL></CARDINAL>\n",
      "\n",
      "Invalid entry, empty tags.\n",
      "\t<PER>Legris</PER>, <ACT>menuis. en meub.</ACT>, <LOC>r. Charenton</LOC>,<CARDINAL></CARDINAL>\n",
      "\n",
      "Invalid entry, empty tags.\n",
      "\t<PER>Legris (Al.)</PER>, <ACT>herbor.</ACT>, <LOC>r. du F.-St.-Ant.</LOC>.<CARDINAL></CARDINAL>\n",
      "\n",
      "Invalid entry, empty tags.\n",
      "\t<PER>Legrand</PER>, <ACT>culott., pas</ACT><LOC>s</LOC><ACT>. de l&apos;Opéra</ACT>, <LOC>gal. de THorloge</LOC>.<CARDINAL></CARDINAL>\n",
      "\n",
      "Invalid entry, empty tags.\n",
      "\t<PER>CHALMEL</PER>, <LOC>r. Bleue</LOC>,<CARDINAL></CARDINAL>\n",
      "\n",
      "Invalid entry, empty tags.\n",
      "\t<PER>DARCHE aine</PER>. <ACT>Dépot de verres bombés, porce- laines et cristaux</ACT>; <LOC>boulev. St -Marlin</LOC>. <CARDINAL></CARDINAL>.\n",
      "\n",
      "Invalid entry, empty tags.\n",
      "\t<PER>DUCHEMIN</PER>. <ACT>Faience, porcelaines et cristaux</ACT> <LOC>Madelei</LOC><CARDINAL></CARDINAL>\n",
      "\n",
      "Invalid entry, empty tags.\n",
      "\t<PER>DUVAL (V.)</PER>, <LOC>r. du Marché-St.-Honoré</LOC>,<CARDINAL></CARDINAL>\n",
      "\n",
      "Invalid entry, empty tags.\n",
      "\t<PER>FROGER et comp.</PER> <ACT>Et cristaux</ACT>; <LOC>r. St.-Anloine</LOC>,<CARDINAL></CARDINAL>\n",
      "\n",
      "Invalid entry, empty tags.\n",
      "\t<PER>SIR</PER><LOC>O</LOC><CARDINAL></CARDINAL>\n",
      "\n",
      "Invalid entry, empty tags.\n",
      "\t<PER>a v</PER><LOC>a</LOC><CARDINAL></CARDINAL>\n",
      "\n",
      "Invalid entry, empty tags.\n",
      "\t<PER></PER><LOC></LOC><CARDINAL></CARDINAL>\n",
      "\n",
      "Invalid entry, empty tags.\n",
      "\t<PER></PER><LOC></LOC><CARDINAL></CARDINAL>\n",
      "\n",
      "Invalid entry, empty tags.\n",
      "\t<PER>C</PER><LOC>s</LOC><CARDINAL></CARDINAL>\n",
      "\n",
      "Invalid entry, empty tags.\n",
      "\t<PER>DRNNaE</PER>a <LOC>P. MNISkd</LOC><CARDINAL></CARDINAL>\n",
      "\n",
      "Invalid entry, empty tags.\n",
      "\t<PER>DUBU</PER> <LOC>Neuve-des-Mathurins</LOC>,<CARDINAL></CARDINAL>\n",
      "\n",
      "Invalid entry, empty tags.\n",
      "\t<PER>—</PER> <LOC>- —</LOC><CARDINAL></CARDINAL>\n",
      "\n",
      "Invalid entry, empty tags.\n",
      "\t<PER>DUVAL</PER>, <LOC>r. Bleue</LOC>,<CARDINAL></CARDINAL>\n",
      "\n",
      "Invalid entry, empty tags.\n",
      "\t<PER></PER><ACT>Pose les sonne es</ACT>. <LOC>r. S.Lazáře</LOC>. <CARDINAL>rrk</CARDINAL>.\n",
      "\n",
      "Invalid entry, empty tags.\n",
      "\t<PER>í</PER> <LOC>—</LOC><CARDINAL></CARDINAL>\n",
      "\n",
      "Invalid entry, empty tags.\n",
      "\t<PER>FERAND</PER> <LOC>du Cherche-MIdl</LOC>.<CARDINAL></CARDINAL>\n",
      "\n",
      "Invalid entry, empty tags.\n",
      "\t<PER>— </PER><LOC>de Bourbou</LOC>.<CARDINAL></CARDINAL>\n",
      "\n",
      "Invalid entry, empty tags.\n",
      "\t<PER>GAUVERT</PER>, <LOC>r. Charlot</LOC>.<CARDINAL></CARDINAL>\n",
      "\n",
      "Invalid entry, empty tags.\n",
      "\t<PER>HERON</PER>. <LOC>r. Louis-le-Grand</LOC>.<CARDINAL></CARDINAL>\n",
      "\n",
      "Invalid entry, empty tags.\n",
      "\t<PER>louzelot</PER>. <ACT>merc.</ACT> <LOC>r. St. NiC.-d Anti</LOC><CARDINAL></CARDINAL>\n",
      "\n",
      "Invalid entry, empty tags.\n",
      "\t<PER>Hoyaux</PER>, <ACT>tourn. en Cuivs</ACT>, <LOC>r. Aumaire,</LOC><CARDINAL></CARDINAL>\n",
      "\n",
      "Invalid entry, empty tags.\n",
      "\t<PER>Huberland</PER> <ACT>cadres</ACT>, <LOC>—Macon</LOC><CARDINAL></CARDINAL>.\n",
      "\n",
      "Invalid entry, empty tags.\n",
      "\t<PER>Hubert</PER>, <ACT>couleurs</ACT>, <LOC>q. de THorloge</LOC>,<CARDINAL></CARDINAL>\n",
      "\n",
      "Invalid entry, empty tags.\n",
      "\t<PER>Hue</PER>, <ACT>horlog.</ACT>, <LOC>r. du F.St.-Antoine,</LOC><CARDINAL></CARDINAL>\n",
      "\n",
      "Invalid entry, empty tags.\n",
      "\t<PER>Hue et Noze</PER>, <ACT>ag. d&apos;aff.</ACT>, <LOC>r. du Port-Malion</LOC>,<CARDINAL></CARDINAL>\n",
      "\n",
      "Invalid entry, empty tags.\n",
      "\t<PER>Baillargeau</PER>, <ACT>foulards</ACT>. <LOC>Jeuneurs</LOC>,<CARDINAL></CARDINAL>\n",
      "\n",
      "Invalid entry, empty tags.\n",
      "\t<PER>Baillion</PER>, <ACT>vins</ACT>, <LOC>Gros-Chenet</LOC>,<CARDINAL></CARDINAL>\n",
      "\n",
      "Invalid entry, empty tags.\n",
      "\t<PER>Bailly (Mme)</PER>, <ACT>institutrice</ACT>, <LOC>Francs-Bourgeois- Marai</LOC><CARDINAL></CARDINAL>\n",
      "\n",
      "Invalid entry, empty tags.\n",
      "\t<PER>Bontoux</PER>, <ACT>comest. et fruits</ACT>, <LOC>Montesquieu</LOC>,<CARDINAL></CARDINAL>\n",
      "\n",
      "Invalid entry, empty tags.\n",
      "\t<PER>Bony</PER>, <ACT>cordonnier</ACT>, <LOC>St-Antoine</LOC>,<CARDINAL></CARDINAL>\n",
      "\n",
      "Invalid entry, empty tags.\n",
      "\t<PER>Bordeaux</PER>, <ACT>fabr. de roulettes</ACT>, <LOC>Louis-Philippe</LOC>,<CARDINAL></CARDINAL>\n",
      "\n",
      "Invalid entry, empty tags.\n",
      "\t<PER>Borderet</PER>, <ACT>fab. de ouates</ACT>, <LOC>Etienne</LOC>,<CARDINAL></CARDINAL>\n",
      "\n",
      "Invalid entry, empty tags.\n",
      "\t<PER>Boron</PER>, <ACT>jardinier</ACT>, <LOC>St-Ambroise-Popincourt</LOC>, <CARDINAL></CARDINAL> ct <CARDINAL>7</CARDINAL>.\n",
      "\n",
      "Invalid entry, empty tags.\n",
      "\t<PER>Bosio</PER>, <TITRE>O. * (de l&apos;Institut)</TITRE>, <ACT>sculpteur-artiste</ACT><LOC></LOC><CARDINAL></CARDINAL>\n",
      "\n",
      "Invalid entry, empty tags.\n",
      "\t<PER>Chatelain jeune</PER>, <ACT>épicier</ACT>, <LOC>Fossés-St-Germain- Auxerrois</LOC>,<CARDINAL></CARDINAL>\n",
      "\n",
      "Invalid entry, empty tags.\n",
      "\t<PER>Legaye</PER>, <ACT>menuisier</ACT>, <LOC>Fosses-St-Germ.-l&apos;Aux.</LOC>,<CARDINAL></CARDINAL>\n",
      "\n",
      "Invalid entry, empty tags.\n",
      "\t<PER>Legrand</PER>, <ACT>ceinturonn.-sellier</ACT>, <LOC>Simon-le-Franc</LOC>,<CARDINAL></CARDINAL>\n",
      "\n",
      "Invalid entry, empty tags.\n",
      "\t<PER>Legrand</PER>, <ACT>fab. de brosses, tab&apos;ette rie</ACT>, <LOC>Salle-au- CO</LOC><CARDINAL></CARDINAL>\n",
      "\n",
      "Invalid entry, empty tags.\n",
      "\t<PER>Legrand</PER>, <ACT>fab. de cafetières</ACT>, <LOC>Louis-Philippe</LOC>,<CARDINAL></CARDINAL>\n",
      "\n",
      "Invalid entry, empty tags.\n",
      "\t<PER>Legrand</PER>, <ACT>tourneur en tout genre</ACT>, <LOC>St-Bernard</LOC>,<CARDINAL></CARDINAL>\n",
      "\n",
      "Invalid entry, empty tags.\n",
      "\t<PER>Boissaye</PER> <TITRE></TITRE> et <PER>Francoeur</PER> , <ACT>ca- licots forts, calicots blancs et ecrus, jaconas pour l&apos;impression, coutils pour pantalons</ACT>, <LOC>Sentier</LOC>,<CARDINAL> 20</CARDINAL>; ( Amiens 1836.\n",
      "\n",
      "Invalid entry, empty tags.\n",
      "\t<PER>Charpentier</PER>, <ACT>fab. calicots, coulisses pour faux cols et gigots</ACT>, <LOC>Grenetat</LOC>,<CARDINAL></CARDINAL>\n",
      "\n",
      "Invalid entry, empty tags.\n",
      "\t<PER>Delavallee (Mme A. ) et Riquier</PER>,<LOC> 27. Ponceau</LOC>,<CARDINAL></CARDINAL>\n",
      "\n",
      "Invalid entry, empty tags.\n",
      "\t<PER>Trottier</PER>, <ACT>lampiste</ACT>, <LOC>St-Honoré</LOC><CARDINAL></CARDINAL>\n",
      "\n",
      "Invalid entry, empty tags.\n",
      "\t<PER>Trouvin</PER>, <LOC>Marché-Neuf</LOC>,<CARDINAL></CARDINAL>\n",
      "\n",
      "Invalid entry, empty tags.\n",
      "\t<PER>Vauvray</PER>, <LOC>boul. Bonne-Nouvelle</LOC>,<CARDINAL></CARDINAL>\n",
      "\n",
      "Invalid entry, empty tags.\n",
      "\t<PER>Aublin et Vagneur</PER>, <ACT>Café Concert</ACT>, <LOC>Madame</LOC>,<CARDINAL></CARDINAL>\n",
      "\n",
      "Invalid entry, empty tags.\n",
      "\t<PER>Darragon</PER>, <ACT>avocat à la cour d&apos;appel</ACT>, <LOC>quai aux . Fleurs</LOC>.<CARDINAL></CARDINAL>\n",
      "\n",
      "Invalid entry, empty tags.\n",
      "\t<PER>Dasseville (B.), et Cie</PER>, <ACT>comptoir central d&apos;es- compte de prèts hypothécaires</ACT>, <LOC>place de la Bourse</LOC><CARDINAL></CARDINAL>\n",
      "\n",
      "Invalid entry, empty tags.\n",
      "\t<PER>Daumard</PER>, <ACT>bijoutier en doré</ACT>, <LOC>Michel-ie-Comte</LOC>,<CARDINAL></CARDINAL>\n",
      "\n",
      "Invalid entry, empty tags.\n",
      "\t<PER>Daunou (A.)</PER>, <ACT>apprèts à la vapeur</ACT>, <LOC>Amelot</LOC>,<CARDINAL></CARDINAL>\n",
      "\n",
      "Invalid entry, empty tags.\n",
      "\t<PER>Gauthier-d&apos;Hauteserve</PER> <TITRE></TITRE>, <ACT>conseiller-maître à la cour des comptes</ACT>, <LOC>Basse-du-Rempart</LOC>, <CARDINAL>66</CARDINAL>.\n",
      "\n",
      "Invalid entry, empty tags.\n",
      "\t<PER>Gauthier de Lizoles</PER> <TITRE>O. *</TITRE>/, <ACT>conseiller-maître à la cour des comptes</ACT>, <LOC>St-Dominique-St-Germ.</LOC>,<CARDINAL></CARDINAL>\n",
      "\n",
      "Invalid entry, empty tags.\n",
      "\t<PER>Gautier</PER>, <ACT>facteur à la Vallée</ACT>, <LOC>Pavée-St-André</LOC>,<CARDINAL></CARDINAL>\n",
      "\n",
      "Invalid entry, empty tags.\n",
      "\t<PER>Gautier, C.</PER> <TITRE></TITRE>, <ACT>sous-gouverneur à la Banque</ACT>.\n",
      "\n",
      "Invalid entry, empty tags.\n",
      "\t<PER>Gautier (Alph.)</PER> <TITRE></TITRE>, <ACT>secrétaire de la liquidation générale de l&apos;ancienne liste civile et du do- maine privé</ACT>, <LOC>Varennes</LOC>, <CARDINAL>55</CARDINAL>.\n",
      "\n",
      "Invalid entry, empty tags.\n",
      "\t<PER>Gauvain fils</PER>, <ACT>cordonnier</ACT>, <LOC>Faub. - St -Martin</LOC>,<CARDINAL></CARDINAL>\n",
      "\n",
      "Invalid entry, empty tags.\n",
      "\t<PER>Gavarret</PER> <TITRE></TITRE>, <ACT>prof. de physique à la faculté de medecine</ACT>, <LOC>Grenelle-St-Germain</LOC>, <CARDINAL>49</CARDINAL>.\n",
      "\n",
      "Invalid entry, empty tags.\n",
      "\t<PER>Vasserot</PER>, <ACT>avocat à la cour d&apos;appel</ACT>, <LOC>Saintonge</LOC>,<CARDINAL></CARDINAL>\n",
      "\n",
      "Invalid entry, empty tags.\n",
      "\t<PER>Vaternelle frères</PER>, <ACT>fab. de peignes</ACT>, <LOC>Ponceau</LOC>,<CARDINAL></CARDINAL>\n",
      "\n",
      "Invalid entry, empty tags.\n",
      "\t<PER>Vaudet</PER>, <ACT>serrurier</ACT>, <LOC>Bracque</LOC>,<CARDINAL></CARDINAL>\n",
      "\n",
      "Invalid entry, empty tags.\n",
      "\t<PER>Vauthier</PER>, <ACT>instituteur</ACT>, <LOC>Four-St-Germain</LOC>,<CARDINAL></CARDINAL>\n",
      "\n",
      "Invalid entry, empty tags.\n",
      "\t<PER>Vavasseur</PER>, <ACT>meubles</ACT>, <LOC>St-Jacques-la-Boucherie</LOC>,<CARDINAL></CARDINAL>\n",
      "\n",
      "Invalid entry, empty tags.\n",
      "\t<PER>Vavin</PER>, <ACT>représentant du peuple (Seine), mem- bre du conseil général</ACT>, <LOC>Saint-Dominique</LOC>,<CARDINAL></CARDINAL>\n",
      "\n",
      "Invalid entry, empty tags.\n",
      "\t<PER>Vié</PER>, <ACT>potier d&apos;étain</ACT>, <LOC>Faub.-St-Honoré</LOC>,<CARDINAL></CARDINAL>\n",
      "\n",
      "Invalid entry, empty tags.\n",
      "\t<PER>Vié (E.)</PER>, <ACT>représentant de commerce</ACT>, <LOC>François- Miron</LOC>, <CARDINAL>4</CARDINAL>.<TITRE></TITRE>\n",
      "\n",
      "Invalid entry, empty tags.\n",
      "\t<PER>Viel et Cie</PER>, <ACT>lait antéphelique</ACT>, <LOC>boul. St-Denis</LOC>,<CARDINAL></CARDINAL><TITRE></TITRE>\n",
      "\n",
      "Invalid entry, empty tags.\n",
      "\t<PER>Viel</PER>, <ACT>secrétaire d&apos;état-major</ACT>, <LOC>allée des Veuves</LOC>,<CARDINAL></CARDINAL>\n",
      "\n",
      "Invalid entry, empty tags.\n",
      "\t<PER>Vienne (de)</PER> <TITRE></TITRE>, <ACT>conseiller-référendaire</ACT>, <LOC>Pro- vence</LOC>, <CARDINAL>2</CARDINAL>.\n",
      "\n",
      "Invalid entry, empty tags.\n",
      "\t<PER>Vigan</PER>, <ACT>ancien tapissier</ACT>, <LOC>Neuve-des-Mathurins</LOC>,<CARDINAL></CARDINAL>\n",
      "\n",
      "Invalid entry, empty tags.\n",
      "\t<PER>Vignes</PER> <TITRE></TITRE>, <ACT>chef de bureau à l&apos;administration des contributions directes</ACT>, <LOC>Madeleine</LOC>, <CARDINAL>3</CARDINAL>.\n",
      "\n",
      "Invalid entry, empty tags.\n",
      "\t<PER>Vigny (Cte A. de)</PER> <TITRE>*</TITRE>, <ACT>de l&apos;Institut</ACT>, <LOC>Réforme</LOC>,<CARDINAL></CARDINAL>\n",
      "\n",
      "Invalid entry, empty tags.\n",
      "\t<PER>Vigourel et Cie</PER>, <ACT>escompte et recouvrements</ACT>,<LOC> Neuve-St-Augustin</LOC>, <CARDINAL>20</CARDINAL>.<TITRE></TITRE>\n",
      "\n",
      "Invalid entry, empty tags.\n",
      "\t<PER>Vigoureux (Vor )</PER>, <ACT>layetier</ACT>, <LOC>St-Marc-Feydeau</LOC>,<CARDINAL></CARDINAL>\n",
      "\n",
      "Invalid entry, empty tags.\n",
      "\t<PER>Vigouroux</PER>, <ACT>au ministère des finances</ACT>, <LOC>Alger</LOC>,<CARDINAL></CARDINAL>\n",
      "\n",
      "Invalid entry, empty tags.\n",
      "\t<PER>Vigouroux (Mme)</PER>, <ACT>fab. de corsets</ACT>, <LOC>Louis-le- Grand</LOC>, <CARDINAL>29</CARDINAL>.<TITRE></TITRE>\n",
      "\n",
      "Invalid entry, empty tags.\n",
      "\t<PER>Viguès frères</PER>, <ACT>bois des îles</ACT>, <LOC>Faub.-St-An- toine</LOC>, <CARDINAL>59</CARDINAL>.<TITRE></TITRE>\n",
      "\n",
      "Invalid entry, empty tags.\n",
      "\t<PER>Viguié (Jacques-Frédéric)</PER>, <ACT>métaux, fontes et zinc</ACT>, <LOC>Bergère</LOC>, <CARDINAL>32</CARDINAL>.<TITRE></TITRE>\n",
      "\n",
      "Invalid entry, empty tags.\n",
      "\t<PER>Viguier (A.)</PER>2<TITRE></TITRE>, <ACT>référend. à la cour des comptes</ACT>,<LOC> Bac</LOC>, <CARDINAL>35</CARDINAL>.\n",
      "\n",
      "Invalid entry, empty tags.\n",
      "\t<PER>Vilatte</PER>, <ACT>pharmacien</ACT>, <LOC>St-Honoré</LOC>, <CARDINAL>232.</CARDINAL><TITRE></TITRE>\n",
      "\n",
      "Invalid entry, empty tags.\n",
      "\t<PER>Villain (J.)</PER>, <ACT>ingénieur civil</ACT>, <LOC>St-Germain-des— Prés</LOC>, <CARDINAL>12</CARDINAL>.<TITRE></TITRE>\n",
      "\n",
      "Invalid entry, empty tags.\n",
      "\t<PER>Villain ainé</PER>, <ACT>quincaillerie</ACT>, <LOC>Faub.-Poissonnière</LOC>,<CARDINAL> 42</CARDINAL>.<TITRE></TITRE>\n",
      "\n",
      "Invalid entry, empty tags.\n",
      "\t<PER>Duſoy</PER>, <LOC>Amandiers-Popincourt</LOC> A<CARDINAL></CARDINAL>\n",
      "\n",
      "Invalid entry, empty tags.\n",
      "\t<PER>Gaudrin (Vve)</PER>,<LOC>N.-D.-des-Champs</LOC>,<CARDINAL></CARDINAL>\n",
      "\n",
      "Invalid entry, empty tags.\n",
      "\t<PER>Gauthier</PER>, <ACT>entreprend les jardins bourgeois à l&apos;année et à la journ., tient un assortiment de plantes et arbustes</ACT> et fait tout ce qui concerne son état, à <LOC>Belleville, r. de Beaune</LOC>.<CARDINAL></CARDINAL>\n",
      "\n",
      "Invalid entry, empty tags.\n",
      "\t<PER>Guerin-Modeste</PER>, <TITRE> 1845-40</TITRE>,<LOC> Boule</LOC><CARDINAL></CARDINAL>\n",
      "\n",
      "Invalid entry, empty tags.\n",
      "\t<PER>Herault fils</PER>, <LOC>impasse du Maine</LOC>,<CARDINAL></CARDINAL>\n",
      "\n",
      "Invalid entry, empty tags.\n",
      "\t— <PER>Huchet père (André)</PER>, <LOC>Montreuil</LOC>,<CARDINAL></CARDINAL>\n",
      "\n",
      "Invalid entry, empty tags.\n",
      "\t<PER>Jamain (Vve)</PER>, <LOC>Fosses-St-Marcel</LOC>,<CARDINAL></CARDINAL>\n",
      "\n",
      "Invalid entry, empty tags.\n",
      "\t<PER>Jolly (Vve)</PER>, <LOC>boulev. de l&apos;Hôpital</LOC>,<CARDINAL></CARDINAL>\n",
      "\n",
      "Invalid entry, empty tags.\n",
      "\t<PER>Julienne</PER>, <LOC>Grande-Rue de Reuilly</LOC>,<CARDINAL></CARDINAL>\n",
      "\n",
      "Invalid entry, empty tags.\n",
      "\t<PER>Lenain</PER>, <LOC>Cisalpine</LOC>,<CARDINAL></CARDINAL>\n",
      "\n",
      "Invalid entry, empty tags.\n",
      "\t<PER>Levêque dit René</PER>, <ACT>culture spé- ciale de rosiers remontants</ACT>, en- tendu qu&apos;ils sont cultivés en pots pouvant être expédiés en toutes saisons, expédie en province et à l&apos;etranger ; <TITRE>O 1817</TITRE>, et dix <TITRE></TITRE> à diverses expositions, <LOC>boul. de * l&apos;Hôpital</LOC>, <CARDINAL>134</CARDINAL>\n",
      "\n",
      "Invalid entry, empty tags.\n",
      "\t<PER>Poirier-Tavernier</PER>, <LOC>Epée-de-Bois</LOC>,<CARDINAL></CARDINAL>\n",
      "\n",
      "Invalid entry, empty tags.\n",
      "\t<PER>Thenier-Toquet</PER>, <LOC>Croix-Boissière</LOC>,<CARDINAL></CARDINAL>\n",
      "\n",
      "Invalid entry, empty tags.\n",
      "\t<PER>Verdier (E ) fils ainé</PER>, <ACT>culture spécale de rosiers et camélias</ACT>, expedition pour la France et l&apos;é- trunger. Voir barrière des Deux- Moulins, <LOC>rue des Trois-Ormes</LOC>,<CARDINAL></CARDINAL>\n",
      "\n",
      "Invalid entry, empty tags.\n",
      "\t<PER>Etienne</PER>, <LOC>Saint-Maur-Popincourt</LOC>,<CARDINAL></CARDINAL>\n",
      "\n",
      "Invalid entry, empty tags.\n",
      "\t<PER>Fassy aîné</PER>, <LOC>boul. Beaumarchais</LOC>,<CARDINAL></CARDINAL>\n",
      "\n",
      "Invalid entry, empty tags.\n",
      "\t<PER>Fontaine</PER>, <LOC>Saint-Maur-Popincourt</LOC>,<CARDINAL></CARDINAL>\n",
      "\n",
      "Invalid entry, empty tags.\n",
      "\t<PER>Fouard</PER>, <LOC>Faub. -Saint -Antoine</LOC>,<CARDINAL></CARDINAL>\n",
      "\n",
      "Invalid entry, empty tags.\n",
      "\t<PER>Genevois jeune</PER>, <ACT>marbrier-fontai- nier</ACT>, <LOC>Francs-Bourgeois-Marais</LOC>,<CARDINAL></CARDINAL>\n",
      "\n",
      "Invalid entry, empty tags.\n",
      "\t<PER>Hodencq</PER>, <LOC>boul. Mont-Parnasse</LOC>,<CARDINAL></CARDINAL>\n",
      "\n",
      "Invalid entry, empty tags.\n",
      "\t<PER>Hoyelle</PER>, <LOC>Fontaine-St-Georges</LOC>,<CARDINAL></CARDINAL>\n",
      "\n",
      "Invalid entry, empty tags.\n",
      "\t<PER>Lachat</PER>, <LOC>Saint-Pierre-Popincourt</LOC>,<CARDINAL></CARDINAL>\n",
      "\n",
      "Invalid entry, empty tags.\n",
      "\t<PER>Lebrun jeune</PER>, <LOC>boulev. du Temple</LOC>,<CARDINAL></CARDINAL>\n",
      "\n",
      "Invalid entry, empty tags.\n",
      "\t— <PER>Albertus et Cie</PER>, <ACT>négociants en liqueurs et fromages de Hollande</ACT>, <LOC>Jacques-de-Brosse</LOC>,<CARDINAL></CARDINAL>\n",
      "\n",
      "Invalid entry, empty tags.\n",
      "\t<PER>Albini (Mad.)</PER>, <ACT>portraits au daguerréotype</ACT>,<LOC> &quot;293. Saint-Honore</LOC><CARDINAL></CARDINAL>\n",
      "\n",
      "Invalid entry, empty tags.\n",
      "\t<PER>Alexandre (L. </PER>tiglione, 5. &quot;<ACT>grand hôtel de Londres</ACT>, <LOC>Cas-</LOC><CARDINAL></CARDINAL>\n",
      "\n",
      "Invalid entry, empty tags.\n",
      "\t<PER>Allain</PER>, <ACT>portraits au daguerréotype</ACT>, <LOC>St-Martin</LOC><CARDINAL></CARDINAL>\n",
      "\n",
      "Invalid entry, empty tags.\n",
      "\t<PER>Lepère (A. A.)</PER>, <ACT>pharmacien</ACT>, <LOC>place Maubert</LOC>,<CARDINAL></CARDINAL>\n",
      "\n",
      "Invalid entry, empty tags.\n",
      "\t<PER>Leperrier (A.) et Paris</PER>, <ACT>nouveautés</ACT>, <LOC>St-Denis</LOC>,<CARDINAL></CARDINAL>\n",
      "\n",
      "Invalid entry, empty tags.\n",
      "\t<PER>Leperrier</PER>, <ACT>propriétaire</ACT>, <LOC>rue du Cirque</LOC>,<CARDINAL></CARDINAL>\n",
      "\n",
      "Invalid entry, empty tags.\n",
      "\t<PER>Lepine</PER> <TITRE></TITRE>, <ACT>médecin</ACT>, <LOC>Rossini</LOC>, <CARDINAL>10</CARDINAL>\n",
      "\n",
      "Invalid entry, empty tags.\n",
      "\t<PER>Lepoitevin</PER> <TITRE></TITRE>, <ACT>peintre</ACT>, <LOC>cité Trévise</LOC>, <CARDINAL>5</CARDINAL>.\n",
      "\n",
      "Invalid entry, empty tags.\n",
      "\t<PER>Lequesne père</PER>, <ACT>avocat</ACT>, <LOC>Douze-Portes</LOC>,<CARDINAL></CARDINAL>\n",
      "\n",
      "Invalid entry, empty tags.\n",
      "\t<PER>Lequet</PER>, <ACT>hôtel de Parme</ACT>, <LOC>Jacob</LOC>,<CARDINAL></CARDINAL>\n",
      "\n",
      "Invalid entry, empty tags.\n",
      "\t<PER>Lepeintre ainé</PER>, <ACT>hôtel Ventadour</ACT>, <LOC>Ventadour</LOC>,<CARDINAL></CARDINAL>\n",
      "\n",
      "Invalid entry, empty tags.\n",
      "\t<PER>Dessienne</PER>, <LOC>Pagevin</LOC>, <CARDINAL>10</CARDINAL>.<TITRE></TITRE>\n",
      "\n",
      "Invalid entry, empty tags.\n",
      "\t<PER>Desvouges</PER>, <ACT>commissionn. en euirs, p&apos;aux de cochon et tous articles pour selliers ; dépôt de cuirs de Pont-Audemer de MM. Bunel frères et de M. Leconte</ACT>. <LOC>St- Sauveur</LOC>, <CARDINAL>74</CARDINAL>.<TITRE></TITRE>\n",
      "\n",
      "Invalid entry, empty tags.\n",
      "\t<PER>Detot (A.</PER>), <ACT>maison spéciale de commission pour l&apos;achat en fa- brique de tous articles d&apos;utilité et de fantaisie pour ameublement et bijouterie or. Expédition pour la. France et l&apos;étranger</ACT>, <LOC>Tré- vise</LOC>, <CARDINAL>24</CARDINAL>.<TITRE></TITRE>\n",
      "\n",
      "Invalid entry, empty tags.\n",
      "\t<PER>Deville (Gve)</PER>,<ACT>achats à commission pour tous les articles de nouveau- tes</ACT>, <LOC>N.-St-Eustache</LOC>, <CARDINAL>16</CARDINAL>.<TITRE></TITRE>\n",
      "\n",
      "Invalid entry, empty tags.\n",
      "\t<PER>Devillers, (Léon)</PER>, <ACT>commiss. en bijouterie</ACT>, <LOC>Rambuteau</LOC>, <CARDINAL>22</CARDINAL>.<TITRE></TITRE>\n",
      "\n",
      "Invalid entry, empty tags.\n",
      "\t<PER>D&apos;Hertmani et Christophe</PER>, <ACT>art. de Paris</ACT>, <LOC>Quatre-Fils</LOC>, <CARDINAL>4</CARDINAL>.<TITRE></TITRE>\n",
      "\n",
      "Invalid entry, empty tags.\n",
      "\t<PER>D&apos;Ivernois - Besson</PER>, <LOC>Buffault</LOC>,<CARDINAL> 22</CARDINAL>.<TITRE></TITRE>\n",
      "\n",
      "Invalid entry, empty tags.\n",
      "\t<PER>Dogier et Passemard</PER>, <ACT>fab. et magasin de siéges et meubles en tous genres, pour la France et l&apos;exportation</ACT>, <LOC>Vieille-du-Tem- k ple</LOC>, <CARDINAL>110</CARDINAL>.<TITRE></TITRE>\n",
      "\n",
      "Invalid entry, empty tags.\n",
      "\t<PER>Dolhassarry jeune</PER>, <ACT>bijouterie, joaillerie, orfévrerie et articles de Paris</ACT>, <LOC>Meslay</LOC>, <CARDINAL>6</CARDINAL>.<TITRE></TITRE>\n",
      "\n",
      "Invalid entry, empty tags.\n",
      "\t<PER>Dollingen</PER>, <ACT>articles de Paris en géneral pour la France et l&apos;é-  tranger</ACT>, <LOC>Vivienne</LOC>, <CARDINAL>48</CARDINAL>.<TITRE></TITRE>\n",
      "\n",
      "Invalid entry, empty tags.\n",
      "\t<PER>Domecq (Ch. )</PER>, <ACT>négoc. commiss,</ACT><LOC> Echiquier</LOC>, <CARDINAL>8</CARDINAL>, <ACT>maison à Montevi- * déo</ACT>.<TITRE></TITRE>\n",
      "\n",
      "Invalid entry, empty tags.\n",
      "\t<PER>Doublié-Ossonce</PER>, <ACT>negoc. en laines et représentant de maisons</ACT>, <LOC>Pe- tites-Ecuries</LOC>, <CARDINAL>40</CARDINAL>.<TITRE></TITRE>\n",
      "\n",
      "Invalid entry, empty tags.\n",
      "\t<PER>Drevet cousins</PER>, <ACT>agents de fabri- ques françaises et étrangères, commissionn. pour l&apos;interieur</ACT>,<LOC> Enghien</LOC>, <CARDINAL>28</CARDINAL>.<TITRE></TITRE>\n",
      "\n",
      "Invalid entry, empty tags.\n",
      "\t<PER>Dreyfus frères et Cie</PER>, <ACT>commission en tissus et nouveautés de tous genres, teinture, manutention et impression</ACT>. <LOC>Thévenot</LOC>, <CARDINAL>25</CARDINAL>.<TITRE></TITRE>\n",
      "\n",
      "Invalid entry, empty tags.\n",
      "\t<PER>Drilliat (C. ),</PER> <ACT>commission pour la France et l&apos;étranger, papeterie, fourniture générale de bureau, de banque, d&apos;administration et de commerce, fabrique spéciale de registres de toutes grandeurs et réglure, papier de couleur et de * fantaisie</ACT>, <LOC>Mauconseil</LOC>, <CARDINAL>16</CARDINAL>.<TITRE></TITRE>\n",
      "\n",
      "Invalid entry, empty tags.\n",
      "\t<PER>Drouin ( J. )</PER>, <ACT>droguerie, produits chimiques, gélatine et couleurs, dépôt de l&apos;administration des mi- nes de Bouxwiller (Bas-Rhin), fabrique de prussiate jaune et rouge, bleu de Berlin, bleu de Prusse, sel ammoniac, alun, vi- triol-Salsbourg, couperoses, géla- tines et phosphore, depôt des col- les de Givet de MM. Parent et Donnay et de MM. Beuax et fils</ACT>,<LOC> Sainte - Croix - la-Bretonnerie</LOC>,<CARDINAL>  21</CARDINAL>.<TITRE></TITRE>\n",
      "\n",
      "Invalid entry, empty tags.\n",
      "\t<PER>Droüin (Victor)</PER>, <ACT>sucre et cafés en gros et demi-gros</ACT>, <LOC>Verrerie</LOC>,<CARDINAL> 54</CARDINAL>.<TITRE></TITRE>\n",
      "\n",
      "Invalid entry, empty tags.\n",
      "\t<PER>Dubois (Ed)</PER>, <ACT>commission, escompte et recouvrements</ACT>, <LOC>passage Saul- nier</LOC>, <CARDINAL>18</CARDINAL>: <ACT>fabrique d&apos;huile à graisser (ancienne maison Al- lemand)</ACT>, <LOC>Chausseé-du-Maine</LOC>,<CARDINAL> 166</CARDINAL>. <LOC>à Montrouge, près Paris</LOC>.<TITRE></TITRE>\n",
      "\n",
      "Invalid entry, empty tags.\n",
      "\t<PER>Dubois (Pierre)</PER>, <ACT>fab. de registres à dos élastiques perfectionnes, assortiment de registres pour né- gociants, banquiers et adminis- trations, assortiment de corriges de toutes espèces, buvards, al- bums, carnets de voyage, sténo- graphes, pochès écoliers et carnets français de lous formats, four- nitures de bureau et de pension- nat; commission, exportation</ACT>,<LOC> Bourg-l&apos;Abbé</LOC>, <CARDINAL>7</CARDINAL>.<TITRE></TITRE>\n",
      "\n",
      "Invalid entry, empty tags.\n",
      "\t<PER>Dubouloy fils aîné</PER>, <ACT>success. de son père, plumes et fleurs fines, articles de cour, hautes nou- veautés pour modes et pour gar- nitures de robes, brevet d&apos;inven- tion s. g. d. g,, pour fleurs en paille d&apos;Italie, (Récompense nationale, 1839.) Expédition pour la France et l&apos;étranger</ACT>,<LOC> Menars</LOC>, <CARDINAL>6</CARDINAL>.<TITRE></TITRE>\n",
      "\n",
      "Invalid entry, empty tags.\n",
      "\t<PER>Dubourcq (J.-S.)</PER>, <ACT>art. de Paris</ACT>,<LOC> 6. Bracque</LOC>,<CARDINAL></CARDINAL><TITRE></TITRE>\n",
      "\n",
      "Invalid entry, empty tags.\n",
      "\t<PER>Dubreuil et Cie</PER>, <ACT>négoc.-commiss</ACT>.<LOC> Mazagran</LOC>, <CARDINAL>10</CARDINAL>.<TITRE></TITRE>\n",
      "\n",
      "Invalid entry, empty tags.\n",
      "\t<PER>Dubrusle (C.)</PER>, <ACT>négoc.-commis- sionnaire, tous articles, exporta- tion</ACT>, <LOC>Jeûneurs</LOC>, <CARDINAL>46</CARDINAL>.<TITRE></TITRE>\n",
      "\n",
      "Invalid entry, empty tags.\n",
      "\t<PER>Ducasse et Vve Claveau aîné</PER>, <ACT>com- miss. pour tous les articles de Pa- ris pour la France et l&apos;étranger</ACT>,<LOC> Tiquetonne</LOC>, <CARDINAL>12</CARDINAL>.<TITRE></TITRE>\n",
      "\n",
      "Invalid entry, empty tags.\n",
      "\t<PER>Duceux et Roche</PER>, <ACT>negoc.-commis- sionnaires, spécialité d&apos;effets d&apos;ha- billements</ACT>, <LOC>Seine</LOC>, <CARDINAL>47</CARDINAL>, <ACT>maison à * la Guadeloupe</ACT>.<TITRE></TITRE>\n",
      "\n",
      "Invalid entry, empty tags.\n",
      "\t<PER>Duchampt (J.-B.)</PER>, <LOC>Faub.-du- Temple</LOC>, <CARDINAL>17</CARDINAL>, <ACT>maison à Barcelone (Espagne)</ACT>.<TITRE></TITRE>\n",
      "\n",
      "Invalid entry, empty tags.\n",
      "\t<PER>Duchemin</PER> <TITRE>I</TITRE>NCJ. <PER>Ducasse et Cie</PER>,<LOC> Thevenot</LOC>, <CARDINAL>17</CARDINAL><TITRE></TITRE>\n",
      "\n",
      "Invalid entry, empty tags.\n",
      "\t<PER>Ducot (J. A.) et Ch. Langenié</PER>,<ACT> commiss, en bijouterie</ACT>, <LOC>pl. Royale</LOC>,<CARDINAL></CARDINAL><TITRE></TITRE>\n",
      "\n",
      "Invalid entry, empty tags.\n",
      "\t<PER>Duffau-Pauillac (Chs)</PER>, <LOC>Enghien</LOC>,<CARDINAL> 16</CARDINAL>.<TITRE></TITRE>\n",
      "\n",
      "Invalid entry, empty tags.\n",
      "\t<PER>Dufieux aîné</PER>, <ACT>représentant-com missionnaire</ACT>, <LOC>Verrerie</LOC>, <CARDINAL>65</CARDINAL>.<TITRE></TITRE>\n",
      "\n",
      "Invalid entry, empty tags.\n",
      "\t<PER>Dufour (N.</PER>), <ACT>fournitures de bu- reaux en général, fab. de regis- tres</ACT>, <LOC>Michel-le-Comte</LOC>, <CARDINAL>26</CARDINAL>.<TITRE></TITRE>\n",
      "\n",
      "Invalid entry, empty tags.\n",
      "\t<PER>Dugied (Hilaire )</PER>, <ACT>commission, exportation</ACT>, <LOC>Ste-Anne</LOC>, <CARDINAL>1</CARDINAL>.<TITRE></TITRE>\n",
      "\n",
      "Invalid entry, empty tags.\n",
      "\t<PER>Dumoulin et Cie</PER>, <ACT>corsets sans goussets, inventés par Mme So- phie Dumoulin, récompensés de huit médailles de bronze et d&apos;ar- gent aux expositions nationales et de plusieurs sociétés d&apos;encou- ragement; succursales à Bruxel- les, place de la Monnaie, 5; à New-York et à Londres, 99, Guildfort — Street, Rousselle- Square; commission et exporta- tion</ACT>, <LOC>Basse-du-Rempart</LOC>, <CARDINAL>44</CARDINAL>, (voir la Revue industrielle.)<TITRE></TITRE>\n",
      "\n",
      "Invalid entry, empty tags.\n",
      "\t<PER>Duplan et Salles</PER>, <ACT>bronzes, pendu- les, lampes et articles de fantai- sie</ACT>, <LOC>Bondy</LOC>, <CARDINAL>32</CARDINAL>.<TITRE></TITRE>\n",
      "\n",
      "Invalid entry, empty tags.\n",
      "\t<PER>Dupont</PER>, <ACT>pharmacien</ACT>, <LOC>Tiquetonne</LOC>,<CARDINAL> 12</CARDINAL>. <ACT>Expédition en France et à l&apos;élranger des produits dont il est le seul proprietaire.</ACT> (Voir aux Pharmaciens les spécialités.)<TITRE></TITRE>\n",
      "\n",
      "Invalid entry, empty tags.\n",
      "\t<PER>Dupont (Dé)</PER>, <ACT>fab. d&apos;ébénisterie en tous genres, meubles, siéges, orne- ments, commission</ACT>, <LOC>place Royale</LOC>,<CARDINAL> 24</CARDINAL>. <FT>près le boul. Beaumarchais</FT>.<TITRE></TITRE>\n",
      "\n",
      "Invalid entry, empty tags.\n",
      "\t<PER>Dupuy</PER>, <ACT>libraire et commission- naire</ACT>, <LOC>St-Sulpice</LOC>,<CARDINAL>24</CARDINAL>, (Voyez Li- braires.)<TITRE></TITRE>\n",
      "\n",
      "Invalid entry, empty tags.\n",
      "\t<PER>Durand (A. )et Cie</PER>, <ACT>société com- merciale de commission et d&apos;é- change</ACT>, <LOC>Provence</LOC>, <CARDINAL>78</CARDINAL>.<TITRE></TITRE>\n",
      "\n",
      "Invalid entry, empty tags.\n",
      "\t<PER>Durand (Henry </PER>, <ACT>commissionnaire pour le Brésil et la Plata</ACT>, <LOC>St- Georges</LOC>, <CARDINAL>28</CARDINAL>.<TITRE></TITRE>\n",
      "\n",
      "Invalid entry, empty tags.\n",
      "\t<PER>Durand (D)</PER>, <LOC>Fidélité</LOC>, <CARDINAL>22</CARDINAL>.<TITRE></TITRE>\n",
      "\n",
      "Invalid entry, empty tags.\n",
      "\t<PER>Durand (François)</PER>, <ACT>pour les colo- nies</ACT>, <LOC>Douane</LOC>, <CARDINAL>14</CARDINAL><TITRE></TITRE>\n",
      "\n",
      "Invalid entry, empty tags.\n",
      "\t<PER>Durand et Cie</PER>, <ACT>drogueries, produits chimiques</ACT>, <LOC>Enghien</LOC>, <CARDINAL>15</CARDINAL>.<TITRE></TITRE>\n",
      "\n",
      "Invalid entry, empty tags.\n",
      "\t<PER>Durand - Journet (A.)</PER> <TITRE>N</TITRE>C., <ACT>cuirs de toute espèce</ACT>, <TITRE></TITRE> <CARDINAL>1834</CARDINAL>, <LOC>Petit- Lion-St-Sauveur</LOC>. <CARDINAL>11</CARDINAL>.<TITRE></TITRE>\n",
      "\n",
      "Invalid entry, empty tags.\n",
      "\t<PER>Duteurtre-Dumanoir (C. ),</PER> <ACT>an- cienne maison F. J. Besançon et Cie, alcali, indigo, cochenille et produits chimiques, commission</ACT>,<LOC> Plâtre-du-Temple</LOC>, <CARDINAL>20</CARDINAL>, <FT>ci-devant</FT><LOC>  Blancs-Manteaux</LOC>, <CARDINAL>26</CARDINAL>.<TITRE></TITRE>\n",
      "\n",
      "Invalid entry, empty tags.\n",
      "\t<PER>Dutertre (H.)</PER>, <ACT>en tous genres</ACT>,<LOC> Hauteville</LOC>, <CARDINAL>60</CARDINAL> et <CARDINAL>62</CARDINAL>.<TITRE></TITRE>\n",
      "\n",
      "Invalid entry, empty tags.\n",
      "\t<PER>Duval</PER>, <ACT>fournitures de chapellerie, galons noirs et couleurs pour la confection pour dames, articles pour tailleurs</ACT>, <LOC>Temple</LOC>, <CARDINAL>34</CARDINAL> <FT>au coin de la rue du Plâtre-Ste- Avoie</FT>.<TITRE></TITRE>\n",
      "\n",
      "Invalid entry, empty tags.\n",
      "\t<PER>Duverger (A. )</PER><ACT>nouveautés en tous genres</ACT>, <LOC>Fossés-Montmartre</LOC>, <CARDINAL>3</CARDINAL>.<TITRE></TITRE>\n",
      "\n",
      "Invalid entry, empty tags.\n",
      "\t<PER>Egrot(A)</PER>, <ACT>quincaillerie fine, articles de Paris, représentant Adolphe Laroche, de Bayonne</ACT>, <LOC>Faub.-St- Denis</LOC>, <CARDINAL>61</CARDINAL>.<TITRE></TITRE>\n",
      "\n",
      "Invalid entry, empty tags.\n",
      "\t<PER>Emmel (Henry)</PER>, <ACT>commissionnaire en articles de Paris</ACT>, <LOC>Marais-St- Martin</LOC>, <CARDINAL>60</CARDINAL>.<TITRE></TITRE>\n",
      "\n",
      "Invalid entry, empty tags.\n",
      "\t<PER>Emson (James)</PER>, <ACT>négoc. commis- sionnaire</ACT>, <LOC>rue de la Banque</LOC>, <CARDINAL>20, * ancien 24</CARDINAL><TITRE></TITRE><TITRE></TITRE>\n",
      "\n",
      "Invalid entry, empty tags.\n",
      "\t<PER>Engler-Leroy</PER> , <LOC>Vieilles-Haudriet-  tes</LOC>, <CARDINAL>6</CARDINAL>.<TITRE></TITRE>\n",
      "\n",
      "Invalid entry, empty tags.\n",
      "\t<PER>Enoch et Oppenhein</PER>, <ACT>marchan- dises pour l&apos;exportation</ACT>, <LOC>Bondy</LOC>,<CARDINAL> 30</CARDINAL>.<TITRE></TITRE>\n",
      "\n",
      "Invalid entry, empty tags.\n",
      "\t<PER>Enoch et Reis</PER>, <ACT>pour tous articles</ACT>,<LOC> Château-d&apos;Eau</LOC>, <CARDINAL>22</CARDINAL>.<TITRE></TITRE>\n",
      "\n",
      "Invalid entry, empty tags.\n",
      "\t<PER>Evette (Félix) père et fils</PER> <TITRE>N</TITRE>C.,<ACT> commissionnaires en charbons de terre</ACT> , <LOC>Faub.-St-Martin</LOC>, <CARDINAL>166</CARDINAL>.<TITRE></TITRE>\n",
      "\n",
      "Invalid entry, empty tags.\n",
      "\t<PER>Eymard (J. A.)</PER> , <ACT>conserves ali- mentaires, sardines à l&apos;huile</ACT>,<LOC> Temple</LOC>, <CARDINAL>14</CARDINAL>.<TITRE></TITRE>\n",
      "\n",
      "Invalid entry, empty tags.\n",
      "\t<PER>Fabre (C.),</PER> <ACT>quincaillerie et ar- ticles de Paris</ACT>, <LOC>Bonaparte</LOC>, <CARDINAL>68</CARDINAL>.<TITRE></TITRE>\n",
      "\n",
      "Invalid entry, empty tags.\n",
      "\t<PER>Courvoisier (Félix)</PER> <TITRE></TITRE>NC et Cie, <ACT>eaux-de- vie en gros</ACT>, <LOC>Port-Bercy</LOC>, <CARDINAL>40</CARDINAL>.\n",
      "\n",
      "Invalid entry, empty tags.\n",
      "\t<PER>Courvoisier</PER> <TITRE></TITRE>, <ACT>quincaillerie, outils et armes blanches</ACT>, <LOC>Culture-Ste-Catherine</LOC>, <CARDINAL>12</CARDINAL>.\n",
      "\n",
      "Invalid entry, empty tags.\n",
      "\t<PER>Cousin (A.)</PER>, <ACT>vernisseur sur metaux</ACT>, <LOC>Saint- Martin</LOC>3<CARDINAL></CARDINAL>\n",
      "\n",
      "Invalid entry, empty tags.\n",
      "\t<PER>Coutant (S.</PER> <ACT>épurat. d&apos;huile</ACT>, <LOC>Godefroy</LOC>,<CARDINAL></CARDINAL>\n",
      "\n",
      "Invalid entry, empty tags.\n",
      "\t<PER>Coutin (J.)</PER>, <ACT>manches de parapluies</ACT>, <LOC>St-Denis</LOC><CARDINAL></CARDINAL>\n",
      "\n",
      "Invalid entry, empty tags.\n",
      "\t<PER>Couttin</PER>, <ACT>médecin</ACT>, <LOC>aranné</LOC><CARDINAL></CARDINAL>\n",
      "\n",
      "Invalid entry, empty tags.\n",
      "\t<PER>Couturier (P.-L. </PER><ACT>vins</ACT>, <LOC>Récollets</LOC>,<CARDINAL></CARDINAL>\n",
      "\n",
      "Invalid entry, empty tags.\n",
      "\t<PER>Couvert (G.)</PER> <ACT>brossier</ACT>, <LOC>Beaubourg</LOC>,<CARDINAL></CARDINAL>\n",
      "\n",
      "Invalid entry, empty tags.\n",
      "\t<PER>Couvreur fils</PER>, <ACT>grainetier</ACT>, <LOC>Faub.-St-Antoine</LOC><CARDINAL></CARDINAL>\n",
      "\n",
      "Invalid entry, empty tags.\n",
      "\t<PER>Couvreur (E.)</PER>, <ACT>fab. d&apos;instruments d&apos;optique</ACT> Z.<LOC> Enfants-Rouges</LOC>,<CARDINAL></CARDINAL>\n",
      "\n",
      "Invalid entry, empty tags.\n",
      "\t<PER>Grammont (marquis de)</PER>, <TITRE></TITRE>, <ACT>depute de la Haute-Saône</ACT>, <LOC>Lille</LOC>, <CARDINAL>121.</CARDINAL>\n",
      "\n",
      "Invalid entry, empty tags.\n",
      "\t<PER>Granara (A. </PER>, <ACT>grand nôtel de Russie</ACT>, <LOC>Drouot</LOC>,I<CARDINAL></CARDINAL>, et <LOC>boul des laliens</LOC>, <CARDINAL>2</CARDINAL>.\n",
      "\n",
      "Invalid entry, empty tags.\n",
      "\t<PER>Grand jeune</PER>, <ACT>commiss. en vins et caux-de-vie</ACT>,<LOC> Bordeau</LOC><CARDINAL></CARDINAL>\n",
      "\n",
      "Invalid entry, empty tags.\n",
      "\t<PER>Grandin</PER>, <ACT>cafe de France</ACT>, <LOC>Bons-Eniants</LOC>, <CARDINAL>9</CARDINAL> et<LOC> cour des Fontulnes</LOC>.0<CARDINAL></CARDINAL>.\n",
      "\n",
      "Invalid entry, empty tags.\n",
      "\t<PER>Grandmaison Bne de</PER> <LOC>boul Malesherbe</LOC>.<CARDINAL></CARDINAL>\n",
      "\n",
      "Invalid entry, empty tags.\n",
      "\t<PER>Grange</PER>, <ACT>commissionn, en articles de Faris</ACT>,<LOC> Faub.-St-Ma</LOC><CARDINAL></CARDINAL>\n",
      "\n",
      "Invalid entry, empty tags.\n",
      "\t<PER>Grange (Eug.)</PER>, <ACT>serrur.</ACT>, <LOC>Beauveau-St-Antoine</LOC>.<CARDINAL></CARDINAL>\n",
      "\n",
      "Invalid entry, empty tags.\n",
      "\t<PER>Granger</PER>, <ACT>glacier</ACT>, <LOC>Oratoire - Champs Elysces</LOC><CARDINAL></CARDINAL>\n",
      "\n",
      "Invalid entry, empty tags.\n",
      "\t<PER>Dispensaires de la société philanthropique de Paris:</PER> <PER>1er disp.</PER>, <LOC>Gaillon</LOC>, <CARDINAL>17</CARDINAL>. — <PER>2e</PER>, <LOC>Faub.-St-Denis</LOC>, <CARDINAL>39</CARDINAL>. — <PER></PER><LOC>St-Bon.</LOC> <CARDINAL>6</CARDINAL>. 3e, — <PER>4e</PER>, <LOC>Lacepède</LOC>, <CARDINAL>15</CARDINAL>. <PER>50</PER>, — <LOC>Four-St Germain</LOC>, <CARDINAL>26</CARDINAL>. <PER>6e</PER>, <LOC>St-Honoré</LOC>, <CARDINAL>115</CARDINAL>.\n",
      "\n",
      "Invalid entry, empty tags.\n",
      "\t<PER>Dobignie</PER> <TITRE></TITRE>, <ACT>juge 1re instance</ACT>, <LOC>Seine</LOC>, <CARDINAL>72</CARDINAL>.\n",
      "\n",
      "Invalid entry, empty tags.\n",
      "\t<PER>Docquin (E.)</PER>, <ACT>fab. chapeaux de paille</ACT>, <LOC>Caire</LOC>,<CARDINAL></CARDINAL>\n",
      "\n",
      "Invalid entry, empty tags.\n",
      "\t<PER>Dodé (Th.)</PER>, <ACT>facteur à la halle au beurre</ACT>, <LOC>Mon- detou</LOC><CARDINAL></CARDINAL>\n",
      "\n",
      "Invalid entry, empty tags.\n",
      "\t<PER>Morandière (R.)</PER> <TITRE></TITRE>, <ACT>ingenieur en chef des ponts et chaussées</ACT>. <LOC>N.-D.-des-Champs</LOC>, <CARDINAL>27</CARDINAL>.\n",
      "\n",
      "Invalid entry, empty tags.\n",
      "\t<PER>Moreau (César)</PER> <TITRE>*</TITRE>, <ACT>anc. consul</ACT>, <LOC>St-Honoré</LOC>,<CARDINAL></CARDINAL>\n",
      "\n",
      "Invalid entry, empty tags.\n",
      "\t<PER>Moreau (Oscar)</PER> <ACT>avoué 1re inst.</ACT>, <LOC>Laffitte</LOC>,<CARDINAL></CARDINAL>\n",
      "\n",
      "Invalid entry, empty tags.\n",
      "\t<PER>Moreau</PER>, <ACT>menuisier</ACT>, <LOC>Nve-des- Petits-Peres</LOC>.<CARDINAL></CARDINAL>\n",
      "\n",
      "Invalid entry, empty tags.\n",
      "\t<PER>Moreau</PER>, <ACT>pharmac.</ACT>, <LOC>Grande-Rue Chapelle</LOC>, <CARDINAL>81</CARDINAL>. et <LOC>Marcadet</LOC>,<CARDINAL></CARDINAL>\n",
      "\n",
      "Invalid entry, empty tags.\n",
      "\t<PER>Moreau (Emile)</PER>, <ACT>quincaillerie</ACT>, <LOC>Faub.-Mont- 71. martre</LOC>,<CARDINAL></CARDINAL>\n",
      "\n",
      "Invalid entry, empty tags.\n",
      "\t<PER>Girardin</PER> <ACT>(des Gaules)</ACT>, <LOC>R. S. Nicaise</LOC>,<CARDINAL> </CARDINAL><LOC>Tuileries</LOC>. 480.—\n",
      "\n",
      "Invalid entry, empty tags.\n",
      "\t<PER>Ledoux</PER> <ACT>( du Prince de Galles )</ACT> , <LOC>Faub. S. Roule. Honoré .</LOC> <CARDINAL>63</CARDINAL>. —<LOC></LOC>\n",
      "\n",
      "Invalid entry, empty tags.\n",
      "\t<PER>Daciin Me.)</PER> <ACT>(Mb.)</ACT>, <LOC>K. Gt Pet. LIon</LOC>,<CARDINAL> </CARDINAL><LOC>B Cons.</LOC>\n",
      "\n",
      "Invalid entry, empty tags.\n",
      "\t<PER>Delachaussée</PER> <ACT>(Iab.)</ACT>, <LOC>R. Grenéta</LOC>, <CARDINAL>16</CARDINAL>.—<LOC></LOC>\n",
      "\n",
      "Invalid entry, empty tags.\n",
      "\t<PER>Legendre</PER> <ACT>(fab.)</ACT>, <LOC>Enclos S. Martin</LOC>, <CARDINAL>5</CARDINAL>.<LOC></LOC>\n",
      "\n",
      "Invalid entry, empty tags.\n",
      "\t<PER>Varennes</PER> <ACT>Amis de lar. 7ib.)</ACT>, <LOC>R. S. Marin</LOC>, <CARDINAL>27</CARDINAL>.—<LOC></LOC>\n",
      "\n",
      "Invalid entry, empty tags.\n",
      "\t<PER>Bataille</PER>, <LOC>R. de Beaune</LOC><CARDINAL></CARDINAL>\n",
      "\n",
      "Invalid entry, empty tags.\n",
      "\t<PER>Lecomte</PER> , <LOC>R. N. des Petits Champs</LOC>, <CARDINAL>15</CARDINAL>.<LOC></LOC>\n",
      "\n",
      "Invalid entry, empty tags.\n",
      "\t<PER>Baré de S. Venant</PER> , <LOC>cul-de-sac du Doyen- I</LOC><CARDINAL></CARDINAL><LOC>u1</LOC>.\n",
      "\n",
      "Invalid entry, empty tags.\n",
      "\t<PER>Bacot</PER>, <LOC>Fb. et Div. Poisonniere</LOC><CARDINAL></CARDINAL>\n",
      "\n",
      "Invalid entry, empty tags.\n",
      "\t<PER></PER><LOC></LOC><CARDINAL></CARDINAL><LOC></LOC>\n",
      "\n",
      "Invalid entry, empty tags.\n",
      "\t<PER>Baillot</PER>. <ACT>R. des Trois</ACT><LOC></LOC>\n",
      "\n",
      "Invalid entry, empty tags.\n",
      "\t<PER>Bantalone ( Paul)</PER> ( <ACT>attaché à la légation des Etats-Unis</ACT> ), <LOC>boulev. Poissonnière</LOC>,<CARDINAL> </CARDINAL><LOC>Fh. Montm</LOC>. 1045.\n",
      "\n",
      "Invalid entry, empty tags.\n",
      "\t<PER>Barbantanne</PER>, <LOC>R. Basse du Rempart</LOC>,<CARDINAL> </CARDINAL><LOC>P. Vend</LOC>. 336.—\n",
      "\n",
      "Invalid entry, empty tags.\n",
      "\t<PER>Demaimieux</PER>, <LOC>R. du Faub. Montmartre</LOC>,<CARDINAL> </CARDINAL>— <LOC>M. Blanc</LOC>. 3.\n",
      "\n",
      "Invalid entry, empty tags.\n",
      "\t<PER>Delisron</PER> <LOC>Fb. et Div. Poissonnière</LOC><CARDINAL></CARDINAL>\n",
      "\n",
      "Invalid entry, empty tags.\n",
      "\t<PER>Demailly (Mme. )</PER>, <LOC>R. de l&apos;Université</LOC>,<CARDINAL> </CARDINAL><LOC>F. de Gren</LOC>. 270.—\n",
      "\n",
      "Invalid entry, empty tags.\n",
      "\t<PER>Demontenet part , 359. (Ve.).</PER> <LOC>R. Basse du Rem- </LOC><CARDINAL></CARDINAL>— <LOC>Pl. Vend</LOC>.\n",
      "\n",
      "Invalid entry, empty tags.\n",
      "\t<PER>Depiedfort</PER>, <LOC>R. Neuve du Luxembourg</LOC><CARDINAL> </CARDINAL>— <LOC>Pl. Vend</LOC>. 156. —\n",
      "\n",
      "Invalid entry, empty tags.\n",
      "\t<PER>Auffroy</PER> ; <LOC>R. de Bussy</LOC> I1<CARDINAL></CARDINAL>\n",
      "\n",
      "Invalid entry, empty tags.\n",
      "\t<PER>Adieite</PER> <LOC>. des Marmounels</LOC>.<CARDINAL></CARDINAL>\n",
      "\n",
      "Invalid entry, empty tags.\n",
      "\t<PER>Bayvet-jaune</PER>, <LOC>R. des Bor An</LOC><CARDINAL></CARDINAL>\n",
      "\n",
      "Invalid entry, empty tags.\n",
      "\t<PER>Brauvs</PER>, <LOC>R.S. Antoine</LOC><CARDINAL></CARDINAL>\n",
      "\n",
      "Invalid entry, empty tags.\n",
      "\t<PER>Beauvallrt</PER>,<LOC>R. das Déchargeurs</LOC>,b<CARDINAL></CARDINAL>.\n",
      "\n",
      "Suspect char@008: † (0x2020 DAGGER -- cat.: Po)\n",
      "Invalid entry, empty tags.\n",
      "\tA —  <PER>Bourier</PER>, <LOC>R. du Faub. S. Jacques</LOC>,<CARDINAL></CARDINAL>\n",
      "\n",
      "Invalid entry, empty tags.\n",
      "\t☞  <PER>Bourniche</PER>, <LOC>R. Montorgaail</LOC><CARDINAL></CARDINAL>\n",
      "\n",
      "Invalid entry, empty tags.\n",
      "\t<PER>Boulapger</PER>, <LOC>R. de 1n Menuoie</LOC>,<CARDINAL></CARDINAL>\n",
      "\n",
      "Invalid entry, empty tags.\n",
      "\t<PER>Bouchet</PER>, <LOC>Eneles S. Martin</LOC>,B<CARDINAL></CARDINAL>\n",
      "\n",
      "Invalid entry, empty tags.\n",
      "\t<PER>Borel</PER>, <LOC>H. Marché: aux-Poirées</LOC><CARDINAL></CARDINAL>\n",
      "\n",
      "Invalid entry, empty tags.\n",
      "\t<PER>Boncainpin</PER>, <LOC>R. Neuxe S. Martin</LOC>.<CARDINAL></CARDINAL>\n",
      "\n",
      "Invalid entry, empty tags.\n",
      "\t<PER>Roufs</PER>, <LOC>R. dU Marche S. Martin</LOC> I<CARDINAL></CARDINAL>\n",
      "\n",
      "Invalid entry, empty tags.\n",
      "\t<PER>BIBOt</PER> K<LOC>. Marcean</LOC><CARDINAL></CARDINAL>\n",
      "\n",
      "Invalid entry, empty tags.\n",
      "\t<PER>Hgnon</PER>, <LOC>ceup. Montmarike</LOC>y<CARDINAL></CARDINAL>\n",
      "\n",
      "Invalid entry, empty tags.\n",
      "\t<PER>Santerre</PER> Dépôt, <ACT>(harnicheur </ACT>102 &quot; <LOC>bouler, du =</LOC><CARDINAL></CARDINAL>\n",
      "\n",
      "Invalid entry, empty tags.\n",
      "\t<PER></PER><ACT>(harnach.)</ACT> s. <LOC>R: du Petit- Richard Lion S. Sauveur</LOC>, <CARDINAL>21</CARDINAL>.\n",
      "\n",
      "Suspect char@011: † (0x2020 DAGGER -- cat.: Po)\n",
      "Invalid entry, empty tags.\n",
      "\t—  <PER>Corhie et comp.</PER> <ACT>(etoffes)</ACT> <LOC>Pal. du Frih. TaRdd</LOC><CARDINAL></CARDINAL>\n",
      "\n",
      "Invalid entry, empty tags.\n",
      "\t<PER>Chatin</PER>, <LOC>rue Cérutti</LOC>, n. <CARDINAL></CARDINAL>—<LOC>du Montblanc</LOC>.\n",
      "\n",
      "Invalid entry, empty tags.\n",
      "\t<PER>Gagnant</PER>, <LOC>boulevard du dépôt</LOC>, n.&quot; <CARDINAL></CARDINAL>—<LOC>de Pelletier</LOC>.\n",
      "\n",
      "Invalid entry, empty tags.\n",
      "\t<PER>Mabile</PER>, <ACT>fabr.</ACT>, <LOC>r. Grenier-S.-Lazare</LOC>y<CARDINAL></CARDINAL>.\n",
      "\n",
      "Invalid entry, empty tags.\n",
      "\t<PER>Trudelle (V.e)</PER>, <LOC>rue Grammont</LOC>,<CARDINAL></CARDINAL>\n",
      "\n",
      "================================\n",
      "Invalid entries:    373\n",
      "Total entries:     8765\n",
      "================================\n"
     ]
    }
   ],
   "source": [
    "out_path = os.path.join(DATASET_PATH, \"31-ner_align_pero\", \"all.json\")\n",
    "ner_pero_align = generate_aligned_gt(ref_path, pero_path, out_path)"
   ]
  },
  {
   "cell_type": "code",
   "execution_count": 9,
   "metadata": {},
   "outputs": [
    {
     "name": "stdout",
     "output_type": "stream",
     "text": [
      "Suspect char@048: € (0x20ac EURO SIGN -- cat.: Sc)\n",
      "Invalid entry, empty tags.\n",
      "\t<PER>Dafourmantelle (Lonis)</PER>, <ACT>peaussier</ACT>, <LOC>r. dn DR es + FR</LOC> <CARDINAL></CARDINAL>4e\n",
      "\n",
      "Invalid entry, empty tags.\n",
      "\t&apos;mn: em <PER>Dudngnon</PER>, <ACT>march. deplâtre</ACT>, <LOC>x. des Murais- ! SGermoio</LOC> set <CARDINAL></CARDINAL>, 403\n",
      "\n",
      "Invalid entry, empty tags.\n",
      "\t<PER>Migeon</PER>, <ACT>charpentier</ACT>, <LOC>x, de Vaugirard</LOC> <CARDINAL></CARDINAL>; pa\n",
      "\n",
      "Invalid entry, empty tags.\n",
      "\t<PER></PER>, <ACT>ve</ACT>. <LOC>des ee Conte</LOC>, <CARDINAL>e</CARDINAL><LOC>s</LOC>\n",
      "\n",
      "Invalid entry, empty tags.\n",
      "\t<PER>&quot;PSEue, (François)</PER>; <ACT>comruiss.</ACT>, <LOC>4 die</LOC><CARDINAL></CARDINAL>\n",
      "\n",
      "Invalid entry, empty tags.\n",
      "\t! <PER>Miguot</PER>, <ACT>hôtel garni</ACT>, <LOC>% de la Jamienng</LOC>,<CARDINAL></CARDINAL>\n",
      "\n",
      "Invalid entry, empty tags.\n",
      "\t<PER>Miguet jeune</PER>, <ACT>épécier</ACT>, <LOC>E ere se</LOC><CARDINAL></CARDINAL>\n",
      "\n",
      "Suspect char@043: € (0x20ac EURO SIGN -- cat.: Sc)\n",
      "Invalid entry, empty tags.\n",
      "\t<PER>Bonnaire (F. B.)-et co</PER>., <FT>fab. à Cren</FT>, dé ne<LOC> Po ne CRE GENE</LOC><CARDINAL></CARDINAL>\n",
      "\n",
      "Invalid entry, empty tags.\n",
      "\t<PER>Cierambaglt (Ch.</PER>), <ACT>fab. point d&apos;Alençon</ACT> a D re<LOC>d Ps</LOC><CARDINAL></CARDINAL>\n",
      "\n",
      "Invalid entry, empty tags.\n",
      "\t<PER>Dubois. ( CGhrétier</PER> <ACT>6x Te</ACT> <LOC>D. e Conde MAroes ? RE</LOC>R<CARDINAL></CARDINAL>.\n",
      "\n",
      "Invalid entry, empty tags.\n",
      "\t<PER>Hussenot-Ducasie</PER> ; <ACT>néarch.</ACT>, <LOC>passage de la Réunion</LOC>,<CARDINAL> </CARDINAL>&amp; - = # ÿ\n",
      "\n",
      "Invalid entry, empty tags.\n",
      "\t<PER>Kerpen. , sé Dujardin</PER>, <ACT>Fab. tules</ACT>, <LOC>rue aux</LOC><CARDINAL></CARDINAL>\n",
      "\n",
      "Invalid entry, empty tags.\n",
      "\t<PER>Herr</PER> <ACT>rs</ACT> <LOC>&quot; dh Clare iadques-</LOC><CARDINAL></CARDINAL>\n",
      "\n",
      "Invalid entry, empty tags.\n",
      "\t<PER>Perrier</PER> ,v<ACT>, d&apos;Aujou</ACT>-<LOC>S..Honoré</LOC>,<CARDINAL></CARDINAL>\n",
      "\n",
      "Invalid entry, empty tags.\n",
      "\t<PER>Brin; LR</PER> <LOC>A Geoier teen etenite</LOC><CARDINAL> </CARDINAL>;\n",
      "\n",
      "Invalid entry, empty tags.\n",
      "\t<PER>SL 3%</PER> B<LOC>-Andüré-desArts</LOC>,<CARDINAL></CARDINAL>\n",
      "\n",
      "Invalid entry, empty tags.\n",
      "\t<PER>Rés nr tonne</PER> à Pain <LOC>hon Bu Bien</LOC><CARDINAL></CARDINAL>\n",
      "\n",
      "Invalid entry, empty tags.\n",
      "\t<PER>pr (Mie)</PER>, <LOC>r delAtbre-Sec</LOC>,<CARDINAL></CARDINAL>\n",
      "\n",
      "Invalid entry, empty tags.\n",
      "\t<PER>Oudot</PER>, <ACT>die Roï, pour des chétenauz : on royaux</ACT>, <LOC>r.S-Jacques</LOC>,<CARDINAL></CARDINAL>\n",
      "\n",
      "Invalid entry, empty tags.\n",
      "\t<PER>Papin et Blaisean (Me), &quot;</PER>, <LOC>IN Apt ee Dee, CON RS</LOC><CARDINAL></CARDINAL>\n",
      "\n",
      "Suspect char@020: € (0x20ac EURO SIGN -- cat.: Sc)\n",
      "Invalid entry, empty tags.\n",
      "\t<PER>H Abcl-Louis)</PER>, <ACT>dl Y ani ( D hbes Re n</ACT>n <LOC>_ de Rou-</LOC><CARDINAL></CARDINAL>\n",
      "\n",
      "Invalid entry, empty tags.\n",
      "\t<PER>Dehourges (Ch.}</PER>, <LOC>r: de Bondy</LOC>,6. <CARDINAL> </CARDINAL>:\n",
      "\n",
      "Suspect char@008: € (0x20ac EURO SIGN -- cat.: Sc)\n",
      "Invalid entry, empty tags.\n",
      "\t<PER>a0o em COL FD US NO SES _ ._. et Mauppin</PER>, <ACT>en gros</ACT>, <LOC>r. Craixx-des-Pet.-Champs</LOC>,<CARDINAL></CARDINAL>\n",
      "\n",
      "Suspect char@023: € (0x20ac EURO SIGN -- cat.: Sc)\n",
      "Suspect char@001: € (0x20ac EURO SIGN -- cat.: Sc)\n",
      "Invalid entry, empty tags.\n",
      "\t<PER>Gérardin (R.)</PER>%<TITRE></TITRE>, <ACT>médecin</ACT>, <LOC>pl. du Palais-Bourbon</LOC>, <CARDINAL>2</CARDINAL>.\n",
      "\n",
      "Suspect char@014: € (0x20ac EURO SIGN -- cat.: Sc)\n",
      "Invalid entry, empty tags.\n",
      "\t<PER>Güérin (Modeste)</PER> <TITRE>@S.H. ne Te d&apos;</TITRE>O<LOC>NPAEMANS</LOC><CARDINAL></CARDINAL>\n",
      "\n",
      "Invalid entry, empty tags.\n",
      "\t<PER>re (Me)</PER>, <ACT>dévideuse</ACT>, <LOC>St- Denis</LOC>,<CARDINAL></CARDINAL>\n",
      "\n",
      "Invalid entry, empty tags.\n",
      "\t<PER>l&apos;etit</PER> <TITRE></TITRE><ACT>med.</ACT> <LOC>Conde</LOC>, <CARDINAL>SU</CARDINAL>.\n",
      "\n",
      "Invalid entry, empty tags.\n",
      "\t<PER>Suntrup</PER>, <ACT>fazil.</ACT> l<LOC>Pavée</LOC>,G<CARDINAL></CARDINAL>, <LOC>Marais</LOC>.\n",
      "\n",
      "Invalid entry, empty tags.\n",
      "\t<PER>Supertus</PER>, <ACT>7264</ACT>, <LOC>Mauconseil</LOC>,<CARDINAL> </CARDINAL>#,\n",
      "\n",
      "Suspect char@017: € (0x20ac EURO SIGN -- cat.: Sc)\n",
      "Suspect char@014: € (0x20ac EURO SIGN -- cat.: Sc)\n",
      "Invalid entry, empty tags.\n",
      "\t<PER>Dinnincen</PER>, <LOC>r. des Colonnes</LOC> <CARDINAL></CARDINAL>,<ACT> Cordonn</ACT>.\n",
      "\n",
      "Suspect char@037: € (0x20ac EURO SIGN -- cat.: Sc)\n",
      "Invalid entry, empty tags.\n",
      "\t<PER>Dusaussay Demély et comp.</PER>s <ACT>toiles blanches</ACT><LOC> + Bortin:PDoirée</LOC> &quot;6 <CARDINAL></CARDINAL>:\n",
      "\n",
      "Invalid entry, empty tags.\n",
      "\t<PER>Legrand</PER>, <ACT>prof de mus.</ACT>, <LOC>r. du G.-Chantier</LOC>,#<CARDINAL></CARDINAL>.\n",
      "\n",
      "Invalid entry, empty tags.\n",
      "\t<PER>Legorju</PER>, <ACT>presses d&apos;imprim.</ACT>, <LOC>enclos St.Jean- Le 24 n</LOC>f<CARDINAL></CARDINAL>\n",
      "\n",
      "Invalid entry, empty tags.\n",
      "\t<PER>Legrand &apos;eune</PER>, <ACT>menus. en m.</ACT>, <LOC>r, et imp. du BA</LOC><CARDINAL></CARDINAL>\n",
      "\n",
      "Suspect char@011: € (0x20ac EURO SIGN -- cat.: Sc)\n",
      "Invalid entry, empty tags.\n",
      "\t<PER>Lebaene His</PER>, <ACT>ébénist., bois des îles</ACT>, <LOC>r. des PAC</LOC><CARDINAL></CARDINAL>\n",
      "\n",
      "Invalid entry, empty tags.\n",
      "\t<PER>Legrip (V°.) et Legrip aîné.</PER> <ACT>f. chapell.</ACT>, <LOC>r. des RE Re RE</LOC><CARDINAL></CARDINAL>\n",
      "\n",
      "Invalid entry, empty tags.\n",
      "\t<PER>Huet pere et lils</PER>, <ACT>commest., épic.</ACT>, <LOC>r. des Cronciel </LOC>E <CARDINAL></CARDINAL>:\n",
      "\n",
      "Suspect char@011: € (0x20ac EURO SIGN -- cat.: Sc)\n",
      "Suspect char@009: € (0x20ac EURO SIGN -- cat.: Sc)\n",
      "Suspect char@013: € (0x20ac EURO SIGN -- cat.: Sc)\n",
      "Suspect char@008: € (0x20ac EURO SIGN -- cat.: Sc)\n",
      "Suspect char@681: € (0x20ac EURO SIGN -- cat.: Sc)\n",
      "Invalid entry, empty tags.\n",
      "\t<PER>Pe (A..) jeune</PER>, <LOC>Louis-Philippe</LOC>,<CARDINAL></CARDINAL>\n",
      "\n",
      "Invalid entry, empty tags.\n",
      "\t<PER>Viel</PER>, <ACT>epicier</ACT>, <LOC>St-Roch</LOC>, <CARDINAL></CARDINAL>.\n",
      "\n",
      "Invalid entry, empty tags.\n",
      "\t<PER>Vignier (A.)</PER>*<TITRE></TITRE>, <ACT>référend. à la cour des comptes</ACT>,<LOC> Bac</LOC>, <CARDINAL>35</CARDINAL>.\n",
      "\n",
      "Invalid entry, empty tags.\n",
      "\t<PER>Una; 1 ne </PER>, <LOC>Fontaine-St-Georges</LOC><CARDINAL> </CARDINAL>,\n",
      "\n",
      "Invalid entry, empty tags.\n",
      "\t<PER>Chardron — Voisin</PER>, <LOC>Ménilmontant</LOC>,<CARDINAL> </CARDINAL>.\n",
      "\n",
      "Invalid entry, empty tags.\n",
      "\t<PER>op (A. À.)</PER>, <ACT>pharmacien</ACT>, <LOC>place Maubert</LOC>,<CARDINAL></CARDINAL>\n",
      "\n",
      "Invalid entry, empty tags.\n",
      "\t<PER>Doux (F.)</PER>, <ACT>soies écrues</ACT>, <LOC>St-Denis</LOC>,<CARDINAL> . ,</CARDINAL> et <LOC>cloître Suint-Jacques</LOC>,<CARDINAL></CARDINAL>\n",
      "\n",
      "Invalid entry, empty tags.\n",
      "\t<PER>Drouin ( J.)</PER>, <ACT>droguerie, produits  chimiques, gélatine ct couleurs, dépôt de l&apos;administration des mi- nes de Bouxuiller (Bas-Rhin), fabrique de prussiate jaune et rouge, bleu de Berlin, bleu de Prusse, sel ammoniac, alun, vi- triol-Salsbourg, couperoses, géla- tines et phosphore, dépôt des col- les de Givet de MM. Parent et Donnay et de MM. Beuax el fils</ACT>,<LOC> Sainte - Croix -la-Bretonnerie</LOC><CARDINAL> </CARDINAL>, <TITRE>D</TITRE>)\n",
      "\n",
      "Invalid entry, empty tags.\n",
      "\t<PER>Durand (François)</PER>, <ACT>pour les colo- nies</ACT>, <LOC>Douane</LOC>, <CARDINAL>14</CARDINAL>.<TITRE></TITRE>\n",
      "\n",
      "Suspect char@021: € (0x20ac EURO SIGN -- cat.: Sc)\n",
      "Invalid entry, empty tags.\n",
      "\t<PER>Cousin (L.)</PER>, <ACT>quincaillerie</ACT>, <LOC>Acacias-Ternes</LOC><CARDINAL></CARDINAL>\n",
      "\n",
      "Suspect char@020: € (0x20ac EURO SIGN -- cat.: Sc)\n",
      "Invalid entry, empty tags.\n",
      "\t<PER>Couture (Th. </PER>3%<TITRE></TITRE>, <ACT>peintre</ACT>, <LOC>Labruyère</LOC>, <CARDINAL>32</CARDINAL>.\n",
      "\n",
      "Invalid entry, empty tags.\n",
      "\t<PER>Granara (À.</PER>,<ACT>grand nôtel de Russie</ACT>, <LOC>Drouot</LOC>, <CARDINAL></CARDINAL>et <LOC>boul des lisliens</LOC>, <CARDINAL>2</CARDINAL>.\n",
      "\n",
      "Invalid entry, empty tags.\n",
      "\t<PER>Dobignie</PER>*<TITRE></TITRE>, <ACT>juge 1re instance</ACT>, <LOC>Seine</LOC>, <CARDINAL>72</CARDINAL>.\n",
      "\n",
      "Invalid entry, empty tags.\n",
      "\t<PER>Ylasquerier</PER> <ACT>( anglaise)</ACT>, <LOC>R. de Louvois</LOC> CO<CARDINAL></CARDINAL> <LOC>Lepelletier</LOC>. 7 ser, SE &quot;AUS AIS Fd ESS A,\n",
      "\n",
      "Suspect char@081: € (0x20ac EURO SIGN -- cat.: Sc)\n",
      "Suspect char@006: € (0x20ac EURO SIGN -- cat.: Sc)\n",
      "Invalid entry, empty tags.\n",
      "\t<PER>Cazeau</PER> <ACT>(!ab.)</ACT>, <LOC>Hi. Chapon, maison du Hole Creer</LOC>: -<LOC></LOC>\n",
      "\n",
      "Invalid entry, empty tags.\n",
      "\t<PER>NE</PER> <ACT>0</ACT> <LOC>np nier</LOC> <CARDINAL></CARDINAL><LOC>ASE dial</LOC>\n",
      "\n",
      "Invalid entry, empty tags.\n",
      "\t<PER>PR TR PER</PER><LOC>TE pe</LOC>r <CARDINAL>LEO</CARDINAL><LOC></LOC>\n",
      "\n",
      "Invalid entry, empty tags.\n",
      "\t&apos;<PER>Apmet</PER>. <LOC>R &apos;du Four</LOC> R<CARDINAL></CARDINAL><LOC>H. an BU</LOC>\n",
      "\n",
      "Invalid entry, empty tags.\n",
      "\t<PER>Baraguay-d&apos;Hilliers ( général )</PER>, K<LOC>R. des Tr</LOC> <CARDINAL>)</CARDINAL>&quot;<LOC></LOC>\n",
      "\n",
      "Invalid entry, empty tags.\n",
      "\t<PER>Demouy</PER>, <LOC>R. du Faub.S. Lazare</LOC><CARDINAL> </CARDINAL>, RS <LOC>Pole </LOC>D RCAUTURE\n",
      "\n",
      "Invalid entry, empty tags.\n",
      "\t<PER>Anvers</PER> &quot; <ACT>(droguistes)</ACT> <LOC>K&quot; se Len</LOC><CARDINAL></CARDINAL>\n",
      "\n",
      "Invalid entry, empty tags.\n",
      "\t<PER>Ryvnit-et Pichard</PER>, <LOC>RN Era</LOC>,<CARDINAL></CARDINAL>\n",
      "\n",
      "Invalid entry, empty tags.\n",
      "\t<PER>Hapañie</PER> <ACT>d&apos;étnffes ar apareane.}</ACT> <LOC>Pal</LOC><CARDINAL></CARDINAL>\n",
      "\n",
      "Invalid entry, empty tags.\n",
      "\t<PER>Rocnsg cpdet of een</PER>, <LOC>Re Qu Gpos-</LOC><CARDINAL></CARDINAL>\n",
      "\n",
      "Invalid entry, empty tags.\n",
      "\t<PER>Fibion À H, het éCmps</PER> <ACT>(éétoffes! t</ACT><LOC>hin CE Je étape (étofes</LOC>) <CARDINAL></CARDINAL>:\n",
      "\n",
      "Invalid entry, empty tags.\n",
      "\t<PER></PER><ACT></ACT><LOC></LOC><CARDINAL></CARDINAL>\n",
      "\n",
      "Invalid entry, empty tags.\n",
      "\t<PER>Chambers Cards)</PER>,<ACT> er 4r8s 3</ACT>, <LOC>Re Phée</LOC><CARDINAL></CARDINAL>\n",
      "\n",
      "Invalid entry, empty tags.\n",
      "\t<PER>Messier (J. L.)</PER> <ACT>(portraits)</ACT>, <LOC>rue desChamps-Elisées</LOC> , no.<CARDINAL> </CARDINAL>2.\n",
      "\n",
      "================================\n",
      "Invalid entries:     65\n",
      "Total entries:     8765\n",
      "================================\n"
     ]
    }
   ],
   "source": [
    "out_path = os.path.join(DATASET_PATH, \"32-ner_align_tess\", \"all.json\")\n",
    "ner_tess_align = generate_aligned_gt(ref_path, tess_path, out_path)"
   ]
  },
  {
   "cell_type": "code",
   "execution_count": null,
   "metadata": {},
   "outputs": [],
   "source": [
    "out_path = os.path.join(DATASET_PATH, \"33-ner_align_krak\", \"all.json\")\n",
    "ner_krak_align = generate_aligned_gt(ref_path, krak_path, out_path)"
   ]
  },
  {
   "cell_type": "code",
   "execution_count": 10,
   "metadata": {},
   "outputs": [],
   "source": [
    "import io"
   ]
  },
  {
   "cell_type": "code",
   "execution_count": 11,
   "metadata": {},
   "outputs": [],
   "source": [
    "def export_gold(entries, csv_path):\n",
    "    lines_to_write = []\n",
    "    for entry in entries:\n",
    "        if not entry[\"has_valid_ner_xml\"]:\n",
    "            continue\n",
    "        line = '\"' + entry['ner_xml'] + '\", \"' + entry['book'] + '\"'\n",
    "        lines_to_write.append(line)\n",
    "    print(f\"Valid entries: {len(lines_to_write)}\")\n",
    "    all_lines = \"\\n\".join(lines_to_write)\n",
    "\n",
    "    with io.open(csv_path, \"wt\", encoding=\"UTF-8\", newline='',\n",
    "                errors=\"strict\") as file_output:\n",
    "        file_output.write(all_lines)"
   ]
  },
  {
   "cell_type": "code",
   "execution_count": 12,
   "metadata": {},
   "outputs": [
    {
     "name": "stdout",
     "output_type": "stream",
     "text": [
      "Valid entries: 8392\n"
     ]
    }
   ],
   "source": [
    "out_path_csv = os.path.join(DATASET_PATH, \"31-ner_align_pero\", \"gold.csv\")\n",
    "export_gold(ner_pero_align, out_path_csv)"
   ]
  },
  {
   "cell_type": "code",
   "execution_count": 13,
   "metadata": {},
   "outputs": [
    {
     "name": "stdout",
     "output_type": "stream",
     "text": [
      "Valid entries: 8700\n"
     ]
    }
   ],
   "source": [
    "out_path_csv = os.path.join(DATASET_PATH, \"32-ner_align_tess\", \"gold.csv\")\n",
    "export_gold(ner_tess_align, out_path_csv)"
   ]
  },
  {
   "cell_type": "code",
   "execution_count": null,
   "metadata": {},
   "outputs": [],
   "source": [
    "out_path_csv = os.path.join(DATASET_PATH, \"33-ner_align_krak\", \"gold.csv\")\n",
    "export_gold(ner_krak_align, out_path_csv)"
   ]
  }
 ],
 "metadata": {
  "kernelspec": {
   "display_name": "Python 3",
   "language": "python",
   "name": "python3"
  },
  "language_info": {
   "codemirror_mode": {
    "name": "ipython",
    "version": 3
   },
   "file_extension": ".py",
   "mimetype": "text/x-python",
   "name": "python",
   "nbconvert_exporter": "python",
   "pygments_lexer": "ipython3",
   "version": "3.8.10"
  },
  "orig_nbformat": 4
 },
 "nbformat": 4,
 "nbformat_minor": 2
}
