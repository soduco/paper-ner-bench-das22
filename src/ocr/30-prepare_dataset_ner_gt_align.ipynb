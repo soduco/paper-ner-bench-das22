{
 "cells": [
  {
   "cell_type": "markdown",
   "metadata": {},
   "source": [
    "# Prepare dataset - NER ground truth alignment"
   ]
  },
  {
   "cell_type": "code",
   "execution_count": 1,
   "metadata": {},
   "outputs": [],
   "source": [
    "import os.path"
   ]
  },
  {
   "cell_type": "code",
   "execution_count": 2,
   "metadata": {},
   "outputs": [
    {
     "data": {
      "text/plain": [
       "'/home/joseph/git_github/soduco/paper-ner-bench-das22/dataset/supervised'"
      ]
     },
     "execution_count": 2,
     "metadata": {},
     "output_type": "execute_result"
    }
   ],
   "source": [
    "DATASET_PATH = os.path.abspath(\"../../dataset/supervised\")\n",
    "DATASET_PATH"
   ]
  },
  {
   "cell_type": "code",
   "execution_count": 3,
   "metadata": {},
   "outputs": [],
   "source": [
    "ref_path = os.path.join(DATASET_PATH, \"10-ref-ocr-ner-json\", \"all.json\")\n",
    "pero_path = os.path.join(DATASET_PATH, \"21-ocr-pero-final\", \"all.json\")\n",
    "tess_path = os.path.join(DATASET_PATH, \"22-ocr-tess-final\", \"all.json\")\n",
    "krak_path = os.path.join(DATASET_PATH, \"23-ocr-krak-final\", \"all.json\")"
   ]
  },
  {
   "cell_type": "code",
   "execution_count": 4,
   "metadata": {},
   "outputs": [],
   "source": [
    "import json\n",
    "import io"
   ]
  },
  {
   "cell_type": "code",
   "execution_count": 5,
   "metadata": {},
   "outputs": [],
   "source": [
    "def e2idx(entry, book=None, page=None):\n",
    "    book = entry[\"book\"] if book is None else book\n",
    "    page = entry[\"page\"] if page is None else page\n",
    "    return f'{book}-{page:04d}-{entry[\"id\"]:04d}'"
   ]
  },
  {
   "cell_type": "code",
   "execution_count": 6,
   "metadata": {},
   "outputs": [],
   "source": [
    "from text_utils import add_tags_prediction, xml_contains_empty_tags"
   ]
  },
  {
   "cell_type": "code",
   "execution_count": 7,
   "metadata": {},
   "outputs": [],
   "source": [
    "def generate_aligned_gt(json_path_ref, json_path_target, output_file):\n",
    "    entries_ref = None\n",
    "    invalid_entries = 0\n",
    "    entries = 0\n",
    "    with open(json_path_ref) as in_file:\n",
    "        entries_ref = json.load(in_file)\n",
    "    index_ref = {e2idx(e):e for e in entries_ref}\n",
    "\n",
    "    entries_target = None\n",
    "    with open(json_path_target) as in_file:\n",
    "        entries_target = json.load(in_file)\n",
    "    index_target = {e2idx(e):e for e in entries_target}\n",
    "\n",
    "    new_entries = []\n",
    "\n",
    "    for idx, entry_target in index_target.items():\n",
    "        entries += 1\n",
    "        new_entry = {k:entry_target[k] for k in (\"id\", \"book\", \"page\", \"text_ocr\")}\n",
    "        entry_ref = index_ref[idx]\n",
    "\n",
    "        if not entry_ref[\"valid_box\"]:\n",
    "            raise RuntimeError(\"We should not have entries with invalid boxes here.\")\n",
    "    \n",
    "        xml_ref = entry_ref[\"ner_xml\"]\n",
    "        txt_target = entry_target[\"text_ocr\"]\n",
    "        xml_target = add_tags_prediction(xml_ref, txt_target, debug=False)\n",
    "        new_entry[\"ner_xml\"] = xml_target\n",
    "        has_valid_ner_xml = not xml_contains_empty_tags(xml_target)\n",
    "        new_entry[\"has_valid_ner_xml\"] = has_valid_ner_xml\n",
    "        if not has_valid_ner_xml:\n",
    "            invalid_entries += 1\n",
    "            print(\"Invalid entry, empty tags.\")\n",
    "            print(f\"\\t{xml_target}\")\n",
    "            print(\"\")\n",
    "            # we still append the entry for diagnosis and counting\n",
    "        new_entries.append(new_entry)\n",
    "    \n",
    "    with open(output_file, 'w') as out_file:\n",
    "        json.dump(new_entries, out_file, indent=2)\n",
    "    \n",
    "    print(\"================================\")\n",
    "    print(f\"Invalid entries: {invalid_entries:6d}\")\n",
    "    print(f\"Total entries:   {entries:6d}\")\n",
    "    print(\"================================\")\n",
    "\n",
    "    return new_entries\n"
   ]
  },
  {
   "cell_type": "code",
   "execution_count": 8,
   "metadata": {},
   "outputs": [
    {
     "name": "stdout",
     "output_type": "stream",
     "text": [
      "Invalid entry, empty tags.\n",
      "\t<PER>Dufau et Clémendot</PER>, <ACT>pharmaciens</ACT>, <LOC>r. de la Chäussee-d Antin</LOC>. <CARDINAL> </CARDINAL>. <TITRE>JEII</TITRE>\n",
      "\n",
      "Invalid entry, empty tags.\n",
      "\t<PER>Dufour</PER>, <ACT>march. de planches</ACT>, <LOC>r. Chapon</LOC>,<CARDINAL> </CARDINAL> 20.\n",
      "\n",
      "Invalid entry, empty tags.\n",
      "\t<PER>Dufresne (Mad.)</PER>, <ACT>lingère</ACT>, <LOC>r. S. Denis</LOC>.<CARDINAL></CARDINAL>\n",
      "\n",
      "Invalid entry, empty tags.\n",
      "\t<PER>Dufour</PER>, <ACT>march. de vins</ACT>, <LOC>r. Ste.-Margnerite. S.-German</LOC> o<CARDINAL></CARDINAL>.\n",
      "\n",
      "Invalid entry, empty tags.\n",
      "\t<PER>Michonnet</PER>; <ACT>Maçon</ACT>, <LOC>petile r. Taranne</LOC>, <CARDINAL></CARDINAL> 403\n",
      "\n",
      "Suspect char@060: † (0x2020 DAGGER -- cat.: Po)\n",
      "Suspect char@028: † (0x2020 DAGGER -- cat.: Po)\n",
      "Invalid entry, empty tags.\n",
      "\t<PER>Miguet jeune</PER>, <ACT>épicier</ACT>, <LOC>r. Neuve-S.-Martin</LOC>,<CARDINAL></CARDINAL>\n",
      "\n",
      "Invalid entry, empty tags.\n",
      "\t<PER>Milcent</PER>, <ACT>peintre en bátimens</ACT>, <LOC>r. Buffankt</LOC>,<CARDINAL> </CARDINAL> 48\n",
      "\n",
      "Invalid entry, empty tags.\n",
      "\t<PER>Milcent</PER>, <ACT>tapiaster</ACT>, <LOC>r. Gaillon</LOC>, <CARDINAL></CARDINAL>483\n",
      "\n",
      "Invalid entry, empty tags.\n",
      "\t<PER>Millet Goebaut (J.)</PER>, <ACT>tanneur</ACT>, <LOC>r. du Faub.- LI</LOC> <CARDINAL></CARDINAL> —\n",
      "\n",
      "Invalid entry, empty tags.\n",
      "\t<PER>Roussel HeHe</PER> * ,<ACT>naturatiste</ACT>, <LOC>r. de la Tour-</LOC><CARDINAL></CARDINAL>\n",
      "\n",
      "Invalid entry, empty tags.\n",
      "\t<PER>Vache</PER>, <LOC>r. Jacob</LOC>,b<CARDINAL></CARDINAL>.\n",
      "\n",
      "Invalid entry, empty tags.\n",
      "\t<PER>Verreauk</PER>, <ACT>natirajtste</ACT>, <LOC>boul. Montmartre</LOC>,<CARDINAL></CARDINAL>\n",
      "\n",
      "Invalid entry, empty tags.\n",
      "\tp <PER>Daligny Bessière BOrlo. (Mad)</PER>, <ACT>fab.</ACT>.<LOC>r. Quincam ☞</LOC><CARDINAL></CARDINAL>\n",
      "\n",
      "Invalid entry, empty tags.\n",
      "\t<PER>Dubosca, Leloup et co,</PER> <ACT>marchi</ACT>, <LOC>r. Tracy</LOC>,<CARDINAL></CARDINAL>.\n",
      "\n",
      "Invalid entry, empty tags.\n",
      "\t<PER>Philippine</PER>, <LOC>1. Ferou</LOC>,<CARDINAL> </CARDINAL>*\n",
      "\n",
      "Invalid entry, empty tags.\n",
      "\t<PER>Avinent de Murseille</PER> <LOC>A   THeron</LOC>,<CARDINAL></CARDINAL>.\n",
      "\n",
      "Invalid entry, empty tags.\n",
      "\t<PER>m- CIE</PER>, <ACT>MT</ACT>. <LOC>HnPadlt</LOC>A<CARDINAL></CARDINAL>.\n",
      "\n",
      "Suspect char@011: † (0x2020 DAGGER -- cat.: Po)\n",
      "Invalid entry, empty tags.\n",
      "\t<PER>Hetle, M.</PER>, <LOC>† Bourhon</LOC>,<CARDINAL></CARDINAL>\n",
      "\n",
      "Invalid entry, empty tags.\n",
      "\t<PER>Berperet</PER> 1dlp<LOC>r. die Grenerle D. Derman</LOC>.<CARDINAL></CARDINAL>\n",
      "\n",
      "Invalid entry, empty tags.\n",
      "\t<PER>TRHN</PER>T, <LOC>Place des VIeIHIIeS</LOC>pI<CARDINAL></CARDINAL>\n",
      "\n",
      "Invalid entry, empty tags.\n",
      "\t<PER>Aumer</PER>, <LOC>r. d ArEOIS</LOC>.<CARDINAL></CARDINAL>\n",
      "\n",
      "Invalid entry, empty tags.\n",
      "\t<PER>AMlesstcr</PER>, Pora<LOC>k Tevacak</LOC><CARDINAL></CARDINAL>\n",
      "\n",
      "Invalid entry, empty tags.\n",
      "\t<PER>Anzou, (Mad.)</PER> 84 <LOC>r. S.-Andre-des-Arts</LOC>,<CARDINAL></CARDINAL>\n",
      "\n",
      "Invalid entry, empty tags.\n",
      "\t<PER>MatrN</PER>, R<LOC>r1 dTvedr</LOC>y<CARDINAL></CARDINAL>\n",
      "\n",
      "Invalid entry, empty tags.\n",
      "\t<PER>DeTIn</PER> vpert. <LOC>ATatHeSe</LOC>.<CARDINAL></CARDINAL>\n",
      "\n",
      "Suspect char@007: † (0x2020 DAGGER -- cat.: Po)\n",
      "Invalid entry, empty tags.\n",
      "\t<PER>Baisnée</PER>, <ACT>couleurs</ACT>, <LOC>Sèvres</LOC> Z<CARDINAL></CARDINAL>\n",
      "\n",
      "Invalid entry, empty tags.\n",
      "\t<PER>Baisnée (Mad.)</PER>, <ACT>bur. de lot. 25</ACT>, <LOC>Bourb.-Villen.</LOC>,<CARDINAL></CARDINAL>\n",
      "\n",
      "Invalid entry, empty tags.\n",
      "\t<PER>Baissey</PER> <TITRE></TITRE>, <ACT>insp. gén. enregistr.</ACT>, <LOC>Godot-de-Mauroy</LOC>,<CARDINAL>24</CARDINAL>\n",
      "\n",
      "Invalid entry, empty tags.\n",
      "\t<PER>Balvac</PER>, <LOC>Berry-Marais</LOC>,<CARDINAL></CARDINAL>\n",
      "\n",
      "Invalid entry, empty tags.\n",
      "\t<PER>Baucelin fils</PER>, <ACT>restaurateur</ACT>, <LOC>avenue de Neuilly</LOC>,<CARDINAL></CARDINAL>\n",
      "\n",
      "Invalid entry, empty tags.\n",
      "\t<PER>Baral. C* de </PER>,<LOC>Richepance</LOC>,<CARDINAL></CARDINAL>\n",
      "\n",
      "Invalid entry, empty tags.\n",
      "\t<PER>Baral</PER>, <ACT>tailleur</ACT>, <LOC>boul. Š.-Antoine</LOC>,<CARDINAL></CARDINAL>\n",
      "\n",
      "Invalid entry, empty tags.\n",
      "\t<PER>Barbançois (M&quot; de)</PER> <TITRE>O. *</TITRE>4, <ACT>colonel</ACT>, <LOC>Beaunc</LOC>,<CARDINAL></CARDINAL>\n",
      "\n",
      "Invalid entry, empty tags.\n",
      "\t<PER>Balleroy Ce de)</PER> <TITRE></TITRE>, <LOC>Fg.-S.-Honoré</LOC>, <CARDINAL>47</CARDINAL>.\n",
      "\n",
      "Invalid entry, empty tags.\n",
      "\t<PER>Barbançois ( Mis de)</PER> <TITRE>2</TITRE>, <ACT>cup. d&apos;étdt-major</ACT>, <LOC>Perle</LOC>,!<CARDINAL></CARDINAL>\n",
      "\n",
      "Invalid entry, empty tags.\n",
      "\t<PER>Desroches (Mad.)</PER>, <ACT>mercière</ACT>, <LOC>Richelieu</LOC><CARDINAL></CARDINAL>\n",
      "\n",
      "Invalid entry, empty tags.\n",
      "\t<PER>Dessin (Ecoles royales gratuites de)</PER>, <LOC>Ecole-de-Méde- (ine</LOC>, <CARDINAL>5</CARDINAL>, et <LOC>Touraine-S.-Germain</LOC>,<CARDINAL></CARDINAL>\n",
      "\n",
      "Invalid entry, empty tags.\n",
      "\t<PER>Destains</PER>, <ACT>h. de lettres</ACT>, <LOC>pass. Petits-Pères</LOC>,<CARDINAL></CARDINAL>\n",
      "\n",
      "Invalid entry, empty tags.\n",
      "\t<PER>Devaines (Mad.</PER> <LOC>S.-Florentin</LOC>,<CARDINAL></CARDINAL>\n",
      "\n",
      "Invalid entry, empty tags.\n",
      "\t<PER>Delassault (M Champs, 81. 1les)</PER>, <ACT>r. N°-des-Petits-</ACT><CARDINAL></CARDINAL>\n",
      "\n",
      "Invalid entry, empty tags.\n",
      "\t<PER>Delestre</PER>, <LOC>r. Vaucanson</LOC>,<CARDINAL></CARDINAL>\n",
      "\n",
      "Invalid entry, empty tags.\n",
      "\t<PER>Demanche (Mc)</PER>, <LOC>r. des Fossés- Montmartre</LOC>,<CARDINAL></CARDINAL>\n",
      "\n",
      "Invalid entry, empty tags.\n",
      "\t<PER>Faneau frères</PER>, <ACT>et nouveautés,</ACT> <LOC>r. du Pas-de-la-Mule</LOC>,<CARDINAL></CARDINAL>\n",
      "\n",
      "Invalid entry, empty tags.\n",
      "\t<PER>Finot (Mlle</PER> <LOC>r. Thiroux</LOC>,<CARDINAL></CARDINAL>\n",
      "\n",
      "Invalid entry, empty tags.\n",
      "\t<PER>Garnot (Mad.)</PER>, <LOC>r. N°-des-Capu- 3. cines</LOC>,<CARDINAL></CARDINAL>\n",
      "\n",
      "Invalid entry, empty tags.\n",
      "\t<PER>Havet (Mad.)</PER>, <LOC>r. du Pourtour-S.- Gervais</LOC>,<CARDINAL></CARDINAL>\n",
      "\n",
      "Invalid entry, empty tags.\n",
      "\t<PER>Papin et Blaiseau (Milss)</PER>, <LOC>r. N-</LOC><CARDINAL></CARDINAL>\n",
      "\n",
      "Invalid entry, empty tags.\n",
      "\t<PER>Cramaille</PER>, <LOC>r. de Provence</LOC>,<CARDINAL></CARDINAL>\n",
      "\n",
      "Invalid entry, empty tags.\n",
      "\t<PER>De Lanneau fils</PER> <TITRE></TITRE>, voyez Lanneau.\n",
      "\n",
      "Invalid entry, empty tags.\n",
      "\t<PER>Delaroche (Paul)</PER> <TITRE>O. X</TITRE>, <ACT>peintre</ACT>, <LOC>Tour-des-Dames</LOC>,<CARDINAL></CARDINAL>\n",
      "\n",
      "Suspect char@011: € (0x20ac EURO SIGN -- cat.: Sc)\n",
      "Invalid entry, empty tags.\n",
      "\t<PER>Lacarrière</PER> <TITRE></TITRE>,<ACT> fonderies, bronzes et appareils pour le gaz</ACT>, <LOC>Ne-St-Laurent</LOC>, <CARDINAL>6</CARDINAL>.\n",
      "\n",
      "Invalid entry, empty tags.\n",
      "\t<PER>bacaze</PER>, <ACT>fact. à la Vallée</ACT>, <LOC>Pont-de-Lodi</LOC>,<CARDINAL></CARDINAL>\n",
      "\n",
      "Invalid entry, empty tags.\n",
      "\t<PER>Lacombe</PER>, <ACT>h. garni</ACT>, <LOC>Cité Bergère</LOC>,<CARDINAL></CARDINAL>\n",
      "\n",
      "Invalid entry, empty tags.\n",
      "\t—man, 28. <PER>Leconte et Mauppin</PER>, <ACT>en gros</ACT>, <LOC>r. Croix-des-Pet.-Champs</LOC>,<CARDINAL></CARDINAL>\n",
      "\n",
      "Invalid entry, empty tags.\n",
      "\t<PER>Morand</PER>, <ACT>fournit. de chapellerie</ACT>, <LOC>r. Vieille-du-Temple</LOC>,<CARDINAL></CARDINAL>\n",
      "\n",
      "Invalid entry, empty tags.\n",
      "\t<PER>Desvignes</PER>, <ACT>vin</ACT>, <LOC>St-Maurice, Grande-Rue</LOC>,<CARDINAL></CARDINAL>\n",
      "\n",
      "Invalid entry, empty tags.\n",
      "\t<PER>Didiot (Maurice-Hippolyte)</PER>, <ACT>bois</ACT>, <LOC>Lyon</LOC>,<CARDINAL></CARDINAL>\n",
      "\n",
      "Invalid entry, empty tags.\n",
      "\t<PER>Drouard</PER>, <ACT>fab. de poterie</ACT>, <LOC>Popincourt</LOC>,<CARDINAL></CARDINAL>\n",
      "\n",
      "Invalid entry, empty tags.\n",
      "\t<PER>Fouquet (Robert-Michel)</PER> , <ACT>entrepreneur</ACT>, <LOC>Londres</LOC>,<CARDINAL></CARDINAL>\n",
      "\n",
      "Invalid entry, empty tags.\n",
      "\t<PER>Galichon (Louis</PER> <ACT>négoc. en vins</ACT>, <LOC>Guillaume</LOC>,<CARDINAL></CARDINAL>\n",
      "\n",
      "Invalid entry, empty tags.\n",
      "\t<PER>Garnier (Auguste)</PER>, <ACT>métaux</ACT>, <LOC>St-Pierre-Popincourt</LOC>,<CARDINAL></CARDINAL>\n",
      "\n",
      "Invalid entry, empty tags.\n",
      "\t<PER>Gaume aîné (Jean)</PER> , <ACT>libraire-éditeur</ACT>, <LOC>Cassette</LOC>,<CARDINAL></CARDINAL>\n",
      "\n",
      "Invalid entry, empty tags.\n",
      "\t<PER>Gaussen (Maxime </PER>,<ACT>fab. de châles</ACT>, <LOC>Banque</LOC>,<CARDINAL></CARDINAL>\n",
      "\n",
      "Invalid entry, empty tags.\n",
      "\t<PER>Lasserre</PER>, <ACT>fab. d&apos;instrum. d   e chirurg.</ACT>, <LOC>Cloftre-</LOC><CARDINAL></CARDINAL>\n",
      "\n",
      "Invalid entry, empty tags.\n",
      "\t<PER>Lion (Mayer</PER> <ACT>fab. de châles</ACT>, <LOC>pl. des Petits-Pères</LOC>,<CARDINAL></CARDINAL>\n",
      "\n",
      "Invalid entry, empty tags.\n",
      "\t<PER>Massez (Martin)</PER> <ACT>chaussures</ACT>, <LOC>Martel</LOC>,<CARDINAL></CARDINAL>\n",
      "\n",
      "Invalid entry, empty tags.\n",
      "\t<PER>Milori (Sylvain)</PER>, <ACT>couleurs</ACT>, <LOC>Barre-du-Bec</LOC>,<CARDINAL></CARDINAL>\n",
      "\n",
      "Invalid entry, empty tags.\n",
      "\t<PER>Lecoffre Jacques)</PER>, <ACT>libraire</ACT><LOC></LOC><CARDINAL></CARDINAL>\n",
      "\n",
      "Invalid entry, empty tags.\n",
      "\t<PER>Ducreux</PER>, <ACT>imprim. lithogr.</ACT> <LOC>Faub.-St-Marlin</LOC>,<CARDINAL></CARDINAL>\n",
      "\n",
      "Invalid entry, empty tags.\n",
      "\t<PER>Ducros le Sixl </PER>&quot;*<TITRE></TITRE>, <ACT>avocat</ACT>, <LOC>Casselte</LOC>, <CARDINAL>15</CARDINAL>.\n",
      "\n",
      "Invalid entry, empty tags.\n",
      "\t<PER>Germain</PER>, <ACT>laines</ACT>, <LOC>Hauteville</LOC>,<CARDINAL></CARDINAL>\n",
      "\n",
      "Invalid entry, empty tags.\n",
      "\t<PER>Germain (A.)</PER>, <TITRE></TITRE>. <PER>et co.</PER>, <ACT>soies en gros</ACT>, <LOC>Echiquier</LOC>, <CARDINAL>30</CARDINAL>.\n",
      "\n",
      "Invalid entry, empty tags.\n",
      "\t<PER>Germain-Petit et Dupérier</PER> <TITRE></TITRE>. <ACT>drap.</ACT>, <LOC>av. Montaigue</LOC>, <CARDINAL>53</CARDINAL>.\n",
      "\n",
      "Invalid entry, empty tags.\n",
      "\t<PER>Aréra</PER>. <TITRE></TITRE>. <LOC>Barillerie</LOC>, <CARDINAL>3</CARDINAL>.\n",
      "\n",
      "Invalid entry, empty tags.\n",
      "\t<PER>c</PER><ACT>int. cl éc2</ACT> <LOC>St-</LOC><CARDINAL></CARDINAL>\n",
      "\n",
      "Invalid entry, empty tags.\n",
      "\t<PER>Gillet fr. et soeur</PER>, <ACT>fab. soies teintes 225.227. et écr.</ACT>, <LOC>St-Denis</LOC>,<CARDINAL></CARDINAL>\n",
      "\n",
      "Invalid entry, empty tags.\n",
      "\t<PER>Mauppin</PER> <TITRE>K</TITRE>E, <LOC>N.-D.-Vicloires</LOC>.<CARDINAL></CARDINAL>\n",
      "\n",
      "Invalid entry, empty tags.\n",
      "\t<PER>Raffart</PER> <TITRE></TITRE>, <LOC>St-Denis</LOC>, <CARDINAL>374</CARDINAL>.\n",
      "\n",
      "Invalid entry, empty tags.\n",
      "\t<PER>Sciama (N.)</PER>, <ACT>soie écr. de t. prov.</ACT>,<LOC> 40. Hauteville</LOC>,<CARDINAL></CARDINAL>\n",
      "\n",
      "Invalid entry, empty tags.\n",
      "\t<PER>Collin et comp</PER>. <ACT>imp. sur étof.</ACT> <LOC>St Louis en PIle</LOC>.<CARDINAL></CARDINAL>\n",
      "\n",
      "Invalid entry, empty tags.\n",
      "\t<PER>Vollot</PER> <ACT>SCLIUr.</ACT> <LOC>Pontaux Ch.</LOC><CARDINAL></CARDINAL>\n",
      "\n",
      "Invalid entry, empty tags.\n",
      "\t<PER>Combet</PER>, <ACT>times</ACT>. <LOC>Beautreillis</LOC>.<CARDINAL></CARDINAL>\n",
      "\n",
      "Invalid entry, empty tags.\n",
      "\t<PER>Menut</PER>, <ACT>mécan.</ACT> <LOC>Pépinière</LOC>,<CARDINAL></CARDINAL>\n",
      "\n",
      "Invalid entry, empty tags.\n",
      "\t<PER>Mercier (le baron</PER> <TITRE></TITRE>,<ACT>dep.</ACT> <LOC>Godot</LOC>, <CARDINAL>1</CARDINAL>.\n",
      "\n",
      "Invalid entry, empty tags.\n",
      "\t<PER>Mercier</PER>, <ACT>taptss.</ACT> <LOC>St Vincent de Paul</LOC>,<CARDINAL></CARDINAL>\n",
      "\n",
      "Invalid entry, empty tags.\n",
      "\t<PER>Mérilhou</PER> <TITRE></TITRE>, <ACT>cons. c. de c.</ACT> <LOC>Moulins</LOC>, <CARDINAL>15</CARDINAL>.\n",
      "\n",
      "Invalid entry, empty tags.\n",
      "\t<PER>Fetit</PER>, <ACT>layet.</ACT> <LOC>Martyrs</LOC>,<CARDINAL></CARDINAL>\n",
      "\n",
      "Invalid entry, empty tags.\n",
      "\t<PER>Petitet-Fassier</PER>, <ACT>nouv.</ACT> <LOC>Mauv. Paroles</LOC>,<CARDINAL></CARDINAL>\n",
      "\n",
      "Invalid entry, empty tags.\n",
      "\t<PER>P&apos;etitpont</PER>, <ACT>prop.</ACT> <LOC>Ste Anastase</LOC>,<CARDINAL></CARDINAL>.\n",
      "\n",
      "Invalid entry, empty tags.\n",
      "\t<PER>Stockuy</PER>, <ACT>serrur, en vort.</ACT> <LOC>Pépinière</LOC>.Z<CARDINAL></CARDINAL>\n",
      "\n",
      "Invalid entry, empty tags.\n",
      "\t<PER>Strauss</PER>, <ACT>tailt</ACT>. <LOC>Prêtres St Germ. RA</LOC><CARDINAL></CARDINAL>\n",
      "\n",
      "Invalid entry, empty tags.\n",
      "\t<PER>Surmont, Brebien et Collin</PER>, <ACT>totles</ACT>, <LOC>Bertin 22. Poirée</LOC><CARDINAL></CARDINAL>.\n",
      "\n",
      "Invalid entry, empty tags.\n",
      "\t<PER>Suser</PER>, <ACT>chauss.</ACT> <LOC>boul Bonne Nouv.</LOC> <CARDINAL></CARDINAL>.\n",
      "\n",
      "Invalid entry, empty tags.\n",
      "\t<PER>Bernard </PER><LOC>r. Grenier St Lazare</LOC>,<CARDINAL></CARDINAL>\n",
      "\n",
      "Invalid entry, empty tags.\n",
      "\t<PER>Delille</PER>, <LOC>r. de la Poterie des Arcis</LOC>,<CARDINAL></CARDINAL>.\n",
      "\n",
      "Invalid entry, empty tags.\n",
      "\t<PER>Thomas</PER> <LOC>Bourbon-Villeneuve</LOC><CARDINAL></CARDINAL>\n",
      "\n",
      "Invalid entry, empty tags.\n",
      "\t<PER>VOOg</PER> <LOC>ruc du Bac</LOC><CARDINAL></CARDINAL>\n",
      "\n",
      "Invalid entry, empty tags.\n",
      "\t<PER>PILLOT</PER>, <LOC>Palais-Rova</LOC><CARDINAL></CARDINAL>\n",
      "\n",
      "Invalid entry, empty tags.\n",
      "\t<PER>RIEUR</PER>, <LOC>I.St.-Honore</LOC><CARDINAL></CARDINAL>\n",
      "\n",
      "Invalid entry, empty tags.\n",
      "\t<PER>HENALDY</PER> <LOC>r. NeUVeSt</LOC>.<CARDINAL></CARDINAL>.\n",
      "\n",
      "Invalid entry, empty tags.\n",
      "\t<PER>DURNEY</PER>, <LOC>r. Ste.-Anne</LOC>,<CARDINAL></CARDINAL><ACT> 1</ACT>.\n",
      "\n",
      "Invalid entry, empty tags.\n",
      "\t<PER>DUBRILLE</PER> <LOC>I. du BaC</LOC><CARDINAL></CARDINAL>\n",
      "\n",
      "Invalid entry, empty tags.\n",
      "\t<PER>Durand fils et comp.</PER>, <ACT>negocians, pelleterie</ACT><LOC> Marie-Stuart</LOC>.<CARDINAL></CARDINAL>\n",
      "\n",
      "Invalid entry, empty tags.\n",
      "\t<PER>Durand fils</PER>, <ACT>tourn, sur metaux</ACT>, <LOC>r. du Faub.-  Poissonniére</LOC>.<CARDINAL></CARDINAL>\n",
      "\n",
      "Invalid entry, empty tags.\n",
      "\t<PER>Durand-Badoulleau</PER>, <ACT>drog.</ACT>, <LOC>r. des Vieilles- Audriettes</LOC><CARDINAL></CARDINAL>\n",
      "\n",
      "Invalid entry, empty tags.\n",
      "\t<PER>Durand-Badouileau</PER>, <ACT>commiss. en marchand.</ACT>,<LOC> 1. des Vieilles-Audriettes</LOC><CARDINAL></CARDINAL>\n",
      "\n",
      "Invalid entry, empty tags.\n",
      "\t<PER>Durand-Gillet</PER>, <ACT>f. aiguilles à bas</ACT>, <LOC>r. de Cha- rentom</LOC><CARDINAL></CARDINAL>\n",
      "\n",
      "Invalid entry, empty tags.\n",
      "\t<PER>Durn fils</PER>, <ACT>f. pot. de terre</ACT>, <LOC>r. de la Roquette</LOC>,<CARDINAL> </CARDINAL><LOC>faub. St.-Antoine</LOC>.\n",
      "\n",
      "Invalid entry, empty tags.\n",
      "\t<PER>Duruflé</PER>, <ACT>huiles</ACT>, <LOC>r.d&apos; Enghien</LOC>,<CARDINAL></CARDINAL>\n",
      "\n",
      "Invalid entry, empty tags.\n",
      "\t<PER>Dusaussay Demély et comp.</PER>, <ACT>toiles blanches</ACT><LOC> 1-Por</LOC><CARDINAL></CARDINAL>\n",
      "\n",
      "Invalid entry, empty tags.\n",
      "\t<PER>Dusaussois</PER>, <ACT>pot. d etain</ACT>, <LOC>r. des Boucheries</LOC>.<CARDINAL></CARDINAL>\n",
      "\n",
      "Invalid entry, empty tags.\n",
      "\t<PER>Dussausse</PER>, <ACT>boulangerie</ACT>, <LOC>r. du Rocher</LOC>,<CARDINAL></CARDINAL>\n",
      "\n",
      "Invalid entry, empty tags.\n",
      "\t<PER>Legrain</PER>. <ACT>f.souflets</ACT>, <LOC>r. de Lappe</LOC>.<CARDINAL></CARDINAL>\n",
      "\n",
      "Invalid entry, empty tags.\n",
      "\t<PER>Legrand</PER>, <ACT>bois à oeuvrer et bois de détail</ACT>, <LOC>r. (e iversité</LOC>.<CARDINAL></CARDINAL>\n",
      "\n",
      "Invalid entry, empty tags.\n",
      "\t<PER>Legrand</PER>, <ACT>f. peignes</ACT>, <LOC>r. Chapon</LOC>,<CARDINAL></CARDINAL>\n",
      "\n",
      "Invalid entry, empty tags.\n",
      "\t<PER>Degrand  </PER> <ACT>tIblcaux</ACT>. <LOC>r.de Clery</LOC>.9<CARDINAL></CARDINAL>.\n",
      "\n",
      "Invalid entry, empty tags.\n",
      "\t<PER>Legrand</PER>, <ACT>tonnell</ACT> <LOC>r. Thiroux</LOC>,<CARDINAL></CARDINAL>\n",
      "\n",
      "Invalid entry, empty tags.\n",
      "\t<PER>Legrand jeune</PER>, <ACT>menuis. en m.</ACT>, <LOC>r. et imp. du Phon</LOC>.<CARDINAL></CARDINAL>\n",
      "\n",
      "Invalid entry, empty tags.\n",
      "\t<PER>Leguin</PER>, <ACT>pot. de terre</ACT>, <LOC>r. N.St.Medard</LOC>,<CARDINAL></CARDINAL>\n",
      "\n",
      "Invalid entry, empty tags.\n",
      "\t<PER>Leguillez</PER>, <ACT>h. de Boulogne</ACT>, <LOC>r. Poissonn.</LOC>,<CARDINAL></CARDINAL>\n",
      "\n",
      "Invalid entry, empty tags.\n",
      "\t<PER>Legav,</PER> <ACT>bouch.</ACT>, <LOC>r. du F.-du-Temple</LOC>.<CARDINAL></CARDINAL>\n",
      "\n",
      "Invalid entry, empty tags.\n",
      "\t<PER>Legros</PER>, <ACT>dent.</ACT>, <LOC>r. du Monceau-St.-Gervais</LOC>,<CARDINAL></CARDINAL>\n",
      "\n",
      "Invalid entry, empty tags.\n",
      "\t<PER>Legros d&apos;Anizi</PER> <TITRE>7</TITRE>8, <ACT>peintre sur porcelaine</ACT>, <LOC>r.  harlot</LOC><CARDINAL></CARDINAL>\n",
      "\n",
      "Invalid entry, empty tags.\n",
      "\t<PER>Legros-Delondre</PER>, <ACT>coutell.</ACT> <LOC>Palaiš-Roval</LOC>.<CARDINAL></CARDINAL>\n",
      "\n",
      "Invalid entry, empty tags.\n",
      "\t<PER>Legros</PER>, <ACT>prof. de danse</ACT>, <LOC>q. des Orfevres</LOC>.<CARDINAL></CARDINAL>\n",
      "\n",
      "Invalid entry, empty tags.\n",
      "\t<PER>Legros (Mie)</PER>, <ACT>1. de la Paix</ACT>. <LOC>r. du CrOisSINf</LOC>.&quot;<CARDINAL></CARDINAL>\n",
      "\n",
      "Invalid entry, empty tags.\n",
      "\t<PER>LeoN</PER><ACT>eDIC</ACT> <LOC>ILacdues</LOC>.<CARDINAL></CARDINAL>\n",
      "\n",
      "Invalid entry, empty tags.\n",
      "\t<PER>Legris</PER>, <ACT>peint en bat.</ACT> <LOC>r. du Faub.-Montí.</LOC><CARDINAL></CARDINAL>\n",
      "\n",
      "Invalid entry, empty tags.\n",
      "\t<PER>Legris</PER>, <ACT>menuis. en meub.</ACT>, <LOC>r. Charenton</LOC>,<CARDINAL></CARDINAL>\n",
      "\n",
      "Invalid entry, empty tags.\n",
      "\t<PER>Legris (Al.)</PER>, <ACT>herbor.</ACT>, <LOC>r. du F.-St.-Ant.</LOC>.<CARDINAL></CARDINAL>\n",
      "\n",
      "Invalid entry, empty tags.\n",
      "\t<PER>Legrand</PER>, <ACT>culott., pas</ACT><LOC>s</LOC><ACT>. de l&apos;Opéra</ACT>, <LOC>gal. de THorloge</LOC>.<CARDINAL></CARDINAL>\n",
      "\n",
      "Invalid entry, empty tags.\n",
      "\t<PER>CHALMEL</PER>, <LOC>r. Bleue</LOC>,<CARDINAL></CARDINAL>\n",
      "\n",
      "Invalid entry, empty tags.\n",
      "\t<PER>DARCHE aine</PER>. <ACT>Dépot de verres bombés, porce- laines et cristaux</ACT>; <LOC>boulev. St -Marlin</LOC>. <CARDINAL></CARDINAL>.\n",
      "\n",
      "Invalid entry, empty tags.\n",
      "\t<PER>DUCHEMIN</PER>. <ACT>Faience, porcelaines et cristaux</ACT> <LOC>Madelei</LOC><CARDINAL></CARDINAL>\n",
      "\n",
      "Invalid entry, empty tags.\n",
      "\t<PER>DUVAL (V.)</PER>, <LOC>r. du Marché-St.-Honoré</LOC>,<CARDINAL></CARDINAL>\n",
      "\n",
      "Invalid entry, empty tags.\n",
      "\t<PER>FROGER et comp.</PER> <ACT>Et cristaux</ACT>; <LOC>r. St.-Anloine</LOC>,<CARDINAL></CARDINAL>\n",
      "\n",
      "Invalid entry, empty tags.\n",
      "\t<PER>SIR</PER><LOC>O</LOC><CARDINAL></CARDINAL>\n",
      "\n",
      "Invalid entry, empty tags.\n",
      "\t<PER>a v</PER><LOC>a</LOC><CARDINAL></CARDINAL>\n",
      "\n",
      "Invalid entry, empty tags.\n",
      "\t<PER></PER><LOC></LOC><CARDINAL></CARDINAL>\n",
      "\n",
      "Invalid entry, empty tags.\n",
      "\t<PER></PER><LOC></LOC><CARDINAL></CARDINAL>\n",
      "\n",
      "Invalid entry, empty tags.\n",
      "\t<PER>C</PER><LOC>s</LOC><CARDINAL></CARDINAL>\n",
      "\n",
      "Invalid entry, empty tags.\n",
      "\t<PER>DRNNaE</PER>a <LOC>P. MNISkd</LOC><CARDINAL></CARDINAL>\n",
      "\n",
      "Invalid entry, empty tags.\n",
      "\t<PER>DUBU</PER> <LOC>Neuve-des-Mathurins</LOC>,<CARDINAL></CARDINAL>\n",
      "\n",
      "Invalid entry, empty tags.\n",
      "\t<PER>—</PER> <LOC>- —</LOC><CARDINAL></CARDINAL>\n",
      "\n",
      "Invalid entry, empty tags.\n",
      "\t<PER>DUVAL</PER>, <LOC>r. Bleue</LOC>,<CARDINAL></CARDINAL>\n",
      "\n",
      "Invalid entry, empty tags.\n",
      "\t<PER></PER><ACT>Pose les sonne es</ACT>. <LOC>r. S.Lazáře</LOC>. <CARDINAL>rrk</CARDINAL>.\n",
      "\n",
      "Invalid entry, empty tags.\n",
      "\t<PER>í</PER> <LOC>—</LOC><CARDINAL></CARDINAL>\n",
      "\n",
      "Invalid entry, empty tags.\n",
      "\t<PER>FERAND</PER> <LOC>du Cherche-MIdl</LOC>.<CARDINAL></CARDINAL>\n",
      "\n",
      "Invalid entry, empty tags.\n",
      "\t<PER>— </PER><LOC>de Bourbou</LOC>.<CARDINAL></CARDINAL>\n",
      "\n",
      "Invalid entry, empty tags.\n",
      "\t<PER>GAUVERT</PER>, <LOC>r. Charlot</LOC>.<CARDINAL></CARDINAL>\n",
      "\n",
      "Invalid entry, empty tags.\n",
      "\t<PER>HERON</PER>. <LOC>r. Louis-le-Grand</LOC>.<CARDINAL></CARDINAL>\n",
      "\n",
      "Invalid entry, empty tags.\n",
      "\t<PER>louzelot</PER>. <ACT>merc.</ACT> <LOC>r. St. NiC.-d Anti</LOC><CARDINAL></CARDINAL>\n",
      "\n",
      "Invalid entry, empty tags.\n",
      "\t<PER>Hoyaux</PER>, <ACT>tourn. en Cuivs</ACT>, <LOC>r. Aumaire,</LOC><CARDINAL></CARDINAL>\n",
      "\n",
      "Invalid entry, empty tags.\n",
      "\t<PER>Huberland</PER> <ACT>cadres</ACT>, <LOC>—Macon</LOC><CARDINAL></CARDINAL>.\n",
      "\n",
      "Invalid entry, empty tags.\n",
      "\t<PER>Hubert</PER>, <ACT>couleurs</ACT>, <LOC>q. de THorloge</LOC>,<CARDINAL></CARDINAL>\n",
      "\n",
      "Invalid entry, empty tags.\n",
      "\t<PER>Hue</PER>, <ACT>horlog.</ACT>, <LOC>r. du F.St.-Antoine,</LOC><CARDINAL></CARDINAL>\n",
      "\n",
      "Invalid entry, empty tags.\n",
      "\t<PER>Hue et Noze</PER>, <ACT>ag. d&apos;aff.</ACT>, <LOC>r. du Port-Malion</LOC>,<CARDINAL></CARDINAL>\n",
      "\n",
      "Invalid entry, empty tags.\n",
      "\t<PER>Baillargeau</PER>, <ACT>foulards</ACT>. <LOC>Jeuneurs</LOC>,<CARDINAL></CARDINAL>\n",
      "\n",
      "Invalid entry, empty tags.\n",
      "\t<PER>Baillion</PER>, <ACT>vins</ACT>, <LOC>Gros-Chenet</LOC>,<CARDINAL></CARDINAL>\n",
      "\n",
      "Invalid entry, empty tags.\n",
      "\t<PER>Bailly (Mme)</PER>, <ACT>institutrice</ACT>, <LOC>Francs-Bourgeois- Marai</LOC><CARDINAL></CARDINAL>\n",
      "\n",
      "Invalid entry, empty tags.\n",
      "\t<PER>Bontoux</PER>, <ACT>comest. et fruits</ACT>, <LOC>Montesquieu</LOC>,<CARDINAL></CARDINAL>\n",
      "\n",
      "Invalid entry, empty tags.\n",
      "\t<PER>Bony</PER>, <ACT>cordonnier</ACT>, <LOC>St-Antoine</LOC>,<CARDINAL></CARDINAL>\n",
      "\n",
      "Invalid entry, empty tags.\n",
      "\t<PER>Bordeaux</PER>, <ACT>fabr. de roulettes</ACT>, <LOC>Louis-Philippe</LOC>,<CARDINAL></CARDINAL>\n",
      "\n",
      "Invalid entry, empty tags.\n",
      "\t<PER>Borderet</PER>, <ACT>fab. de ouates</ACT>, <LOC>Etienne</LOC>,<CARDINAL></CARDINAL>\n",
      "\n",
      "Invalid entry, empty tags.\n",
      "\t<PER>Boron</PER>, <ACT>jardinier</ACT>, <LOC>St-Ambroise-Popincourt</LOC>, <CARDINAL></CARDINAL> ct <CARDINAL>7</CARDINAL>.\n",
      "\n",
      "Invalid entry, empty tags.\n",
      "\t<PER>Bosio</PER>, <TITRE>O. * (de l&apos;Institut)</TITRE>, <ACT>sculpteur-artiste</ACT><LOC></LOC><CARDINAL></CARDINAL>\n",
      "\n",
      "Invalid entry, empty tags.\n",
      "\t<PER>Chatelain jeune</PER>, <ACT>épicier</ACT>, <LOC>Fossés-St-Germain- Auxerrois</LOC>,<CARDINAL></CARDINAL>\n",
      "\n",
      "Invalid entry, empty tags.\n",
      "\t<PER>Legaye</PER>, <ACT>menuisier</ACT>, <LOC>Fosses-St-Germ.-l&apos;Aux.</LOC>,<CARDINAL></CARDINAL>\n",
      "\n",
      "Invalid entry, empty tags.\n",
      "\t<PER>Legrand</PER>, <ACT>ceinturonn.-sellier</ACT>, <LOC>Simon-le-Franc</LOC>,<CARDINAL></CARDINAL>\n",
      "\n",
      "Invalid entry, empty tags.\n",
      "\t<PER>Legrand</PER>, <ACT>fab. de brosses, tab&apos;ette rie</ACT>, <LOC>Salle-au- CO</LOC><CARDINAL></CARDINAL>\n",
      "\n",
      "Invalid entry, empty tags.\n",
      "\t<PER>Legrand</PER>, <ACT>fab. de cafetières</ACT>, <LOC>Louis-Philippe</LOC>,<CARDINAL></CARDINAL>\n",
      "\n",
      "Invalid entry, empty tags.\n",
      "\t<PER>Legrand</PER>, <ACT>tourneur en tout genre</ACT>, <LOC>St-Bernard</LOC>,<CARDINAL></CARDINAL>\n",
      "\n",
      "Invalid entry, empty tags.\n",
      "\t<PER>Boissaye</PER> <TITRE></TITRE> et <PER>Francoeur</PER> , <ACT>ca- licots forts, calicots blancs et ecrus, jaconas pour l&apos;impression, coutils pour pantalons</ACT>, <LOC>Sentier</LOC>,<CARDINAL> 20</CARDINAL>; ( Amiens 1836.\n",
      "\n",
      "Invalid entry, empty tags.\n",
      "\t<PER>Charpentier</PER>, <ACT>fab. calicots, coulisses pour faux cols et gigots</ACT>, <LOC>Grenetat</LOC>,<CARDINAL></CARDINAL>\n",
      "\n",
      "Invalid entry, empty tags.\n",
      "\t<PER>Delavallee (Mme A. ) et Riquier</PER>,<LOC> 27. Ponceau</LOC>,<CARDINAL></CARDINAL>\n",
      "\n",
      "Invalid entry, empty tags.\n",
      "\t<PER>Trottier</PER>, <ACT>lampiste</ACT>, <LOC>St-Honoré</LOC><CARDINAL></CARDINAL>\n",
      "\n",
      "Invalid entry, empty tags.\n",
      "\t<PER>Trouvin</PER>, <LOC>Marché-Neuf</LOC>,<CARDINAL></CARDINAL>\n",
      "\n",
      "Invalid entry, empty tags.\n",
      "\t<PER>Vauvray</PER>, <LOC>boul. Bonne-Nouvelle</LOC>,<CARDINAL></CARDINAL>\n",
      "\n",
      "Invalid entry, empty tags.\n",
      "\t<PER>Aublin et Vagneur</PER>, <ACT>Café Concert</ACT>, <LOC>Madame</LOC>,<CARDINAL></CARDINAL>\n",
      "\n",
      "Invalid entry, empty tags.\n",
      "\t<PER>Darragon</PER>, <ACT>avocat à la cour d&apos;appel</ACT>, <LOC>quai aux . Fleurs</LOC>.<CARDINAL></CARDINAL>\n",
      "\n",
      "Invalid entry, empty tags.\n",
      "\t<PER>Dasseville (B.), et Cie</PER>, <ACT>comptoir central d&apos;es- compte de prèts hypothécaires</ACT>, <LOC>place de la Bourse</LOC><CARDINAL></CARDINAL>\n",
      "\n",
      "Invalid entry, empty tags.\n",
      "\t<PER>Daumard</PER>, <ACT>bijoutier en doré</ACT>, <LOC>Michel-ie-Comte</LOC>,<CARDINAL></CARDINAL>\n",
      "\n",
      "Invalid entry, empty tags.\n",
      "\t<PER>Daunou (A.)</PER>, <ACT>apprèts à la vapeur</ACT>, <LOC>Amelot</LOC>,<CARDINAL></CARDINAL>\n",
      "\n",
      "Invalid entry, empty tags.\n",
      "\t<PER>Gauthier-d&apos;Hauteserve</PER> <TITRE></TITRE>, <ACT>conseiller-maître à la cour des comptes</ACT>, <LOC>Basse-du-Rempart</LOC>, <CARDINAL>66</CARDINAL>.\n",
      "\n",
      "Invalid entry, empty tags.\n",
      "\t<PER>Gauthier de Lizoles</PER> <TITRE>O. *</TITRE>/, <ACT>conseiller-maître à la cour des comptes</ACT>, <LOC>St-Dominique-St-Germ.</LOC>,<CARDINAL></CARDINAL>\n",
      "\n",
      "Invalid entry, empty tags.\n",
      "\t<PER>Gautier</PER>, <ACT>facteur à la Vallée</ACT>, <LOC>Pavée-St-André</LOC>,<CARDINAL></CARDINAL>\n",
      "\n",
      "Invalid entry, empty tags.\n",
      "\t<PER>Gautier, C.</PER> <TITRE></TITRE>, <ACT>sous-gouverneur à la Banque</ACT>.\n",
      "\n",
      "Invalid entry, empty tags.\n",
      "\t<PER>Gautier (Alph.)</PER> <TITRE></TITRE>, <ACT>secrétaire de la liquidation générale de l&apos;ancienne liste civile et du do- maine privé</ACT>, <LOC>Varennes</LOC>, <CARDINAL>55</CARDINAL>.\n",
      "\n",
      "Invalid entry, empty tags.\n",
      "\t<PER>Gauvain fils</PER>, <ACT>cordonnier</ACT>, <LOC>Faub. - St -Martin</LOC>,<CARDINAL></CARDINAL>\n",
      "\n",
      "Invalid entry, empty tags.\n",
      "\t<PER>Gavarret</PER> <TITRE></TITRE>, <ACT>prof. de physique à la faculté de medecine</ACT>, <LOC>Grenelle-St-Germain</LOC>, <CARDINAL>49</CARDINAL>.\n",
      "\n",
      "Invalid entry, empty tags.\n",
      "\t<PER>Vasserot</PER>, <ACT>avocat à la cour d&apos;appel</ACT>, <LOC>Saintonge</LOC>,<CARDINAL></CARDINAL>\n",
      "\n",
      "Invalid entry, empty tags.\n",
      "\t<PER>Vaternelle frères</PER>, <ACT>fab. de peignes</ACT>, <LOC>Ponceau</LOC>,<CARDINAL></CARDINAL>\n",
      "\n",
      "Invalid entry, empty tags.\n",
      "\t<PER>Vaudet</PER>, <ACT>serrurier</ACT>, <LOC>Bracque</LOC>,<CARDINAL></CARDINAL>\n",
      "\n",
      "Invalid entry, empty tags.\n",
      "\t<PER>Vauthier</PER>, <ACT>instituteur</ACT>, <LOC>Four-St-Germain</LOC>,<CARDINAL></CARDINAL>\n",
      "\n",
      "Invalid entry, empty tags.\n",
      "\t<PER>Vavasseur</PER>, <ACT>meubles</ACT>, <LOC>St-Jacques-la-Boucherie</LOC>,<CARDINAL></CARDINAL>\n",
      "\n",
      "Invalid entry, empty tags.\n",
      "\t<PER>Vavin</PER>, <ACT>représentant du peuple (Seine), mem- bre du conseil général</ACT>, <LOC>Saint-Dominique</LOC>,<CARDINAL></CARDINAL>\n",
      "\n",
      "Invalid entry, empty tags.\n",
      "\t<PER>Vié</PER>, <ACT>potier d&apos;étain</ACT>, <LOC>Faub.-St-Honoré</LOC>,<CARDINAL></CARDINAL>\n",
      "\n",
      "Invalid entry, empty tags.\n",
      "\t<PER>Vié (E.)</PER>, <ACT>représentant de commerce</ACT>, <LOC>François- Miron</LOC>, <CARDINAL>4</CARDINAL>.<TITRE></TITRE>\n",
      "\n",
      "Invalid entry, empty tags.\n",
      "\t<PER>Viel et Cie</PER>, <ACT>lait antéphelique</ACT>, <LOC>boul. St-Denis</LOC>,<CARDINAL></CARDINAL><TITRE></TITRE>\n",
      "\n",
      "Invalid entry, empty tags.\n",
      "\t<PER>Viel</PER>, <ACT>secrétaire d&apos;état-major</ACT>, <LOC>allée des Veuves</LOC>,<CARDINAL></CARDINAL>\n",
      "\n",
      "Invalid entry, empty tags.\n",
      "\t<PER>Vienne (de)</PER> <TITRE></TITRE>, <ACT>conseiller-référendaire</ACT>, <LOC>Pro- vence</LOC>, <CARDINAL>2</CARDINAL>.\n",
      "\n",
      "Invalid entry, empty tags.\n",
      "\t<PER>Vigan</PER>, <ACT>ancien tapissier</ACT>, <LOC>Neuve-des-Mathurins</LOC>,<CARDINAL></CARDINAL>\n",
      "\n",
      "Invalid entry, empty tags.\n",
      "\t<PER>Vignes</PER> <TITRE></TITRE>, <ACT>chef de bureau à l&apos;administration des contributions directes</ACT>, <LOC>Madeleine</LOC>, <CARDINAL>3</CARDINAL>.\n",
      "\n",
      "Invalid entry, empty tags.\n",
      "\t<PER>Vigny (Cte A. de)</PER> <TITRE>*</TITRE>, <ACT>de l&apos;Institut</ACT>, <LOC>Réforme</LOC>,<CARDINAL></CARDINAL>\n",
      "\n",
      "Invalid entry, empty tags.\n",
      "\t<PER>Vigourel et Cie</PER>, <ACT>escompte et recouvrements</ACT>,<LOC> Neuve-St-Augustin</LOC>, <CARDINAL>20</CARDINAL>.<TITRE></TITRE>\n",
      "\n",
      "Invalid entry, empty tags.\n",
      "\t<PER>Vigoureux (Vor )</PER>, <ACT>layetier</ACT>, <LOC>St-Marc-Feydeau</LOC>,<CARDINAL></CARDINAL>\n",
      "\n",
      "Invalid entry, empty tags.\n",
      "\t<PER>Vigouroux</PER>, <ACT>au ministère des finances</ACT>, <LOC>Alger</LOC>,<CARDINAL></CARDINAL>\n",
      "\n",
      "Invalid entry, empty tags.\n",
      "\t<PER>Vigouroux (Mme)</PER>, <ACT>fab. de corsets</ACT>, <LOC>Louis-le- Grand</LOC>, <CARDINAL>29</CARDINAL>.<TITRE></TITRE>\n",
      "\n",
      "Invalid entry, empty tags.\n",
      "\t<PER>Viguès frères</PER>, <ACT>bois des îles</ACT>, <LOC>Faub.-St-An- toine</LOC>, <CARDINAL>59</CARDINAL>.<TITRE></TITRE>\n",
      "\n",
      "Invalid entry, empty tags.\n",
      "\t<PER>Viguié (Jacques-Frédéric)</PER>, <ACT>métaux, fontes et zinc</ACT>, <LOC>Bergère</LOC>, <CARDINAL>32</CARDINAL>.<TITRE></TITRE>\n",
      "\n",
      "Invalid entry, empty tags.\n",
      "\t<PER>Viguier (A.)</PER>2<TITRE></TITRE>, <ACT>référend. à la cour des comptes</ACT>,<LOC> Bac</LOC>, <CARDINAL>35</CARDINAL>.\n",
      "\n",
      "Invalid entry, empty tags.\n",
      "\t<PER>Vilatte</PER>, <ACT>pharmacien</ACT>, <LOC>St-Honoré</LOC>, <CARDINAL>232.</CARDINAL><TITRE></TITRE>\n",
      "\n",
      "Invalid entry, empty tags.\n",
      "\t<PER>Villain (J.)</PER>, <ACT>ingénieur civil</ACT>, <LOC>St-Germain-des— Prés</LOC>, <CARDINAL>12</CARDINAL>.<TITRE></TITRE>\n",
      "\n",
      "Invalid entry, empty tags.\n",
      "\t<PER>Villain ainé</PER>, <ACT>quincaillerie</ACT>, <LOC>Faub.-Poissonnière</LOC>,<CARDINAL> 42</CARDINAL>.<TITRE></TITRE>\n",
      "\n",
      "Invalid entry, empty tags.\n",
      "\t<PER>Duſoy</PER>, <LOC>Amandiers-Popincourt</LOC> A<CARDINAL></CARDINAL>\n",
      "\n",
      "Invalid entry, empty tags.\n",
      "\t<PER>Gaudrin (Vve)</PER>,<LOC>N.-D.-des-Champs</LOC>,<CARDINAL></CARDINAL>\n",
      "\n",
      "Invalid entry, empty tags.\n",
      "\t<PER>Gauthier</PER>, <ACT>entreprend les jardins bourgeois à l&apos;année et à la journ., tient un assortiment de plantes et arbustes</ACT> et fait tout ce qui concerne son état, à <LOC>Belleville, r. de Beaune</LOC>.<CARDINAL></CARDINAL>\n",
      "\n",
      "Invalid entry, empty tags.\n",
      "\t<PER>Guerin-Modeste</PER>, <TITRE> 1845-40</TITRE>,<LOC> Boule</LOC><CARDINAL></CARDINAL>\n",
      "\n",
      "Invalid entry, empty tags.\n",
      "\t<PER>Herault fils</PER>, <LOC>impasse du Maine</LOC>,<CARDINAL></CARDINAL>\n",
      "\n",
      "Invalid entry, empty tags.\n",
      "\t— <PER>Huchet père (André)</PER>, <LOC>Montreuil</LOC>,<CARDINAL></CARDINAL>\n",
      "\n",
      "Invalid entry, empty tags.\n",
      "\t<PER>Jamain (Vve)</PER>, <LOC>Fosses-St-Marcel</LOC>,<CARDINAL></CARDINAL>\n",
      "\n",
      "Invalid entry, empty tags.\n",
      "\t<PER>Jolly (Vve)</PER>, <LOC>boulev. de l&apos;Hôpital</LOC>,<CARDINAL></CARDINAL>\n",
      "\n",
      "Invalid entry, empty tags.\n",
      "\t<PER>Julienne</PER>, <LOC>Grande-Rue de Reuilly</LOC>,<CARDINAL></CARDINAL>\n",
      "\n",
      "Invalid entry, empty tags.\n",
      "\t<PER>Lenain</PER>, <LOC>Cisalpine</LOC>,<CARDINAL></CARDINAL>\n",
      "\n",
      "Invalid entry, empty tags.\n",
      "\t<PER>Levêque dit René</PER>, <ACT>culture spé- ciale de rosiers remontants</ACT>, en- tendu qu&apos;ils sont cultivés en pots pouvant être expédiés en toutes saisons, expédie en province et à l&apos;etranger ; <TITRE>O 1817</TITRE>, et dix <TITRE></TITRE> à diverses expositions, <LOC>boul. de * l&apos;Hôpital</LOC>, <CARDINAL>134</CARDINAL>\n",
      "\n",
      "Invalid entry, empty tags.\n",
      "\t<PER>Poirier-Tavernier</PER>, <LOC>Epée-de-Bois</LOC>,<CARDINAL></CARDINAL>\n",
      "\n",
      "Invalid entry, empty tags.\n",
      "\t<PER>Thenier-Toquet</PER>, <LOC>Croix-Boissière</LOC>,<CARDINAL></CARDINAL>\n",
      "\n",
      "Invalid entry, empty tags.\n",
      "\t<PER>Verdier (E ) fils ainé</PER>, <ACT>culture spécale de rosiers et camélias</ACT>, expedition pour la France et l&apos;é- trunger. Voir barrière des Deux- Moulins, <LOC>rue des Trois-Ormes</LOC>,<CARDINAL></CARDINAL>\n",
      "\n",
      "Invalid entry, empty tags.\n",
      "\t<PER>Etienne</PER>, <LOC>Saint-Maur-Popincourt</LOC>,<CARDINAL></CARDINAL>\n",
      "\n",
      "Invalid entry, empty tags.\n",
      "\t<PER>Fassy aîné</PER>, <LOC>boul. Beaumarchais</LOC>,<CARDINAL></CARDINAL>\n",
      "\n",
      "Invalid entry, empty tags.\n",
      "\t<PER>Fontaine</PER>, <LOC>Saint-Maur-Popincourt</LOC>,<CARDINAL></CARDINAL>\n",
      "\n",
      "Invalid entry, empty tags.\n",
      "\t<PER>Fouard</PER>, <LOC>Faub. -Saint -Antoine</LOC>,<CARDINAL></CARDINAL>\n",
      "\n",
      "Invalid entry, empty tags.\n",
      "\t<PER>Genevois jeune</PER>, <ACT>marbrier-fontai- nier</ACT>, <LOC>Francs-Bourgeois-Marais</LOC>,<CARDINAL></CARDINAL>\n",
      "\n",
      "Invalid entry, empty tags.\n",
      "\t<PER>Hodencq</PER>, <LOC>boul. Mont-Parnasse</LOC>,<CARDINAL></CARDINAL>\n",
      "\n",
      "Invalid entry, empty tags.\n",
      "\t<PER>Hoyelle</PER>, <LOC>Fontaine-St-Georges</LOC>,<CARDINAL></CARDINAL>\n",
      "\n",
      "Invalid entry, empty tags.\n",
      "\t<PER>Lachat</PER>, <LOC>Saint-Pierre-Popincourt</LOC>,<CARDINAL></CARDINAL>\n",
      "\n",
      "Invalid entry, empty tags.\n",
      "\t<PER>Lebrun jeune</PER>, <LOC>boulev. du Temple</LOC>,<CARDINAL></CARDINAL>\n",
      "\n",
      "Invalid entry, empty tags.\n",
      "\t— <PER>Albertus et Cie</PER>, <ACT>négociants en liqueurs et fromages de Hollande</ACT>, <LOC>Jacques-de-Brosse</LOC>,<CARDINAL></CARDINAL>\n",
      "\n",
      "Invalid entry, empty tags.\n",
      "\t<PER>Albini (Mad.)</PER>, <ACT>portraits au daguerréotype</ACT>,<LOC> &quot;293. Saint-Honore</LOC><CARDINAL></CARDINAL>\n",
      "\n",
      "Invalid entry, empty tags.\n",
      "\t<PER>Alexandre (L. </PER>tiglione, 5. &quot;<ACT>grand hôtel de Londres</ACT>, <LOC>Cas-</LOC><CARDINAL></CARDINAL>\n",
      "\n",
      "Invalid entry, empty tags.\n",
      "\t<PER>Allain</PER>, <ACT>portraits au daguerréotype</ACT>, <LOC>St-Martin</LOC><CARDINAL></CARDINAL>\n",
      "\n",
      "Invalid entry, empty tags.\n",
      "\t<PER>Lepère (A. A.)</PER>, <ACT>pharmacien</ACT>, <LOC>place Maubert</LOC>,<CARDINAL></CARDINAL>\n",
      "\n",
      "Invalid entry, empty tags.\n",
      "\t<PER>Leperrier (A.) et Paris</PER>, <ACT>nouveautés</ACT>, <LOC>St-Denis</LOC>,<CARDINAL></CARDINAL>\n",
      "\n",
      "Invalid entry, empty tags.\n",
      "\t<PER>Leperrier</PER>, <ACT>propriétaire</ACT>, <LOC>rue du Cirque</LOC>,<CARDINAL></CARDINAL>\n",
      "\n",
      "Invalid entry, empty tags.\n",
      "\t<PER>Lepine</PER> <TITRE></TITRE>, <ACT>médecin</ACT>, <LOC>Rossini</LOC>, <CARDINAL>10</CARDINAL>\n",
      "\n",
      "Invalid entry, empty tags.\n",
      "\t<PER>Lepoitevin</PER> <TITRE></TITRE>, <ACT>peintre</ACT>, <LOC>cité Trévise</LOC>, <CARDINAL>5</CARDINAL>.\n",
      "\n",
      "Invalid entry, empty tags.\n",
      "\t<PER>Lequesne père</PER>, <ACT>avocat</ACT>, <LOC>Douze-Portes</LOC>,<CARDINAL></CARDINAL>\n",
      "\n",
      "Invalid entry, empty tags.\n",
      "\t<PER>Lequet</PER>, <ACT>hôtel de Parme</ACT>, <LOC>Jacob</LOC>,<CARDINAL></CARDINAL>\n",
      "\n",
      "Invalid entry, empty tags.\n",
      "\t<PER>Lepeintre ainé</PER>, <ACT>hôtel Ventadour</ACT>, <LOC>Ventadour</LOC>,<CARDINAL></CARDINAL>\n",
      "\n",
      "Invalid entry, empty tags.\n",
      "\t<PER>Dessienne</PER>, <LOC>Pagevin</LOC>, <CARDINAL>10</CARDINAL>.<TITRE></TITRE>\n",
      "\n",
      "Invalid entry, empty tags.\n",
      "\t<PER>Desvouges</PER>, <ACT>commissionn. en euirs, p&apos;aux de cochon et tous articles pour selliers ; dépôt de cuirs de Pont-Audemer de MM. Bunel frères et de M. Leconte</ACT>. <LOC>St- Sauveur</LOC>, <CARDINAL>74</CARDINAL>.<TITRE></TITRE>\n",
      "\n",
      "Invalid entry, empty tags.\n",
      "\t<PER>Detot (A.</PER>), <ACT>maison spéciale de commission pour l&apos;achat en fa- brique de tous articles d&apos;utilité et de fantaisie pour ameublement et bijouterie or. Expédition pour la. France et l&apos;étranger</ACT>, <LOC>Tré- vise</LOC>, <CARDINAL>24</CARDINAL>.<TITRE></TITRE>\n",
      "\n",
      "Invalid entry, empty tags.\n",
      "\t<PER>Deville (Gve)</PER>,<ACT>achats à commission pour tous les articles de nouveau- tes</ACT>, <LOC>N.-St-Eustache</LOC>, <CARDINAL>16</CARDINAL>.<TITRE></TITRE>\n",
      "\n",
      "Invalid entry, empty tags.\n",
      "\t<PER>Devillers, (Léon)</PER>, <ACT>commiss. en bijouterie</ACT>, <LOC>Rambuteau</LOC>, <CARDINAL>22</CARDINAL>.<TITRE></TITRE>\n",
      "\n",
      "Invalid entry, empty tags.\n",
      "\t<PER>D&apos;Hertmani et Christophe</PER>, <ACT>art. de Paris</ACT>, <LOC>Quatre-Fils</LOC>, <CARDINAL>4</CARDINAL>.<TITRE></TITRE>\n",
      "\n",
      "Invalid entry, empty tags.\n",
      "\t<PER>D&apos;Ivernois - Besson</PER>, <LOC>Buffault</LOC>,<CARDINAL> 22</CARDINAL>.<TITRE></TITRE>\n",
      "\n",
      "Invalid entry, empty tags.\n",
      "\t<PER>Dogier et Passemard</PER>, <ACT>fab. et magasin de siéges et meubles en tous genres, pour la France et l&apos;exportation</ACT>, <LOC>Vieille-du-Tem- k ple</LOC>, <CARDINAL>110</CARDINAL>.<TITRE></TITRE>\n",
      "\n",
      "Invalid entry, empty tags.\n",
      "\t<PER>Dolhassarry jeune</PER>, <ACT>bijouterie, joaillerie, orfévrerie et articles de Paris</ACT>, <LOC>Meslay</LOC>, <CARDINAL>6</CARDINAL>.<TITRE></TITRE>\n",
      "\n",
      "Invalid entry, empty tags.\n",
      "\t<PER>Dollingen</PER>, <ACT>articles de Paris en géneral pour la France et l&apos;é-  tranger</ACT>, <LOC>Vivienne</LOC>, <CARDINAL>48</CARDINAL>.<TITRE></TITRE>\n",
      "\n",
      "Invalid entry, empty tags.\n",
      "\t<PER>Domecq (Ch. )</PER>, <ACT>négoc. commiss,</ACT><LOC> Echiquier</LOC>, <CARDINAL>8</CARDINAL>, <ACT>maison à Montevi- * déo</ACT>.<TITRE></TITRE>\n",
      "\n",
      "Invalid entry, empty tags.\n",
      "\t<PER>Doublié-Ossonce</PER>, <ACT>negoc. en laines et représentant de maisons</ACT>, <LOC>Pe- tites-Ecuries</LOC>, <CARDINAL>40</CARDINAL>.<TITRE></TITRE>\n",
      "\n",
      "Invalid entry, empty tags.\n",
      "\t<PER>Drevet cousins</PER>, <ACT>agents de fabri- ques françaises et étrangères, commissionn. pour l&apos;interieur</ACT>,<LOC> Enghien</LOC>, <CARDINAL>28</CARDINAL>.<TITRE></TITRE>\n",
      "\n",
      "Invalid entry, empty tags.\n",
      "\t<PER>Dreyfus frères et Cie</PER>, <ACT>commission en tissus et nouveautés de tous genres, teinture, manutention et impression</ACT>. <LOC>Thévenot</LOC>, <CARDINAL>25</CARDINAL>.<TITRE></TITRE>\n",
      "\n",
      "Invalid entry, empty tags.\n",
      "\t<PER>Drilliat (C. ),</PER> <ACT>commission pour la France et l&apos;étranger, papeterie, fourniture générale de bureau, de banque, d&apos;administration et de commerce, fabrique spéciale de registres de toutes grandeurs et réglure, papier de couleur et de * fantaisie</ACT>, <LOC>Mauconseil</LOC>, <CARDINAL>16</CARDINAL>.<TITRE></TITRE>\n",
      "\n",
      "Invalid entry, empty tags.\n",
      "\t<PER>Drouin ( J. )</PER>, <ACT>droguerie, produits chimiques, gélatine et couleurs, dépôt de l&apos;administration des mi- nes de Bouxwiller (Bas-Rhin), fabrique de prussiate jaune et rouge, bleu de Berlin, bleu de Prusse, sel ammoniac, alun, vi- triol-Salsbourg, couperoses, géla- tines et phosphore, depôt des col- les de Givet de MM. Parent et Donnay et de MM. Beuax et fils</ACT>,<LOC> Sainte - Croix - la-Bretonnerie</LOC>,<CARDINAL>  21</CARDINAL>.<TITRE></TITRE>\n",
      "\n",
      "Invalid entry, empty tags.\n",
      "\t<PER>Droüin (Victor)</PER>, <ACT>sucre et cafés en gros et demi-gros</ACT>, <LOC>Verrerie</LOC>,<CARDINAL> 54</CARDINAL>.<TITRE></TITRE>\n",
      "\n",
      "Invalid entry, empty tags.\n",
      "\t<PER>Dubois (Ed)</PER>, <ACT>commission, escompte et recouvrements</ACT>, <LOC>passage Saul- nier</LOC>, <CARDINAL>18</CARDINAL>: <ACT>fabrique d&apos;huile à graisser (ancienne maison Al- lemand)</ACT>, <LOC>Chausseé-du-Maine</LOC>,<CARDINAL> 166</CARDINAL>. <LOC>à Montrouge, près Paris</LOC>.<TITRE></TITRE>\n",
      "\n",
      "Invalid entry, empty tags.\n",
      "\t<PER>Dubois (Pierre)</PER>, <ACT>fab. de registres à dos élastiques perfectionnes, assortiment de registres pour né- gociants, banquiers et adminis- trations, assortiment de corriges de toutes espèces, buvards, al- bums, carnets de voyage, sténo- graphes, pochès écoliers et carnets français de lous formats, four- nitures de bureau et de pension- nat; commission, exportation</ACT>,<LOC> Bourg-l&apos;Abbé</LOC>, <CARDINAL>7</CARDINAL>.<TITRE></TITRE>\n",
      "\n",
      "Invalid entry, empty tags.\n",
      "\t<PER>Dubouloy fils aîné</PER>, <ACT>success. de son père, plumes et fleurs fines, articles de cour, hautes nou- veautés pour modes et pour gar- nitures de robes, brevet d&apos;inven- tion s. g. d. g,, pour fleurs en paille d&apos;Italie, (Récompense nationale, 1839.) Expédition pour la France et l&apos;étranger</ACT>,<LOC> Menars</LOC>, <CARDINAL>6</CARDINAL>.<TITRE></TITRE>\n",
      "\n",
      "Invalid entry, empty tags.\n",
      "\t<PER>Dubourcq (J.-S.)</PER>, <ACT>art. de Paris</ACT>,<LOC> 6. Bracque</LOC>,<CARDINAL></CARDINAL><TITRE></TITRE>\n",
      "\n",
      "Invalid entry, empty tags.\n",
      "\t<PER>Dubreuil et Cie</PER>, <ACT>négoc.-commiss</ACT>.<LOC> Mazagran</LOC>, <CARDINAL>10</CARDINAL>.<TITRE></TITRE>\n",
      "\n",
      "Invalid entry, empty tags.\n",
      "\t<PER>Dubrusle (C.)</PER>, <ACT>négoc.-commis- sionnaire, tous articles, exporta- tion</ACT>, <LOC>Jeûneurs</LOC>, <CARDINAL>46</CARDINAL>.<TITRE></TITRE>\n",
      "\n",
      "Invalid entry, empty tags.\n",
      "\t<PER>Ducasse et Vve Claveau aîné</PER>, <ACT>com- miss. pour tous les articles de Pa- ris pour la France et l&apos;étranger</ACT>,<LOC> Tiquetonne</LOC>, <CARDINAL>12</CARDINAL>.<TITRE></TITRE>\n",
      "\n",
      "Invalid entry, empty tags.\n",
      "\t<PER>Duceux et Roche</PER>, <ACT>negoc.-commis- sionnaires, spécialité d&apos;effets d&apos;ha- billements</ACT>, <LOC>Seine</LOC>, <CARDINAL>47</CARDINAL>, <ACT>maison à * la Guadeloupe</ACT>.<TITRE></TITRE>\n",
      "\n",
      "Invalid entry, empty tags.\n",
      "\t<PER>Duchampt (J.-B.)</PER>, <LOC>Faub.-du- Temple</LOC>, <CARDINAL>17</CARDINAL>, <ACT>maison à Barcelone (Espagne)</ACT>.<TITRE></TITRE>\n",
      "\n",
      "Invalid entry, empty tags.\n",
      "\t<PER>Duchemin</PER> <TITRE>I</TITRE>NCJ. <PER>Ducasse et Cie</PER>,<LOC> Thevenot</LOC>, <CARDINAL>17</CARDINAL><TITRE></TITRE>\n",
      "\n",
      "Invalid entry, empty tags.\n",
      "\t<PER>Ducot (J. A.) et Ch. Langenié</PER>,<ACT> commiss, en bijouterie</ACT>, <LOC>pl. Royale</LOC>,<CARDINAL></CARDINAL><TITRE></TITRE>\n",
      "\n",
      "Invalid entry, empty tags.\n",
      "\t<PER>Duffau-Pauillac (Chs)</PER>, <LOC>Enghien</LOC>,<CARDINAL> 16</CARDINAL>.<TITRE></TITRE>\n",
      "\n",
      "Invalid entry, empty tags.\n",
      "\t<PER>Dufieux aîné</PER>, <ACT>représentant-com missionnaire</ACT>, <LOC>Verrerie</LOC>, <CARDINAL>65</CARDINAL>.<TITRE></TITRE>\n",
      "\n",
      "Invalid entry, empty tags.\n",
      "\t<PER>Dufour (N.</PER>), <ACT>fournitures de bu- reaux en général, fab. de regis- tres</ACT>, <LOC>Michel-le-Comte</LOC>, <CARDINAL>26</CARDINAL>.<TITRE></TITRE>\n",
      "\n",
      "Invalid entry, empty tags.\n",
      "\t<PER>Dugied (Hilaire )</PER>, <ACT>commission, exportation</ACT>, <LOC>Ste-Anne</LOC>, <CARDINAL>1</CARDINAL>.<TITRE></TITRE>\n",
      "\n",
      "Invalid entry, empty tags.\n",
      "\t<PER>Dumoulin et Cie</PER>, <ACT>corsets sans goussets, inventés par Mme So- phie Dumoulin, récompensés de huit médailles de bronze et d&apos;ar- gent aux expositions nationales et de plusieurs sociétés d&apos;encou- ragement; succursales à Bruxel- les, place de la Monnaie, 5; à New-York et à Londres, 99, Guildfort — Street, Rousselle- Square; commission et exporta- tion</ACT>, <LOC>Basse-du-Rempart</LOC>, <CARDINAL>44</CARDINAL>, (voir la Revue industrielle.)<TITRE></TITRE>\n",
      "\n",
      "Invalid entry, empty tags.\n",
      "\t<PER>Duplan et Salles</PER>, <ACT>bronzes, pendu- les, lampes et articles de fantai- sie</ACT>, <LOC>Bondy</LOC>, <CARDINAL>32</CARDINAL>.<TITRE></TITRE>\n",
      "\n",
      "Invalid entry, empty tags.\n",
      "\t<PER>Dupont</PER>, <ACT>pharmacien</ACT>, <LOC>Tiquetonne</LOC>,<CARDINAL> 12</CARDINAL>. <ACT>Expédition en France et à l&apos;élranger des produits dont il est le seul proprietaire.</ACT> (Voir aux Pharmaciens les spécialités.)<TITRE></TITRE>\n",
      "\n",
      "Invalid entry, empty tags.\n",
      "\t<PER>Dupont (Dé)</PER>, <ACT>fab. d&apos;ébénisterie en tous genres, meubles, siéges, orne- ments, commission</ACT>, <LOC>place Royale</LOC>,<CARDINAL> 24</CARDINAL>. <FT>près le boul. Beaumarchais</FT>.<TITRE></TITRE>\n",
      "\n",
      "Invalid entry, empty tags.\n",
      "\t<PER>Dupuy</PER>, <ACT>libraire et commission- naire</ACT>, <LOC>St-Sulpice</LOC>,<CARDINAL>24</CARDINAL>, (Voyez Li- braires.)<TITRE></TITRE>\n",
      "\n",
      "Invalid entry, empty tags.\n",
      "\t<PER>Durand (A. )et Cie</PER>, <ACT>société com- merciale de commission et d&apos;é- change</ACT>, <LOC>Provence</LOC>, <CARDINAL>78</CARDINAL>.<TITRE></TITRE>\n",
      "\n",
      "Invalid entry, empty tags.\n",
      "\t<PER>Durand (Henry </PER>, <ACT>commissionnaire pour le Brésil et la Plata</ACT>, <LOC>St- Georges</LOC>, <CARDINAL>28</CARDINAL>.<TITRE></TITRE>\n",
      "\n",
      "Invalid entry, empty tags.\n",
      "\t<PER>Durand (D)</PER>, <LOC>Fidélité</LOC>, <CARDINAL>22</CARDINAL>.<TITRE></TITRE>\n",
      "\n",
      "Invalid entry, empty tags.\n",
      "\t<PER>Durand (François)</PER>, <ACT>pour les colo- nies</ACT>, <LOC>Douane</LOC>, <CARDINAL>14</CARDINAL><TITRE></TITRE>\n",
      "\n",
      "Invalid entry, empty tags.\n",
      "\t<PER>Durand et Cie</PER>, <ACT>drogueries, produits chimiques</ACT>, <LOC>Enghien</LOC>, <CARDINAL>15</CARDINAL>.<TITRE></TITRE>\n",
      "\n",
      "Invalid entry, empty tags.\n",
      "\t<PER>Durand - Journet (A.)</PER> <TITRE>N</TITRE>C., <ACT>cuirs de toute espèce</ACT>, <TITRE></TITRE> <CARDINAL>1834</CARDINAL>, <LOC>Petit- Lion-St-Sauveur</LOC>. <CARDINAL>11</CARDINAL>.<TITRE></TITRE>\n",
      "\n",
      "Invalid entry, empty tags.\n",
      "\t<PER>Duteurtre-Dumanoir (C. ),</PER> <ACT>an- cienne maison F. J. Besançon et Cie, alcali, indigo, cochenille et produits chimiques, commission</ACT>,<LOC> Plâtre-du-Temple</LOC>, <CARDINAL>20</CARDINAL>, <FT>ci-devant</FT><LOC>  Blancs-Manteaux</LOC>, <CARDINAL>26</CARDINAL>.<TITRE></TITRE>\n",
      "\n",
      "Invalid entry, empty tags.\n",
      "\t<PER>Dutertre (H.)</PER>, <ACT>en tous genres</ACT>,<LOC> Hauteville</LOC>, <CARDINAL>60</CARDINAL> et <CARDINAL>62</CARDINAL>.<TITRE></TITRE>\n",
      "\n",
      "Invalid entry, empty tags.\n",
      "\t<PER>Duval</PER>, <ACT>fournitures de chapellerie, galons noirs et couleurs pour la confection pour dames, articles pour tailleurs</ACT>, <LOC>Temple</LOC>, <CARDINAL>34</CARDINAL> <FT>au coin de la rue du Plâtre-Ste- Avoie</FT>.<TITRE></TITRE>\n",
      "\n",
      "Invalid entry, empty tags.\n",
      "\t<PER>Duverger (A. )</PER><ACT>nouveautés en tous genres</ACT>, <LOC>Fossés-Montmartre</LOC>, <CARDINAL>3</CARDINAL>.<TITRE></TITRE>\n",
      "\n",
      "Invalid entry, empty tags.\n",
      "\t<PER>Egrot(A)</PER>, <ACT>quincaillerie fine, articles de Paris, représentant Adolphe Laroche, de Bayonne</ACT>, <LOC>Faub.-St- Denis</LOC>, <CARDINAL>61</CARDINAL>.<TITRE></TITRE>\n",
      "\n",
      "Invalid entry, empty tags.\n",
      "\t<PER>Emmel (Henry)</PER>, <ACT>commissionnaire en articles de Paris</ACT>, <LOC>Marais-St- Martin</LOC>, <CARDINAL>60</CARDINAL>.<TITRE></TITRE>\n",
      "\n",
      "Invalid entry, empty tags.\n",
      "\t<PER>Emson (James)</PER>, <ACT>négoc. commis- sionnaire</ACT>, <LOC>rue de la Banque</LOC>, <CARDINAL>20, * ancien 24</CARDINAL><TITRE></TITRE><TITRE></TITRE>\n",
      "\n",
      "Invalid entry, empty tags.\n",
      "\t<PER>Engler-Leroy</PER> , <LOC>Vieilles-Haudriet-  tes</LOC>, <CARDINAL>6</CARDINAL>.<TITRE></TITRE>\n",
      "\n",
      "Invalid entry, empty tags.\n",
      "\t<PER>Enoch et Oppenhein</PER>, <ACT>marchan- dises pour l&apos;exportation</ACT>, <LOC>Bondy</LOC>,<CARDINAL> 30</CARDINAL>.<TITRE></TITRE>\n",
      "\n",
      "Invalid entry, empty tags.\n",
      "\t<PER>Enoch et Reis</PER>, <ACT>pour tous articles</ACT>,<LOC> Château-d&apos;Eau</LOC>, <CARDINAL>22</CARDINAL>.<TITRE></TITRE>\n",
      "\n",
      "Invalid entry, empty tags.\n",
      "\t<PER>Evette (Félix) père et fils</PER> <TITRE>N</TITRE>C.,<ACT> commissionnaires en charbons de terre</ACT> , <LOC>Faub.-St-Martin</LOC>, <CARDINAL>166</CARDINAL>.<TITRE></TITRE>\n",
      "\n",
      "Invalid entry, empty tags.\n",
      "\t<PER>Eymard (J. A.)</PER> , <ACT>conserves ali- mentaires, sardines à l&apos;huile</ACT>,<LOC> Temple</LOC>, <CARDINAL>14</CARDINAL>.<TITRE></TITRE>\n",
      "\n",
      "Invalid entry, empty tags.\n",
      "\t<PER>Fabre (C.),</PER> <ACT>quincaillerie et ar- ticles de Paris</ACT>, <LOC>Bonaparte</LOC>, <CARDINAL>68</CARDINAL>.<TITRE></TITRE>\n",
      "\n",
      "Invalid entry, empty tags.\n",
      "\t<PER>Courvoisier (Félix)</PER> <TITRE></TITRE>NC et Cie, <ACT>eaux-de- vie en gros</ACT>, <LOC>Port-Bercy</LOC>, <CARDINAL>40</CARDINAL>.\n",
      "\n",
      "Invalid entry, empty tags.\n",
      "\t<PER>Courvoisier</PER> <TITRE></TITRE>, <ACT>quincaillerie, outils et armes blanches</ACT>, <LOC>Culture-Ste-Catherine</LOC>, <CARDINAL>12</CARDINAL>.\n",
      "\n",
      "Invalid entry, empty tags.\n",
      "\t<PER>Cousin (A.)</PER>, <ACT>vernisseur sur metaux</ACT>, <LOC>Saint- Martin</LOC>3<CARDINAL></CARDINAL>\n",
      "\n",
      "Invalid entry, empty tags.\n",
      "\t<PER>Coutant (S.</PER> <ACT>épurat. d&apos;huile</ACT>, <LOC>Godefroy</LOC>,<CARDINAL></CARDINAL>\n",
      "\n",
      "Invalid entry, empty tags.\n",
      "\t<PER>Coutin (J.)</PER>, <ACT>manches de parapluies</ACT>, <LOC>St-Denis</LOC><CARDINAL></CARDINAL>\n",
      "\n",
      "Invalid entry, empty tags.\n",
      "\t<PER>Couttin</PER>, <ACT>médecin</ACT>, <LOC>aranné</LOC><CARDINAL></CARDINAL>\n",
      "\n",
      "Invalid entry, empty tags.\n",
      "\t<PER>Couturier (P.-L. </PER><ACT>vins</ACT>, <LOC>Récollets</LOC>,<CARDINAL></CARDINAL>\n",
      "\n",
      "Invalid entry, empty tags.\n",
      "\t<PER>Couvert (G.)</PER> <ACT>brossier</ACT>, <LOC>Beaubourg</LOC>,<CARDINAL></CARDINAL>\n",
      "\n",
      "Invalid entry, empty tags.\n",
      "\t<PER>Couvreur fils</PER>, <ACT>grainetier</ACT>, <LOC>Faub.-St-Antoine</LOC><CARDINAL></CARDINAL>\n",
      "\n",
      "Invalid entry, empty tags.\n",
      "\t<PER>Couvreur (E.)</PER>, <ACT>fab. d&apos;instruments d&apos;optique</ACT> Z.<LOC> Enfants-Rouges</LOC>,<CARDINAL></CARDINAL>\n",
      "\n",
      "Invalid entry, empty tags.\n",
      "\t<PER>Grammont (marquis de)</PER>, <TITRE></TITRE>, <ACT>depute de la Haute-Saône</ACT>, <LOC>Lille</LOC>, <CARDINAL>121.</CARDINAL>\n",
      "\n",
      "Invalid entry, empty tags.\n",
      "\t<PER>Granara (A. </PER>, <ACT>grand nôtel de Russie</ACT>, <LOC>Drouot</LOC>,I<CARDINAL></CARDINAL>, et <LOC>boul des laliens</LOC>, <CARDINAL>2</CARDINAL>.\n",
      "\n",
      "Invalid entry, empty tags.\n",
      "\t<PER>Grand jeune</PER>, <ACT>commiss. en vins et caux-de-vie</ACT>,<LOC> Bordeau</LOC><CARDINAL></CARDINAL>\n",
      "\n",
      "Invalid entry, empty tags.\n",
      "\t<PER>Grandin</PER>, <ACT>cafe de France</ACT>, <LOC>Bons-Eniants</LOC>, <CARDINAL>9</CARDINAL> et<LOC> cour des Fontulnes</LOC>.0<CARDINAL></CARDINAL>.\n",
      "\n",
      "Invalid entry, empty tags.\n",
      "\t<PER>Grandmaison Bne de</PER> <LOC>boul Malesherbe</LOC>.<CARDINAL></CARDINAL>\n",
      "\n",
      "Invalid entry, empty tags.\n",
      "\t<PER>Grange</PER>, <ACT>commissionn, en articles de Faris</ACT>,<LOC> Faub.-St-Ma</LOC><CARDINAL></CARDINAL>\n",
      "\n",
      "Invalid entry, empty tags.\n",
      "\t<PER>Grange (Eug.)</PER>, <ACT>serrur.</ACT>, <LOC>Beauveau-St-Antoine</LOC>.<CARDINAL></CARDINAL>\n",
      "\n",
      "Invalid entry, empty tags.\n",
      "\t<PER>Granger</PER>, <ACT>glacier</ACT>, <LOC>Oratoire - Champs Elysces</LOC><CARDINAL></CARDINAL>\n",
      "\n",
      "Invalid entry, empty tags.\n",
      "\t<PER>Dispensaires de la société philanthropique de Paris:</PER> <PER>1er disp.</PER>, <LOC>Gaillon</LOC>, <CARDINAL>17</CARDINAL>. — <PER>2e</PER>, <LOC>Faub.-St-Denis</LOC>, <CARDINAL>39</CARDINAL>. — <PER></PER><LOC>St-Bon.</LOC> <CARDINAL>6</CARDINAL>. 3e, — <PER>4e</PER>, <LOC>Lacepède</LOC>, <CARDINAL>15</CARDINAL>. <PER>50</PER>, — <LOC>Four-St Germain</LOC>, <CARDINAL>26</CARDINAL>. <PER>6e</PER>, <LOC>St-Honoré</LOC>, <CARDINAL>115</CARDINAL>.\n",
      "\n",
      "Invalid entry, empty tags.\n",
      "\t<PER>Dobignie</PER> <TITRE></TITRE>, <ACT>juge 1re instance</ACT>, <LOC>Seine</LOC>, <CARDINAL>72</CARDINAL>.\n",
      "\n",
      "Invalid entry, empty tags.\n",
      "\t<PER>Docquin (E.)</PER>, <ACT>fab. chapeaux de paille</ACT>, <LOC>Caire</LOC>,<CARDINAL></CARDINAL>\n",
      "\n",
      "Invalid entry, empty tags.\n",
      "\t<PER>Dodé (Th.)</PER>, <ACT>facteur à la halle au beurre</ACT>, <LOC>Mon- detou</LOC><CARDINAL></CARDINAL>\n",
      "\n",
      "Invalid entry, empty tags.\n",
      "\t<PER>Morandière (R.)</PER> <TITRE></TITRE>, <ACT>ingenieur en chef des ponts et chaussées</ACT>. <LOC>N.-D.-des-Champs</LOC>, <CARDINAL>27</CARDINAL>.\n",
      "\n",
      "Invalid entry, empty tags.\n",
      "\t<PER>Moreau (César)</PER> <TITRE>*</TITRE>, <ACT>anc. consul</ACT>, <LOC>St-Honoré</LOC>,<CARDINAL></CARDINAL>\n",
      "\n",
      "Invalid entry, empty tags.\n",
      "\t<PER>Moreau (Oscar)</PER> <ACT>avoué 1re inst.</ACT>, <LOC>Laffitte</LOC>,<CARDINAL></CARDINAL>\n",
      "\n",
      "Invalid entry, empty tags.\n",
      "\t<PER>Moreau</PER>, <ACT>menuisier</ACT>, <LOC>Nve-des- Petits-Peres</LOC>.<CARDINAL></CARDINAL>\n",
      "\n",
      "Invalid entry, empty tags.\n",
      "\t<PER>Moreau</PER>, <ACT>pharmac.</ACT>, <LOC>Grande-Rue Chapelle</LOC>, <CARDINAL>81</CARDINAL>. et <LOC>Marcadet</LOC>,<CARDINAL></CARDINAL>\n",
      "\n",
      "Invalid entry, empty tags.\n",
      "\t<PER>Moreau (Emile)</PER>, <ACT>quincaillerie</ACT>, <LOC>Faub.-Mont- 71. martre</LOC>,<CARDINAL></CARDINAL>\n",
      "\n",
      "Invalid entry, empty tags.\n",
      "\t<PER>Girardin</PER> <ACT>(des Gaules)</ACT>, <LOC>R. S. Nicaise</LOC>,<CARDINAL> </CARDINAL><LOC>Tuileries</LOC>. 480.—\n",
      "\n",
      "Invalid entry, empty tags.\n",
      "\t<PER>Ledoux</PER> <ACT>( du Prince de Galles )</ACT> , <LOC>Faub. S. Roule. Honoré .</LOC> <CARDINAL>63</CARDINAL>. —<LOC></LOC>\n",
      "\n",
      "Invalid entry, empty tags.\n",
      "\t<PER>Daciin Me.)</PER> <ACT>(Mb.)</ACT>, <LOC>K. Gt Pet. LIon</LOC>,<CARDINAL> </CARDINAL><LOC>B Cons.</LOC>\n",
      "\n",
      "Invalid entry, empty tags.\n",
      "\t<PER>Delachaussée</PER> <ACT>(Iab.)</ACT>, <LOC>R. Grenéta</LOC>, <CARDINAL>16</CARDINAL>.—<LOC></LOC>\n",
      "\n",
      "Invalid entry, empty tags.\n",
      "\t<PER>Legendre</PER> <ACT>(fab.)</ACT>, <LOC>Enclos S. Martin</LOC>, <CARDINAL>5</CARDINAL>.<LOC></LOC>\n",
      "\n",
      "Invalid entry, empty tags.\n",
      "\t<PER>Varennes</PER> <ACT>Amis de lar. 7ib.)</ACT>, <LOC>R. S. Marin</LOC>, <CARDINAL>27</CARDINAL>.—<LOC></LOC>\n",
      "\n",
      "Invalid entry, empty tags.\n",
      "\t<PER>Bataille</PER>, <LOC>R. de Beaune</LOC><CARDINAL></CARDINAL>\n",
      "\n",
      "Invalid entry, empty tags.\n",
      "\t<PER>Lecomte</PER> , <LOC>R. N. des Petits Champs</LOC>, <CARDINAL>15</CARDINAL>.<LOC></LOC>\n",
      "\n",
      "Invalid entry, empty tags.\n",
      "\t<PER>Baré de S. Venant</PER> , <LOC>cul-de-sac du Doyen- I</LOC><CARDINAL></CARDINAL><LOC>u1</LOC>.\n",
      "\n",
      "Invalid entry, empty tags.\n",
      "\t<PER>Bacot</PER>, <LOC>Fb. et Div. Poisonniere</LOC><CARDINAL></CARDINAL>\n",
      "\n",
      "Invalid entry, empty tags.\n",
      "\t<PER></PER><LOC></LOC><CARDINAL></CARDINAL><LOC></LOC>\n",
      "\n",
      "Invalid entry, empty tags.\n",
      "\t<PER>Baillot</PER>. <ACT>R. des Trois</ACT><LOC></LOC>\n",
      "\n",
      "Invalid entry, empty tags.\n",
      "\t<PER>Bantalone ( Paul)</PER> ( <ACT>attaché à la légation des Etats-Unis</ACT> ), <LOC>boulev. Poissonnière</LOC>,<CARDINAL> </CARDINAL><LOC>Fh. Montm</LOC>. 1045.\n",
      "\n",
      "Invalid entry, empty tags.\n",
      "\t<PER>Barbantanne</PER>, <LOC>R. Basse du Rempart</LOC>,<CARDINAL> </CARDINAL><LOC>P. Vend</LOC>. 336.—\n",
      "\n",
      "Invalid entry, empty tags.\n",
      "\t<PER>Demaimieux</PER>, <LOC>R. du Faub. Montmartre</LOC>,<CARDINAL> </CARDINAL>— <LOC>M. Blanc</LOC>. 3.\n",
      "\n",
      "Invalid entry, empty tags.\n",
      "\t<PER>Delisron</PER> <LOC>Fb. et Div. Poissonnière</LOC><CARDINAL></CARDINAL>\n",
      "\n",
      "Invalid entry, empty tags.\n",
      "\t<PER>Demailly (Mme. )</PER>, <LOC>R. de l&apos;Université</LOC>,<CARDINAL> </CARDINAL><LOC>F. de Gren</LOC>. 270.—\n",
      "\n",
      "Invalid entry, empty tags.\n",
      "\t<PER>Demontenet part , 359. (Ve.).</PER> <LOC>R. Basse du Rem- </LOC><CARDINAL></CARDINAL>— <LOC>Pl. Vend</LOC>.\n",
      "\n",
      "Invalid entry, empty tags.\n",
      "\t<PER>Depiedfort</PER>, <LOC>R. Neuve du Luxembourg</LOC><CARDINAL> </CARDINAL>— <LOC>Pl. Vend</LOC>. 156. —\n",
      "\n",
      "Invalid entry, empty tags.\n",
      "\t<PER>Auffroy</PER> ; <LOC>R. de Bussy</LOC> I1<CARDINAL></CARDINAL>\n",
      "\n",
      "Invalid entry, empty tags.\n",
      "\t<PER>Adieite</PER> <LOC>. des Marmounels</LOC>.<CARDINAL></CARDINAL>\n",
      "\n",
      "Invalid entry, empty tags.\n",
      "\t<PER>Bayvet-jaune</PER>, <LOC>R. des Bor An</LOC><CARDINAL></CARDINAL>\n",
      "\n",
      "Invalid entry, empty tags.\n",
      "\t<PER>Brauvs</PER>, <LOC>R.S. Antoine</LOC><CARDINAL></CARDINAL>\n",
      "\n",
      "Invalid entry, empty tags.\n",
      "\t<PER>Beauvallrt</PER>,<LOC>R. das Déchargeurs</LOC>,b<CARDINAL></CARDINAL>.\n",
      "\n",
      "Suspect char@008: † (0x2020 DAGGER -- cat.: Po)\n",
      "Invalid entry, empty tags.\n",
      "\tA —  <PER>Bourier</PER>, <LOC>R. du Faub. S. Jacques</LOC>,<CARDINAL></CARDINAL>\n",
      "\n",
      "Invalid entry, empty tags.\n",
      "\t☞  <PER>Bourniche</PER>, <LOC>R. Montorgaail</LOC><CARDINAL></CARDINAL>\n",
      "\n",
      "Invalid entry, empty tags.\n",
      "\t<PER>Boulapger</PER>, <LOC>R. de 1n Menuoie</LOC>,<CARDINAL></CARDINAL>\n",
      "\n",
      "Invalid entry, empty tags.\n",
      "\t<PER>Bouchet</PER>, <LOC>Eneles S. Martin</LOC>,B<CARDINAL></CARDINAL>\n",
      "\n",
      "Invalid entry, empty tags.\n",
      "\t<PER>Borel</PER>, <LOC>H. Marché: aux-Poirées</LOC><CARDINAL></CARDINAL>\n",
      "\n",
      "Invalid entry, empty tags.\n",
      "\t<PER>Boncainpin</PER>, <LOC>R. Neuxe S. Martin</LOC>.<CARDINAL></CARDINAL>\n",
      "\n",
      "Invalid entry, empty tags.\n",
      "\t<PER>Roufs</PER>, <LOC>R. dU Marche S. Martin</LOC> I<CARDINAL></CARDINAL>\n",
      "\n",
      "Invalid entry, empty tags.\n",
      "\t<PER>BIBOt</PER> K<LOC>. Marcean</LOC><CARDINAL></CARDINAL>\n",
      "\n",
      "Invalid entry, empty tags.\n",
      "\t<PER>Hgnon</PER>, <LOC>ceup. Montmarike</LOC>y<CARDINAL></CARDINAL>\n",
      "\n",
      "Invalid entry, empty tags.\n",
      "\t<PER>Santerre</PER> Dépôt, <ACT>(harnicheur </ACT>102 &quot; <LOC>bouler, du =</LOC><CARDINAL></CARDINAL>\n",
      "\n",
      "Invalid entry, empty tags.\n",
      "\t<PER></PER><ACT>(harnach.)</ACT> s. <LOC>R: du Petit- Richard Lion S. Sauveur</LOC>, <CARDINAL>21</CARDINAL>.\n",
      "\n",
      "Suspect char@011: † (0x2020 DAGGER -- cat.: Po)\n",
      "Invalid entry, empty tags.\n",
      "\t—  <PER>Corhie et comp.</PER> <ACT>(etoffes)</ACT> <LOC>Pal. du Frih. TaRdd</LOC><CARDINAL></CARDINAL>\n",
      "\n",
      "Invalid entry, empty tags.\n",
      "\t<PER>Chatin</PER>, <LOC>rue Cérutti</LOC>, n. <CARDINAL></CARDINAL>—<LOC>du Montblanc</LOC>.\n",
      "\n",
      "Invalid entry, empty tags.\n",
      "\t<PER>Gagnant</PER>, <LOC>boulevard du dépôt</LOC>, n.&quot; <CARDINAL></CARDINAL>—<LOC>de Pelletier</LOC>.\n",
      "\n",
      "Invalid entry, empty tags.\n",
      "\t<PER>Mabile</PER>, <ACT>fabr.</ACT>, <LOC>r. Grenier-S.-Lazare</LOC>y<CARDINAL></CARDINAL>.\n",
      "\n",
      "Invalid entry, empty tags.\n",
      "\t<PER>Trudelle (V.e)</PER>, <LOC>rue Grammont</LOC>,<CARDINAL></CARDINAL>\n",
      "\n",
      "================================\n",
      "Invalid entries:    373\n",
      "Total entries:     8765\n",
      "================================\n"
     ]
    }
   ],
   "source": [
    "out_path = os.path.join(DATASET_PATH, \"31-ner_align_pero\", \"all.json\")\n",
    "ner_pero_align = generate_aligned_gt(ref_path, pero_path, out_path)"
   ]
  },
  {
   "cell_type": "code",
   "execution_count": 9,
   "metadata": {},
   "outputs": [
    {
     "name": "stdout",
     "output_type": "stream",
     "text": [
      "Suspect char@048: € (0x20ac EURO SIGN -- cat.: Sc)\n",
      "Invalid entry, empty tags.\n",
      "\t<PER>Dafourmantelle (Lonis)</PER>, <ACT>peaussier</ACT>, <LOC>r. dn DR es + FR</LOC> <CARDINAL></CARDINAL>4e\n",
      "\n",
      "Invalid entry, empty tags.\n",
      "\t&apos;mn: em <PER>Dudngnon</PER>, <ACT>march. deplâtre</ACT>, <LOC>x. des Murais- ! SGermoio</LOC> set <CARDINAL></CARDINAL>, 403\n",
      "\n",
      "Invalid entry, empty tags.\n",
      "\t<PER>Migeon</PER>, <ACT>charpentier</ACT>, <LOC>x, de Vaugirard</LOC> <CARDINAL></CARDINAL>; pa\n",
      "\n",
      "Invalid entry, empty tags.\n",
      "\t<PER></PER>, <ACT>ve</ACT>. <LOC>des ee Conte</LOC>, <CARDINAL>e</CARDINAL><LOC>s</LOC>\n",
      "\n",
      "Invalid entry, empty tags.\n",
      "\t<PER>&quot;PSEue, (François)</PER>; <ACT>comruiss.</ACT>, <LOC>4 die</LOC><CARDINAL></CARDINAL>\n",
      "\n",
      "Invalid entry, empty tags.\n",
      "\t! <PER>Miguot</PER>, <ACT>hôtel garni</ACT>, <LOC>% de la Jamienng</LOC>,<CARDINAL></CARDINAL>\n",
      "\n",
      "Invalid entry, empty tags.\n",
      "\t<PER>Miguet jeune</PER>, <ACT>épécier</ACT>, <LOC>E ere se</LOC><CARDINAL></CARDINAL>\n",
      "\n",
      "Suspect char@043: € (0x20ac EURO SIGN -- cat.: Sc)\n",
      "Invalid entry, empty tags.\n",
      "\t<PER>Bonnaire (F. B.)-et co</PER>., <FT>fab. à Cren</FT>, dé ne<LOC> Po ne CRE GENE</LOC><CARDINAL></CARDINAL>\n",
      "\n",
      "Invalid entry, empty tags.\n",
      "\t<PER>Cierambaglt (Ch.</PER>), <ACT>fab. point d&apos;Alençon</ACT> a D re<LOC>d Ps</LOC><CARDINAL></CARDINAL>\n",
      "\n",
      "Invalid entry, empty tags.\n",
      "\t<PER>Dubois. ( CGhrétier</PER> <ACT>6x Te</ACT> <LOC>D. e Conde MAroes ? RE</LOC>R<CARDINAL></CARDINAL>.\n",
      "\n",
      "Invalid entry, empty tags.\n",
      "\t<PER>Hussenot-Ducasie</PER> ; <ACT>néarch.</ACT>, <LOC>passage de la Réunion</LOC>,<CARDINAL> </CARDINAL>&amp; - = # ÿ\n",
      "\n",
      "Invalid entry, empty tags.\n",
      "\t<PER>Kerpen. , sé Dujardin</PER>, <ACT>Fab. tules</ACT>, <LOC>rue aux</LOC><CARDINAL></CARDINAL>\n",
      "\n",
      "Invalid entry, empty tags.\n",
      "\t<PER>Herr</PER> <ACT>rs</ACT> <LOC>&quot; dh Clare iadques-</LOC><CARDINAL></CARDINAL>\n",
      "\n",
      "Invalid entry, empty tags.\n",
      "\t<PER>Perrier</PER> ,v<ACT>, d&apos;Aujou</ACT>-<LOC>S..Honoré</LOC>,<CARDINAL></CARDINAL>\n",
      "\n",
      "Invalid entry, empty tags.\n",
      "\t<PER>Brin; LR</PER> <LOC>A Geoier teen etenite</LOC><CARDINAL> </CARDINAL>;\n",
      "\n",
      "Invalid entry, empty tags.\n",
      "\t<PER>SL 3%</PER> B<LOC>-Andüré-desArts</LOC>,<CARDINAL></CARDINAL>\n",
      "\n",
      "Invalid entry, empty tags.\n",
      "\t<PER>Rés nr tonne</PER> à Pain <LOC>hon Bu Bien</LOC><CARDINAL></CARDINAL>\n",
      "\n",
      "Invalid entry, empty tags.\n",
      "\t<PER>pr (Mie)</PER>, <LOC>r delAtbre-Sec</LOC>,<CARDINAL></CARDINAL>\n",
      "\n",
      "Invalid entry, empty tags.\n",
      "\t<PER>Oudot</PER>, <ACT>die Roï, pour des chétenauz : on royaux</ACT>, <LOC>r.S-Jacques</LOC>,<CARDINAL></CARDINAL>\n",
      "\n",
      "Invalid entry, empty tags.\n",
      "\t<PER>Papin et Blaisean (Me), &quot;</PER>, <LOC>IN Apt ee Dee, CON RS</LOC><CARDINAL></CARDINAL>\n",
      "\n",
      "Suspect char@020: € (0x20ac EURO SIGN -- cat.: Sc)\n",
      "Invalid entry, empty tags.\n",
      "\t<PER>H Abcl-Louis)</PER>, <ACT>dl Y ani ( D hbes Re n</ACT>n <LOC>_ de Rou-</LOC><CARDINAL></CARDINAL>\n",
      "\n",
      "Invalid entry, empty tags.\n",
      "\t<PER>Dehourges (Ch.}</PER>, <LOC>r: de Bondy</LOC>,6. <CARDINAL> </CARDINAL>:\n",
      "\n",
      "Suspect char@008: € (0x20ac EURO SIGN -- cat.: Sc)\n",
      "Invalid entry, empty tags.\n",
      "\t<PER>a0o em COL FD US NO SES _ ._. et Mauppin</PER>, <ACT>en gros</ACT>, <LOC>r. Craixx-des-Pet.-Champs</LOC>,<CARDINAL></CARDINAL>\n",
      "\n",
      "Suspect char@023: € (0x20ac EURO SIGN -- cat.: Sc)\n",
      "Suspect char@001: € (0x20ac EURO SIGN -- cat.: Sc)\n",
      "Invalid entry, empty tags.\n",
      "\t<PER>Gérardin (R.)</PER>%<TITRE></TITRE>, <ACT>médecin</ACT>, <LOC>pl. du Palais-Bourbon</LOC>, <CARDINAL>2</CARDINAL>.\n",
      "\n",
      "Suspect char@014: € (0x20ac EURO SIGN -- cat.: Sc)\n",
      "Invalid entry, empty tags.\n",
      "\t<PER>Güérin (Modeste)</PER> <TITRE>@S.H. ne Te d&apos;</TITRE>O<LOC>NPAEMANS</LOC><CARDINAL></CARDINAL>\n",
      "\n",
      "Invalid entry, empty tags.\n",
      "\t<PER>re (Me)</PER>, <ACT>dévideuse</ACT>, <LOC>St- Denis</LOC>,<CARDINAL></CARDINAL>\n",
      "\n",
      "Invalid entry, empty tags.\n",
      "\t<PER>l&apos;etit</PER> <TITRE></TITRE><ACT>med.</ACT> <LOC>Conde</LOC>, <CARDINAL>SU</CARDINAL>.\n",
      "\n",
      "Invalid entry, empty tags.\n",
      "\t<PER>Suntrup</PER>, <ACT>fazil.</ACT> l<LOC>Pavée</LOC>,G<CARDINAL></CARDINAL>, <LOC>Marais</LOC>.\n",
      "\n",
      "Invalid entry, empty tags.\n",
      "\t<PER>Supertus</PER>, <ACT>7264</ACT>, <LOC>Mauconseil</LOC>,<CARDINAL> </CARDINAL>#,\n",
      "\n",
      "Suspect char@017: € (0x20ac EURO SIGN -- cat.: Sc)\n",
      "Suspect char@014: € (0x20ac EURO SIGN -- cat.: Sc)\n",
      "Invalid entry, empty tags.\n",
      "\t<PER>Dinnincen</PER>, <LOC>r. des Colonnes</LOC> <CARDINAL></CARDINAL>,<ACT> Cordonn</ACT>.\n",
      "\n",
      "Suspect char@037: € (0x20ac EURO SIGN -- cat.: Sc)\n",
      "Invalid entry, empty tags.\n",
      "\t<PER>Dusaussay Demély et comp.</PER>s <ACT>toiles blanches</ACT><LOC> + Bortin:PDoirée</LOC> &quot;6 <CARDINAL></CARDINAL>:\n",
      "\n",
      "Invalid entry, empty tags.\n",
      "\t<PER>Legrand</PER>, <ACT>prof de mus.</ACT>, <LOC>r. du G.-Chantier</LOC>,#<CARDINAL></CARDINAL>.\n",
      "\n",
      "Invalid entry, empty tags.\n",
      "\t<PER>Legorju</PER>, <ACT>presses d&apos;imprim.</ACT>, <LOC>enclos St.Jean- Le 24 n</LOC>f<CARDINAL></CARDINAL>\n",
      "\n",
      "Invalid entry, empty tags.\n",
      "\t<PER>Legrand &apos;eune</PER>, <ACT>menus. en m.</ACT>, <LOC>r, et imp. du BA</LOC><CARDINAL></CARDINAL>\n",
      "\n",
      "Suspect char@011: € (0x20ac EURO SIGN -- cat.: Sc)\n",
      "Invalid entry, empty tags.\n",
      "\t<PER>Lebaene His</PER>, <ACT>ébénist., bois des îles</ACT>, <LOC>r. des PAC</LOC><CARDINAL></CARDINAL>\n",
      "\n",
      "Invalid entry, empty tags.\n",
      "\t<PER>Legrip (V°.) et Legrip aîné.</PER> <ACT>f. chapell.</ACT>, <LOC>r. des RE Re RE</LOC><CARDINAL></CARDINAL>\n",
      "\n",
      "Invalid entry, empty tags.\n",
      "\t<PER>Huet pere et lils</PER>, <ACT>commest., épic.</ACT>, <LOC>r. des Cronciel </LOC>E <CARDINAL></CARDINAL>:\n",
      "\n",
      "Suspect char@011: € (0x20ac EURO SIGN -- cat.: Sc)\n",
      "Suspect char@009: € (0x20ac EURO SIGN -- cat.: Sc)\n",
      "Suspect char@013: € (0x20ac EURO SIGN -- cat.: Sc)\n",
      "Suspect char@008: € (0x20ac EURO SIGN -- cat.: Sc)\n",
      "Suspect char@681: € (0x20ac EURO SIGN -- cat.: Sc)\n",
      "Invalid entry, empty tags.\n",
      "\t<PER>Pe (A..) jeune</PER>, <LOC>Louis-Philippe</LOC>,<CARDINAL></CARDINAL>\n",
      "\n",
      "Invalid entry, empty tags.\n",
      "\t<PER>Viel</PER>, <ACT>epicier</ACT>, <LOC>St-Roch</LOC>, <CARDINAL></CARDINAL>.\n",
      "\n",
      "Invalid entry, empty tags.\n",
      "\t<PER>Vignier (A.)</PER>*<TITRE></TITRE>, <ACT>référend. à la cour des comptes</ACT>,<LOC> Bac</LOC>, <CARDINAL>35</CARDINAL>.\n",
      "\n",
      "Invalid entry, empty tags.\n",
      "\t<PER>Una; 1 ne </PER>, <LOC>Fontaine-St-Georges</LOC><CARDINAL> </CARDINAL>,\n",
      "\n",
      "Invalid entry, empty tags.\n",
      "\t<PER>Chardron — Voisin</PER>, <LOC>Ménilmontant</LOC>,<CARDINAL> </CARDINAL>.\n",
      "\n",
      "Invalid entry, empty tags.\n",
      "\t<PER>op (A. À.)</PER>, <ACT>pharmacien</ACT>, <LOC>place Maubert</LOC>,<CARDINAL></CARDINAL>\n",
      "\n",
      "Invalid entry, empty tags.\n",
      "\t<PER>Doux (F.)</PER>, <ACT>soies écrues</ACT>, <LOC>St-Denis</LOC>,<CARDINAL> . ,</CARDINAL> et <LOC>cloître Suint-Jacques</LOC>,<CARDINAL></CARDINAL>\n",
      "\n",
      "Invalid entry, empty tags.\n",
      "\t<PER>Drouin ( J.)</PER>, <ACT>droguerie, produits  chimiques, gélatine ct couleurs, dépôt de l&apos;administration des mi- nes de Bouxuiller (Bas-Rhin), fabrique de prussiate jaune et rouge, bleu de Berlin, bleu de Prusse, sel ammoniac, alun, vi- triol-Salsbourg, couperoses, géla- tines et phosphore, dépôt des col- les de Givet de MM. Parent et Donnay et de MM. Beuax el fils</ACT>,<LOC> Sainte - Croix -la-Bretonnerie</LOC><CARDINAL> </CARDINAL>, <TITRE>D</TITRE>)\n",
      "\n",
      "Invalid entry, empty tags.\n",
      "\t<PER>Durand (François)</PER>, <ACT>pour les colo- nies</ACT>, <LOC>Douane</LOC>, <CARDINAL>14</CARDINAL>.<TITRE></TITRE>\n",
      "\n",
      "Suspect char@021: € (0x20ac EURO SIGN -- cat.: Sc)\n",
      "Invalid entry, empty tags.\n",
      "\t<PER>Cousin (L.)</PER>, <ACT>quincaillerie</ACT>, <LOC>Acacias-Ternes</LOC><CARDINAL></CARDINAL>\n",
      "\n",
      "Suspect char@020: € (0x20ac EURO SIGN -- cat.: Sc)\n",
      "Invalid entry, empty tags.\n",
      "\t<PER>Couture (Th. </PER>3%<TITRE></TITRE>, <ACT>peintre</ACT>, <LOC>Labruyère</LOC>, <CARDINAL>32</CARDINAL>.\n",
      "\n",
      "Invalid entry, empty tags.\n",
      "\t<PER>Granara (À.</PER>,<ACT>grand nôtel de Russie</ACT>, <LOC>Drouot</LOC>, <CARDINAL></CARDINAL>et <LOC>boul des lisliens</LOC>, <CARDINAL>2</CARDINAL>.\n",
      "\n",
      "Invalid entry, empty tags.\n",
      "\t<PER>Dobignie</PER>*<TITRE></TITRE>, <ACT>juge 1re instance</ACT>, <LOC>Seine</LOC>, <CARDINAL>72</CARDINAL>.\n",
      "\n",
      "Invalid entry, empty tags.\n",
      "\t<PER>Ylasquerier</PER> <ACT>( anglaise)</ACT>, <LOC>R. de Louvois</LOC> CO<CARDINAL></CARDINAL> <LOC>Lepelletier</LOC>. 7 ser, SE &quot;AUS AIS Fd ESS A,\n",
      "\n",
      "Suspect char@081: € (0x20ac EURO SIGN -- cat.: Sc)\n",
      "Suspect char@006: € (0x20ac EURO SIGN -- cat.: Sc)\n",
      "Invalid entry, empty tags.\n",
      "\t<PER>Cazeau</PER> <ACT>(!ab.)</ACT>, <LOC>Hi. Chapon, maison du Hole Creer</LOC>: -<LOC></LOC>\n",
      "\n",
      "Invalid entry, empty tags.\n",
      "\t<PER>NE</PER> <ACT>0</ACT> <LOC>np nier</LOC> <CARDINAL></CARDINAL><LOC>ASE dial</LOC>\n",
      "\n",
      "Invalid entry, empty tags.\n",
      "\t<PER>PR TR PER</PER><LOC>TE pe</LOC>r <CARDINAL>LEO</CARDINAL><LOC></LOC>\n",
      "\n",
      "Invalid entry, empty tags.\n",
      "\t&apos;<PER>Apmet</PER>. <LOC>R &apos;du Four</LOC> R<CARDINAL></CARDINAL><LOC>H. an BU</LOC>\n",
      "\n",
      "Invalid entry, empty tags.\n",
      "\t<PER>Baraguay-d&apos;Hilliers ( général )</PER>, K<LOC>R. des Tr</LOC> <CARDINAL>)</CARDINAL>&quot;<LOC></LOC>\n",
      "\n",
      "Invalid entry, empty tags.\n",
      "\t<PER>Demouy</PER>, <LOC>R. du Faub.S. Lazare</LOC><CARDINAL> </CARDINAL>, RS <LOC>Pole </LOC>D RCAUTURE\n",
      "\n",
      "Invalid entry, empty tags.\n",
      "\t<PER>Anvers</PER> &quot; <ACT>(droguistes)</ACT> <LOC>K&quot; se Len</LOC><CARDINAL></CARDINAL>\n",
      "\n",
      "Invalid entry, empty tags.\n",
      "\t<PER>Ryvnit-et Pichard</PER>, <LOC>RN Era</LOC>,<CARDINAL></CARDINAL>\n",
      "\n",
      "Invalid entry, empty tags.\n",
      "\t<PER>Hapañie</PER> <ACT>d&apos;étnffes ar apareane.}</ACT> <LOC>Pal</LOC><CARDINAL></CARDINAL>\n",
      "\n",
      "Invalid entry, empty tags.\n",
      "\t<PER>Rocnsg cpdet of een</PER>, <LOC>Re Qu Gpos-</LOC><CARDINAL></CARDINAL>\n",
      "\n",
      "Invalid entry, empty tags.\n",
      "\t<PER>Fibion À H, het éCmps</PER> <ACT>(éétoffes! t</ACT><LOC>hin CE Je étape (étofes</LOC>) <CARDINAL></CARDINAL>:\n",
      "\n",
      "Invalid entry, empty tags.\n",
      "\t<PER></PER><ACT></ACT><LOC></LOC><CARDINAL></CARDINAL>\n",
      "\n",
      "Invalid entry, empty tags.\n",
      "\t<PER>Chambers Cards)</PER>,<ACT> er 4r8s 3</ACT>, <LOC>Re Phée</LOC><CARDINAL></CARDINAL>\n",
      "\n",
      "Invalid entry, empty tags.\n",
      "\t<PER>Messier (J. L.)</PER> <ACT>(portraits)</ACT>, <LOC>rue desChamps-Elisées</LOC> , no.<CARDINAL> </CARDINAL>2.\n",
      "\n",
      "================================\n",
      "Invalid entries:     65\n",
      "Total entries:     8765\n",
      "================================\n"
     ]
    }
   ],
   "source": [
    "out_path = os.path.join(DATASET_PATH, \"32-ner_align_tess\", \"all.json\")\n",
    "ner_tess_align = generate_aligned_gt(ref_path, tess_path, out_path)"
   ]
  },
  {
   "cell_type": "code",
   "execution_count": 10,
   "metadata": {},
   "outputs": [
    {
     "name": "stdout",
     "output_type": "stream",
     "text": [
      "Invalid entry, empty tags.\n",
      "\t<PER>Buzenet</PER>, <LOC>rue galande</LOC>, n.<CARDINAL></CARDINAL>.\n",
      "\n",
      "Invalid entry, empty tags.\n",
      "\t<PER>Thiriet</PER> , <LOC>rue Christie</LOC>,<CARDINAL></CARDINAL>\n",
      "\n",
      "Invalid entry, empty tags.\n",
      "\t<PER>Vadame, cte d&apos;Unsebowut</PER>, <LOC>ue d vat-lllae</LOC>  <CARDINAL></CARDINAL>.\n",
      "\n",
      "Invalid entry, empty tags.\n",
      "\t<PER>Walleville</PER>, <LOC>rne Serv ndoni</LOC>, <CARDINAL></CARDINAL>.\n",
      "\n",
      "Invalid entry, empty tags.\n",
      "\t<PER>ali besnoyers</PER>, <LOC>rue Cloche-Perche</LOC> , <CARDINAL></CARDINAL>.\n",
      "\n",
      "Invalid entry, empty tags.\n",
      "\t<PER>Val:yer</PER>, <ACT>cure de oint-Germain-l&apos;fu- errois</ACT>, <LOC>ue de l&apos;Arbre-Sec</LOC>, <CARDINAL></CARDINAL>.\n",
      "\n",
      "Invalid entry, empty tags.\n",
      "\tr...- <PER>Truvault</PER>, <LOC>rue del MIicholiire</LOC>. <CARDINAL></CARDINAL>.\n",
      "\n",
      "Invalid entry, empty tags.\n",
      "\t<PER>r outau</PER> , <LOC>rue licher</LOC>, <CARDINAL></CARDINAL>.\n",
      "\n",
      "Invalid entry, empty tags.\n",
      "\tr..- <PER>Tourolle</PER>, <LOC>rue icelieu</LOC> , <CARDINAL></CARDINAL>.\n",
      "\n",
      "Invalid entry, empty tags.\n",
      "\t<PER>Toulongeon (le chevaler de</PER>), <ACT>emre dt cerps gislatif</ACT>, <LOC>rne IMiromesil</LOC>.z<CARDINAL></CARDINAL>.\n",
      "\n",
      "Invalid entry, empty tags.\n",
      "\t<PER>1&apos;ompson</PER>, <LOC>rue Madame</LOC>, <CARDINAL></CARDINAL>.\n",
      "\n",
      "Invalid entry, empty tags.\n",
      "\t<PER>Thulis</PER> , <LOC>boulevart Poissonniere</LOC> , <CARDINAL></CARDINAL>.\n",
      "\n",
      "Invalid entry, empty tags.\n",
      "\t1:1 <PER>Tdlussn</PER>, <LOC>. Paralis-Toissoii:re</LOC>, <CARDINAL></CARDINAL>.\n",
      "\n",
      "Invalid entry, empty tags.\n",
      "\t`<PER>Tingy (Mat. d)</PER>, <LOC>rue Vareuues</LOC>, <CARDINAL></CARDINAL>.\n",
      "\n",
      "Invalid entry, empty tags.\n",
      "\t<PER>Bouguainville, (Veuve Baraudin do)</PER> <LOC>rue Neuve-Lxembourg</LOC>, <CARDINAL></CARDINAL>.\n",
      "\n",
      "Invalid entry, empty tags.\n",
      "\t<PER>Bochard de Clapigny pre et fils</PER>, <LOC>rue du Canivet</LOC>,a<CARDINAL></CARDINAL>.\n",
      "\n",
      "Invalid entry, empty tags.\n",
      "\t<PER>Blond</PER>, <LOC>r. des lFos.-S.-Germ.-l&apos;Auerrois</LOC>,<CARDINAL></CARDINAL>.\n",
      "\n",
      "Invalid entry, empty tags.\n",
      "\t<PER>Bossut</PER>, <ACT>embre de l&apos;Institut</ACT>, <LOC>rue des Saints-Peres</LOC>, <CARDINAL></CARDINAL>.\n",
      "\n",
      "Invalid entry, empty tags.\n",
      "\t<PER>Boquestant, (Le baron de)</PER> <LOC>r. Neuve-des- Petits-Chaps</LOC>, <CARDINAL></CARDINAL>.\n",
      "\n",
      "Invalid entry, empty tags.\n",
      "\t<PER>Blanquart (Le chevalier) de Bailleul</PER>,<ACT> ebre du Corps-Legislatif</ACT> <LOC>quai Mn- laquai</LOC>, <CARDINAL></CARDINAL>.\n",
      "\n",
      "Invalid entry, empty tags.\n",
      "\t<PER>izet</PER>, <LOC>r. iu Faub.-S.- bDenis</LOC>, <CARDINAL></CARDINAL>.\n",
      "\n",
      "Invalid entry, empty tags.\n",
      "\t<PER>Billaud</PER>,<LOC> r. du Faub. - MIontrnartre</LOC>, <CARDINAL></CARDINAL>.\n",
      "\n",
      "Invalid entry, empty tags.\n",
      "\t<PER>Bonjour</PER>, <LOC>rue et passage dea Patits-Pberes</LOC>, <CARDINAL></CARDINAL>.\n",
      "\n",
      "Invalid entry, empty tags.\n",
      "\t<PER>Bodiment, (Gahriel)</PER> <LOC>r. du Port-Mahon</LOC>,a<CARDINAL></CARDINAL>.\n",
      "\n",
      "Invalid entry, empty tags.\n",
      "\t<PER>Ieeagr</PER>, <ACT>et dorures</ACT>, <LOC>boulev. des Italiena</LOC>, <CARDINAL></CARDINAL>.\n",
      "\n",
      "Invalid entry, empty tags.\n",
      "\t<PER>1ouclle</PER>, <LOC>r. au hMaire</LOC>, <CARDINAL></CARDINAL>.\n",
      "\n",
      "Invalid entry, empty tags.\n",
      "\t<PER>Fontana, (l&apos;r.)</PER><ACT>falric. e brosscs et pi- ceatr poes peiudre</ACT>, <LOC>rue Neuve-Saint- Denis</LOC>,<CARDINAL></CARDINAL>.\n",
      "\n",
      "Invalid entry, empty tags.\n",
      "\t<PER>Thomire, Dutere et comp,</PER> <ACT>fabric. de bronzes dores</ACT>, <LOC>r. Boucherai</LOC>,a<CARDINAL></CARDINAL>\n",
      "\n",
      "Invalid entry, empty tags.\n",
      "\t<PER>(nennessen</PER>, <ACT>et dorures</ACT>, <LOC>r. Napoleon</LOC>, <CARDINAL> </CARDINAL>.\n",
      "\n",
      "Invalid entry, empty tags.\n",
      "\t<PER>Debrge</PER>, <LOC>rue S.-Dominique</LOC>,<CARDINAL></CARDINAL>. (<LOC>Gros- Caillou</LOC>.)\n",
      "\n",
      "Invalid entry, empty tags.\n",
      "\t<PER>Carpentier</PER>, <LOC>r. du Harlay</LOC>, <CARDINAL></CARDINAL>. (<LOC>Mlarais</LOC>.)\n",
      "\n",
      "Invalid entry, empty tags.\n",
      "\t<PER>Plib</PER>, <ACT>danois (et. de l&apos;acacmie de Copenhague. portr.)</ACT> , <LOC>rne Roch Poissanniere</LOC>,no.<CARDINAL></CARDINAL>.\n",
      "\n",
      "Invalid entry, empty tags.\n",
      "\t<PER>I.emina (Cne.)</PER> <ACT>(ralaux)</ACT>, <LOC>ruie des MIoulins</LOC>, no. <CARDINAL></CARDINAL>.\n",
      "\n",
      "Invalid entry, empty tags.\n",
      "\t1<PER>Lefovre (IR.)</PER> <ACT>(l. de legnault. pore.)</ACT> <LOC>r. d&apos;Orleans-Hon.</LOC> no.<CARDINAL></CARDINAL>\n",
      "\n",
      "Invalid entry, empty tags.\n",
      "\tI<PER>Landry</PER> <ACT>(portr.)</ACT>, <LOC>rue des MIacons</LOC>, no.o<CARDINAL></CARDINAL>, <LOC>div. des Thermes</LOC>.\n",
      "\n",
      "Invalid entry, empty tags.\n",
      "\t<PER>Gueston (IDM.)</PER> <ACT>(el. de ierre. prt)</ACT>, <LOC>rue Mesldec</LOC>, no. <CARDINAL></CARDINAL>.\n",
      "\n",
      "Invalid entry, empty tags.\n",
      "\t<PER>Guerer (Les Cnes.)</PER> <ACT>(portr.)</ACT> <LOC>rie de la Verrerie</LOC>, noo<CARDINAL></CARDINAL>\n",
      "\n",
      "Invalid entry, empty tags.\n",
      "\t<PER>Canaple</PER>, <LOC>rue Fridmenteau</LOC>, n. <CARDINAL></CARDINAL>,  <LOC>du useum</LOC>.\n",
      "\n",
      "Invalid entry, empty tags.\n",
      "\t<PER>lluteux</PER>, <LOC>rue Guillume</LOC>, n.<CARDINAL></CARDINAL>,- <LOC>de la Fraternite</LOC>.\n",
      "\n",
      "Invalid entry, empty tags.\n",
      "\t<PER>Breto</PER>, <LOC>rue Mercier</LOC>, n.<CARDINAL></CARDINAL>, - <LOC>de la Halle-au-llled</LOC>.\n",
      "\n",
      "Invalid entry, empty tags.\n",
      "\t<PER>Iondu</PER>, <LOC>ruedes kBarres</LOC>, n.s<CARDINAL></CARDINAL>,- <LOC>de la Fidelite</LOC>.\n",
      "\n",
      "Invalid entry, empty tags.\n",
      "\t<PER>Bertrand</PER>, <LOC>rue Jean-lobert</LOC>,n. <CARDINAL></CARDINAL>- <LOC>des Gravilliers</LOC>.\n",
      "\n",
      "Invalid entry, empty tags.\n",
      "\t<PER>Barthelcsy</PER> <LOC>rue des Enans-louges</LOC> n.3<CARDINAL></CARDINAL>,- <LOC>de lHpmmes Arne</LOC>.\n",
      "\n",
      "Invalid entry, empty tags.\n",
      "\t<PER>Bardon</PER>, <LOC>Place aux V eaux</LOC>, n. <CARDINAL></CARDINAL>, - <LOC>lu Jardin-des-Plaites</LOC>.\n",
      "\n",
      "Invalid entry, empty tags.\n",
      "\t<PER>Babe</PER>, <LOC>rue du haut-oulin</LOC>, n. <CARDINAL></CARDINAL>, -- <LOC>de la Cite</LOC>.\n",
      "\n",
      "Invalid entry, empty tags.\n",
      "\t<PER>Anblin</PER>, (O<LOC>Quai leruard</LOC>, n <CARDINAL></CARDINAL> -- <LOC>du Jarlin-tes. Pantes</LOC>.\n",
      "\n",
      "Invalid entry, empty tags.\n",
      "\t<PER>hcloque</PER>, <LOC>rue des ernardius</LOC>, n.o<CARDINAL></CARDINAL>,- <LOC>dn Jardin-des-Plantes</LOC>g\n",
      "\n",
      "Invalid entry, empty tags.\n",
      "\t<PER>Allard</PER>, <LOC>passage du Samon</LOC>. n. <CARDINAL></CARDINAL>, - <LOC>les Arcis</LOC>\n",
      "\n",
      "Invalid entry, empty tags.\n",
      "\t<PER>Cely</PER> , <LOC>rue des Vieux-Augustins</LOC>, n. <CARDINAL></CARDINAL>-<CARDINAL>5t6</CARDINAL>, - <LOC>du Mail</LOC>.\n",
      "\n",
      "Invalid entry, empty tags.\n",
      "\t<PER>Irue</PER>, <LOC>rue de Vaunes</LOC>, n. <CARDINAL></CARDINAL>,- <LOC>dce la Halle</LOC>.\n",
      "\n",
      "Invalid entry, empty tags.\n",
      "\t<PER>Girard</PER>, <LOC>uai de la Meisserie</LOC> , n.&apos; <CARDINAL></CARDINAL>,-<LOC>du Musium</LOC>.\n",
      "\n",
      "Invalid entry, empty tags.\n",
      "\t<PER>Oagnat</PER>, <LOC>oulevard du dept</LOC>, n.&apos;<CARDINAL></CARDINAL>, -<LOC> Palletier</LOC>.\n",
      "\n",
      "Invalid entry, empty tags.\n",
      "\t<PER>Chatin</PER>, <LOC>rue Cerutti</LOC>, n.&apos;&apos;<CARDINAL></CARDINAL>,-<LOC>du Monblainc</LOC>.\n",
      "\n",
      "Invalid entry, empty tags.\n",
      "\t<PER>Bart (marchand en gres)</PER>, <LOC>rue konore</LOC>, n.&apos; <CARDINAL></CARDINAL>,-<LOC>des Thuileries</LOC>.\n",
      "\n",
      "Invalid entry, empty tags.\n",
      "\t<PER>A</PER>, <LOC>:ini</LOC>,<CARDINAL></CARDINAL>.\n",
      "\n",
      "Invalid entry, empty tags.\n",
      "\t<PER>Besssn</PER><ACT>( s ot)</ACT> <LOC>RDdt xo</LOC>.<CARDINAL></CARDINAL>\n",
      "\n",
      "Invalid entry, empty tags.\n",
      "\t<PER>eegee.</PER> <ACT>.9 -i , Maniasie</ACT>i.<LOC>t:: ..h :.iL</LOC><CARDINAL></CARDINAL>\n",
      "\n",
      "Invalid entry, empty tags.\n",
      "\t<PER>xiMalyk.</PER><LOC>ra&apos;i</LOC><CARDINAL></CARDINAL>\n",
      "\n",
      "Invalid entry, empty tags.\n",
      "\t<PER>hisbi</PER>, <LOC>N,.S.Hoee</LOC>,a<CARDINAL></CARDINAL>\n",
      "\n",
      "Invalid entry, empty tags.\n",
      "\t<PER>it:- Eees</PER> <ACT>MtAiI.i M.i</ACT> . <LOC>.ss</LOC>.<CARDINAL></CARDINAL>\n",
      "\n",
      "Invalid entry, empty tags.\n",
      "\t<PER>g E; e).</PER> <ACT></ACT><LOC>laee des Wiliires</LOC>  . <CARDINAL></CARDINAL>.\n",
      "\n",
      "Invalid entry, empty tags.\n",
      "\t<PER>9-e. .,</PER><ACT>n</ACT>,<LOC>de  Mi6i i</LOC>.-<CARDINAL></CARDINAL>\n",
      "\n",
      "Invalid entry, empty tags.\n",
      "\t<PER>iclisrd</PER> <ACT>(arnsA.)</ACT>, <LOC>., Peylean</LOC>, <CARDINAL></CARDINAL>.\n",
      "\n",
      "Invalid entry, empty tags.\n",
      "\t<PER>Richer</PER>, <LOC>R. Guillo</LOC>, <CARDINAL></CARDINAL>.\n",
      "\n",
      "Invalid entry, empty tags.\n",
      "\t<PER>Bchaek</PER> <ACT>(oaros.)</ACT> , <LOC>.&apos;adi Halee</LOC>, <CARDINAL></CARDINAL>.\n",
      "\n",
      "Invalid entry, empty tags.\n",
      "\t<PER>Bian</PER>: <LOC>A. . 4es Hiheias</LOC>: <CARDINAL></CARDINAL>.\n",
      "\n",
      "Invalid entry, empty tags.\n",
      "\t<PER>Taui</PER> <ACT>(crssi.</ACT>,<LOC>R,  Greuslle</LOC>, <CARDINAL></CARDINAL>.  <LOC>Foitaie dt ahelle</LOC>.\n",
      "\n",
      "Invalid entry, empty tags.\n",
      "\t<PER>eiot</PER> <ACT>c.</ACT> <LOC>. afed</LOC>. <CARDINAL></CARDINAL>.\n",
      "\n",
      "Invalid entry, empty tags.\n",
      "\t<PER>aps</PER> <ACT>(charron)</ACT>, <LOC>H, de Veneil</LOC>,,<CARDINAL></CARDINAL>.\n",
      "\n",
      "Invalid entry, empty tags.\n",
      "\t<PER></PER>, <LOC>. sFIariir</LOC>,i<CARDINAL>a</CARDINAL>.\n",
      "\n",
      "Invalid entry, empty tags.\n",
      "\t<PER>asin (le.,)</PER> <LOC>, dss Biennai,</LOC>.i<CARDINAL></CARDINAL>\n",
      "\n",
      "Invalid entry, empty tags.\n",
      "\t<PER>asan</PER> H<LOC>. de, auirarl</LOC>,<CARDINAL></CARDINAL>.\n",
      "\n",
      "Invalid entry, empty tags.\n",
      "\t<PER>BIi. a.)</PER> W<LOC>R,io: Marsrid</LOC>,e<CARDINAL></CARDINAL>\n",
      "\n",
      "Invalid entry, empty tags.\n",
      "\t<PER>IHan</PER>. H<LOC>R di Maehi 8, `Msiin</LOC>.<CARDINAL></CARDINAL>\n",
      "\n",
      "Invalid entry, empty tags.\n",
      "\tH<PER>Boaln</PER>. <LOC>H, S&apos; Mardu,</LOC>,I<CARDINAL></CARDINAL>\n",
      "\n",
      "Invalid entry, empty tags.\n",
      "\t<PER>Bore</PER>, <LOC>I,Mah.au-Poiiees</LOC>.<CARDINAL></CARDINAL>\n",
      "\n",
      "Invalid entry, empty tags.\n",
      "\t<PER>Baueat </PER>. <LOC>les S Mario</LOC><CARDINAL></CARDINAL>\n",
      "\n",
      "Invalid entry, empty tags.\n",
      "\t<PER>an</PER>, <LOC>R. S.aisia</LOC>.i<CARDINAL></CARDINAL>\n",
      "\n",
      "Invalid entry, empty tags.\n",
      "\t<PER>ane</PER>, <LOC>.iita la Gier</LOC>,i<CARDINAL></CARDINAL>\n",
      "\n",
      "Invalid entry, empty tags.\n",
      "\t<PER>Baiii</PER>:<LOC>. e&apos;i</LOC><CARDINAL></CARDINAL>\n",
      "\n",
      "Invalid entry, empty tags.\n",
      "\t<PER>Bdan</PER> <LOC>:6s`iies</LOC>.<CARDINAL></CARDINAL>\n",
      "\n",
      "Invalid entry, empty tags.\n",
      "\t<PER>Bsdsn</PER> <LOC>R.isi</LOC>.i<CARDINAL></CARDINAL>.\n",
      "\n",
      "Invalid entry, empty tags.\n",
      "\t<PER>anlon</PER>  <LOC>ii-Rat</LOC>,&apos;<CARDINAL></CARDINAL>,\n",
      "\n",
      "Invalid entry, empty tags.\n",
      "\t<PER>iua;&apos;</PER> <LOC>.&apos;S%Mls</LOC><CARDINAL></CARDINAL>\n",
      "\n",
      "Invalid entry, empty tags.\n",
      "\t<PER>aaisn</PER>. <LOC>Gisrsil</LOC>sr<CARDINAL></CARDINAL>\n",
      "\n",
      "Invalid entry, empty tags.\n",
      "\t<PER>Bouanoi</PER>. <LOC>ash.lissani&apos;</LOC> <CARDINAL></CARDINAL>.\n",
      "\n",
      "Invalid entry, empty tags.\n",
      "\t<PER>aila Nigsr</PER>, <LOC>gf</LOC>.<CARDINAL></CARDINAL>\n",
      "\n",
      "Invalid entry, empty tags.\n",
      "\t<PER>ksshi-</PER>, <LOC>:;  oal di fre</LOC>.<CARDINAL></CARDINAL>\n",
      "\n",
      "Invalid entry, empty tags.\n",
      "\t<PER>i;</PER>%H<LOC>RdesPS. Gi. ieks</LOC>a<CARDINAL></CARDINAL>.\n",
      "\n",
      "Invalid entry, empty tags.\n",
      "\t<PER>gssMe </PER>, <LOC>oes.s-</LOC><CARDINAL></CARDINAL>\n",
      "\n",
      "Invalid entry, empty tags.\n",
      "\t<PER>Aer</PER>A, <LOC>d a Werreie</LOC>, <CARDINAL></CARDINAL>.\n",
      "\n",
      "Invalid entry, empty tags.\n",
      "\th<PER>Aassr</PER> , <LOC>. &amp;es Wieiii Funtlerias</LOC>.<CARDINAL></CARDINAL>\n",
      "\n",
      "Invalid entry, empty tags.\n",
      "\t<PER>Adtie&apos;</PER>, <LOC>, ass MNrois</LOC>ii<CARDINAL></CARDINAL>,\n",
      "\n",
      "Invalid entry, empty tags.\n",
      "\t<PER>rtrsn</PER> ; <LOC>. S, Marid</LOC>, <CARDINAL></CARDINAL>.\n",
      "\n",
      "Invalid entry, empty tags.\n",
      "\t<PER></PER><LOC></LOC><CARDINAL></CARDINAL>\n",
      "\n",
      "Invalid entry, empty tags.\n",
      "\t<PER>Anffraox</PER>,; <LOC>R. de Bssy</LOC>. a<CARDINAL></CARDINAL>.\n",
      "\n",
      "Invalid entry, empty tags.\n",
      "\t<PER>Ahry</PER> , <LOC>h. de res</LOC>,s<CARDINAL></CARDINAL>.\n",
      "\n",
      "Invalid entry, empty tags.\n",
      "\t<PER>Demillier</PER>. <LOC>kh. du benticr</LOC>, <CARDINAL></CARDINAL>. -- <LOC>rt</LOC>.\n",
      "\n",
      "Invalid entry, empty tags.\n",
      "\t<PER>Delahersac</PER>e, <LOC>H. S. lHonore</LOC>, , <CARDINAL></CARDINAL>-<LOC>Pl, V</LOC>.\n",
      "\n",
      "Invalid entry, empty tags.\n",
      "\t<PER>Baroncelly-Jlavis</PER>, <LOC>R. de ls Loi</LOC>, <CARDINAL></CARDINAL>.-<LOC> Bute dss M</LOC>.\n",
      "\n",
      "Invalid entry, empty tags.\n",
      "\t<PER>Barnier</PER>, <LOC>R. de 1a Revalution</LOC>, <CARDINAL></CARDINAL>.-<LOC> Tuileries</LOC>.\n",
      "\n",
      "Invalid entry, empty tags.\n",
      "\t<PER>Bardoux</PER>, <LOC>R. du Fh. S. Honor</LOC> <CARDINAL></CARDINAL>.-<LOC> Ch. Llysdes</LOC>.\n",
      "\n",
      "Invalid entry, empty tags.\n",
      "\t<PER>Barbor</PER>, H<LOC>R. des RBna Ealans</LOC>, . <CARDINAL></CARDINAL>-<LOC>H. u hBle</LOC>.\n",
      "\n",
      "Invalid entry, empty tags.\n",
      "\t<PER>larasguay-d Hilliers ( gneral)</PER>, <LOC>h. des Juifs</LOC>, <CARDINAL></CARDINAL>.-<LOC>D. de IH</LOC>.\n",
      "\n",
      "Invalid entry, empty tags.\n",
      "\t<PER>Arod</PER>, <LOC>R,. du Fl. S. Honar</LOC>. <CARDINAL></CARDINAL>.-<LOC>Ch, kEl.</LOC>\n",
      "\n",
      "Invalid entry, empty tags.\n",
      "\t<PER>Arnou</PER>, <LOC>1. Conrescarpe</LOC> , <CARDINAL></CARDINAL>.-<LOC> bserv.</LOC>\n",
      "\n",
      "Invalid entry, empty tags.\n",
      "\t<PER>Arnal</PER>, <LOC>I. Leelleier</LOC>. <CARDINAL></CARDINAL>.- <LOC>M hlane</LOC>.\n",
      "\n",
      "Invalid entry, empty tags.\n",
      "\th<PER>Aaon</PER>, <LOC>R, S. Domiiqse</LOC>, <CARDINAL></CARDINAL>.-<LOC>F. de tG</LOC>.\n",
      "\n",
      "Invalid entry, empty tags.\n",
      "\t<PER>A ugutin</PER> , <LOC>I. S. Georges</LOC>. <CARDINAL></CARDINAL>.- <LOC>MI. Blane</LOC>.\n",
      "\n",
      "Invalid entry, empty tags.\n",
      "\t<PER>Atgger fils</PER>, H<LOC>R. du Renard</LOC>, <CARDINAL></CARDINAL>.-<LOC>B. Cons</LOC>.\n",
      "\n",
      "Invalid entry, empty tags.\n",
      "\t<PER>Seinacher</PER>, <LOC>R, de Thionille</LOC>, <CARDINAL></CARDINAL>.- <LOC>Ua</LOC>.\n",
      "\n",
      "Invalid entry, empty tags.\n",
      "\t<PER>Sillan</PER>. <LOC>R, S. ILouis</LOC>  <CARDINAL></CARDINAL>.--<LOC>. Neul</LOC>\n",
      "\n",
      "Invalid entry, empty tags.\n",
      "\t<PER>Miaulniar</PER> . <LOC>R. dss lLombards</LOC>,h<CARDINAL></CARDINAL>.\n",
      "\n",
      "Invalid entry, empty tags.\n",
      "\t<PER>igg</PER>  <LOC>du eue Cnrrean</LOC>, <CARDINAL>o-</CARDINAL>-<LOC></LOC>\n",
      "\n",
      "Invalid entry, empty tags.\n",
      "\t<PER>luviner</PER>, <LOC>R. des I ombasds</LOC>, <CARDINAL></CARDINAL>.\n",
      "\n",
      "Invalid entry, empty tags.\n",
      "\t<PER>;</PER>;<LOC>:-</LOC>.<CARDINAL></CARDINAL>.<LOC>eE</LOC>\n",
      "\n",
      "Invalid entry, empty tags.\n",
      "\t<PER>Nachet</PER>, <LOC>Yieille R. du 1emple</LOC>. <CARDINAL></CARDINAL>.---<LOC> 1mnmn Arsi</LOC>.\n",
      "\n",
      "Invalid entry, empty tags.\n",
      "\t<PER>Lsine</PER>, <LOC>plaee Maubert</LOC>, <CARDINAL></CARDINAL>.\n",
      "\n",
      "Invalid entry, empty tags.\n",
      "\t<PER>lollrin</PER> , <LOC>k. S MIartin</LOC>, <CARDINAL></CARDINAL>.-<LOC>Lomb</LOC>.\n",
      "\n",
      "Invalid entry, empty tags.\n",
      "\t<PER>ougerea</PER>, <LOC>. des Cordeliers, au coin de la lt, les Fusses . Germin</LOC>,a<CARDINAL></CARDINAL>.\n",
      "\n",
      "Invalid entry, empty tags.\n",
      "\t<PER>Flamant</PER>, <LOC>R. Monmartre</LOC>,r<CARDINAL></CARDINAL>.--<LOC>Lep</LOC>.\n",
      "\n",
      "Invalid entry, empty tags.\n",
      "\t<PER>Dubue</PER>, <LOC>R. du Fauh. S. Hosor4</LOC>d, <CARDINAL></CARDINAL>.--<LOC> Roule</LOC>.\n",
      "\n",
      "Invalid entry, empty tags.\n",
      "\t<PER>arabure</PER>. <LOC>Care 5. Marin</LOC>. <CARDINAL></CARDINAL>.--<LOC></LOC>\n",
      "\n",
      "Invalid entry, empty tags.\n",
      "\t<PER>l</PER>,-<LOC> d Baas Eafs</LOC>, <CARDINAL></CARDINAL>.- <LOC>H.</LOC>\n",
      "\n",
      "Invalid entry, empty tags.\n",
      "\t<PER>g</PER> ee<LOC>vae et</LOC>.<CARDINAL>6</CARDINAL>.-<LOC></LOC>\n",
      "\n",
      "Invalid entry, empty tags.\n",
      "\t<PER>Clarier</PER>, <LOC>R. Montorgeil</LOC>, <CARDINAL></CARDINAL>.-<LOC>C., S.</LOC>\n",
      "\n",
      "Invalid entry, empty tags.\n",
      "\t<PER>F-g;ee</PER>. <LOC>nA. . uona</LOC>, <CARDINAL>o-</CARDINAL>-<LOC></LOC>\n",
      "\n",
      "Invalid entry, empty tags.\n",
      "\t<PER>aslle</PER>, <LOC>I. de beame</LOC>. <CARDINAL></CARDINAL>.\n",
      "\n",
      "Invalid entry, empty tags.\n",
      "\t<PER></PER><LOC></LOC><CARDINAL></CARDINAL><LOC></LOC>\n",
      "\n",
      "Invalid entry, empty tags.\n",
      "\t<PER></PER><LOC></LOC><CARDINAL></CARDINAL><LOC></LOC>\n",
      "\n",
      "Invalid entry, empty tags.\n",
      "\t<PER>Pe</PER>;<LOC>:- a</LOC>.s<CARDINAL>s</CARDINAL> -<LOC></LOC>\n",
      "\n",
      "Invalid entry, empty tags.\n",
      "\t<PER>Beeas srs</PER>, h<LOC>R. du Temple</LOC>, <CARDINAL>s4o</CARDINAL>.-<LOC></LOC>\n",
      "\n",
      "Invalid entry, empty tags.\n",
      "\t<PER>Aube</PER> , <LOC>k. des Lombrds</LOC> <CARDINAL></CARDINAL>.\n",
      "\n",
      "Invalid entry, empty tags.\n",
      "\t<PER>se</PER> <ACT>(M)</ACT>, <LOC>neoa 5. Maris</LOC>.<CARDINAL></CARDINAL><LOC></LOC>\n",
      "\n",
      "Invalid entry, empty tags.\n",
      "\t<PER>Dtsi</PER><ACT>(fb.)</ACT>, <LOC>H. Tmnaossis</LOC>. <CARDINAL>aa</CARDINAL>--<LOC></LOC>\n",
      "\n",
      "Invalid entry, empty tags.\n",
      "\t<PER>sl-y eJ</PER><ACT>.</ACT> <LOC>n. Grseea</LOC>. <CARDINAL>6</CARDINAL>-<LOC></LOC>\n",
      "\n",
      "Invalid entry, empty tags.\n",
      "\t<PER></PER><ACT></ACT><LOC>P;&apos;</LOC><CARDINAL>2y</CARDINAL>.Aaa<LOC>.</LOC>\n",
      "\n",
      "Invalid entry, empty tags.\n",
      "\t<PER>Legendre</PER> <ACT>( de Toilouse )</ACT>, <LOC>R. GI-le- Cceur</LOC>, <CARDINAL></CARDINAL>.--<LOC>Thetre kFrancai</LOC>.\n",
      "\n",
      "Invalid entry, empty tags.\n",
      "\t<PER>Grasry</PER> <ACT>(des  Evches)</ACT>, <LOC>R. des Fonsis S. Thomas</LOC> . <CARDINAL></CARDINAL>.-- <LOC>Mail</LOC>.\n",
      "\n",
      "Invalid entry, empty tags.\n",
      "\t<PER>Mayeur et Mora (M.lles)</PER>, <ACT>(oncor- geil)</ACT> , <LOC>R. Monrgueil</LOC>, <CARDINAL></CARDINAL>.-<LOC>Bru.</LOC>\n",
      "\n",
      "Invalid entry, empty tags.\n",
      "\t<PER>Ogee (veuve)</PER>, <LOC>R. Jean de 1Epine</LOC> , <CARDINAL></CARDINAL>. <LOC>Arcis</LOC>.\n",
      "\n",
      "Invalid entry, empty tags.\n",
      "\t<PER></PER><ACT>s</ACT> <LOC>l g Tibina</LOC>. <CARDINAL>3-s</CARDINAL>. <LOC>Be des Mtouln</LOC>\n",
      "\n",
      "Invalid entry, empty tags.\n",
      "\t<PER>Bern</PER>, <LOC>R. Peoieee</LOC>. <CARDINAL></CARDINAL>. <LOC>-epelleier</LOC>-\n",
      "\n",
      "Invalid entry, empty tags.\n",
      "\t<PER>Langin ( en gros)</PER>, K<LOC>R. de la Loi</LOC>, <CARDINAL></CARDINAL>. <LOC>Lepelletier</LOC>.\n",
      "\n",
      "Invalid entry, empty tags.\n",
      "\t<PER>Lambert</PER> , <LOC>R. des Boucheries</LOC>  <CARDINAL></CARDINAL>. <LOC>Luxembnurg</LOC>.\n",
      "\n",
      "Invalid entry, empty tags.\n",
      "\t<PER>Fernier</PER>, <LOC>R. Yictor</LOC> , <CARDINAL></CARDINAL>. <LOC>Panthcon</LOC>.\n",
      "\n",
      "Invalid entry, empty tags.\n",
      "\t<PER>Comdamine</PER> , <LOC>R. Martin</LOC>, <CARDINAL></CARDINAL>. <LOC>mis de la Patrie</LOC>.\n",
      "\n",
      "Invalid entry, empty tags.\n",
      "\t<PER>Capet</PER> . l<LOC>R. Charlot</LOC>. <CARDINAL></CARDINAL>. <LOC>Temple</LOC>.\n",
      "\n",
      "Invalid entry, empty tags.\n",
      "\t<PER>Calot (veuve)</PER>, <LOC>R. dn our</LOC>, <CARDINAL></CARDINAL><LOC>. IIlle au Bld</LOC>\n",
      "\n",
      "Invalid entry, empty tags.\n",
      "\t<PER>ePipe</PER> , <LOC>R Bffroy</LOC> , <CARDINAL></CARDINAL>. <LOC>Popincouir</LOC>.\n",
      "\n",
      "Invalid entry, empty tags.\n",
      "\t<PER>elaunay</PER>, <LOC>R. Maur</LOC> . <CARDINAL></CARDINAL> <LOC>Popincour</LOC>.\n",
      "\n",
      "Invalid entry, empty tags.\n",
      "\t<PER>er</PER>. <LOC> 4s Fosses Mci</LOC>.s<CARDINAL></CARDINAL>. <LOC>ntre</LOC>.\n",
      "\n",
      "Invalid entry, empty tags.\n",
      "\t<PER>gg e:</PER><ACT>s</ACT>. <LOC>.. c.</LOC> .<CARDINAL></CARDINAL>:<LOC>t&apos;</LOC>\n",
      "\n",
      "Invalid entry, empty tags.\n",
      "\t<PER>ILr 2y</PER> <ACT>iee5</ACT>. <LOC>A. 5 v iiiC</LOC>,&quot;<CARDINAL></CARDINAL>\n",
      "\n",
      "Invalid entry, empty tags.\n",
      "\t<PER>sueier</PER> <ACT>(neiie</ACT>, <LOC>R. e ii</LOC> , <CARDINAL></CARDINAL>. <LOC>ieeer</LOC>.\n",
      "\n",
      "Invalid entry, empty tags.\n",
      "\t<PER>gee</PER> <ACT>(eeeee</ACT>. <LOC> Ho</LOC>. <CARDINAL></CARDINAL><LOC>G&apos;</LOC>.\n",
      "\n",
      "Invalid entry, empty tags.\n",
      "\t<PER>g(eee</PER> <ACT>s</ACT>. <LOC>r,</LOC>. <CARDINAL>ii</CARDINAL>ii<LOC></LOC>\n",
      "\n",
      "Invalid entry, empty tags.\n",
      "\t<PER>,</PER><ACT>ei.e</ACT>,i<LOC>e</LOC> <CARDINAL></CARDINAL>.&apos;<LOC> c.i</LOC>.\n",
      "\n",
      "Invalid entry, empty tags.\n",
      "\t<PER>Pe  </PER> <ACT> ieee, eie aa e  dnsouetes :::::2.:;::</ACT>: <LOC>R.mnma1</LOC> si<CARDINAL></CARDINAL><LOC></LOC>\n",
      "\n",
      "Invalid entry, empty tags.\n",
      "\t<PER>Moreau (Fred.) pere</PER> <TITRE></TITRE>, <ACT>synde honoraire du commerce des bois  onvrer</ACT>, <LOC>Victoire,</LOC><CARDINAL></CARDINAL>\n",
      "\n",
      "Invalid entry, empty tags.\n",
      "\t<PER>Moreau(Mlle)</PER>, <ACT>sage-femme</ACT>, <LOC>Fanb.-St-Martn</LOC>,<CARDINAL></CARDINAL>\n",
      "\n",
      "Invalid entry, empty tags.\n",
      "\t<PER>Mor.au (L. I.)</PER>, <ACT>direct. du comptoir de com- missions</ACT>, <LOC>Chabanais</LOC>, <CARDINAL></CARDINAL>,\n",
      "\n",
      "Invalid entry, empty tags.\n",
      "\t<PER>Moreau</PER>, <ACT>conrolenr principnl au bureau de la marque d&apos;or et d&apos;argent</ACT>, <LOC>duenegaud</LOC>, <CARDINAL></CARDINAL>.\n",
      "\n",
      "Invalid entry, empty tags.\n",
      "\t<PER>Mareau (A.)</PER>, 0<TITRE>O. a</TITRE>t, <ACT>conseiller h la cour de cassation</ACT>, <LOC>q. Yoltaire</LOC>,l<CARDINAL></CARDINAL>.\n",
      "\n",
      "Invalid entry, empty tags.\n",
      "\t<PER>Mluoreau</PER>, <ACT>bus er</ACT>, <LOC>St-lLaurent-HBlleeille</LOC>, <CARDINAL></CARDINAL>.\n",
      "\n",
      "Invalid entry, empty tags.\n",
      "\t<PER>Mloreau ll.)</PER>, <ACT>avoc. conr imp.</ACT>, <LOC>Alger</LOC>, <CARDINAL></CARDINAL>.\n",
      "\n",
      "Invalid entry, empty tags.\n",
      "\t<PER>Moreau ( E.)</PER> <TITRE></TITRE>, <ACT>avocat genral a la cour imperialo</ACT>, <LOC>Seine</LOC>, <CARDINAL>l</CARDINAL>.\n",
      "\n",
      "Invalid entry, empty tags.\n",
      "\t<PER>Mlorea (L.)</PER> <TITRE></TITRE>, <ACT>ane. architecte</ACT>, <LOC>Larochefo- cauld</LOC>, <CARDINAL>14</CARDINAL>.\n",
      "\n",
      "Invalid entry, empty tags.\n",
      "\t<PER>Mloreau (Cesar)</PER> <TITRE></TITRE>, <ACT>anc., consul</ACT>, <LOC>St-Honore</LOC>,<CARDINAL> 47</CARDINAL>.\n",
      "\n",
      "Invalid entry, empty tags.\n",
      "\t<PER>Morean (Jnles)</PER>, <ACT>administrateur des Omnibus</ACT>,<LOC> Savoie</LOC>, <CARDINAL></CARDINAL>.\n",
      "\n",
      "Invalid entry, empty tags.\n",
      "\t<PER>orde liroid</PER>, <ACT>toles</ACT>, <LOC>l&apos;as de-lu- Mule</LOC>, <CARDINAL></CARDINAL>.\n",
      "\n",
      "Invalid entry, empty tags.\n",
      "\t<PER>Mordaunt-lickets</PER>, <ACT>ex-vice-roi ies Indes orientales</ACT>, <LOC>Angouleme-St-Ionaore</LOC>,l<CARDINAL></CARDINAL>.\n",
      "\n",
      "Invalid entry, empty tags.\n",
      "\t<PER>Morandirelt.)</PER> <TITRE></TITRE>, <ACT>ingemeur en chnfdes ponts et chausses</ACT>, <LOC>N.-1). des-haps</LOC>, <CARDINAL>27</CARDINAL>.\n",
      "\n",
      "Invalid entry, empty tags.\n",
      "\t<PER>Doizy</PER>, <ACT>fab d&apos;anches de clarinettes</ACT>, <LOC>Mlarais- R-Marin</LOC>, <CARDINAL></CARDINAL>.\n",
      "\n",
      "Invalid entry, empty tags.\n",
      "\t<PER>Doiaelet</PER>, <ACT>limonatier</ACT>, <LOC>N.-D.-des-Victoires</LOC>,<CARDINAL></CARDINAL>.\n",
      "\n",
      "Invalid entry, empty tags.\n",
      "\t<PER>Dailly (Mnn</PER>c), <ACT>modes</ACT>, <LOC>Mt-Itoeh</LOC>, <CARDINAL></CARDINAL>.\n",
      "\n",
      "Invalid entry, empty tags.\n",
      "\t<PER>Doel et Yon (Mmes)</PER>, <ACT>ileurisics</ACT>, <LOC>Cuire</LOC>, <CARDINAL></CARDINAL>.\n",
      "\n",
      "Invalid entry, empty tags.\n",
      "\t<PER>Doe</PER>, <ACT>maitre de forges</ACT>, <LOC>inpasse Mazagran</LOC>, <CARDINAL></CARDINAL>.\n",
      "\n",
      "Invalid entry, empty tags.\n",
      "\t<PER>Dodo (Eug.)</PER>, <ACT>hotel da IIavre</ACT>, <LOC>Vieux-Augus- tins</LOC>, <CARDINAL></CARDINAL>.\n",
      "\n",
      "Invalid entry, empty tags.\n",
      "\t<PER>Deequin (E. )</PER>, <ACT>fab. chspeuaus le pille</ACT>, <LOC>Cair</LOC>:<CARDINAL></CARDINAL>,\n",
      "\n",
      "Invalid entry, empty tags.\n",
      "\t<PER>Dobiard (V.)</PER>, <ACT>entrvepr. de fours</ACT>, <LOC>Kleber</LOC>,<CARDINAL> Al</CARDINAL>, et <LOC>fesaix</LOC>,. <CARDINAL>14</CARDINAL>; <FT>maasins</FT>, <LOC>Viarmes</LOC>, <CARDINAL></CARDINAL>,\n",
      "\n",
      "Invalid entry, empty tags.\n",
      "\t<PER>Dissard</PER>, <ACT>dessmnateur</ACT>, <LOC>teree</LOC>.<CARDINAL></CARDINAL>\n",
      "\n",
      "Invalid entry, empty tags.\n",
      "\t<PER>Disrileu</PER>, <ACT>tailleur</ACT>, <LOC>Houcher</LOC>, <CARDINAL></CARDINAL>.\n",
      "\n",
      "Invalid entry, empty tags.\n",
      "\t<PER>Diquem aine</PER>, <ACT>vetem. conf .</ACT>, <LOC>Cafarelli</LOC>,l<CARDINAL></CARDINAL> et <CARDINAL>18</CARDINAL>\n",
      "\n",
      "Invalid entry, empty tags.\n",
      "\t<PER>Diot</PER>, <ACT>hel le Verdn</ACT>, <LOC>-lLurent</LOC>, <CARDINAL></CARDINAL>.\n",
      "\n",
      "Invalid entry, empty tags.\n",
      "\t<PER>Dionis du Sejonr</PER> <TITRE></TITRE>,g<ACT>juge de paix du e ar- rondissemet</ACT>, <LOC>Nervanoni</LOC>, <CARDINAL>2</CARDINAL>.\n",
      "\n",
      "Invalid entry, empty tags.\n",
      "\t<PER>Dino</PER>, <ACT>vis en gros</ACT> <LOC>Fanb.-St Dens</LOC>, <CARDINAL></CARDINAL>.\n",
      "\n",
      "Invalid entry, empty tags.\n",
      "\t<PER>Digues fils</PER>, <ACT>vns</ACT>, <LOC>uai des Orfewres</LOC>, <CARDINAL></CARDINAL>.\n",
      "\n",
      "Invalid entry, empty tags.\n",
      "\t<PER>Diguey freres et Cie</PER>, <ACT>horlogera</ACT>, <LOC>Poitevins</LOC>, <CARDINAL></CARDINAL> et <CARDINAL>8</CARDINAL>.\n",
      "\n",
      "Invalid entry, empty tags.\n",
      "\t<PER>Granger</PER>, <ACT>epcer</ACT>, <LOC>lLahorde</LOC>, <CARDINAL></CARDINAL>.\n",
      "\n",
      "Invalid entry, empty tags.\n",
      "\t<PER>Gract</PER>, <ACT>veicrinaire</ACT>, <LOC>quai e fSne</LOC>, <CARDINAL></CARDINAL>, et<LOC> Nlaulre</LOC>. <CARDINAL>12</CARDINAL>.\n",
      "\n",
      "Invalid entry, empty tags.\n",
      "\t<PER>rnl:</PER>, <ACT>profeseur &apos;ertre sninte an seinire t-u&apos;pice</ACT>, <LOC>piee Nt-Nnlpice</LOC>, <CARDINAL></CARDINAL>.\n",
      "\n",
      "Invalid entry, empty tags.\n",
      "\t<PER>G rdsr</PER>), <ACT>lweuie</ACT>, <LOC>t&apos;h onn</LOC>, <CARDINAL></CARDINAL>.\n",
      "\n",
      "Invalid entry, empty tags.\n",
      "\t<PER>Grandpre (4&apos;te de</PER> <TITRE></TITRE>, <LOC>Monaieur-le-Prinee</LOC>, <CARDINAL>48</CARDINAL>.\n",
      "\n",
      "Invalid entry, empty tags.\n",
      "\tI<PER>Grnmljen (1. 1. )</PER>, <ACT>dpicier</ACT>, <LOC>Ternan</LOC>, <CARDINAL></CARDINAL>.\n",
      "\n",
      "Invalid entry, empty tags.\n",
      "\t<PER>rulan</PER> <TITRE></TITRE>. <ACT>uc. lefle bureau ala nrine</ACT>,<LOC> her he- Mludi</LOC>, <CARDINAL>5</CARDINAL>.\n",
      "\n",
      "Invalid entry, empty tags.\n",
      "\t<PER>lirulean, de la masn toure et G randjean</PER>,<LOC> NiIv-St-lustaehe</LOC>, <CARDINAL></CARDINAL>.\n",
      "\n",
      "Invalid entry, empty tags.\n",
      "\t<PER>tiadin</PER>, <ACT>proprietair</ACT>, <LOC>1lauteevlle</LOC>, <CARDINAL></CARDINAL>.\n",
      "\n",
      "Invalid entry, empty tags.\n",
      "\t<PER>Grandet</PER> <TITRE></TITRE>, <ACT>conseiiler maitre a a cour des comptes</ACT>, <LOC>Ferune</LOC>, <CARDINAL>2b6</CARDINAL>.\n",
      "\n",
      "Invalid entry, empty tags.\n",
      "\t<PER>iiraml</PER>, <ACT>scrte mes</ACT>, <LOC>l&apos;lncuetle</LOC>, <CARDINAL></CARDINAL>.\n",
      "\n",
      "Invalid entry, empty tags.\n",
      "\t(<PER>Grand</PER>, <ACT>bets sus verre</ACT>, <LOC>Nt- Mlurol</LOC>, <CARDINAL></CARDINAL>.\n",
      "\n",
      "Invalid entry, empty tags.\n",
      "\t<PER>Gramul(N ..</PER>.<TITRE></TITRE>, <ACT>uiss. en draperie</ACT>, <LOC>Bons- Enfunts</LOC>, <CARDINAL>26</CARDINAL>.\n",
      "\n",
      "Invalid entry, empty tags.\n",
      "\t<PER>ruanl</PER> <TITRE></TITRE>, <ACT>hef d&apos;esedron de la garde d aris</ACT>, <LOC>Touron</LOC>, <CARDINAL>10</CARDINAL>.\n",
      "\n",
      "Invalid entry, empty tags.\n",
      "\t<PER>iranuara (..</PER>, <ACT>rud tel de llussie</ACT>, <LOC>louot</LOC>,I<CARDINAL></CARDINAL>, t <LOC>oul des lal.es</LOC>,<CARDINAL>2</CARDINAL>.\n",
      "\n",
      "Invalid entry, empty tags.\n",
      "\t<PER>Coureur</PER>, <ACT>chemisier</ACT>, <LOC>Dragon</LOC>.<CARDINAL></CARDINAL>\n",
      "\n",
      "Invalid entry, empty tags.\n",
      "\t<PER>Colurer</PER> <TITRE></TITRE>, <ACT>chef de livision h ln caisse d&apos;a- mort. , depls t consign.</ACT>, <LOC>Geneau</LOC>, <CARDINAL>5</CARDINAL>.\n",
      "\n",
      "Invalid entry, empty tags.\n",
      "\t<PER>Couturier</PER>, <ACT>cartonnages</ACT>, <LOC>boul. leaumarchais</LOC>.<CARDINAL> </CARDINAL>.\n",
      "\n",
      "Invalid entry, empty tags.\n",
      "\t<PER>ousandier</PER> <TITRE></TITRE>, <ACT>directeur de ln omagnie an- glaise d&apos;assurances sur la vie The Ifeder</ACT>,<LOC> boul. des lulivens</LOC>, <CARDINAL>4</CARDINAL>.\n",
      "\n",
      "Invalid entry, empty tags.\n",
      "\t<PER>ourvosier</PER>, <ACT>ebeniste</ACT>, <LOC>Traversiere-St-Antoine</LOC>.<CARDINAL></CARDINAL>\n",
      "\n",
      "Invalid entry, empty tags.\n",
      "\t<PER>Fabre (C. ),</PER> <ACT>quicaillevrie et ar- tieles de Paris</ACT>, R<LOC>Bonaparte</LOC>, <CARDINAL>68</CARDINAL>.]<TITRE></TITRE>\n",
      "\n",
      "Invalid entry, empty tags.\n",
      "\t<PER>Eymard (J. A.)</PER> , <ACT>conserves ali- mentaires, sardines i l&apos;huile</ACT>,<LOC> Temple</LOC>, <CARDINAL>14</CARDINAL>.]<TITRE></TITRE>\n",
      "\n",
      "Invalid entry, empty tags.\n",
      "\t<PER>Evotte Felix, pere et fils</PER> <TITRE>N</TITRE>Cl,<ACT> commissionaires e churbos de terre</ACT>, <LOC>Faub.-S-Martin</LOC>, <CARDINAL>166</CARDINAL>.<TITRE></TITRE>\n",
      "\n",
      "Invalid entry, empty tags.\n",
      "\t<PER>Lstibal (Joseph</PER>, <ACT>ariclee de Pas, eaut-de-ie d&apos;LArmnac etd tins le ordeau</ACT>, <LOC>Monrmartre</LOC>, <CARDINAL>18</CARDINAL>,<TITRE></TITRE>\n",
      "\n",
      "Invalid entry, empty tags.\n",
      "\t<PER>Enoeh et Reis</PER>, <ACT>pour tous articles</ACT>,<LOC> Chenu-d&apos; Eau</LOC>, <CARDINAL>22</CARDINAL>,<TITRE></TITRE>\n",
      "\n",
      "Invalid entry, empty tags.\n",
      "\t<PER>Engler-Leroy</PER> , <LOC>Vieiles-Haudriet- tes</LOC>,<CARDINAL>6</CARDINAL>,<TITRE></TITRE>\n",
      "\n",
      "Invalid entry, empty tags.\n",
      "\t<PER>Emson (James )</PER>, <ACT>negoc. commis- sionnaire</ACT>, <LOC>rue de la hBanque</LOC>, <CARDINAL>20, aneien 24</CARDINAL>]<TITRE></TITRE><TITRE></TITRE>\n",
      "\n",
      "Invalid entry, empty tags.\n",
      "\t<PER>Emmel (Hlenry )</PER>, <ACT>commissionaire en avrtirles de Paris</ACT>, <LOC>Marais- St- Martin</LOC>, <CARDINAL>60</CARDINAL>.<TITRE></TITRE>\n",
      "\n",
      "Invalid entry, empty tags.\n",
      "\t<PER>Emden (Simon)</PER>, <LOC>bonl. Poisson- niere</LOC>, <CARDINAL>23</CARDINAL> , <ACT>maison d Francfort sous la raison Ls Schoss et Cie; d Cologne, sous la raison Ferdi- nand Kohlstadt et Cie</ACT>.<TITRE> </TITRE>t\n",
      "\n",
      "Invalid entry, empty tags.\n",
      "\t<PER>Eliot et Sigie</PER>, <ACT>commiss. en mar- chadises et articles de Paris</ACT>,<LOC> Chapon</LOC>, <CARDINAL>20</CARDINAL>.<TITRE></TITRE>\n",
      "\n",
      "Invalid entry, empty tags.\n",
      "\t<PER>Egrot(A)</PER>,<ACT>quincaillerie fne, articles de Paris, representant Adolhe Laroche , de Bayonne</ACT>, <LOC>Faub.-St- Dens</LOC>, <CARDINAL>61</CARDINAL>.&apos;<TITRE></TITRE>\n",
      "\n",
      "Invalid entry, empty tags.\n",
      "\t<PER>Duverger(A. )</PER><ACT>nouveautes en tous genres</ACT>, <LOC>FossesrMontmartre</LOC>, <CARDINAL>3</CARDINAL>.]<TITRE></TITRE>\n",
      "\n",
      "Invalid entry, empty tags.\n",
      "\t<PER>Duvul</PER>, <ACT>fourlures de chapellerie, glons noirs et couleurs pour l caonfecton pour dames , articles pour tailleurs</ACT>, <LOC>Temple</LOC>, <CARDINAL>34</CARDINAL> <FT>au coin de la rue du Platre-Ste- Avoie</FT>.]<TITRE></TITRE>\n",
      "\n",
      "Invalid entry, empty tags.\n",
      "\t<PER>Dutertre (Il.)</PER>, <ACT>en tous genres</ACT>,<LOC> Hauteville</LOC>, <CARDINAL>60</CARDINAL> t <CARDINAL>62</CARDINAL>.]<TITRE></TITRE>\n",
      "\n",
      "Invalid entry, empty tags.\n",
      "\t<PER>Duleurtre-Dumanoir (C. ,</PER> <ACT>an- cienne maison F. I. Besancon ct Cie, lcali, indigo, cochenille et produils chimiues. commission</ACT>,<LOC> Pltre-du-emple</LOC>, <CARDINAL>20</CARDINAL>, <FT>cidevant</FT><LOC> Blancs-Mlanteaux</LOC>, <CARDINAL>26</CARDINAL>.<TITRE></TITRE>\n",
      "\n",
      "Invalid entry, empty tags.\n",
      "\t<PER>Durand- Journet ( A. )</PER> <TITRE>N</TITRE>., <ACT>cuirs de toute espece</ACT>, <TITRE></TITRE> <CARDINAL>1834</CARDINAL>, <LOC>Petit- Lion-St-Suuveur</LOC>. <CARDINAL>11</CARDINAL>.<TITRE></TITRE>\n",
      "\n",
      "Invalid entry, empty tags.\n",
      "\t<PER>Durand et Cie</PER>, <ACT>drogueres, produils chimiues</ACT>, k<LOC>Enghien</LOC>, <CARDINAL>15</CARDINAL>.<TITRE></TITRE>\n",
      "\n",
      "Invalid entry, empty tags.\n",
      "\t<PER>Durant ()</PER>, <LOC>Fidlitd</LOC>, <CARDINAL></CARDINAL>.]<TITRE></TITRE>\n",
      "\n",
      "Invalid entry, empty tags.\n",
      "\tb<PER>Durad llenry </PER>, <ACT>commissionaire pu le rcisl et la Plata</ACT>, M<LOC>St- Georges</LOC>, <CARDINAL>28</CARDINAL>.]<TITRE></TITRE>\n",
      "\n",
      "Invalid entry, empty tags.\n",
      "\t<PER>Durand iA. )et Cie</PER>, <ACT>socieite com- merciale de commission et d&apos;e- chunge</ACT>, <LOC>Provence</LOC>, <CARDINAL>78</CARDINAL>,5<TITRE></TITRE>\n",
      "\n",
      "Invalid entry, empty tags.\n",
      "\t<PER>Dupy</PER>, <ACT>liiraire et commission- aire</ACT>, <LOC>St-Sulpice</LOC>,<CARDINAL>24</CARDINAL>, Voyez Li- raies.)]<TITRE></TITRE>\n",
      "\n",
      "Invalid entry, empty tags.\n",
      "\t<PER>Dupont (De&apos;</PER>, <ACT>fab. d&apos;Denisterie en tos genres, meuhles, sieges, one- meuts, comnission</ACT>, <LOC>place Royale</LOC>,<CARDINAL> 21</CARDINAL>. <FT>pres le boul. Beaumarchais</FT>.&apos;<TITRE></TITRE>\n",
      "\n",
      "Invalid entry, empty tags.\n",
      "\t<PER>Dupont</PER>, <ACT>pharmacien</ACT>, <LOC>Tiqnetonne</LOC>,<CARDINAL> 12</CARDINAL>, <ACT>1edition en Fanee et d I&apos;etranger des roduite ont il est Ie seul prvprietaie.</ACT> (Voir aux Pharmnaciens les speeialites.)]<TITRE></TITRE>\n",
      "\n",
      "Invalid entry, empty tags.\n",
      "\t<PER>Dnplan et Salles</PER>, <ACT>brones, eudu- les, lampes et articles de fantai sie</ACT>, <LOC>Bondy</LOC>, <CARDINAL>32</CARDINAL>.]<TITRE></TITRE>\n",
      "\n",
      "Invalid entry, empty tags.\n",
      "\t<PER>Dumoulin et Cie</PER>, <ACT>corsets sans youssets, iventes a IMme o- phie Dumwoulin, recompenses de huit medailles de ronze et d&apos;ar- gent ux epositions ationales et de plusieurs socieftes d&apos;encou- ragement, suceursales d Bruxel- les, place de la Monnaie, 5; a New -York et i Londres, 99, Guildfort - reot, Rousselle- quare; commission et eporta- tion</ACT>, <LOC>Basse-du-Rempnrt</LOC>, <CARDINAL>44</CARDINAL>, (voir la Reoue industrielle.)<TITRE></TITRE>\n",
      "\n",
      "Invalid entry, empty tags.\n",
      "\t<PER>Dumont (J.J.) et Cie</PER>, <LOC>Bonrdalouc</LOC>,<CARDINAL></CARDINAL>\n",
      "\n",
      "Invalid entry, empty tags.\n",
      "\t<PER>Dumont</PER>, <ACT>produits chimiques et drogueries, dept des warechs du Conquet, Cherbourg, Gran- ille, aluns et eouperose, acide nitrique et sulfurique, sulfate de sotude et d&apos; alumine</ACT>, <LOC>rue de IBra- que</LOC>, <CARDINAL>6</CARDINAL>,<TITRE></TITRE>\n",
      "\n",
      "Invalid entry, empty tags.\n",
      "\t<PER>Dugied ( IIilaire )</PER>, <ACT>commission, rportation</ACT>, <LOC>Ste-Anne</LOC>, <CARDINAL>1</CARDINAL>,t<TITRE></TITRE>\n",
      "\n",
      "Invalid entry, empty tags.\n",
      "\t<PER>Dufour N.</PER> ), <ACT>fournitures de lu- reu cn general, fub. de regs- trs</ACT>, <LOC>Miclel-lc-Cemte</LOC>, <CARDINAL>26</CARDINAL>.]<TITRE></TITRE>\n",
      "\n",
      "Invalid entry, empty tags.\n",
      "\t<PER>Dufieux aine</PER>, <ACT>representant-com- m issionnaire</ACT>, <LOC>Verrerie</LOC>, <CARDINAL>65</CARDINAL>.]<TITRE></TITRE>\n",
      "\n",
      "Invalid entry, empty tags.\n",
      "\t<PER>Duffau-Pauillac (Chs)</PER>, <LOC>Enghien</LOC>,<CARDINAL> 16</CARDINAL>.<TITRE></TITRE>\n",
      "\n",
      "Invalid entry, empty tags.\n",
      "\t<PER>Ducot J. A. et (Ch. ILangenie</PER>,<ACT> comuiss, en ijouterie</ACT>, <LOC>pi. loyale</LOC>,<CARDINAL> 10</CARDINAL>,<TITRE></TITRE>\n",
      "\n",
      "Invalid entry, empty tags.\n",
      "\t<PER>Duechemin</PER> <TITRE>y</TITRE>. <PER>Dueasse ot Cie</PER>,<LOC> Thevenot</LOC>. <CARDINAL>17</CARDINAL>.,<TITRE></TITRE>\n",
      "\n",
      "Invalid entry, empty tags.\n",
      "\t<PER>Duchampt (J.-B.)</PER>, T<LOC>Fanb.-du- Temple</LOC>, <CARDINAL>1I</CARDINAL>, <ACT>moison d Baeelon (Espagne)</ACT>.]<TITRE></TITRE>\n",
      "\n",
      "Invalid entry, empty tags.\n",
      "\t<PER>Dnceux et Roche</PER>, <ACT>negoe,-commis- . sionnaires, speeialte d&apos;effets d&apos;ha- bBillemenls</ACT>, <LOC>Seine</LOC>, <CARDINAL>47</CARDINAL>, <ACT>maison h Ia Guadeloupe</ACT>.<TITRE></TITRE>\n",
      "\n",
      "Invalid entry, empty tags.\n",
      "\t<PER>Ducasse et Vve Clavean atne</PER>, <ACT>co- iss. pour tous les artilee de Pa- ris powr la Frasce et l&apos;etranger</ACT>,<LOC> Tiquctonne</LOC>, <CARDINAL>12</CARDINAL>.]<TITRE></TITRE>\n",
      "\n",
      "Invalid entry, empty tags.\n",
      "\t<PER>Dubrusle (C.</PER>, <ACT>negoe.-commis- sionnaire, tons articles, exporta- tion</ACT>, <LOC>Jeneurs</LOC>, <CARDINAL>46</CARDINAL>,<TITRE> </TITRE>3\n",
      "\n",
      "Invalid entry, empty tags.\n",
      "\t<PER>Dubreuil et Cie</PER>, <ACT>negoc.-commiss</ACT>.<LOC> MIazagran</LOC>, <CARDINAL>10</CARDINAL>,5<TITRE></TITRE>\n",
      "\n",
      "Invalid entry, empty tags.\n",
      "\t<PER>Duboureq (J.-S.)</PER>, <ACT>art, de Paris</ACT>,<LOC> Bracque</LOC>, <CARDINAL>6</CARDINAL>.&apos;<TITRE></TITRE>\n",
      "\n",
      "Invalid entry, empty tags.\n",
      "\t<PER>Dubouloy fils aine</PER>, <ACT>suecess. de son perc, pltmses et ffeurs ffnes, artiolss de cour, haoutes ots- eautes our modes et or r- itures de rohes, beoet d&apos; ien- tion s. g.d. g,, pour fleurs en paille l&apos; Italie, ( Ricompense nationale, 1839.] Expedition pour la France et l&apos;etranger</ACT>,<LOC> MIenars</LOC>, <CARDINAL>6</CARDINAL>.<TITRE></TITRE>\n",
      "\n",
      "Invalid entry, empty tags.\n",
      "\t<PER>Dubois (I1d)</PER>, <ACT>commission, escompte eft ercorements</ACT>, <LOC>passage Sanl- nier</LOC>, <CARDINAL>18</CARDINAL>: <ACT>fabrique d&apos;huile d graisser (ancienne maison Al- lemand&apos;</ACT>, <LOC>Chaussee-du-MInine</LOC>,<CARDINAL> 166</CARDINAL>. <LOC>a Montrouge, praes Paris</LOC>.t<TITRE></TITRE>\n",
      "\n",
      "Invalid entry, empty tags.\n",
      "\t<PER>Droiiin (Vietor)</PER>, <ACT>sucre et cafeis en gros et drmi-gros</ACT>, <LOC>Voerrerie</LOC>,<CARDINAL> 54</CARDINAL>.<TITRE></TITRE>\n",
      "\n",
      "Invalid entry, empty tags.\n",
      "\t<PER>Drouin( J. )</PER>, <ACT>droguerie, produits chimues, gelatine et couleurs, depdt de l&apos; amiu istration des mi- nes de Bouxiller (Bos-Rhin, fabrique de prussiate jaune et rouge, Mleu de Berlin, bleu de Prusse, sel ammoniace, alun, vi- triol-Salslourg, couperoses, gela- tines et phosphore, depdt des col- les de Giret de MM. Parent et Donnay et de MM. Beua et fils</ACT>,<LOC> Saninte - Croix - la-Bretonnerie</LOC>,<CARDINAL> l</CARDINAL>.<TITRE></TITRE>\n",
      "\n",
      "Invalid entry, empty tags.\n",
      "\t<PER>Dreyfus freres et Cie</PER>, <ACT>com ission e tissws et oveautee de fos getlres, teinture, mahufenftion et imression</ACT>. <LOC>Thevenot</LOC>, <CARDINAL>25</CARDINAL>.]<TITRE></TITRE>\n",
      "\n",
      "Invalid entry, empty tags.\n",
      "\t<PER>Drevet cousins</PER>, <ACT>agents de fabri- ques francaises et etrangeres, commissionn. pour l&apos;interieur</ACT>,<LOC> Enghien</LOC>, <CARDINAL>8</CARDINAL>.<TITRE></TITRE>\n",
      "\n",
      "Invalid entry, empty tags.\n",
      "\t<PER>oux (F.)</PER>, <ACT>soies edcrues</ACT>, <LOC>St-Denis</LOC>,<CARDINAL> 1r: d,</CARDINAL> et <LOC>cloitre Saint-Jacques</LOC>,<CARDINAL></CARDINAL>\n",
      "\n",
      "Invalid entry, empty tags.\n",
      "\t<PER>Doublid-Ossonce</PER>, <ACT>negoe. en laines et epresentat de snaisons</ACT>, <LOC>Pe- tites-Ecuriea</LOC>, <CARDINAL>40</CARDINAL>,<TITRE></TITRE>\n",
      "\n",
      "Invalid entry, empty tags.\n",
      "\t<PER>Donble hermanos et Cie (Double frers)</PER>,:<TITRE></TITRE>, <LOC>Echiquier</LOC>,<CARDINAL>14</CARDINAL>.\n",
      "\n",
      "Invalid entry, empty tags.\n",
      "\t<PER>D&apos;Orsay et Cie</PER>, <ACT>compegnie gene- rale eft rommercile</ACT>, <LOC>impasse Ma- zaran,</LOC>.<CARDINAL>6</CARDINAL>k<TITRE></TITRE>\n",
      "\n",
      "Invalid entry, empty tags.\n",
      "\t<PER>Doecq (Ch.)</PER>, <ACT>negoc. commiss.</ACT>,<LOC>  Echiquier</LOC>, <CARDINAL></CARDINAL>, <ACT>maison i Montevi- dio</ACT>,<TITRE> </TITRE>5\n",
      "\n",
      "Invalid entry, empty tags.\n",
      "\t<PER>Dolhassarry jeune</PER>, <ACT>bijouteric, joaillerie, orfevrerie e articles de Paris</ACT>, <LOC>Meslay</LOC>, <CARDINAL>6</CARDINAL>.]<TITRE></TITRE>\n",
      "\n",
      "Invalid entry, empty tags.\n",
      "\t<PER>Dogier et Passemard</PER>, <ACT>fab. et magasin de sieges ef meulles en tous genres, pour la Fanee et l&apos;eportation</ACT>, <LOC>Vieille-du-Tem- ple</LOC>, <CARDINAL>110</CARDINAL>.<TITRE></TITRE>\n",
      "\n",
      "Invalid entry, empty tags.\n",
      "\t<PER>D&apos; IIiauville fils</PER>, <ACT>Dijouterie, orfci- rerie</ACT>, <LOC>Temple</LOC>, <CARDINAL>219</CARDINAL>.<TITRE></TITRE>\n",
      "\n",
      "Invalid entry, empty tags.\n",
      "\t<PER>&apos;Ilertmani et Christophe</PER>, <ACT>art. de Pars</ACT>, <LOC>Quatre-Fils</LOC>, <CARDINAL>4</CARDINAL>.<TITRE></TITRE>\n",
      "\n",
      "Invalid entry, empty tags.\n",
      "\t<PER>evillers, (ILeon)</PER>, <ACT>conmniss. en lijouterie</ACT>, <LOC>Rambuteau</LOC>, <CARDINAL>2</CARDINAL>,1<TITRE></TITRE>\n",
      "\n",
      "Invalid entry, empty tags.\n",
      "\t<PER>Deille ((Gve)</PER>, <ACT>achats d commission pnour fous les articles de nouveat4- 2es</ACT>, <LOC>N.-St-Eusuche</LOC>, <CARDINAL>16</CARDINAL>.&apos;<TITRE></TITRE>\n",
      "\n",
      "Invalid entry, empty tags.\n",
      "\t<PER>petut (A.</PER>), <ACT>maison aspeiciale de omnission pour l&apos;achat en fa- Mrique de tous articles d&apos;utilite t de fantaisie pour ameublement  bijouterie or. LEpedition pour Ia, France et I&apos;etrauger</ACT>, <LOC>Tr- ise</LOC>, <CARDINAL>4</CARDINAL>.<TITRE> </TITRE>W\n",
      "\n",
      "Invalid entry, empty tags.\n",
      "\t<PER>esrouges</PER>, <ACT>comissionn. en euirs, aue de cochon et tes articls hour scllier  4t  eir  Ponl-Audemer de MI If. Bunel feeres e( de  MI. Leconte</ACT>. <LOC>St- suueur</LOC>, <CARDINAL></CARDINAL>.]<TITRE></TITRE>\n",
      "\n",
      "Invalid entry, empty tags.\n",
      "\t<PER>essienne</PER>, <LOC>Pagevin</LOC>, <CARDINAL>10</CARDINAL>,t<TITRE></TITRE>\n",
      "\n",
      "Invalid entry, empty tags.\n",
      "\t<PER>l.epeinte atne</PER>, <ACT>hotel Ventadour</ACT>, <LOC>Ventadour</LOC>, <CARDINAL></CARDINAL>.\n",
      "\n",
      "Invalid entry, empty tags.\n",
      "\t<PER>Lepec</PER> <TITRE></TITRE>, <ACT>avocat i la cour imper.</ACT>, <LOC>Gaillon</LOC>, <CARDINAL>1l</CARDINAL>.\n",
      "\n",
      "Invalid entry, empty tags.\n",
      "\t<PER>Le Pays de Bourjolly (Cessej</PER>, <LOC>Pet.-Ecuries</LOC>,A<CARDINAL></CARDINAL>.\n",
      "\n",
      "Invalid entry, empty tags.\n",
      "\t<PER>Lequesne fils</PER>, <ACT>proprietaire</ACT>, <LOC>Vauggirard</LOC>, <CARDINAL></CARDINAL>.\n",
      "\n",
      "Invalid entry, empty tags.\n",
      "\t<PER>Leprince-Siard</PER>, <ACT>teintar.-degraiss.</ACT>,u<LOC>umartin</LOC>,<CARDINAL></CARDINAL>\n",
      "\n",
      "Invalid entry, empty tags.\n",
      "\t<PER>Le prince (Aug.)aine</PER>, <ACT>passemnntier</ACT>, <LOC>Precheurs</LOC>,<CARDINAL></CARDINAL>\n",
      "\n",
      "Invalid entry, empty tags.\n",
      "\t<PER>Leprince</PER>, <ACT>etoffes pour ameublemn.</ACT>, <LOC>Louvois</LOC>, <CARDINAL></CARDINAL>.\n",
      "\n",
      "Invalid entry, empty tags.\n",
      "\t<PER>eplat alne et Blanchard</PER>, <ACT>lunettiers</ACT>, <LOC>Reaumur</LOC>,<CARDINAL></CARDINAL>\n",
      "\n",
      "Invalid entry, empty tags.\n",
      "\t<PER>Lepie (Cote Naoleon)</PER> <TITRE></TITRE>, <ACT>1er mareehal des logis,</ACT> aux <LOC>Tuileries</LOC>.\n",
      "\n",
      "Invalid entry, empty tags.\n",
      "\t<PER>Lepeacheur de Branville (Vve)</PER>, <ACT>blanchisseuse</ACT>,<LOC> balevard des Gobelins</LOC>, <CARDINAL>58</CARDINAL>, et <LOC>Croulebarbe</LOC>,<CARDINAL></CARDINAL>\n",
      "\n",
      "Invalid entry, empty tags.\n",
      "\t<PER>epre(A. A.)</PER>, <ACT>pharmacien</ACT>, <LOC>place Maubert</LOC>,<CARDINAL></CARDINAL>\n",
      "\n",
      "Invalid entry, empty tags.\n",
      "\t<PER>l.epelletier d&apos; Aulnasy</PER> <TITRE></TITRE>, <ACT>deput6 le la Nievre</ACT>,<LOC> Universite</LOC>, <CARDINAL>5</CARDINAL>.\n",
      "\n",
      "Invalid entry, empty tags.\n",
      "\t<PER>lLepelletiar d&apos;Aulnay (Baron)</PER> <TITRE></TITRE>, <LOC>Varennes</LOC>,<CARDINAL> 28</CARDINAL>.\n",
      "\n",
      "Invalid entry, empty tags.\n",
      "\tI<PER>Lepel-Cointet</PER> <TITRE></TITRE>, <ACT>agent de change</ACT>, <LOC>Hanovre</LOC>,<CARDINAL> G</CARDINAL>.\n",
      "\n",
      "Invalid entry, empty tags.\n",
      "\t<PER>Lepault</PER>, <ACT>imprimeur-lithographe</ACT>, <LOC>Vieilles- Ilaudriettes</LOC>, <CARDINAL></CARDINAL>.3\n",
      "\n",
      "Invalid entry, empty tags.\n",
      "\t<PER>Le Paul (Gamille)</PER>, <ACT>serrurienr-mecanicien</ACT>,<LOC> Paix</LOC>.<CARDINAL></CARDINAL>.\n",
      "\n",
      "Invalid entry, empty tags.\n",
      "\t<PER>Lepant (A. )</PER>, <ACT>vinas</ACT>, <LOC>Aguesseau</LOC>, <CARDINAL></CARDINAL>, et <LOC>Faub. -St- Honore</LOC>, <CARDINAL>60</CARDINAL>.\n",
      "\n",
      "Invalid entry, empty tags.\n",
      "\t<PER>Allain</PER> <TITRE></TITRE>, <ACT>anc. chef au Ministere do la jus- tice</ACT>, <LOC>Racine</LOC>, <CARDINAL>30</CARDINAL>.\n",
      "\n",
      "Invalid entry, empty tags.\n",
      "\t<PER>Alix</PER> <TITRE></TITRE>, <ACT>chirurgien aide-major i l&apos;hopital mi- litaire du Gros-Caillou</ACT>, <LOC>Saint-Doiniue</LOC>,<CARDINAL> 188</CARDINAL>.\n",
      "\n",
      "Invalid entry, empty tags.\n",
      "\t<PER>Aligot</PER>, <ACT>entrep. e magonnerie</ACT>, <LOC>Deu x- Ponts</LOC><CARDINAL></CARDINAL>\n",
      "\n",
      "Invalid entry, empty tags.\n",
      "\t<PER>Alieny (h)</PER>. <TITRE></TITRE>, <ACT>artiste-peintre</ACT>, <LOC>Monsiear-le- Prince</LOC>, <CARDINAL>22</CARDINAL>.\n",
      "\n",
      "Invalid entry, empty tags.\n",
      "\t<PER>Alezandre</PER>, <ACT>epicier</ACT>, <LOC>Ferme</LOC>, <CARDINAL>7 is</CARDINAL>, et <LOC>d Sese</LOC>,<CARDINAL></CARDINAL>\n",
      "\n",
      "Invalid entry, empty tags.\n",
      "\t<PER>Alexandre</PER>, <TITRE></TITRE>, <ACT>administrat. aljoint les lignes telgraphiques</ACT>, (<LOC>Grenelle-S-Germain</LOC>, <CARDINAL>103</CARDINAL>.\n",
      "\n",
      "Invalid entry, empty tags.\n",
      "\t<PER>Alepee</PER>, <ACT>torneur sur metaui</ACT>r, <LOC>Charonne</LOC>,<CARDINAL></CARDINAL>\n",
      "\n",
      "Invalid entry, empty tags.\n",
      "\t<PER>AIlbrior</PER>, <ACT>peinire-artiste</ACT>, <LOC>Ste-Apolline</LOC>,<CARDINAL></CARDINAL>\n",
      "\n",
      "Invalid entry, empty tags.\n",
      "\t<PER>Albites (Lucien)</PER>, <ACT>prf. de musiq.</ACT>, <LOC>St-Lasare</LOC>,<CARDINAL></CARDINAL>\n",
      "\n",
      "Invalid entry, empty tags.\n",
      "\t<PER>Albin</PER>, <ACT>vins-traiteur</ACT>, <LOC>Beaux-Art</LOC>. <CARDINAL></CARDINAL>.\n",
      "\n",
      "Invalid entry, empty tags.\n",
      "\t<PER>Lebrun jeune</PER>, <LOC>bouler. du Temple</LOC>,<CARDINAL></CARDINAL>\n",
      "\n",
      "Invalid entry, empty tags.\n",
      "\t<PER>Fontaine</PER>, <LOC>Saint-Maur-Popincourt</LOC>,<CARDINAL></CARDINAL>\n",
      "\n",
      "Invalid entry, empty tags.\n",
      "\t<PER>Fssy ain</PER>, <LOC>oul. Beaumarchais</LOC>,<CARDINAL></CARDINAL>\n",
      "\n",
      "Invalid entry, empty tags.\n",
      "\t<PER>litienne</PER>, <LOC>5aint-Muur-Popineourt</LOC>,<CARDINAL></CARDINAL>\n",
      "\n",
      "Invalid entry, empty tags.\n",
      "\t<PER>Duont</PER>, <ACT>et jurdimer</ACT>, L<LOC>Delambre</LOC>,<CARDINAL></CARDINAL>\n",
      "\n",
      "Invalid entry, empty tags.\n",
      "\t<PER>Dethy (B.)</PER>, <LOC>Grand-Preure</LOC>, <CARDINAL></CARDINAL>.\n",
      "\n",
      "Invalid entry, empty tags.\n",
      "\t<PER>Delalorgo</PER>, <LOC>Montparnusse</LOC>, <CARDINAL>75</CARDINAL>, et<LOC> elambre</LOC>, <CARDINAL></CARDINAL>.\n",
      "\n",
      "Invalid entry, empty tags.\n",
      "\t<PER>Coune Silvestre</PER>, <ACT>fait la mosaiue de Florence en relief et les in- crustutions de diffeirents narbres de couleur ef pierres fftes; res- fauration d&apos;oljete d&apos;or et de cu- riosite</ACT>, <LOC>r. du Sabot</LOC>, <CARDINAL></CARDINAL>t<CARDINAL>4</CARDINAL>, don- nant r, du Four-St-Germin.\n",
      "\n",
      "Invalid entry, empty tags.\n",
      "\t<PER>Chariron- Voisin</PER>, <LOC>Menilmontant</LOC>,<CARDINAL></CARDINAL>\n",
      "\n",
      "Invalid entry, empty tags.\n",
      "\t<PER>Binard</PER>, <LOC>Pot-de-Fer-St-Marcel</LOC>,<CARDINAL></CARDINAL>\n",
      "\n",
      "Invalid entry, empty tags.\n",
      "\t<PER>Cagin</PER>, <ACT>marbrier, assortimettf de cheminees et marbres nour mteu- bles</ACT>, <LOC>Faub.-St-Antuine</LOC>, <CARDINAL>2l</CARDINAL>, et<LOC> Roquette</LOC>, <CARDINAL></CARDINAL>, <LOC>cour du Cheval- Rlanc</LOC>.\n",
      "\n",
      "Invalid entry, empty tags.\n",
      "\t<PER>Verlior (IE ) fils nlne</PER>, <ACT>n&apos;ture sp o ale de rsiers el c:melias</ACT>, expelition pour la Fr::ne et l&apos;d- irunger. Von barriereles ileux- Moulins, <LOC>rue des Trois-O mes</LOC>,<CARDINAL></CARDINAL>\n",
      "\n",
      "Invalid entry, empty tags.\n",
      "\t<PER>Rouveau</PER>, <LOC>Amandiers-Popinc.</LOC>, <CARDINAL></CARDINAL>.\n",
      "\n",
      "Invalid entry, empty tags.\n",
      "\t<PER>Mlarti.e</PER>, <ACT>jrdiier-leurisle</ACT>, <LOC>im- pisse laute-lrt</LOC>, <CARDINAL></CARDINAL>.\n",
      "\n",
      "Invalid entry, empty tags.\n",
      "\t<PER>Lenain</PER>, <LOC>Cisalpine</LOC>, <CARDINAL></CARDINAL>,\n",
      "\n",
      "Invalid entry, empty tags.\n",
      "\t<PER>Iicnue</PER>, <LOC>Grande-ue do Reuilly</LOC>,<CARDINAL></CARDINAL>\n",
      "\n",
      "Invalid entry, empty tags.\n",
      "\t<PER>Jamain (Vve)</PER>, <LOC>Fosses-St-MIarcel</LOC>,<CARDINAL></CARDINAL>\n",
      "\n",
      "Invalid entry, empty tags.\n",
      "\t<PER>nruII luchet pere (Andre)</PER>, <LOC>Montreuil</LOC>,<CARDINAL></CARDINAL>\n",
      "\n",
      "Invalid entry, empty tags.\n",
      "\t<PER>Vllain aine</PER>, <ACT>quincaillerie</ACT>, <LOC>aub.-Poissonniere</LOC>,<CARDINAL> 42</CARDINAL>.<TITRE></TITRE>\n",
      "\n",
      "Invalid entry, empty tags.\n",
      "\t<PER>Villuain (J.)</PER>, <ACT>ingenieur civil</ACT>, <LOC>St-Germain-des- Pres</LOC>, <CARDINAL>1x</CARDINAL>.<TITRE></TITRE>\n",
      "\n",
      "Invalid entry, empty tags.\n",
      "\t<PER>Villain</PER>, <ACT>charbon</ACT>, <LOC>Fontaine-Moliere</LOC>, <CARDINAL></CARDINAL>.\n",
      "\n",
      "Invalid entry, empty tags.\n",
      "\t<PER>Vilcoq (Ch.)</PER>, <LOC>Aiguillerie</LOC>, <CARDINAL></CARDINAL>.\n",
      "\n",
      "Invalid entry, empty tags.\n",
      "\t<PER>Vilutte</PER>, <ACT>pharmacien</ACT>, <LOC>St-Honore</LOC>, <CARDINAL>232.</CARDINAL><TITRE></TITRE>\n",
      "\n",
      "Invalid entry, empty tags.\n",
      "\t<PER>Vilain</PER>, <ACT>avocat</ACT>, <LOC>Neuve-des-Capucines</LOC>, <CARDINAL></CARDINAL>.\n",
      "\n",
      "Invalid entry, empty tags.\n",
      "\t<PER>Vignier A.)</PER>k<TITRE></TITRE>, <ACT>referend.  la cour des comptes</ACT>,<LOC> Bac</LOC>, <CARDINAL>35</CARDINAL>.\n",
      "\n",
      "Invalid entry, empty tags.\n",
      "\t<PER>Viguie (Jacques-Frederic)</PER>, <ACT>metaux, fontes et zinc</ACT>, <LOC>Bergere</LOC>, <CARDINAL>3</CARDINAL>.<TITRE></TITRE>\n",
      "\n",
      "Invalid entry, empty tags.\n",
      "\t<PER>Viguie</PER>, <ACT>proprietaire</ACT>, <LOC>Jean-Goujon</LOC>, <CARDINAL></CARDINAL>.\n",
      "\n",
      "Invalid entry, empty tags.\n",
      "\t<PER>Viguet (M.-L.)</PER> <TITRE></TITRE>, <LOC>N.-D.-de-I.orette</LOC>, <CARDINAL>40</CARDINAL>.\n",
      "\n",
      "Invalid entry, empty tags.\n",
      "\t<PER>Vigues freres</PER>, <ACT>bois des tles</ACT>, <LOC>Faub.-St-An- toine</LOC>, <CARDINAL>59</CARDINAL>.<TITRE></TITRE>\n",
      "\n",
      "Invalid entry, empty tags.\n",
      "\t<PER>Vigouroux (Mme)</PER>, <ACT>fab. de corsets</ACT>, <LOC>Louis-le- Grand</LOC>, <CARDINAL>9</CARDINAL>.<TITRE></TITRE>\n",
      "\n",
      "Invalid entry, empty tags.\n",
      "\t<PER>Vigoroel et Cie</PER>, <ACT>escompte et recouvrements</ACT><LOC> Neuve-St-Augustin</LOC>, <CARDINAL>0</CARDINAL>.f<TITRE></TITRE>\n",
      "\n",
      "Invalid entry, empty tags.\n",
      "\t<PER>Vigny (Cte A. de)</PER> <TITRE>a</TITRE>, <ACT>de Tlnstitut</ACT>, <LOC>Ieforme</LOC>,<CARDINAL></CARDINAL>\n",
      "\n",
      "Invalid entry, empty tags.\n",
      "\t<PER>Vignes</PER> <TITRE></TITRE>, <ACT>chef de bureau i l&apos;administration des contributions directes</ACT>, <LOC>Mudeleine</LOC>, <CARDINAL>3</CARDINAL>.\n",
      "\n",
      "Invalid entry, empty tags.\n",
      "\t<PER>Vigneron</PER>, <ACT>mcnuisier-moleleur</ACT>, <LOC>Trois-Bornes</LOC>,<CARDINAL></CARDINAL>\n",
      "\n",
      "Invalid entry, empty tags.\n",
      "\t<PER>Vigier (Cte A.)</PER>, s<TITRE> </TITRE>, <LOC>quai Voltaire</LOC>, <CARDINAL>1</CARDINAL>.\n",
      "\n",
      "Invalid entry, empty tags.\n",
      "\t<PER>Vigan</PER>, <ACT>ancien tapissier</ACT>, <LOC>Neure.des-Mathurins</LOC>,<CARDINAL></CARDINAL>\n",
      "\n",
      "Invalid entry, empty tags.\n",
      "\t<PER>Vieville</PER>, <ACT>fab. de boutons</ACT>, <LOC>Aumaire</LOC>, <CARDINAL>48</CARDINAL>, et <LOC>plaece St-Nieolas-des-Champs</LOC>, <CARDINAL></CARDINAL>.\n",
      "\n",
      "Invalid entry, empty tags.\n",
      "\t<PER>Viennot</PER> , <ACT>serrurier</ACT> , <LOC>PetitsChamps-St-Martin</LOC>,<CARDINAL></CARDINAL>\n",
      "\n",
      "Invalid entry, empty tags.\n",
      "\t<PER>isnnot (G.)</PER> ,<ACT>biioutier en jais</ACT>, <LOC>Nre-Bourg- 1&quot;Abb4</LOC>,<CARDINAL></CARDINAL>.\n",
      "\n",
      "Invalid entry, empty tags.\n",
      "\t<PER>Viel</PER>, <ACT>vins</ACT>, <LOC>Miichodiere</LOC>, <CARDINAL>1</CARDINAL>, et <LOC>Port-Mahon</LOC>, <CARDINAL></CARDINAL>.\n",
      "\n",
      "Invalid entry, empty tags.\n",
      "\t<PER>Viel (Mme)</PER>, <ACT>tabac</ACT>, <LOC>bonle. Bonne-Nouvelle</LOC>,<CARDINAL></CARDINAL>\n",
      "\n",
      "Invalid entry, empty tags.\n",
      "\t<PER>Viel</PER>, <ACT>seeretaire d&apos;etat-major</ACT>, <LOC>allee des Veuves</LOC>,<CARDINAL></CARDINAL>\n",
      "\n",
      "Invalid entry, empty tags.\n",
      "\t<PER>Viel et Cie</PER>, <ACT>Iait antephelique</ACT>, <LOC>boul. St-Denis</LOC>,<CARDINAL> 8</CARDINAL>.t<TITRE></TITRE>\n",
      "\n",
      "Invalid entry, empty tags.\n",
      "\t<PER>Ve (E.)</PER>, <ACT>representant de commerce</ACT>, <LOC>Frangcos Miron</LOC>, <CARDINAL>4</CARDINAL>.<TITRE></TITRE>\n",
      "\n",
      "Invalid entry, empty tags.\n",
      "\t<PER>Vavin</PER>, <ACT>representant du peuple (Seine), mem- bre du conseil general</ACT>, <LOC>Saint-Dominique</LOC>,<CARDINAL></CARDINAL>\n",
      "\n",
      "Invalid entry, empty tags.\n",
      "\t<PER>Vautier</PER>, <ACT>plombier, guarde-robes</ACT>, <LOC>Qautre-Fls</LOC>,<CARDINAL></CARDINAL>\n",
      "\n",
      "Invalid entry, empty tags.\n",
      "\t<PER>autier</PER>, <ACT>coiffeur</ACT>, <LOC>Iluchette</LOC>, <CARDINAL></CARDINAL>.\n",
      "\n",
      "Invalid entry, empty tags.\n",
      "\t<PER>Vautier</PER>, <ACT>fub. de bas</ACT>, <LOC>Fontaine-St-Georges</LOC>, <CARDINAL></CARDINAL>.\n",
      "\n",
      "Invalid entry, empty tags.\n",
      "\t<PER>Yaugelade-Duplantier</PER>, <ACT>tapis en gros</ACT>, <LOC>Sentier</LOC>,<CARDINAL></CARDINAL>\n",
      "\n",
      "Invalid entry, empty tags.\n",
      "\t<PER>Vaudre</PER>, <ACT>droguerie, herboriste et commissionn.</ACT>,<LOC> Lenoir-St-Honore</LOC>, <CARDINAL></CARDINAL>.\n",
      "\n",
      "Invalid entry, empty tags.\n",
      "\t<PER>Vauchelet</PER> <TITRE></TITRE>, <ACT>peintre d&apos; histoire et de portraits</ACT>,<LOC> Parme</LOC>, <CARDINAL>3</CARDINAL>.\n",
      "\n",
      "Invalid entry, empty tags.\n",
      "\t<PER>Vnattonne</PER>, <ACT>fab. de passementeries</ACT>, <LOC>cour Betave</LOC>,<CARDINAL></CARDINAL>\n",
      "\n",
      "Invalid entry, empty tags.\n",
      "\t<PER>Vattone (Edouard)</PER>, <ACT>entrepreneur de demoli- tions</ACT>, <LOC>eour Batave</LOC>, <CARDINAL>6</CARDINAL>; <FT>chnutier</FT>, <LOC>Vuugirard</LOC>,<CARDINAL></CARDINAL>\n",
      "\n",
      "Invalid entry, empty tags.\n",
      "\t<PER>Vatin, Beruy et Cie</PER>, <ACT>fabr. de chles</ACT>, <LOC>Neuve- St-Eustache</LOC>, <CARDINAL></CARDINAL>.\n",
      "\n",
      "Invalid entry, empty tags.\n",
      "\t<PER>Vasseur</PER>, <ACT>clarcutier</ACT>, <LOC>Vieux-Marehe-St-Mar- tin</LOC>, <CARDINAL>16</CARDINAL>, et <LOC>Nationale</LOC>, <CARDINAL></CARDINAL>.\n",
      "\n",
      "Invalid entry, empty tags.\n",
      "\t<PER>Gavrel</PER>, <ACT>peintre en biments</ACT>, <LOC>St-Mery</LOC>, <CARDINAL></CARDINAL>, et<LOC> St-Martin</LOC>, <CARDINAL>30</CARDINAL>.\n",
      "\n",
      "Invalid entry, empty tags.\n",
      "\t<PER>Gaviguot</PER>, <ACT>avoue i la c. d&apos;appel</ACT>, <LOC>Coq St-Hoa nore</LOC>, <CARDINAL></CARDINAL>.\n",
      "\n",
      "Invalid entry, empty tags.\n",
      "\t<PER>Gavarry</PER>, <ACT>imprim. en tille-douce</ACT>, <LOC>Pualais-Nato- nal, gl. le Nemours</LOC>, <CARDINAL>19</CARDINAL>, <CARDINAL>20</CARDINAL>, <CARDINAL>21</CARDINAL> o<CARDINAL></CARDINAL>\n",
      "\n",
      "Invalid entry, empty tags.\n",
      "\t<PER>Gavarret</PER> <TITRE></TITRE>, <ACT>prof. dc physique i la facult6 de medecine</ACT>, <LOC>Grenelle-St-Germain</LOC>, <CARDINAL>49</CARDINAL>,.\n",
      "\n",
      "Invalid entry, empty tags.\n",
      "\t<PER>Gauvin</PER>, <ACT>objets d&apos;arts en plAtre</ACT>, <LOC>passage des anoramas, galerie des Varites</LOC>, <CARDINAL></CARDINAL>.\n",
      "\n",
      "Invalid entry, empty tags.\n",
      "\t<PER>Gautron</PER>, <ACT>vermicelle</ACT>, <LOC>Grando Tuanderio</LOC>,<CARDINAL></CARDINAL>\n",
      "\n",
      "Invalid entry, empty tags.\n",
      "\t<PER>Gautier (Alph.)</PER> <TITRE></TITRE>, <ACT>secretaire de la liquidation generale de l&apos;ancienne liste civile et du do- maiu prive</ACT>, <LOC>Varennes</LOC>, <CARDINAL>55</CARDINAL>.\n",
      "\n",
      "Invalid entry, empty tags.\n",
      "\t<PER>Gauthrot</PER>, <ACT>vins</ACT>, <LOC>Bernardins</LOC>, <CARDINAL></CARDINAL>.\n",
      "\n",
      "Invalid entry, empty tags.\n",
      "\t<PER>Gauthier-d&apos;Ilauteserve</PER>, <TITRE>U, </TITRE>, <ACT>ancien adminis- trateur de l&apos;octroi do Paris</ACT>, <LOC>St-Gcorgges</LOC>,<CARDINAL></CARDINAL>.\n",
      "\n",
      "Invalid entry, empty tags.\n",
      "\t<PER>Gauthier</PER>, <ACT>vins</ACT>, <LOC>pl. HBaudoycr</LOC>, <CARDINAL></CARDINAL>.\n",
      "\n",
      "Invalid entry, empty tags.\n",
      "\t<PER>Gauthier fils</PER>, <ACT>fab. de presses</ACT>, <LOC>Parcheninerie</LOC>,<CARDINAL></CARDINAL>\n",
      "\n",
      "Invalid entry, empty tags.\n",
      "\t<PER>Gauthier</PER>, <ACT>peintre en bitiments</ACT>, <LOC>St-Mntoine</LOC>,<CARDINAL></CARDINAL>\n",
      "\n",
      "Invalid entry, empty tags.\n",
      "\t<PER>Gauthier</PER> <TITRE></TITRE>, <ACT>architecte du gouvernement, . membre de 1&apos;Institut</ACT>, <LOC>Nt-Georges</LOC>,<CARDINAL></CARDINAL>.\n",
      "\n",
      "Invalid entry, empty tags.\n",
      "\t<PER>Gautlier</PER>, <ACT>avoc. i la cour d&apos;appel</ACT>, <LOC>Lavoisier</LOC>,<CARDINAL></CARDINAL>\n",
      "\n",
      "Invalid entry, empty tags.\n",
      "\tI<PER>Dauphnot</PER>, <ACT>ypivcier</ACT>, <LOC>MJulinas</LOC>, <CARDINAL>I7</CARDINAL>, et <LOC>Therse,</LOC> <CARDINAL></CARDINAL>.\n",
      "\n",
      "Invalid entry, empty tags.\n",
      "\t<PER>Daunay</PER>, <ACT>luissier</ACT>, <LOC>C nyise</LOC>, <CARDINAL></CARDINAL>, <LOC>i MS1t-nis</LOC>.\n",
      "\n",
      "Invalid entry, empty tags.\n",
      "\t<PER>Daumic</PER>, <ACT>peinre-nrtiste</ACT>, <LOC>qai l&apos; Anjou</LOC>, <CARDINAL></CARDINAL>.\n",
      "\n",
      "Invalid entry, empty tags.\n",
      "\t<PER>laumurl</PER>, <ACT>bijoutier en lore</ACT>, <LOC>Mlichnel-l-Comte</LOC>,<CARDINAL></CARDINAL>\n",
      "\n",
      "Invalid entry, empty tags.\n",
      "\t<PER>Daulin</PER>, <ACT>fab. de ciayeaux</ACT>, <LOC>Vicille-u-femnple</LOC>,<CARDINAL></CARDINAL>\n",
      "\n",
      "Invalid entry, empty tags.\n",
      "\t<PER>Daude</PER>, <ACT>grav, sur etaux</ACT>, <LOC>Simon-le-Franc</LOC>, <CARDINAL></CARDINAL>.\n",
      "\n",
      "Invalid entry, empty tags.\n",
      "\t<PER>Irin</PER>, <ACT>uier</ACT>, <LOC>Mlniinuntnt</LOC>, <CARDINAL></CARDINAL>,\n",
      "\n",
      "Invalid entry, empty tags.\n",
      "\t<PER>Iaubin</PER>, <ACT>ferreur de lmcets</ACT>, (<LOC>Gr. Trunmderie</LOC>, <CARDINAL></CARDINAL>.\n",
      "\n",
      "Invalid entry, empty tags.\n",
      "\t<PER>Dartigues</PER> <TITRE></TITRE>, <ACT>propriet.</ACT>, <LOC>Ironchoet</LOC>, <CARDINAL>3</CARDINAL>.\n",
      "\n",
      "Invalid entry, empty tags.\n",
      "\t<PER>Daroudeau</PER> <TITRE></TITRE>, <ACT>ingenieur hyrographe</ACT>, <LOC>Ouest</LOC>,<CARDINAL> 4A0</CARDINAL>.\n",
      "\n",
      "Invalid entry, empty tags.\n",
      "\t<PER>Ires:o</PER> <TITRE></TITRE>, <ACT>chef de burenu i l&apos;udinistration des conributions idirectes</ACT>, <LOC>Fleurus</LOC>, <CARDINAL>37</CARDINAL>,\n",
      "\n",
      "Invalid entry, empty tags.\n",
      "\t<PER>Audibran (J.)</PER>, <ACT>dent.</ACT>, <LOC>VinA-Quatre-Fvrier</LOC>, <CARDINAL></CARDINAL>.\n",
      "\n",
      "Invalid entry, empty tags.\n",
      "\t<PER>Audibert-Lehel (Mme]</PER>, <ACT>fab. de flears</ACT>,<LOC>Tracy</LOC>, <CARDINAL></CARDINAL>.\n",
      "\n",
      "Invalid entry, empty tags.\n",
      "\t<PER>Audenet fils</PER> <TITRE></TITRE>, <ACT>banquier</ACT>, <LOC>Faubourg-Poisson- niere</LOC>, <CARDINAL>25</CARDINAL>,\n",
      "\n",
      "Invalid entry, empty tags.\n",
      "\t<PER>Audeber (le pasteur )</PER>, <LOC>aux Batignolles, de l&apos;E- cluse</LOC>, <CARDINAL></CARDINAL>.\n",
      "\n",
      "Invalid entry, empty tags.\n",
      "\t<PER>Aubry-Lecomte</PER><TITRE></TITRE>, <ACT>art.-peint. lithogr.</ACT>,<LOC>Bac</LOC>, <CARDINAL>4A</CARDINAL>.\n",
      "\n",
      "Invalid entry, empty tags.\n",
      "\t<PER>Abery-Galban</PER>, <ACT>imp.-lithog.</ACT> <LOC>pass. du Caire</LOC>,<CARDINAL></CARDINAL>\n",
      "\n",
      "Invalid entry, empty tags.\n",
      "\t<PER>Corbin</PER>, <LOC>cour des Petites-Ecuries</LOC>,<CARDINAL></CARDINAL>\n",
      "\n",
      "Invalid entry, empty tags.\n",
      "\t<PER>Vaumier (Mme)</PER>, <LOC>Petit-Curreau</LOC>, <CARDINAL></CARDINAL>.\n",
      "\n",
      "Invalid entry, empty tags.\n",
      "\t<PER>Bergeron jeune</PER>, <LOC>Luis-Philippe</LOC>,<CARDINAL></CARDINAL>\n",
      "\n",
      "Invalid entry, empty tags.\n",
      "\t<PER>Vauvray</PER>, <LOC>boul. Bonne-Nouelle</LOC>,<CARDINAL></CARDINAL>\n",
      "\n",
      "Invalid entry, empty tags.\n",
      "\t<PER>hilorier</PER> <TITRE></TITRE>, <ACT>inrenteur breete Ie la lme olestatiue qui e co- fent que de 1&apos;huite</ACT>, <LOC>Paluais- Royal, galerie de la otonde</LOC>, <CARDINAL>03</CARDINAL>. M. 11. rb5y. s lLe juy aie n relrover dats ses examnells des produits de l&apos;esprit iuvcnlif le M. Ihilorier; aussi esl-ee avec ne vive satisfaction tq&apos;il mentionne honorallement une lanpc, systme Girard, i ren- crsement , mas sans auicun ouchon ni robinelt metalliue. IIue connaissance approfondie es lois de lhydrostatique a permis i M. Thilorier, par la disposition seule des colones et des tules dc communicalion, de remplaccr, par des soupapes hydrauliques , les olturateurs solides.  Ray. du iuryC.\n",
      "\n",
      "Invalid entry, empty tags.\n",
      "\t<PER>Michon fils alne</PER>. <ACT>art. de S-uen- tn, Trure et Nancy, tlles de fl et olon, broder. , etc.</ACT> , <LOC>Cloltre-St- Jacques-l&apos;Hopital</LOC>, <CARDINAL></CARDINAL>.\n",
      "\n",
      "Invalid entry, empty tags.\n",
      "\t<PER>David (Andre) et Jules</PER>,  1839,<ACT> fissut en coton-line ef eles pur teinlure et impession, deler fal. deS-ueutin</ACT>, <LOC>St-Ficre</LOC>,l<CARDINAL></CARDINAL>; naiso tenue pr Aleundye Gre- It.\n",
      "\n",
      "Invalid entry, empty tags.\n",
      "\t<PER>Chcuvrer fils et Legentil</PER> <TITRE></TITRE>, <LOC>Pois- sonnire</LOC>, <CARDINAL>35</CARDINAL>.\n",
      "\n",
      "Invalid entry, empty tags.\n",
      "\t<PER>Charpentier</PER>, <ACT>fab. calicots, coulisses ur fau cols et gigots</ACT>, <LOC>Grenetat</LOC>,<CARDINAL></CARDINAL>\n",
      "\n",
      "Invalid entry, empty tags.\n",
      "\t<PER>Boudon et Hoyn</PER> <TITRE></TITRE>, <ACT>succ. de Preeost Rousseu, consigtatians en etoes</ACT>, <LOC>Jeneurs</LOC>, <CARDINAL>0</CARDINAL>.\n",
      "\n",
      "Invalid entry, empty tags.\n",
      "\t<PER>Bertron frres</PER>, <ACT>llne de colon</ACT>,<LOC> Jehneurs</LOC>, <CARDINAL></CARDINAL>, ot <LOC>Faub.-Mont.</LOC>, l<CARDINAL>13</CARDINAL>.\n",
      "\n",
      "Invalid entry, empty tags.\n",
      "\t<PER>erand</PER>, <ACT>tourneur ven tout genre</ACT>, <LOC>St-Bernard</LOC>,<CARDINAL></CARDINAL>\n",
      "\n",
      "Invalid entry, empty tags.\n",
      "\t<PER>egrand</PER>, <ACT>anc. chef aux postes</ACT>, <LOC>Declrgeurs</LOC>,<CARDINAL></CARDINAL>\n",
      "\n",
      "Invalid entry, empty tags.\n",
      "\t<PER>Legrain et Lefevre</PER>, <ACT>menusiers</ACT>, <LOC>Vieux-Augus- tins,</LOC> <CARDINAL></CARDINAL>.\n",
      "\n",
      "Invalid entry, empty tags.\n",
      "\t<PER>Legrand</PER>, <ACT>cinturonn.-sellier</ACT>, <LOC>Simon-le-Franc</LOC>,<CARDINAL></CARDINAL>\n",
      "\n",
      "Invalid entry, empty tags.\n",
      "\tI<PER>Legrrec</PER>, <ACT>veonseill. i la cour royale</ACT>, <LOC>IIuute- ville</LOC>.l<CARDINAL></CARDINAL>.\n",
      "\n",
      "Invalid entry, empty tags.\n",
      "\t<PER>Lcgonidec</PER> <TITRE></TITRE>, <ACT>juge d&apos; instruction au tribunal de 1re instance</ACT>, <LOC>Chaussee-d&apos; Autin</LOC>, <CARDINAL>19 is</CARDINAL>.\n",
      "\n",
      "Invalid entry, empty tags.\n",
      "\t<PER>Leobe( MIme)</PER>, <ACT>tuabuc</ACT>, <LOC>Petit-Curreau</LOC>,l<CARDINAL></CARDINAL>.\n",
      "\n",
      "Invalid entry, empty tags.\n",
      "\t<PER>Legentil</PER> <TITRE></TITRE>, <TITRE>elig.</TITRE>, <ACT>dpute</ACT>, <LOC>Bleue</LOC>, <CARDINAL>3</CARDINAL>, et <LOC>Faub.- Poissonniere</LOC>, <CARDINAL>35</CARDINAL>.\n",
      "\n",
      "Invalid entry, empty tags.\n",
      "\t<PER>Legendre et Prudhomme (Mmes)</PER>, <ACT>institutri- ces</ACT>, <LOC>Rosiers</LOC>,<CARDINAL></CARDINAL>.\n",
      "\n",
      "Invalid entry, empty tags.\n",
      "\t<PER>Legendre (J.)</PER>, <ACT>pointro d&apos;histoire</ACT> , <LOC>Godot</LOC>,<CARDINAL> </CARDINAL>.\n",
      "\n",
      "Invalid entry, empty tags.\n",
      "\t<PER>Legaye</PER>, <ACT>menuisier</ACT>, <LOC>Fosses-St-Germ.-l&apos;hAux.</LOC>,<CARDINAL></CARDINAL>\n",
      "\n",
      "Invalid entry, empty tags.\n",
      "\t<PER>Chauveau-Lagarde pere</PER> <TITRE></TITRE>, <ACT>conseiller i la cour de cassution</ACT>. <LOC>Jucob</LOC>, <CARDINAL>3l</CARDINAL>.\n",
      "\n",
      "Invalid entry, empty tags.\n",
      "\t<PER>Chuveau</PER>, <ACT>bottier</ACT>, <LOC>Richelieu</LOC>, <CARDINAL></CARDINAL>.\n",
      "\n",
      "Invalid entry, empty tags.\n",
      "\t<PER>Chauty</PER> <TITRE>a</TITRE>, <ACT>chef de bureuau i la caisse d&apos;amor- tssement</ACT>, <LOC>Oratoire du Louvre</LOC>,l<CARDINAL></CARDINAL>.\n",
      "\n",
      "Invalid entry, empty tags.\n",
      "\t<PER>Chaussenot alue</PER>, <ACT>ingen. civil</ACT>, <LOC>pass. Violet</LOC>, <CARDINAL></CARDINAL>.\n",
      "\n",
      "Invalid entry, empty tags.\n",
      "\t<PER>Chaumerot</PER> <TITRE></TITRE>, <ACT>libraire</ACT>, <LOC>gal. d&apos;Orleans</LOC>, <CARDINAL>4</CARDINAL>.\n",
      "\n",
      "Invalid entry, empty tags.\n",
      "\t<PER>Chaufourier</PER>, <ACT>cordonnier</ACT>, <LOC>Montorgueuil</LOC>, <CARDINAL></CARDINAL>.\n",
      "\n",
      "Invalid entry, empty tags.\n",
      "\t<PER>Chaude</PER> <TITRE></TITRE>, <ACT>libraire</ACT>, <LOC>Mloliere</LOC>, <CARDINAL>4</CARDINAL>.\n",
      "\n",
      "Invalid entry, empty tags.\n",
      "\t<PER>Chaucheprat</PER>, 0<TITRE>O. x</TITRE>, <ACT>maitre des requetes en service extraord. , secret. general du minis- tre de la marine</ACT>, <LOC>Royale-St-IIonore</LOC>, <CARDINAL></CARDINAL>.\n",
      "\n",
      "Invalid entry, empty tags.\n",
      "\t<PER>Chatillon</PER> <TITRE></TITRE>, <ACT>nrchitecte</ACT>, <LOC>boul. Poissonn.</LOC>, <CARDINAL>14</CARDINAL>.\n",
      "\n",
      "Invalid entry, empty tags.\n",
      "\t<PER>Bosno</PER>, <ACT>poeler</ACT>,<LOC>. ues oureze</LOC><CARDINAL></CARDINAL>\n",
      "\n",
      "Invalid entry, empty tags.\n",
      "\t<PER>Borre&apos;</PER>, <TITRE>elig.</TITRE>, <ACT>huttres en gros, restauratcur</ACT>,<LOC> Mandar</LOC>, <CARDINAL></CARDINAL>, et <LOC>Mont rgueil</LOC>, <CARDINAL>6l</CARDINAL>.\n",
      "\n",
      "Invalid entry, empty tags.\n",
      "\t<PER>Born</PER>, <ACT>jarliuier</ACT>, <LOC>St-Abrvise-opinourt</LOC>, <CARDINAL></CARDINAL> ct <CARDINAL>7</CARDINAL>.\n",
      "\n",
      "Invalid entry, empty tags.\n",
      "\t<PER>Borel</PER>, <ACT>droguiste, couleurs et produits chimi- ques</ACT>, <LOC>Poterie-des-Arcis</LOC>, <CARDINAL></CARDINAL>.\n",
      "\n",
      "Invalid entry, empty tags.\n",
      "\t<PER>Bordier-Dubignon</PER>, <ACT>peintre-artiste</ACT>, <LOC>G rammont</LOC>,<CARDINAL></CARDINAL>\n",
      "\n",
      "Invalid entry, empty tags.\n",
      "\t<PER>Bordeaus</PER>, <ACT>fubr. de roulettes</ACT>, <LOC>Louis-Philippe</LOC>,<CARDINAL></CARDINAL>\n",
      "\n",
      "Invalid entry, empty tags.\n",
      "\t<PER>Borlay</PER>, <ACT>boucher</ACT>, <LOC>Ferme</LOC>, <CARDINAL></CARDINAL>.\n",
      "\n",
      "Invalid entry, empty tags.\n",
      "\t<PER>Bonyot</PER>, <ACT>hotel d&apos;Allemagne</ACT>, <LOC>Grenetat</LOC>, <CARDINAL></CARDINAL>.\n",
      "\n",
      "Invalid entry, empty tags.\n",
      "\t<PER>Buillon (Cte)</PER> <TITRE></TITRE>, <LOC>Francs-Bourg. -Marais</LOC>, <CARDINAL>15</CARDINAL>.\n",
      "\n",
      "Invalid entry, empty tags.\n",
      "\t<PER>aillarl</PER> <TITRE></TITRE>, <ACT>ingn. des ponts-et chussees</ACT>, <LOC>St- Guillaume</LOC>. <CARDINAL>9</CARDINAL>.\n",
      "\n",
      "Invalid entry, empty tags.\n",
      "\t<PER>Baffos</PER> <TITRE></TITRE>, <ACT>medecin</ACT>, <LOC>Odeon</LOC>, <CARDINAL>24</CARDINAL>.\n",
      "\n",
      "Invalid entry, empty tags.\n",
      "\t<PER>Bacoel et Snrain</PER>, <ACT>rubans, soieries et nou- veautes en gros</ACT>, <LOC>Mail</LOC>,l<CARDINAL></CARDINAL>.\n",
      "\n",
      "Invalid entry, empty tags.\n",
      "\t<PER>Bubeau</PER>, <ACT>direct., du bureuu de poste</ACT>, <LOC>Baune</LOC>, <CARDINAL></CARDINAL>.\n",
      "\n",
      "Invalid entry, empty tags.\n",
      "\t<PER>Prieur</PER>, <ACT>serr. en bt.</ACT>,<LOC>r. Ronne-Nauvello,</LOC> <CARDINAL></CARDINAL>.\n",
      "\n",
      "Invalid entry, empty tags.\n",
      "\t<PER>Prollome</PER>. <ACT>lihr.</ACT>. <LOC>bouley. e tCnpus.</LOC><CARDINAL></CARDINAL>\n",
      "\n",
      "Invalid entry, empty tags.\n",
      "\t<PER>&apos;rvault</PER>, <ACT>hois i brii.</ACT> <LOC>i MIant-ouge</LOC>.<CARDINAL></CARDINAL>.\n",
      "\n",
      "Invalid entry, empty tags.\n",
      "\t<PER>Primault</PER>, <ACT>tahletterie</ACT>, <LOC>r. du Wt-llois</LOC>, <CARDINAL></CARDINAL>.\n",
      "\n",
      "Invalid entry, empty tags.\n",
      "\t<PER>lrieur</PER>, <ACT>.</ACT>. <LOC>r. de Mloussy</LOC>, <CARDINAL></CARDINAL>.\n",
      "\n",
      "Invalid entry, empty tags.\n",
      "\t<PER></PER>;<ACT>;,</ACT>g<LOC>;iGee- Mlartin</LOC>, <CARDINAL>21</CARDINAL>.\n",
      "\n",
      "Invalid entry, empty tags.\n",
      "\t<PER>Pruvost</PER>, <ACT>limon.</ACT>, <LOC>houlev. Bunne-Nouvelle,</LOC> <CARDINAL></CARDINAL>.\n",
      "\n",
      "Invalid entry, empty tags.\n",
      "\t<PER>lluhert-lurnl et cmp-</PER>. <ACT>tgerce les fab. et III.</ACT>. <LOC>.  IIII</LOC>,<CARDINAL></CARDINAL>,\n",
      "\n",
      "Invalid entry, empty tags.\n",
      "\t<PER>llugot &apos;Ml )</PER>, <ACT>bretelles</ACT>, <LOC>r. ausv urs</LOC>, <CARDINAL></CARDINAL>.\n",
      "\n",
      "Invalid entry, empty tags.\n",
      "\t<PER>Ilugnet</PER>, <ACT>colliersgls</ACT>, <LOC>t. (Quincampoix</LOC>,<CARDINAL></CARDINAL>\n",
      "\n",
      "Invalid entry, empty tags.\n",
      "\t<PER>lludde</PER>. <ACT>jvoaillerie</ACT>, <LOC>r. de la Monnaie</LOC>.<CARDINAL></CARDINAL>\n",
      "\n",
      "Invalid entry, empty tags.\n",
      "\t<PER>lluhenrt</PER>, <ACT>htt.</ACT>, <LOC>r. 5t. -Victor</LOC>, <CARDINAL></CARDINAL>.\n",
      "\n",
      "Invalid entry, empty tags.\n",
      "\t<PER>I.EGE</PER>, <LOC>r. Baillet</LOC>. <CARDINAL></CARDINAL>.\n",
      "\n",
      "Invalid entry, empty tags.\n",
      "\t<PER>L ITIE</PER>, <LOC>r. de la lanrhe</LOC> <CARDINAL></CARDINAL>, <LOC>iauh. S.-Germ</LOC>n.\n",
      "\n",
      "Invalid entry, empty tags.\n",
      "\t<PER>1tOISEIL</PER>, <LOC>r. ontrescarpe</LOC>, <CARDINAL> </CARDINAL>.\n",
      "\n",
      "Invalid entry, empty tags.\n",
      "\t<PER>IIAID</PER>. <LOC>r. a Francs-urzeos</LOC>. <CARDINAL></CARDINAL>, n Mlaras.\n",
      "\n",
      "Invalid entry, empty tags.\n",
      "\t<PER>UIl.L(OUET</PER>, <LOC>H. de Varens</LOC>, <CARDINAL></CARDINAL>, <LOC>faub. t-Oerm.</LOC>\n",
      "\n",
      "Invalid entry, empty tags.\n",
      "\t<PER>&apos;1ALEHRT</PER>, <LOC>r. e- lPelerins-Sl -aeues</LOC>, <CARDINAL></CARDINAL>.\n",
      "\n",
      "Invalid entry, empty tags.\n",
      "\t<PER>(CH1E,AU</PER>, <LOC>cur de la Juiserie</LOC>, <CARDINAL></CARDINAL>.\n",
      "\n",
      "Invalid entry, empty tags.\n",
      "\t<PER>:ONIN</PER>, <LOC>i feres, r, Slo.-Sophuc</LOC>, <CARDINAL></CARDINAL>.\n",
      "\n",
      "Invalid entry, empty tags.\n",
      "\t<PER>DL ML</PER>, <LOC>r, St.-Nilas</LOC>, <CARDINAL></CARDINAL>, <LOC>faub. t-Auloiue</LOC>.\n",
      "\n",
      "Invalid entry, empty tags.\n",
      "\t<PER>DRUU1Y</PER>, <LOC>r. du Faul.-MSt.-lDeuis</LOC>, <CARDINAL></CARDINAL>.\n",
      "\n",
      "Invalid entry, empty tags.\n",
      "\t<PER>EIE</PER>. <ACT>Faieniees, rrislaur, orcelaiues d&apos;arcasian, lio1 deau de Colaoue</ACT>; <LOC>. Vnottire</LOC>, <CARDINAL></CARDINAL>.\n",
      "\n",
      "Invalid entry, empty tags.\n",
      "\t<PER>DURAC</PER>. <ACT>Purclaines, cnrrteans de laienee, er- reries, crislnus, claches dejardin : eus. et nu.</ACT>:<LOC> r. t,-Victor</LOC>, <CARDINAL></CARDINAL>.\n",
      "\n",
      "Invalid entry, empty tags.\n",
      "\t<PER>LII1MC.</PER>. <ACT>F1 norcelaines, cristaus, bouteilles, gres</ACT>: <LOC>r. u untrat-ocial</LOC>, <CARDINAL></CARDINAL>.\n",
      "\n",
      "Invalid entry, empty tags.\n",
      "\t<PER>D S pwere et tils jue.</PER>, <LOC>pl. S -Antoine</LOC>,<CARDINAL></CARDINAL>\n",
      "\n",
      "Invalid entry, empty tags.\n",
      "\t<PER>MIEO1</PER>, <LOC>pl. de la IPrte-t.-Antoine</LOC>, <CARDINAL></CARDINAL>,\n",
      "\n",
      "Invalid entry, empty tags.\n",
      "\t<PER>IMtL AlE</PER>, <LOC>r. IMscarte</LOC>, <CARDINAL></CARDINAL>.\n",
      "\n",
      "Invalid entry, empty tags.\n",
      "\t<PER>EL ATTRE</PER>, <LOC>r. d&apos; Agursseau</LOC>, <CARDINAL></CARDINAL>.\n",
      "\n",
      "Invalid entry, empty tags.\n",
      "\t<PER>D,CIIE nin</PER>. <ACT>bipit e verrs bhsis, rre lines e cristaux</ACT>; <LOC>luule, 1..MIarlin</LOC>.<CARDINAL></CARDINAL>\n",
      "\n",
      "Invalid entry, empty tags.\n",
      "\t<PER>LELMITTI</PER>. <ACT>Mag. de Iaiences el verreries en grs el ntnil</ACT>; <LOC>r. ds Lbards</LOC>, <CARDINAL></CARDINAL>et <CARDINAL>7</CARDINAL>.\n",
      "\n",
      "Invalid entry, empty tags.\n",
      "\t<PER>Leranl</PER>, <ACT>vins</ACT>. <LOC>r. St.-Jean-:le-eausas</LOC>. <CARDINAL></CARDINAL>.\n",
      "\n",
      "Invalid entry, empty tags.\n",
      "\t<PER>1.re:ras</PER>, <ACT>chp. e nail.</ACT>, <LOC>r. u Cnirc</LOC>., <CARDINAL></CARDINAL>.\n",
      "\n",
      "Invalid entry, empty tags.\n",
      "\t<PER>Lgris</PER>, <ACT>manuis. en mcub.</ACT>, <LOC>r. thsenton</LOC>,<CARDINAL></CARDINAL>\n",
      "\n",
      "Invalid entry, empty tags.\n",
      "\t<PER>lLegris</PER>, <ACT>weint en bit.</ACT>,<LOC>r. dnu F:.h.-Mloti.</LOC>. <CARDINAL></CARDINAL>:\n",
      "\n",
      "Invalid entry, empty tags.\n",
      "\t<PER>,rr</PER>. <ACT>ie</ACT>.. <LOC>r. t..:te</LOC>.<CARDINAL></CARDINAL>\n",
      "\n",
      "Invalid entry, empty tags.\n",
      "\t<PER>Legros, Mlr)</PER>, <ACT>h. de la laix</ACT>, t<LOC>r. lu tis,t</LOC>-<CARDINAL></CARDINAL>\n",
      "\n",
      "Invalid entry, empty tags.\n",
      "\tI<PER>Leros</PER>, <ACT>dcnt.</ACT>, <LOC>r. lu IMoncn-St,-(eras</LOC>,<CARDINAL></CARDINAL>\n",
      "\n",
      "Invalid entry, empty tags.\n",
      "\tI<PER>Lguev</PER>, <ACT>uyv.</ACT>, <LOC>bonlev. MIonts.tr</LOC>, <CARDINAL></CARDINAL>;\n",
      "\n",
      "Invalid entry, empty tags.\n",
      "\t<PER>l.elwulce</PER>, <ACT>vins</ACT>, <LOC>r,. ie la Mlnt.-St.-Gne</LOC>,<CARDINAL></CARDINAL>\n",
      "\n",
      "Invalid entry, empty tags.\n",
      "\tI<PER>Leaund</PER>, <ACT>ihin.</ACT>, <LOC>r. t.-Nieolas</LOC>, <CARDINAL></CARDINAL>, <LOC>F.-St.-Ant</LOC>.\n",
      "\n",
      "Invalid entry, empty tags.\n",
      "\t<PER>Land</PER>, <ACT>unnell:</ACT>, <LOC>r. hiroux</LOC>.G<CARDINAL></CARDINAL>\n",
      "\n",
      "Invalid entry, empty tags.\n",
      "\tI<PER>Legrnd</PER>, <ACT>pof le mus,</ACT> <LOC>r. lu  ..-Chantier</LOC>,9<CARDINAL></CARDINAL>.\n",
      "\n",
      "Invalid entry, empty tags.\n",
      "\t<PER>Legral</PER>, <ACT>orfevr.</ACT>, <LOC>. do l&apos;1Iorloge</LOC>, <CARDINAL></CARDINAL>,\n",
      "\n",
      "Invalid entry, empty tags.\n",
      "\t<PER>I.eggramnl</PER>, <ACT>grv. tnl. -d.</ACT>, <LOC>r. d (Gr.-latie</LOC>.<CARDINAL></CARDINAL>.\n",
      "\n",
      "Invalid entry, empty tags.\n",
      "\t<PER>lLernl</PER>, <ACT>ic.</ACT>. <LOC>r. t.-Sebusticn</LOC>. <CARDINAL></CARDINAL>.\n",
      "\n",
      "Invalid entry, empty tags.\n",
      "\t<PER>Lernl</PER>, <ACT>hueh.</ACT>, <LOC>r. Ht -Iae.-l-Baucherie</LOC>,6<CARDINAL></CARDINAL>\n",
      "\n",
      "Invalid entry, empty tags.\n",
      "\t<PER>lusi</PER>, <ACT>bouchcrie</ACT>, <LOC>r. de hliroenil</LOC>, <CARDINAL></CARDINAL>.\n",
      "\n",
      "Invalid entry, empty tags.\n",
      "\t<PER>D)urup de laleite pese</PER> <TITRE></TITRE>, <ACT>fouderie ter, cui- vre</ACT>, <LOC>r. I&apos;opicourt</LOC>, <CARDINAL>(G</CARDINAL>1.\n",
      "\n",
      "Invalid entry, empty tags.\n",
      "\t<PER>Iurmnt</PER>. <ACT>acent d&apos;:l.</ACT>, <LOC>r. Mntorgueil</LOC>. <CARDINAL></CARDINAL>.\n",
      "\n",
      "Invalid entry, empty tags.\n",
      "\t<PER>Durantin</PER>. <ACT>ipicier</ACT>, <LOC>r. des Mlauvais-Gargonse bSt.-Germsiu</LOC>. <CARDINAL></CARDINAL>.\n",
      "\n",
      "Invalid entry, empty tags.\n",
      "\t<PER>F&apos;aGELA</PER>. <LOC>r. Nce-St.-ocl</LOC>, <CARDINAL></CARDINAL>.\n",
      "\n",
      "Invalid entry, empty tags.\n",
      "\t<PER>Daa3th</PER>, <LOC>r. es Colonnes</LOC>, <CARDINAL></CARDINAL>.<ACT> Cnorlonn</ACT>.\n",
      "\n",
      "Invalid entry, empty tags.\n",
      "\t<PER>Isq.Y</PER>, <LOC>boul. des ltaliens</LOC>, <CARDINAL></CARDINAL>.<ACT> ord. nour dames</ACT>\n",
      "\n",
      "Invalid entry, empty tags.\n",
      "\t<PER>Pai</PER>, <LOC>r. de la Feronnerie</LOC>, <CARDINAL></CARDINAL>.<ACT> Fab, d&apos;instruens i vent, et le petit bijou en generl</ACT>.\n",
      "\n",
      "Invalid entry, empty tags.\n",
      "\t<PER>PsT</PER>, <LOC>. e l onai</LOC>, <CARDINAL></CARDINAL>.<ACT> Fal. le poteravun ct la lunetle</ACT>.\n",
      "\n",
      "Invalid entry, empty tags.\n",
      "\t<PER>cz o Perr-Ira</PER>. <LOC>q. Conti</LOC>,<CARDINAL></CARDINAL>.<ACT>  uccessveurs d&apos;llalbont, hijouties  Roi, de sa chuhre et de 5. . Il. Madame la auphine: tah. les roix durdres et la joail- lcrie</ACT>.\n",
      "\n",
      "Invalid entry, empty tags.\n",
      "\t<PER>llarlsclieune</PER>e, <LOC>boul. l&apos;isuuire</LOC>, <CARDINAL></CARDINAL>.\n",
      "\n",
      "Invalid entry, empty tags.\n",
      "\t<PER>Aulset td.&apos;</PER>, <ACT>art, dc Paris</ACT>, s<LOC>r. des Eu-a fanis lkuges</LOC>,1<CARDINAL></CARDINAL>.\n",
      "\n",
      "Invalid entry, empty tags.\n",
      "\t<PER>res, &apos;aperin ct Crecion</PER>, <ACT>art, le Lyon et le lParis</ACT>, <LOC>r. Cly</LOC>, <CARDINAL></CARDINAL>.\n",
      "\n",
      "Invalid entry, empty tags.\n",
      "\t<PER>A lor</PER>, <LOC>r., du l&apos; S Denis</LOC>, <CARDINAL></CARDINAL>.\n",
      "\n",
      "Invalid entry, empty tags.\n",
      "\t<PER>Teillier</PER>, <LOC>r. lLeuoir t Am aine</LOC>, <CARDINAL></CARDINAL>.\n",
      "\n",
      "Invalid entry, empty tags.\n",
      "\t<PER>halonn nini</PER>, <LOC>r. llnr ilu lec</LOC>, <CARDINAL></CARDINAL>.\n",
      "\n",
      "Invalid entry, empty tags.\n",
      "\t<PER>lichal</PER>, <LOC>. des Denx Ecus</LOC>, <CARDINAL></CARDINAL>.\n",
      "\n",
      "Invalid entry, empty tags.\n",
      "\t<PER>l.asert</PER>, <LOC>oie t liusche</LOC>, <CARDINAL></CARDINAL>.\n",
      "\n",
      "Invalid entry, empty tags.\n",
      "\t<PER>ute (J. 1.) et comp- </PER><LOC>r. s la &apos;ais</LOC>, <CARDINAL></CARDINAL>.\n",
      "\n",
      "Invalid entry, empty tags.\n",
      "\t<PER>Auxzou</PER>, <ACT>fah. le creux et la fnnaisic c tous genres</ACT>, <LOC>. Meslay,</LOC> <CARDINAL></CARDINAL>.\n",
      "\n",
      "Invalid entry, empty tags.\n",
      "\t<PER>lllndecau</PER>, <LOC>tss. des Petis res</LOC>, <CARDINAL></CARDINAL>.\n",
      "\n",
      "Invalid entry, empty tags.\n",
      "\t<PER>Bingnt</PER>, <LOC>r luincapoix</LOC>, <CARDINAL></CARDINAL>.\n",
      "\n",
      "Invalid entry, empty tags.\n",
      "\t<PER>Susertus</PER>, <ACT>med.</ACT> <LOC>Mauconseil</LOC>,<CARDINAL> </CARDINAL>.\n",
      "\n",
      "Invalid entry, empty tags.\n",
      "\t<PER>:turm</PER>, <ACT>gant.</ACT> l<LOC>louette</LOC>,<CARDINAL></CARDINAL>.\n",
      "\n",
      "Invalid entry, empty tags.\n",
      "\t<PER>oliel 3J, 1.)</PER>, <ACT>bott.</ACT> <LOC>Aci.s</LOC>, <CARDINAL></CARDINAL>.\n",
      "\n",
      "Invalid entry, empty tags.\n",
      "\t<PER>btescuin-llardet</PER>, <ACT>pens. lem.</ACT> <LOC>pssssge Sue MIarie</LOC>, <CARDINAL></CARDINAL>.\n",
      "\n",
      "Invalid entry, empty tags.\n",
      "\t<PER>Ntevst</PER>, <ACT>chap. sule</ACT>, <LOC>q. lelletier</LOC>, <CARDINAL></CARDINAL>.\n",
      "\n",
      "Invalid entry, empty tags.\n",
      "\t<PER>ieubhenu (h.)</PER> <TITRE></TITRE>, <ACT>peint. art.</ACT> <LOC>. Mlala- Tusis</LOC>, <CARDINAL>13</CARDINAL>.\n",
      "\n",
      "Invalid entry, empty tags.\n",
      "\t<PER>befanie (Iad )</PER>, <ACT>ensionn.</ACT> <LOC>lauvais ti- cons Si len</LOC>, <CARDINAL></CARDINAL>.\n",
      "\n",
      "Invalid entry, empty tags.\n",
      "\t<PER>l&apos;it et tils</PER> <TITRE></TITRE>, <ACT>statuuire</ACT>, <LOC>1&apos;list</LOC>, <CARDINAL>7</CARDINAL>.\n",
      "\n",
      "Invalid entry, empty tags.\n",
      "\t<PER>Petitot</PER>, <ACT>clap.</ACT> <LOC>Coquilliere</LOC>, <CARDINAL></CARDINAL>.\n",
      "\n",
      "Invalid entry, empty tags.\n",
      "\t<PER>Peinngiu (Miad.)</PER>, <ACT>age-f</ACT> <LOC>f. S: AnLl</LOC>.<CARDINAL></CARDINAL>\n",
      "\n",
      "Invalid entry, empty tags.\n",
      "\t<PER>Pcuitijcan</PER>, <ACT>tourn. muet.</ACT> <LOC>. Vnisr</LOC>,&apos;<CARDINAL></CARDINAL>.\n",
      "\n",
      "Invalid entry, empty tags.\n",
      "\t<PER>Iit-lean</PER>, <ACT>cas.</ACT> <LOC>ion Me lrac</LOC>,<CARDINAL></CARDINAL>\n",
      "\n",
      "Invalid entry, empty tags.\n",
      "\t<PER>lcit (Ar.)</PER>, <ACT>teurn. en MHis</ACT>, <LOC>CGarbonnie St Anine</LOC>, <CARDINAL></CARDINAL>.\n",
      "\n",
      "Invalid entry, empty tags.\n",
      "\t<PER>ltit (A.)</PER>, <ACT>musi.</ACT> <LOC>Vivienuc</LOC>, <CARDINAL></CARDINAL>.\n",
      "\n",
      "Invalid entry, empty tags.\n",
      "\t<PER>1&apos;eti</PER>, <ACT>mtacon.</ACT> <LOC>iindre</LOC>, <CARDINAL></CARDINAL>.\n",
      "\n",
      "Invalid entry, empty tags.\n",
      "\t<PER>Itit</PER>, <ACT>layelt.</ACT> <LOC>l niverseie</LOC>, <CARDINAL></CARDINAL>.\n",
      "\n",
      "Invalid entry, empty tags.\n",
      "\t<PER>etit</PER>, <ACT>htel</ACT>, <LOC>l&apos;r Mahon</LOC>, <CARDINAL></CARDINAL>.\n",
      "\n",
      "Invalid entry, empty tags.\n",
      "\t<PER>leit</PER>, <ACT>orb.</ACT> <LOC>St Audre dcs Arus</LOC>, <CARDINAL></CARDINAL>.\n",
      "\n",
      "Invalid entry, empty tags.\n",
      "\t<PER>eit</PER>, <ACT>gr.</ACT> <LOC>Val de Gace</LOC>, <CARDINAL></CARDINAL>.\n",
      "\n",
      "Invalid entry, empty tags.\n",
      "\t<PER>letit</PER>, <ACT>curios.</ACT> <LOC>St (Germ. des lrs</LOC>, <CARDINAL></CARDINAL>.\n",
      "\n",
      "Invalid entry, empty tags.\n",
      "\t<PER>Mlrilln</PER> <TITRE></TITRE>, <ACT>cons. c. de c.</ACT> <LOC>MInnlins</LOC>, <CARDINAL>ia</CARDINAL>.\n",
      "\n",
      "Invalid entry, empty tags.\n",
      "\t<PER>leret et lausch</PER>, <ACT>./leur.</ACT> <LOC>Iaurg lAhhe</LOC>, <CARDINAL></CARDINAL>.\n",
      "\n",
      "Invalid entry, empty tags.\n",
      "\t<PER>Miereaiux</PER>, <ACT>peiul. v.</ACT> I<LOC>L:as-Cass</LOC>, <CARDINAL></CARDINAL>.\n",
      "\n",
      "Invalid entry, empty tags.\n",
      "\t<PER>Mlerckel</PER>, <ACT>briquets</ACT>, <LOC>Ne etits Chme</LOC>, <CARDINAL></CARDINAL>.\n",
      "\n",
      "Invalid entry, empty tags.\n",
      "\t<PER>Mlercier</PER>, <ACT>hotel</ACT> <LOC>t Nicnise</LOC>, <CARDINAL></CARDINAL>.\n",
      "\n",
      "Invalid entry, empty tags.\n",
      "\t<PER>Mercier</PER>, <ACT>iln.</ACT> <LOC>pl. Iayle</LOC>, <CARDINAL></CARDINAL>.\n",
      "\n",
      "Invalid entry, empty tags.\n",
      "\t<PER>Mlerat</PER> <TITRE></TITRE> <ACT>mid.</ACT> <LOC>s Pees</LOC>, <CARDINAL>17 is</CARDINAL>.\n",
      "\n",
      "Invalid entry, empty tags.\n",
      "\t<PER>Miqninon junior</PER>, <ACT>Iih.</ACT> (<LOC>Giran August.</LOC> <CARDINAL></CARDINAL>.\n",
      "\n",
      "Invalid entry, empty tags.\n",
      "\t<PER>Meny</PER>, <ACT>mnettsis.</ACT> <LOC>ps. harlerogne</LOC>, <CARDINAL></CARDINAL>.\n",
      "\n",
      "Invalid entry, empty tags.\n",
      "\t<PER>Meution (Mad.)</PER>, <ACT>cominiss. mn. de piete</ACT>d,<LOC>f. du Temiple</LOC>,f<CARDINAL></CARDINAL>.\n",
      "\n",
      "Invalid entry, empty tags.\n",
      "\t<PER>MIennet-l&apos;assz</PER>, <ACT>toff </ACT>(<LOC>Qnincnm.</LOC> <CARDINAL></CARDINAL>,\n",
      "\n",
      "Invalid entry, empty tags.\n",
      "\t<PER>omhe</PER>, <ACT>Ime.</ACT>:, <LOC>Ieanireillis</LOC>. <CARDINAL></CARDINAL>.\n",
      "\n",
      "Invalid entry, empty tags.\n",
      "\t<PER>iombe (mnad.)</PER>, <ACT>ere.</ACT> <LOC>liouche</LOC>, <CARDINAL></CARDINAL>.\n",
      "\n",
      "Invalid entry, empty tags.\n",
      "\t<PER>olsaon</PER>, <ACT>pcint. .</ACT> <LOC>IMrgn</LOC>, <CARDINAL></CARDINAL>.\n",
      "\n",
      "Invalid entry, empty tags.\n",
      "\t<PER>Colobsct c comp.</PER> <ACT>ivent.</ACT> <LOC>Gran Clan- 1i</LOC>.A<CARDINAL></CARDINAL>.\n",
      "\n",
      "Invalid entry, empty tags.\n",
      "\t<PER>Colomnl</PER>u, <ACT>n.</ACT> <LOC>Nve t (ille</LOC>, <CARDINAL></CARDINAL>.\n",
      "\n",
      "Invalid entry, empty tags.\n",
      "\t<PER>C-llinet</PER>, <ACT>tl V</ACT> <LOC>ivicne</LOC>, <CARDINAL></CARDINAL>.\n",
      "\n",
      "Invalid entry, empty tags.\n",
      "\t<PER>1oliinet</PER>, <ACT>ussi.</ACT> <LOC>q St lon.</LOC> <CARDINAL></CARDINAL>.\n",
      "\n",
      "Invalid entry, empty tags.\n",
      "\tt<PER>Clliucn</PER> <TITRE></TITRE>, <ACT>nd</ACT>.,<LOC> ta .poline</LOC>, <CARDINAL>W</CARDINAL>3.\n",
      "\n",
      "Invalid entry, empty tags.\n",
      "\t<PER>Cnllin</PER>, <ACT>hor1</ACT> <LOC>Ne St Fnstache</LOC>,f<CARDINAL></CARDINAL>.\n",
      "\n",
      "Invalid entry, empty tags.\n",
      "\t<PER>tIlin</PER>, <ACT>Drroy.</ACT> <LOC>(rlan: Nt ln.</LOC> <CARDINAL></CARDINAL>.\n",
      "\n",
      "Invalid entry, empty tags.\n",
      "\t<PER>Collinon Ii&apos;</PER>. <ACT>piauiste</ACT> <LOC>Clir</LOC>,<CARDINAL></CARDINAL>\n",
      "\n",
      "Invalid entry, empty tags.\n",
      "\t<PER>Callignon (tC.)</PER>, <ACT>peint. a.</ACT> <LOC>Cliry</LOC>, <CARDINAL></CARDINAL>.\n",
      "\n",
      "Invalid entry, empty tags.\n",
      "\t<PER>Mauppin</PER> <TITRE>l</TITRE>, <LOC>N.-D.-Vietires</LOC>. <CARDINAL></CARDINAL>.\n",
      "\n",
      "Invalid entry, empty tags.\n",
      "\t<PER>g,22 :vFisa. :g. :.EE</PER><ACT>eG: ee yyise rtes i  i eee eAles (i</ACT>), <LOC>criz 2&apos;,,Ei</LOC>.G<CARDINAL></CARDINAL>, <ACT>Pg,g</ACT>.<LOC> AE</LOC>.s<CARDINAL></CARDINAL>,4.<LOC> ssi</LOC>,<CARDINAL> s2.</CARDINAL> (ey. LAIxEs.) as\n",
      "\n",
      "Invalid entry, empty tags.\n",
      "\t<PER>g.2,</PER>,E<ACT>sesessoa ::EiiG ,?</ACT>,<LOC>i</LOC><CARDINAL></CARDINAL>\n",
      "\n",
      "Invalid entry, empty tags.\n",
      "\t<PER>Gallois</PER>, <ACT>plieur et dvidear</ACT>, <LOC>Petit- Lion</LOC>, <CARDINAL></CARDINAL>.\n",
      "\n",
      "Invalid entry, empty tags.\n",
      "\t<PER>Baronnat fr.</PER>, <LOC>Grande-Truanderie</LOC>,f<CARDINAL></CARDINAL>, et h <LOC>yon</LOC>, <LOC>Cetrale</LOC>, <CARDINAL>66</CARDINAL>.\n",
      "\n",
      "Invalid entry, empty tags.\n",
      "\t<PER>homine</PER>, <TITRE>O5.HI.180</TITRE>, <LOC>Est</LOC>, <CARDINAL></CARDINAL>.\n",
      "\n",
      "Invalid entry, empty tags.\n",
      "\t<PER>Mlles (Aee)</PER>, <ACT>outils et fourn, d&apos;horl., verres de ment. t. gal., crd., cleft et earres p. moent, verges, pi- gnens et piec. detaeh.</ACT>, <LOC>Ste-Foy</LOC>, <CARDINAL></CARDINAL>.\n",
      "\n",
      "Invalid entry, empty tags.\n",
      "\t<PER>Peluet Pises</PER>, <ACT>feerg: Gai4,., aendel., eee, ftsb. et arnit. de percel.</ACT>, <LOC>4-Fils</LOC>, <CARDINAL></CARDINAL>.\n",
      "\n",
      "Invalid entry, empty tags.\n",
      "\t<PER>Gervais</PER>, <ACT>beurre</ACT>, <LOC>Cordonnerie</LOC>, <CARDINAL></CARDINAL>.\n",
      "\n",
      "Invalid entry, empty tags.\n",
      "\t<PER>Germinet (F.)</PER> <TITRE></TITRE>, <ACT>eoatellerie</ACT>, <LOC>St Denis</LOC>, <CARDINAL>191.</CARDINAL>\n",
      "\n",
      "Invalid entry, empty tags.\n",
      "\t<PER>Germain-Petit et Duperier</PER><TITRE></TITRE>. <ACT>drap.</ACT>, <LOC>av. Montaigue</LOC>, <CARDINAL>5</CARDINAL>.\n",
      "\n",
      "Invalid entry, empty tags.\n",
      "\t<PER>Germain fils</PER>, <ACT>passementier</ACT>, <LOC>Bom bon- Villeneuve</LOC>, <CARDINAL></CARDINAL>.\n",
      "\n",
      "Invalid entry, empty tags.\n",
      "\t<PER>Geresme aln6</PER>, <ACT>breeltes et corsets</ACT>, <LOC>Mauconseil</LOC>, <CARDINAL></CARDINAL>.\n",
      "\n",
      "Invalid entry, empty tags.\n",
      "\t<PER>Gerdy</PER> <TITRE></TITRE>, <ACT>meddecin</ACT>, <LOC>Jacob</LOC>, <CARDINAL>3</CARDINAL>.\n",
      "\n",
      "Invalid entry, empty tags.\n",
      "\t<PER>Gerardin</PER> <TITRE></TITRE>, <ACT>medecin</ACT>, <LOC>S-bominique</LOC>, <CARDINAL>4T</CARDINAL>,\n",
      "\n",
      "Invalid entry, empty tags.\n",
      "\t<PER>Geardin (R.)</PER><TITRE></TITRE>, <ACT>medeein</ACT>, <LOC>pl. da Palais-Bourbon</LOC>,<CARDINAL> </CARDINAL>.\n",
      "\n",
      "Invalid entry, empty tags.\n",
      "\t<PER>Gerard et Chouquet aine</PER>, <ACT>tableteete</ACT>, <LOC>Gravilliers</LOC>, <CARDINAL></CARDINAL>.\n",
      "\n",
      "Invalid entry, empty tags.\n",
      "\t<PER>Gerard-kanc</PER>, <ACT>feblanier</ACT>, <LOC>Neuve-S-Denis</LOC>, <CARDINAL></CARDINAL>.\n",
      "\n",
      "Invalid entry, empty tags.\n",
      "\t<PER>Grard (C.)et Castigny</PER>, <ACT>fab. eheles</ACT>, <LOC>Fosss-llontm.</LOC>, <CARDINAL></CARDINAL>.\n",
      "\n",
      "Invalid entry, empty tags.\n",
      "\t<PER>Gerard (J.</PER>), <ACT>mecaa.</ACT>, <LOC>Milmontuat</LOC>,5<CARDINAL></CARDINAL>, <LOC>as limp.</LOC>, <CARDINAL></CARDINAL>.\n",
      "\n",
      "Invalid entry, empty tags.\n",
      "\t<PER>Dufour fils</PER>, <ACT>dssiat. spr totfes</ACT>, <LOC>Polete</LOC>, <CARDINAL></CARDINAL>.\n",
      "\n",
      "Invalid entry, empty tags.\n",
      "\t<PER>Dufour (Mad.)</PER>, <ACT>pe. ti.</ACT>, <LOC>ons-gnfns</LOC>, <CARDINAL></CARDINAL>.\n",
      "\n",
      "Invalid entry, empty tags.\n",
      "\t<PER>Dufour</PER>, <ACT>fleurs</ACT>, <LOC>Caire</LOC>, <CARDINAL></CARDINAL>.\n",
      "\n",
      "Invalid entry, empty tags.\n",
      "\t<PER>Dufour (oiis)</PER>, <ACT>psier deft.</ACT>, <LOC>houl. Beamarehis</LOC>,0<CARDINAL></CARDINAL>.\n",
      "\n",
      "Invalid entry, empty tags.\n",
      "\t<PER>Dufour</PER>, <ACT>mdeaicien</ACT>, <LOC>Chaume</LOC>, <CARDINAL></CARDINAL>,\n",
      "\n",
      "Invalid entry, empty tags.\n",
      "\t<PER></PER><ACT></ACT><LOC></LOC><CARDINAL></CARDINAL>\n",
      "\n",
      "Invalid entry, empty tags.\n",
      "\t<PER>Dufr</PER>, <ACT>aveeat, Coar cassatio</ACT>, <LOC>Gaillon</LOC>, <CARDINAL></CARDINAL>.\n",
      "\n",
      "Invalid entry, empty tags.\n",
      "\t<PER>Buforest</PER>, <ACT>ferblanier</ACT>, <LOC>Foss6s-St-acguee</LOC><CARDINAL></CARDINAL>\n",
      "\n",
      "Invalid entry, empty tags.\n",
      "\t<PER>Duffi6 fls </PER><TITRE></TITRE><PER> et lathies</PER>, <ACT>raffs. suere</ACT>, <LOC>Bizet</LOC>, <CARDINAL>8</CARDINAL>,\n",
      "\n",
      "Invalid entry, empty tags.\n",
      "\t<PER>Dffaut-Pouillac</PER>, <ACT>sst</ACT>. <LOC>Maotghien</LOC>, <CARDINAL></CARDINAL>.\n",
      "\n",
      "Invalid entry, empty tags.\n",
      "\t<PER>Duffaut</PER>, <ACT>seet.</ACT> <LOC>Wl. erghs</LOC>, <CARDINAL></CARDINAL>.\n",
      "\n",
      "Invalid entry, empty tags.\n",
      "\t<PER>bufeu</PER>, <ACT>ains</ACT>, <LOC>pass. S-Marie</LOC>, <CARDINAL></CARDINAL>.\n",
      "\n",
      "Invalid entry, empty tags.\n",
      "\t<PER>Dafaure</PER> <TITRE></TITRE>, <LOC>Le Peletie</LOC>, <CARDINAL>0</CARDINAL>.\n",
      "\n",
      "Invalid entry, empty tags.\n",
      "\t<PER>Dufau (F.)</PER>, <ACT>noueeutede poge mebles</ACT>, <LOC>Montorgeil</LOC>, <CARDINAL></CARDINAL>.\n",
      "\n",
      "Invalid entry, empty tags.\n",
      "\t<PER>Dufau</PER> <TITRE></TITRE>,<ACT>dieer. Intitt des j. eaglee</ACT>,<LOC>b Ivalides</LOC>,<CARDINAL>6</CARDINAL>.\n",
      "\n",
      "Invalid entry, empty tags.\n",
      "\t<PER>Dudemnaine (Mme)</PER>, <ACT>corsets</ACT>, <LOC>Montmartre</LOC>, <CARDINAL></CARDINAL>.\n",
      "\n",
      "Invalid entry, empty tags.\n",
      "\t<PER>Ducras (de Si1)</PER>, <ACT>medecin</ACT>, <LOC>Charuhini</LOC>,t<CARDINAL></CARDINAL>.\n",
      "\n",
      "Invalid entry, empty tags.\n",
      "\t<PER>Ducros</PER>, <ACT>mercier</ACT>, <LOC>St-Iouis-e-l&apos;Ile</LOC>, <CARDINAL></CARDINAL>.\n",
      "\n",
      "Invalid entry, empty tags.\n",
      "\t<PER>Dacros (le Sist)</PER>, <TITRE></TITRE>, <ACT>svecat</ACT>, <LOC>Caseette</LOC>, <CARDINAL>1</CARDINAL>.\n",
      "\n",
      "Invalid entry, empty tags.\n",
      "\t<PER>aeroquet</PER> <TITRE></TITRE>, <ACT>faet. oroaes</ACT>, <LOC>t-laur S-Germain</LOC>, <CARDINAL>1f</CARDINAL>\n",
      "\n",
      "Invalid entry, empty tags.\n",
      "\t<PER>Dacroeq</PER>, <ACT>eoinmiss.-priser</ACT>, <LOC>Grange-Batliere</LOC>, <CARDINAL></CARDINAL>.\n",
      "\n",
      "Invalid entry, empty tags.\n",
      "\t<PER>Ducrpy</PER>, <ACT>dtel des tregers</ACT>, <LOC>pass. du ameo</LOC>, <CARDINAL></CARDINAL>.\n",
      "\n",
      "Invalid entry, empty tags.\n",
      "\t<PER>Daeretet fils</PER>, <ACT>fab. onfdyrerte plesde</ACT>, <LOC>Gryillier</LOC>, <CARDINAL></CARDINAL>,\n",
      "\n",
      "Invalid entry, empty tags.\n",
      "\t<PER>Dueret et Coulon (Mlles)</PER>, <ACT>lingerie</ACT>, <LOC>Tarane</LOC>, <CARDINAL></CARDINAL>.\n",
      "\n",
      "Invalid entry, empty tags.\n",
      "\t<PER>Milori (Sylvaii)</PER>, <ACT>couleirs</ACT>, <LOC>Barre-du-Bee</LOC>, <CARDINAL></CARDINAL>.\n",
      "\n",
      "Invalid entry, empty tags.\n",
      "\t<PER>Marquis (Franceis)</PER>, <ACT>fab. de chocolat</ACT>, <LOC>Vivienne</LOC>, <CARDINAL></CARDINAL>.\n",
      "\n",
      "Invalid entry, empty tags.\n",
      "\t<PER>Maniere (Francois)</PER>, <ACT>bonnet. en gros</ACT>, <LOC>Montmorency</LOC>, <CARDINAL></CARDINAL>.\n",
      "\n",
      "Invalid entry, empty tags.\n",
      "\tI<PER>Louvrler (Pierre)</PER>, <ACT>tiiles</ACT>, <LOC>Chemin-Verl</LOC>, <CARDINAL></CARDINAL>.\n",
      "\n",
      "Invalid entry, empty tags.\n",
      "\t<PER>Loridan (Henri)</PER>, <ACT>etoffes</ACT>, <LOC>pl. des Vicloires</LOC>, <CARDINAL></CARDINAL>.\n",
      "\n",
      "Invalid entry, empty tags.\n",
      "\t<PER>Lemeire (Charles)</PER>, <ACT>fub. de 0im0eloterie</ACT>, <LOC>Chapon</LOC>, <CARDINAL></CARDINAL>.\n",
      "\n",
      "Invalid entry, empty tags.\n",
      "\t<PER>aie</PER> <ACT>iiai  iu</ACT> <LOC>sinne</LOC>.s<CARDINAL></CARDINAL>\n",
      "\n",
      "Invalid entry, empty tags.\n",
      "\t<PER>leeoteciariei</PER>. <ACT>arieici sioiiii</ACT>, <LOC>sier</LOC>,i<CARDINAL></CARDINAL>.\n",
      "\n",
      "Invalid entry, empty tags.\n",
      "\t<PER>sserre</PER>, <ACT>fb.diniiri. deniirir.</ACT>, <LOC>Ciiire-.-D.</LOC> <CARDINAL></CARDINAL>.\n",
      "\n",
      "Invalid entry, empty tags.\n",
      "\t<PER>Gauthier (Hippolyte-F,-A.)</PER>, <ACT>croyewr</ACT>, <LOC>Laette</LOC>, <CARDINAL></CARDINAL>.\n",
      "\n",
      "Invalid entry, empty tags.\n",
      "\t<PER>Gaume afne (Jean)</PER>, <ACT>tibraire-diteur</ACT>, <LOC>Cassette</LOC>, <CARDINAL></CARDINAL>.\n",
      "\n",
      "Invalid entry, empty tags.\n",
      "\t<PER>Garnier (Auguste)</PER>, <ACT>mdtau</ACT>, <LOC>St-Pierre-Popincourt</LOC>, <CARDINAL></CARDINAL>.\n",
      "\n",
      "Invalid entry, empty tags.\n",
      "\t<PER>yg</PER><ACT>egr</ACT>,e<LOC>g</LOC> <LOC>ee-osae</LOC>.3<CARDINAL></CARDINAL>\n",
      "\n",
      "Invalid entry, empty tags.\n",
      "\t<PER>MIabille soeurs</PER>, <ACT>fab. jeu, dominos, lotos, rcversis, da- miers, echecs, trictracs, osselets, ffches, jetons, des ad jouer, jeua de paticncc, jeua historiques, boites de jeax, jeux instructifs e cartonage, tabatieres en buis, brossces a dcents, chusse-pieds, dvidoirs</ACT>, <LOC>r. Jean-Ro- bert</LOC>, <CARDINAL></CARDINAL>.\n",
      "\n",
      "Invalid entry, empty tags.\n",
      "\t<PER>n.... e  a</PER>, <ACT>.- geee</ACT>ee <LOC>eiiniiniii,.iir-ce</LOC><CARDINAL></CARDINAL>\n",
      "\n",
      "Invalid entry, empty tags.\n",
      "\t<PER>aine (Joachim) et co</PER>, <ACT>foulards et pellcteries</ACT>, <LOC>r. Cliry</LOC>,<CARDINAL></CARDINAL>\n",
      "\n",
      "Invalid entry, empty tags.\n",
      "\t<PER>Guillot Ruze et Sieber</PER>, <ACT>f. a Gaillon tissus de soie et pe- luclhe pour clpellece, nouvettes, tapis et cottvertu- cs de soic, commeission pour la province et I&apos;etralgetr</ACT>,<LOC> r. du tGranl Chanticr</LOC>, <CARDINAL></CARDINAL>.\n",
      "\n",
      "Invalid entry, empty tags.\n",
      "\t<PER>Yignol</PER> <TITRE></TITRE>, <ACT>hatel garui</ACT>, <LOC>place Cambray</LOC>,<CARDINAL>2</CARDINAL>.\n",
      "\n",
      "Invalid entry, empty tags.\n",
      "\t<PER>Vigneaux</PER>, <ACT>vins</ACT>, <LOC>Fg-St-Denis</LOC>, <CARDINAL></CARDINAL>.\n",
      "\n",
      "Invalid entry, empty tags.\n",
      "\t<PER>Vigier (C2 Achille)</PER> <TITRE></TITRE>, <ACT>depute</ACT>, <LOC>q. Voltaire</LOC>, <CARDINAL>1</CARDINAL>.\n",
      "\n",
      "Invalid entry, empty tags.\n",
      "\t<PER>idal</PER> <TITRE></TITRE>, <LOC>Stc-Aune</LOC>, <CARDINAL>18</CARDINAL>.\n",
      "\n",
      "Invalid entry, empty tags.\n",
      "\t<PER>Lacazo (Alfred de)</PER>, <ACT>h. de leres</ACT>, <LOC>Verdelet</LOC>, <CARDINAL></CARDINAL>.\n",
      "\n",
      "Invalid entry, empty tags.\n",
      "\t<PER>Lacornee</PER>, <ACT>architecte</ACT>, <LOC>St-Romain</LOC>, <CARDINAL></CARDINAL>.\n",
      "\n",
      "Invalid entry, empty tags.\n",
      "\t<PER>Lacorne</PER>, <ACT>boucher</ACT>, <LOC>marche St-Honore</LOC>,<CARDINAL></CARDINAL>\n",
      "\n",
      "Invalid entry, empty tags.\n",
      "\t<PER>Lachaise</PER> <TITRE></TITRE>, <ACT>archit.</ACT>, <LOC>Poissonnire</LOC>, <CARDINAL>57</CARDINAL>.\n",
      "\n",
      "Invalid entry, empty tags.\n",
      "\t<PER>bacaaze</PER>, <ACT>fact. a Ia allee</ACT>, <LOC>Pont-de-Lodi</LOC>,<CARDINAL></CARDINAL>\n",
      "\n",
      "Invalid entry, empty tags.\n",
      "\t<PER>Lacize (H&quot;)</PER> <TITRE></TITRE>, <LOC>Ne-des-Mathurius</LOC>, <CARDINAL>58</CARDINAL>.\n",
      "\n",
      "Invalid entry, empty tags.\n",
      "\t<PER>Lacasse</PER>, <ACT>charpentie</ACT>, <LOC>allee des Veuves</LOC>, <CARDINAL></CARDINAL>.\n",
      "\n",
      "Invalid entry, empty tags.\n",
      "\t<PER>Laearriere</PER> <TITRE></TITRE> ,<ACT> fonderies, bronzes et appareils pour le gac</ACT>, <LOC>N--S1-Laurent</LOC>,<CARDINAL>6</CARDINAL>.\n",
      "\n",
      "Invalid entry, empty tags.\n",
      "\t<PER>Labrunio</PER> <TITRE></TITRE>, <ACT>medecin</ACT>, <LOC>St-Marin</LOC>, <CARDINAL>72</CARDINAL>.\n",
      "\n",
      "Invalid entry, empty tags.\n",
      "\t<PER>Labrousse</PER> et <PER>F. Dollfus</PER>, <ACT>toiles peiutes, commission, nou- veatsteds</ACT>, <LOC>Jeneurs</LOC>, <CARDINAL></CARDINAL>.\n",
      "\n",
      "Invalid entry, empty tags.\n",
      "\t<PER>Labrifle (C&quot;e de)</PER> <TITRE></TITRE>, <ACT>pair</ACT>, <LOC>SS.-eres</LOC>, <CARDINAL>38</CARDINAL>.\n",
      "\n",
      "Invalid entry, empty tags.\n",
      "\t<PER>belatour</PER> <TITRE></TITRE>, <ACT>predcepteur du duc de Montpensier</ACT>, <LOC>aux Tuileries</LOC>.\n",
      "\n",
      "Invalid entry, empty tags.\n",
      "\t<PER>De la Tena</PER> <TITRE></TITRE>, <ACT>refesend. cour des comptes</ACT>, <LOC>Ferme-des- Mathurins</LOC>, <CARDINAL>21</CARDINAL>.\n",
      "\n",
      "Invalid entry, empty tags.\n",
      "\t<PER>Delasalle</PER> <TITRE></TITRE>, <ACT>greff. cour comptes</ACT>, <LOC>St-Dominique</LOC>, <CARDINAL>83</CARDINAL>.\n",
      "\n",
      "Invalid entry, empty tags.\n",
      "\t<PER>elasalle et Chaulin</PER>, <ACT>parfumeurs</ACT>, <LOC>Bourg-l&apos;Abbe</LOC>, <CARDINAL></CARDINAL>.\n",
      "\n",
      "Invalid entry, empty tags.\n",
      "\t<PER>Delaruelle</PER> <TITRE></TITRE>, <ACT>medecin</ACT>, <LOC>Fosses-St-Germ.-l&apos;Aux.</LOC>, <CARDINAL>08</CARDINAL>.\n",
      "\n",
      "Invalid entry, empty tags.\n",
      "\tb<PER>Delarue</PER>, <ACT>pdte d&apos;amandes</ACT>, <LOC>Blancs-Manteaux</LOC>, <CARDINAL></CARDINAL>.\n",
      "\n",
      "Invalid entry, empty tags.\n",
      "\t<PER>Delarue (Charles)</PER> <TITRE></TITRE>, <ACT>caepit.</ACT>, <LOC>Blanche</LOC>, <CARDINAL>6</CARDINAL>.\n",
      "\n",
      "Invalid entry, empty tags.\n",
      "\t<PER>Delaroque</PER> <TITRE></TITRE>, <ACT>medecin</ACT>, <LOC>Cite-Eergere</LOC>, <CARDINAL>6</CARDINAL>.\n",
      "\n",
      "Invalid entry, empty tags.\n",
      "\t<PER>Delaroche</PER> <TITRE></TITRE>, <ACT>medecin</ACT>, <LOC>St-Honore</LOC>, <CARDINAL>285</CARDINAL>.\n",
      "\n",
      "Invalid entry, empty tags.\n",
      "\t<PER>Delaroche</PER> <TITRE></TITRE>, <ACT>sous-dir. du Mfont-de-Piete</ACT>, <LOC>Pet.-Augustins</LOC>,<CARDINAL> 20</CARDINAL>.\n",
      "\n",
      "Invalid entry, empty tags.\n",
      "\t<PER>Delangle</PER> <TITRE></TITRE>, <ACT>avocat</ACT>, <LOC>Choiseul</LOC>, <CARDINAL>2 bis</CARDINAL>.\n",
      "\n",
      "Invalid entry, empty tags.\n",
      "\t<PER>Cave</PER> <TITRE></TITRE>, <ACT>mecanicien</ACT>, <LOC>Fg-St-Denis</LOC>, <CARDINAL>14</CARDINAL> et <CARDINAL>18</CARDINAL>.\n",
      "\n",
      "Invalid entry, empty tags.\n",
      "\t<PER>Cave</PER> <TITRE></TITRE>, <ACT>chef de div. au ministere d commerce</ACT> , <LOC>atu ministere</LOC>.\n",
      "\n",
      "Invalid entry, empty tags.\n",
      "\t<PER>Cauvin</PER>, <ACT>distillatear</ACT>, <LOC>Ste-Anne</LOC>, <CARDINAL>3</CARDINAL>, ou <LOC>Eveue</LOC>, <CARDINAL></CARDINAL>.\n",
      "\n",
      "Invalid entry, empty tags.\n",
      "\t<PER>Cauvet</PER> <TITRE></TITRE>, <ACT>courtier</ACT>, <LOC>Bleue</LOC>, <CARDINAL>5</CARDINAL>.\n",
      "\n",
      "Invalid entry, empty tags.\n",
      "\t<PER>Caumont (C&apos;e de)</PER> <TITRE></TITRE>, <LOC>Bourgogne</LOC>, <CARDINAL>38</CARDINAL>.\n",
      "\n",
      "Invalid entry, empty tags.\n",
      "\t<PER>Cauchy</PER> <TITRE></TITRE>, <ACT>de l&apos;Institut</ACT>. <LOC>Serpente</LOC>, <CARDINAL>7</CARDINAL>.\n",
      "\n",
      "Invalid entry, empty tags.\n",
      "\t<PER>Cauchy fils</PER> <TITRE></TITRE>, <ACT>cons. Cour roy.</ACT>, <LOC>T urnon</LOC>. <CARDINAL>12</CARDINAL>.\n",
      "\n",
      "Invalid entry, empty tags.\n",
      "\t<PER>Cauchoix</PER> <TITRE></TITRE>, <ACT>optic.</ACT>, <LOC>Bac</LOC>e, <CARDINAL>1</CARDINAL>.\n",
      "\n",
      "Invalid entry, empty tags.\n",
      "\t<PER>Cauchetier</PER>, <ACT>prod. chim.</ACT>, <LOC>St-Bon</LOC>, <CARDINAL></CARDINAL>.\n",
      "\n",
      "Invalid entry, empty tags.\n",
      "\t<PER>Caubert Silvain</PER> <TITRE></TITRE>. <ACT>prop.</ACT>, <LOC>Meslay</LOC>, <CARDINAL>16</CARDINAL>.\n",
      "\n",
      "Invalid entry, empty tags.\n",
      "\t<PER>Castries (Mi de) C.</PER> <TITRE></TITRE>, <ACT>mar. de camp</ACT>, <LOC>Varennes</LOC>, <CARDINAL>22</CARDINAL>.\n",
      "\n",
      "Invalid entry, empty tags.\n",
      "\t<PER>DeConinck, Jofy et ce.</PER>, <ACT>ang.ee narch.</ACT>,<LOC>r.Martel</LOC>,o<CARDINAL></CARDINAL>.\n",
      "\n",
      "Invalid entry, empty tags.\n",
      "\t<PER>Davillier aine</PER> <TITRE></TITRE>, <LOC>boul. Poissonniere</LOC>, <CARDINAL>5</CARDINAL>.\n",
      "\n",
      "Invalid entry, empty tags.\n",
      "\t<PER>Duavid aine ct Letrange</PER>, <ACT>anue , manuf. &apos; de plom amine a S.-Denis</ACT>, <LOC>r. Chapon</LOC>,a<CARDINAL></CARDINAL>.\n",
      "\n",
      "Invalid entry, empty tags.\n",
      "\t<PER>David (J.-L.)</PER> <TITRE></TITRE>, <LOC>Fg-S.-Martin</LOC>,a<CARDINAL></CARDINAL>.\n",
      "\n",
      "Invalid entry, empty tags.\n",
      "\t<PER>Damoiseau (J. L.)</PER>, <LOC>r. du Bac</LOC>,<CARDINAL></CARDINAL>.\n",
      "\n",
      "Invalid entry, empty tags.\n",
      "\t<PER>Damiron (J.-A.)</PER>, <ACT>commiss. entreposst., ss, easx-de- aie, vigre</ACT>, <LOC>port de la Ripee</LOC>, <CARDINAL></CARDINAL> eta<CARDINAL></CARDINAL>, ext. mtos.\n",
      "\n",
      "Invalid entry, empty tags.\n",
      "\t<PER>PP2esee</PER>. <ACT>eee sio, e Dash</ACT><LOC>rg ea e-</LOC><CARDINAL></CARDINAL>\n",
      "\n",
      "Invalid entry, empty tags.\n",
      "\t<PER>Colson</PER> <TITRE></TITRE>, <ACT>vinus</ACT>, <LOC>r. Montmartre</LOC>, <CARDINAL>3o</CARDINAL>.\n",
      "\n",
      "Invalid entry, empty tags.\n",
      "\t<PER>Cocheteau (F.-C.)</PER>, <ACT>muitiounaire de la maison milit. du oi,fourrages</ACT>, <LOC>r. dlu Perche</LOC>, <CARDINAL></CARDINAL>.\n",
      "\n",
      "Invalid entry, empty tags.\n",
      "\t<PER>Cuatetet</PER>, <ACT>en dra.</ACT>, <LOC>r, La Vrillire</LOC>, <CARDINAL></CARDINAL>, en facela Banque.\n",
      "\n",
      "Invalid entry, empty tags.\n",
      "\t<PER>Chanal</PER> <TITRE></TITRE>, <ACT>etre. gen. du service des Invalides</ACT>, <LOC>boul. des Invalidcs</LOC>, <CARDINAL></CARDINAL>.\n",
      "\n",
      "Invalid entry, empty tags.\n",
      "\t<PER>cvatie nert (II)</PER> <TITRE></TITRE>, <LOC>petite r. .-osh</LOC>,.<CARDINAL>3</CARDINAL>.\n",
      "\n",
      "Invalid entry, empty tags.\n",
      "\t<PER>Mazicr (Mad.)</PER>, <LOC>boul. S.-Martin</LOC>a<CARDINAL></CARDINAL>.\n",
      "\n",
      "Invalid entry, empty tags.\n",
      "\t<PER>(ad.)</PER><LOC>PA-n., el. 4eeeas</LOC><CARDINAL></CARDINAL>\n",
      "\n",
      "Invalid entry, empty tags.\n",
      "\t<PER>Mouton</PER> , <ACT>toute a igeri4t, nom- eass, fa reeries de Psr, - </ACT>  eos.<LOC>r Ctery</LOC>,a<CARDINAL></CARDINAL>.\n",
      "\n",
      "Invalid entry, empty tags.\n",
      "\t<PER>Noulussen-Menage (Mad.) ee M2 Cauville, sasoosss. de ee Mi- ntae ezsr re</PER><ACT>, oonneterie, ser- cerie , oeaute , tosidss, den- tees, taldese, gnts, bresells, g</ACT> g  eewie,<LOC>r- Greneta</LOC>, <CARDINAL></CARDINAL>.\n",
      "\n",
      "Invalid entry, empty tags.\n",
      "\t<PER>Mirguet</PER>, <LOC>r. S.-Denis</LOC>,(<CARDINAL></CARDINAL>.\n",
      "\n",
      "Invalid entry, empty tags.\n",
      "\t<PER>Mioche (Mad.)</PER>, <LOC>e. S.-Hon6</LOC>, <CARDINAL></CARDINAL>.\n",
      "\n",
      "Invalid entry, empty tags.\n",
      "\t<PER>Mihela (M&quot;)</PER>, <LOC>bol. S.-Denis</LOC>,<CARDINAL></CARDINAL>\n",
      "\n",
      "Invalid entry, empty tags.\n",
      "\t<PER>Mngelschot (Mud.</PER>), <LOC>r. S.-Paul</LOC>,a<CARDINAL></CARDINAL>.\n",
      "\n",
      "Invalid entry, empty tags.\n",
      "\t<PER>Louis (MPe)</PER>, <LOC>r. du Peuit-Bourb.</LOC>, <CARDINAL></CARDINAL>.\n",
      "\n",
      "Invalid entry, empty tags.\n",
      "\t<PER>Letailleur,M&apos;e)</PER>, <LOC>r. Montmartre</LOC>s<CARDINAL></CARDINAL>\n",
      "\n",
      "Invalid entry, empty tags.\n",
      "\t<PER>Lengelle (Miad.)</PER>, <LOC>r. Moyale6.-Ms tin</LOC>,o<CARDINAL></CARDINAL>.\n",
      "\n",
      "Invalid entry, empty tags.\n",
      "\t<PER>Lcgrand (Ml-)</PER>, <LOC>r. S.-Lasre</LOC>, <CARDINAL></CARDINAL>.\n",
      "\n",
      "Invalid entry, empty tags.\n",
      "\t<PER>Lebcuf (Mle)</PER>, <ACT>de l Cour</ACT>, <LOC>r. N-- ds-Pet.-Chmps</LOC>,<CARDINAL></CARDINAL>.\n",
      "\n",
      "Invalid entry, empty tags.\n",
      "\t<PER>ie (i&apos;) et eo.</PER>, <LOC>r. aaNar- che-Neuf</LOC>,a<CARDINAL></CARDINAL>.\n",
      "\n",
      "Invalid entry, empty tags.\n",
      "\t<PER>leanlisse</PER>, <LOC>rHyale-S.-Martin</LOC>,<CARDINAL></CARDINAL>.\n",
      "\n",
      "Invalid entry, empty tags.\n",
      "\t<PER>Hcrmcl (Maid.)</PER>, <LOC>r. Mazarine</LOC>, <CARDINAL></CARDINAL>.\n",
      "\n",
      "Invalid entry, empty tags.\n",
      "\t<PER>lIennetuin (Muad.)</PER>, <LOC>r. N&apos;-des-Pet.- Chamns</LOC>, <CARDINAL></CARDINAL>.\n",
      "\n",
      "Invalid entry, empty tags.\n",
      "\t<PER>Havet (Mal.)</PER>, <LOC>r. lu Pourtour-S.- Gervais</LOC>,. <CARDINAL></CARDINAL>.\n",
      "\n",
      "Invalid entry, empty tags.\n",
      "\t<PER>Greoir</PER>, succ. de Jeuch-Caille, <LOC>r. Wivienne</LOC>, <CARDINAL></CARDINAL>.\n",
      "\n",
      "Invalid entry, empty tags.\n",
      "\t<PER>Fontnine-Provent (Mad.)</PER>, <LOC>r. . Maglire</LOC>,i<CARDINAL></CARDINAL>.\n",
      "\n",
      "Invalid entry, empty tags.\n",
      "\t<PER>lulail (Mil)</PER>, <LOC>r. de l Fcon- nerie</LOC>, <CARDINAL></CARDINAL>.\n",
      "\n",
      "Invalid entry, empty tags.\n",
      "\t<PER>Durand-Savary (Mad.)</PER>, <LOC>r.Vivienne</LOC>,<CARDINAL></CARDINAL>\n",
      "\n",
      "Invalid entry, empty tags.\n",
      "\t<PER>Diiei(MiP)</PER>, <LOC>. dis Fosses-.-G.- des-Prs</LOC>. <CARDINAL></CARDINAL>.\n",
      "\n",
      "Invalid entry, empty tags.\n",
      "\t<PER>Delarochc-HRousseau (Mad.)</PER> , <LOC>r. S.- Florentin</LOC>, <CARDINAL></CARDINAL>.\n",
      "\n",
      "Invalid entry, empty tags.\n",
      "\t<PER>Daumer (Mad.)</PER> , <LOC>r. Bussy</LOC>, <CARDINAL></CARDINAL>.\n",
      "\n",
      "Invalid entry, empty tags.\n",
      "\t<PER>Dainciart (Mal.), nee Fremineau</PER>,<LOC> boul. Montmartre</LOC>, <CARDINAL></CARDINAL>.\n",
      "\n",
      "Invalid entry, empty tags.\n",
      "\t<PER>Detourbet- (MIad.)</PER>, <ACT>joucts &apos;enfns</ACT> . <LOC>pass. de l&apos;Opra, gleri de l&apos;llorloge</LOC>, <CARDINAL></CARDINAL>.\n",
      "\n",
      "Invalid entry, empty tags.\n",
      "\t<PER>Deaux</PER>, <ACT>eucher</ACT>, <LOC>meche anx Poirei</LOC>, <CARDINAL></CARDINAL>.\n",
      "\n",
      "Invalid entry, empty tags.\n",
      "\t<PER>Dewaurcix</PER>, <ACT>avoue</ACT>, <LOC>Chabaunais</LOC>, <CARDINAL></CARDINAL>.\n",
      "\n",
      "Invalid entry, empty tags.\n",
      "\t<PER>Devanlay</PER>, <ACT>ml. de meutes</ACT>, <LOC>Clery</LOC>,<CARDINAL></CARDINAL>\n",
      "\n",
      "Invalid entry, empty tags.\n",
      "\t<PER>Devambezi et Jossier</PER>, <ACT>f boutons et  eonssiss.</ACT> , <LOC>Denx- Portes-S.-Sauveur</LOC>, <CARDINAL></CARDINAL>.\n",
      "\n",
      "Invalid entry, empty tags.\n",
      "\t<PER>Devalois</PER>, <ACT>f talatiees</ACT>, <LOC>Tracy</LOC>,-<CARDINAL></CARDINAL>\n",
      "\n",
      "Invalid entry, empty tags.\n",
      "\t<PER>Devaines (Mad.)</PER>, <LOC>S.-FIorentin</LOC>, <CARDINAL></CARDINAL>.\n",
      "\n",
      "Invalid entry, empty tags.\n",
      "\t<PER>Deurbroucg O</PER><TITRE>. </TITRE>, <LOC>Gaillon</LOC>, <CARDINAL></CARDINAL>.\n",
      "\n",
      "Invalid entry, empty tags.\n",
      "\t<PER>Detourbet freres</PER>, <ACT>caron de terr</ACT>, <LOC>Lions-S.-Paul</LOC>, <CARDINAL></CARDINAL>.\n",
      "\n",
      "Invalid entry, empty tags.\n",
      "\t<PER>D&apos;Etehegoyen (.)</PER> <TITRE></TITRE>, ibidem.\n",
      "\n",
      "Invalid entry, empty tags.\n",
      "\t<PER>D&apos;Etchgoyen (B J.-L.-B.)</PER> <TITRE></TITRE>, <ACT>4uang. et flar. de seis</ACT>,<LOC> . Ne-Capucines</LOC>, <CARDINAL>1a</CARDINAL>.\n",
      "\n",
      "Invalid entry, empty tags.\n",
      "\t<PER>Detape (Arriand)</PER>, <ACT>petier</ACT>, <LOC>Svres</LOC>, <CARDINAL></CARDINAL>.\n",
      "\n",
      "Invalid entry, empty tags.\n",
      "\t<PER>Detins</PER> <TITRE> </TITRE>, <ACT>secrit.-gn. domaines</ACT>,<LOC>Harpe</LOC>, <CARDINAL>8y</CARDINAL>.\n",
      "\n",
      "Invalid entry, empty tags.\n",
      "\t<PER>esutt deTacy (C&apos;)</PER><TITRE>C. </TITRE>.<TITRE>air</TITRE>, <LOC>Aiois-Hon,</LOC>6<CARDINAL></CARDINAL>.\n",
      "\n",
      "Invalid entry, empty tags.\n",
      "\t<PER>estrais</PER>,<ACT>direct. mauf gaces</ACT>, <LOC>Gr.-Ieuilly</LOC>,a<CARDINAL></CARDINAL>.\n",
      "\n",
      "Invalid entry, empty tags.\n",
      "\t<PER>Dssirier (Mad.</PER>), <ACT>rocheuse</ACT>, <LOC>Percee</LOC>,t<CARDINAL></CARDINAL>.\n",
      "\n",
      "Invalid entry, empty tags.\n",
      "\t<PER>essin (Ecotes yrates gtuites dc)</PER>, <LOC>Ecola-dc-Mede-  in</LOC>, <CARDINAL>5</CARDINAL>, et <LOC>Touriiine-S.-Gcrruain</LOC>; <CARDINAL></CARDINAL>.\n",
      "\n",
      "Invalid entry, empty tags.\n",
      "\t<PER>D-sscin</PER>, <ACT>limoualier</ACT>, <LOC>Vieille-emple</LOC>,o<CARDINAL></CARDINAL>.\n",
      "\n",
      "Invalid entry, empty tags.\n",
      "\t<PER>esse</PER>, <ACT>heroriste</ACT>, <LOC>Beairegard</LOC>, <CARDINAL></CARDINAL>.\n",
      "\n",
      "Invalid entry, empty tags.\n",
      "\t<PER>sruelles</PER>, <ACT>ndecin</ACT>, <LOC>N-Bons-Enfans</LOC>, <CARDINAL></CARDINAL>.\n",
      "\n",
      "Invalid entry, empty tags.\n",
      "\t<PER>sroys(C&apos;)</PER>, <LOC>Bleue</LOC>, <CARDINAL></CARDINAL>.\n",
      "\n",
      "Invalid entry, empty tags.\n",
      "\t<PER>etewurs ()</PER>k<TITRE> </TITRE>, <ACT>adiii. Gouns</ACT>, <LOC>Meut- tard</LOC>, <CARDINAL>ao.</CARDINAL>.\n",
      "\n",
      "Invalid entry, empty tags.\n",
      "\t<PER>esrochei</PER>. <ACT>iaer</ACT>, <LOC>Montmoreney</LOC>s. <CARDINAL></CARDINAL>.\n",
      "\n",
      "Invalid entry, empty tags.\n",
      "\t<PER>Brbancois ( Mie e)</PER> <TITRE></TITRE>, <ACT>crp. &apos;e-major</ACT>, <LOC>Perle</LOC>,1<CARDINAL></CARDINAL>\n",
      "\n",
      "Invalid entry, empty tags.\n",
      "\t<PER>Barba (G.-N. ) pere</PER>, <ACT>iit., pour</ACT><LOC>t. ThdAt.-Frang-</LOC>.<CARDINAL></CARDINAL>\n",
      "\n",
      "Invalid entry, empty tags.\n",
      "\t<PER>Balleroy (Ce de)</PER> <TITRE></TITRE>, <LOC>Fg.-S.-Honore</LOC>, <CARDINAL>-</CARDINAL>\n",
      "\n",
      "Invalid entry, empty tags.\n",
      "\t<PER>Balin (ehe.)</PER><TITRE></TITRE>, <ACT>chirurg.-hr.</ACT>, <LOC>pl. H0t.-do-Ville</LOC>,-<CARDINAL></CARDINAL>\n",
      "\n",
      "Invalid entry, empty tags.\n",
      "\t<PER>Baraton</PER>, <ACT>grav. sur metau:</ACT>, <LOC>Meslay</LOC>, <CARDINAL></CARDINAL>.\n",
      "\n",
      "Invalid entry, empty tags.\n",
      "\t<PER>Brante (A. de)</PER> <TITRE></TITRE>, <ACT>iusp dom. du ai</ACT>, <LOC>Arcade</LOC>, <CARDINAL>a3</CARDINAL>.\n",
      "\n",
      "Invalid entry, empty tags.\n",
      "\tk<PER>Buaral</PER>, <ACT>taiteur</ACT>, <LOC>boul. S.-Antoine</LOC>, <CARDINAL></CARDINAL>.\n",
      "\n",
      "Invalid entry, empty tags.\n",
      "\t<PER>Bara ireres</PER>, <ACT>mecaricies</ACT>, <LOC>Charenton</LOC>, <CARDINAL></CARDINAL>.\n",
      "\n",
      "Invalid entry, empty tags.\n",
      "\tR<PER>Bupst-Meni:re</PER>, <TITRE></TITRE>, <ACT>neg. joaillier</ACT>, <LOC>q. de IEcole</LOC>, <CARDINAL>3(</CARDINAL>\n",
      "\n",
      "Invalid entry, empty tags.\n",
      "\t<PER>Baour-Lormiuan</PER> <TITRE></TITRE>, <ACT>de cadem. frang.</ACT>, <LOC>Pigalle</LOC>, <CARDINAL>8</CARDINAL>.\n",
      "\n",
      "Invalid entry, empty tags.\n",
      "\t<PER>bBaucelin tils</PER>, <ACT>restaurateur</ACT>, <LOC>avenue de Neuilly</LOC>,&apos;<CARDINAL></CARDINAL>\n",
      "\n",
      "Invalid entry, empty tags.\n",
      "\t<PER>Bal . ac</PER>, <LOC>Berry-Marais</LOC>, <CARDINAL></CARDINAL>.\n",
      "\n",
      "Invalid entry, empty tags.\n",
      "\t<PER>Balauac (B de)</PER> <TITRE></TITRE>, <ACT>pefet</ACT>, <LOC>Planche</LOC>, <CARDINAL>o</CARDINAL>.\n",
      "\n",
      "Invalid entry, empty tags.\n",
      "\t<PER>bla</PER> <TITRE></TITRE>, <ACT>tieenant</ACT>, <LOC>barrilre de lEtoite</LOC>.\n",
      "\n",
      "Invalid entry, empty tags.\n",
      "\t<PER>Blthuard</PER> <ACT>of&apos; de suie</ACT>, <LOC>Vioeille-Boulerie</LOC>, <CARDINAL></CARDINAL>.\n",
      "\n",
      "Invalid entry, empty tags.\n",
      "\t<PER>erd dAreys (B&apos;)</PER> <TITRE> c. </TITRE>, <ACT>ar,  c,</ACT> <LOC>at site</LOC>, <CARDINAL></CARDINAL>.\n",
      "\n",
      "Invalid entry, empty tags.\n",
      "\t<PER>Balon</PER>, <ACT>nedg.</ACT>. <LOC>Meslay</LOC>,a<CARDINAL></CARDINAL>.\n",
      "\n",
      "Invalid entry, empty tags.\n",
      "\t<PER>slly</PER> <TITRE></TITRE>, <ACT>sdeeia</ACT>, <LOC>pl. dE la bBourse</LOC> <CARDINAL>a</CARDINAL>-\n",
      "\n",
      "Invalid entry, empty tags.\n",
      "\t<PER>Balley (Mad. de)</PER>, <LOC>S.-Florentin</LOC>,a<CARDINAL></CARDINAL>.\n",
      "\n",
      "Invalid entry, empty tags.\n",
      "\t<PER>Baliat Irere</PER>, <ACT>ig.</ACT>, <LOC>Nosrdonnais</LOC>. <CARDINAL>5</CARDINAL> ety<CARDINAL></CARDINAL>.\n",
      "\n",
      "Invalid entry, empty tags.\n",
      "\t<PER>Baaage piblic</PER> , <LOC>oyale-S.-Martin</LOC> , <CARDINAL>3a</CARDINAL>, et <LOC>Mail</LOC>, <CARDINAL></CARDINAL>.\n",
      "\n",
      "Invalid entry, empty tags.\n",
      "\tH<PER>Bajard Amdee)</PER>, <LOC>allee Marbeuf</LOC>, <CARDINAL></CARDINAL>.\n",
      "\n",
      "Invalid entry, empty tags.\n",
      "\t<PER>Buissey</PER><TITRE></TITRE>,<ACT>issp- geis. enrsgistr.</ACT>, <LOC>Godot-de-Mauroy</LOC>,<CARDINAL>a(</CARDINAL>.\n",
      "\n",
      "Invalid entry, empty tags.\n",
      "\t<PER>esn,</PER> . t . nt, <LOC>r, Sothogne</LOC>.-<CARDINAL></CARDINAL>\n",
      "\n",
      "Invalid entry, empty tags.\n",
      "\t<PER>ally ls</PER>, <LOC>r. CHeler</LOC>,<CARDINAL></CARDINAL>\n",
      "\n",
      "Invalid entry, empty tags.\n",
      "\t<PER>Baier WaIheane</PER>- <LOC>, d.ess</LOC>.<CARDINAL></CARDINAL>\n",
      "\n",
      "Invalid entry, empty tags.\n",
      "\t<PER>ri</PER>, f<LOC>pkeewes Rlise</LOC>,<CARDINAL></CARDINAL>\n",
      "\n",
      "Invalid entry, empty tags.\n",
      "\t<PER>llsy</PER> ,<LOC>, ro-dasns-CGhamt.</LOC>.g<CARDINAL></CARDINAL>\n",
      "\n",
      "Invalid entry, empty tags.\n",
      "\t<PER>Blas</PER>,i<ACT>e-</ACT>, <LOC>r. Ba</LOC>.a<CARDINAL></CARDINAL>.\n",
      "\n",
      "Invalid entry, empty tags.\n",
      "\t<PER>Anisx</PER>, <PER>H.</PER>, <LOC>r. Sabe</LOC>,<CARDINAL></CARDINAL>\n",
      "\n",
      "Invalid entry, empty tags.\n",
      "\t<PER>gki</PER>, <LOC>s- a ah.-S.-onore</LOC>,g<CARDINAL></CARDINAL>\n",
      "\n",
      "Invalid entry, empty tags.\n",
      "\t<PER>ien teMssille</PER><LOC>g,. hron</LOC>,.<CARDINAL></CARDINAL>.\n",
      "\n",
      "Invalid entry, empty tags.\n",
      "\t<PER>hdam</PER>,,<PER>A</PER>., <LOC>r,u -S -Ie</LOC>, <CARDINAL></CARDINAL>.\n",
      "\n",
      "Invalid entry, empty tags.\n",
      "\t<PER>PhiIippine</PER>, <LOC>r. -</LOC><CARDINAL></CARDINAL>\n",
      "\n",
      "Invalid entry, empty tags.\n",
      "\t<PER>eGiee</PER> <ACT>,. d&apos;Aia</ACT><LOC>s.i6r</LOC>.-<CARDINAL></CARDINAL>\n",
      "\n",
      "Invalid entry, empty tags.\n",
      "\t<PER>ieea</PER> <ACT>ab.-6.-Hoor</ACT> <CARDINAL></CARDINAL>. <LOC>oes Aes 4Goees</LOC>.\n",
      "\n",
      "Invalid entry, empty tags.\n",
      "\t<PER>Mlss</PER>, <ACT>d selin&apos; epert prks e sriunat re coemeee</ACT>, <LOC>s Boshn</LOC>i <CARDINAL></CARDINAL>.\n",
      "\n",
      "Invalid entry, empty tags.\n",
      "\t<PER>lLesuear</PER> , <ACT>fb., et mreh.</ACT>, <LOC>e. Gramtot</LOC>,<CARDINAL></CARDINAL>\n",
      "\n",
      "Invalid entry, empty tags.\n",
      "\t<PER>Istermelier(Ale.</PER>), <ACT>arah: </ACT><LOC>r, S.-Denis</LOC>,<CARDINAL></CARDINAL>\n",
      "\n",
      "Invalid entry, empty tags.\n",
      "\t<PER>ag-nsn-</PER>, <ACT>s.</ACT> <LOC>a CIte-9.-Iaeee- 1H0pital</LOC>.a<CARDINAL></CARDINAL>.\n",
      "\n",
      "Invalid entry, empty tags.\n",
      "\t<PER>lLeorne(d,M</PER>, <ACT>sreh.</ACT>, <LOC>t,. Simla- Kanc</LOC>,<CARDINAL></CARDINAL>\n",
      "\n",
      "Invalid entry, empty tags.\n",
      "\t<PER>Leceas(.-b-), </PER><LOC>r. Mnas</LOC>, <CARDINAL></CARDINAL> <LOC>s </LOC>, pses celle Moaarce , p6das frigies da Csen, fke et Hoiler.\n",
      "\n",
      "Invalid entry, empty tags.\n",
      "\t<PER>Diie(-</PER>),<ACT>are.  triea  r-. . n</ACT> <LOC>r. S.-Gilkis</LOC>,<CARDINAL></CARDINAL>\n",
      "\n",
      "Invalid entry, empty tags.\n",
      "\t<PER>Dos, elenp se,</PER> <ACT>neh,</ACT> <LOC>s, -</LOC>.<CARDINAL></CARDINAL>\n",
      "\n",
      "Invalid entry, empty tags.\n",
      "\t<PER>Dli isre (ly.</PER>, <ACT>f.</ACT>, <LOC>r. Quinsam- poix</LOC>-<CARDINAL></CARDINAL>\n",
      "\n",
      "Invalid entry, empty tags.\n",
      "\t<PER>Clashl h</PER>),<ACT>fe- pin dae.</ACT> dset see M. J, ., Lioiiaer, <LOC>r Boulal</LOC>,<CARDINAL></CARDINAL>.\n",
      "\n",
      "Invalid entry, empty tags.\n",
      "\th<PER>Ailam</PER>a, <ACT>eareh.</ACT>  <LOC>place des VIetaires</LOC>, <CARDINAL></CARDINAL>.\n",
      "\n",
      "Invalid entry, empty tags.\n",
      "\tW<PER>Vl</PER>, <LOC>plaee du iouvre</LOC>, <CARDINAL></CARDINAL>.\n",
      "\n",
      "Invalid entry, empty tags.\n",
      "\t<PER>ouraies</PER>, <LOC>r. ea Pstiu-Augnstins</LOC>, <CARDINAL></CARDINAL>.\n",
      "\n",
      "Invalid entry, empty tags.\n",
      "\t<PER>Misst</PER>,4<ACT>nanader</ACT>, <LOC>asee de eniil</LOC> <CARDINAL></CARDINAL> 3f\n",
      "\n",
      "Invalid entry, empty tags.\n",
      "\t<PER>Miilseye</PER> <ACT>iprim. e tale-doeuse</ACT>, <LOC>r. s 38 oin-.-Jacnues</LOC>.<CARDINAL></CARDINAL>.&apos;\n",
      "\n",
      "Invalid entry, empty tags.\n",
      "\t<PER>Millet</PER>, <ACT>papetier</ACT>, <LOC>, Monuartrae</LOC>, <CARDINAL></CARDINAL>. f8\n",
      "\n",
      "Invalid entry, empty tags.\n",
      "\t<PER>Milcenr</PER>. <ACT>tapissisr</ACT>. <LOC>r. Gaillan</LOC>.<CARDINAL></CARDINAL>.  lB35\n",
      "\n",
      "Invalid entry, empty tags.\n",
      "\t<PER>Muet ieine</PER>, <ACT>ieber</ACT>, <LOC>r. Nahe-8.-Miarsi</LOC><CARDINAL> </CARDINAL>.s\n",
      "\n",
      "Invalid entry, empty tags.\n",
      "\t<PER>Miasrd (Gh. Pg-)</PER> -<ACT>see eiesrg</ACT> Ia<LOC>r es</LOC> <CARDINAL>a</CARDINAL><CARDINAL></CARDINAL>, <TITRE>(El.)</TITRE>.&apos; 356 a8\n",
      "\n",
      "Invalid entry, empty tags.\n",
      "\t<PER>Miilee (MIal.)</PER>, <ACT>, gami</ACT>, <LOC>ptie des Iligs</LOC>i<CARDINAL> </CARDINAL>3Ra\n",
      "\n",
      "Invalid entry, empty tags.\n",
      "\t<PER>Mille</PER>. <ACT>de mbs</ACT>, <LOC>r. na Cimeie I83 S.-Nicwlas</LOC>-<CARDINAL></CARDINAL>\n",
      "\n",
      "Invalid entry, empty tags.\n",
      "\t<PER>Mtle</PER>, <ACT>eofissc</ACT>, <LOC>r., S -tarn</LOC>,<CARDINAL></CARDINAL>. 3a6\n",
      "\n",
      "Invalid entry, empty tags.\n",
      "\t. <PER>Migaon</PER> ,y<ACT>seerter</ACT>, <LOC>r. lJouele</LOC>,3<CARDINAL></CARDINAL>.  a\n",
      "\n",
      "Invalid entry, empty tags.\n",
      "\t-<PER>Migaeron (Na.)</PER>, <ACT>fearis</ACT>, <LOC>s. n Ciie</LOC>,-<CARDINAL></CARDINAL> A53\n",
      "\n",
      "Invalid entry, empty tags.\n",
      "\t<PER>aigaiass</PER>, <ACT>arinr</ACT>, <LOC>s du sg</LOC> <CARDINAL></CARDINAL> 386, 3g\n",
      "\n",
      "Invalid entry, empty tags.\n",
      "\t<PER>Migsn</PER>., <ACT>eeier</ACT>, <LOC>s. ds Yasises</LOC><CARDINAL></CARDINAL>\n",
      "\n",
      "Invalid entry, empty tags.\n",
      "\t<PER>y</PER>,<ACT>aer</ACT>, <LOC>r. S.-MIin</LOC>ao<CARDINAL></CARDINAL>. 3\n",
      "\n",
      "Invalid entry, empty tags.\n",
      "\t<PER>Ditrtae4</PER>, <ACT>t-</ACT> <LOC>. Paevin</LOC>.<CARDINAL></CARDINAL>. sa\n",
      "\n",
      "Invalid entry, empty tags.\n",
      "\t<PER>aflat</PER>, <ACT>guiiaeaitier</ACT>, <LOC>guai ds IEoe</LOC>,,<CARDINAL></CARDINAL>; 8\n",
      "\n",
      "Invalid entry, empty tags.\n",
      "\t<PER>iy</PER>, <ACT>iersir</ACT>, <LOC> Mosmarre</LOC>,<CARDINAL> </CARDINAL>,<LOC>pe u Saumon</LOC>L.6<CARDINAL></CARDINAL>. 3ga\n",
      "\n",
      "Invalid entry, empty tags.\n",
      "\t<PER>Dcsos</PER>, <ACT>oiliere tesre</ACT>, <LOC>r. Meuwserei)</LOC>.e<CARDINAL></CARDINAL> t36\n",
      "\n",
      "Invalid entry, empty tags.\n",
      "\t<PER>ge</PER><ACT>A tre</ACT>.<LOC>r xn S,Gemai</LOC>,<CARDINAL></CARDINAL>. foa\n",
      "\n",
      "Invalid entry, empty tags.\n",
      "\tI<PER>Dnfresne</PER>, <ACT>fl re crone (sx. 6g)</ACT>, <LOC>336 h I Caitellerie</LOC>rg<CARDINAL></CARDINAL>\n",
      "\n",
      "Invalid entry, empty tags.\n",
      "\t<PER>afaise</PER>, <ACT>illeur</ACT>, <LOC>r. IRichlian</LOC>,f<CARDINAL></CARDINAL>.\n",
      "\n",
      "Invalid entry, empty tags.\n",
      "\t<PER>Dafoumantelle (Lois)</PER>, <ACT>peasssisr</ACT>,<LOC>r. n A6 Patlwion-,-anser</LOC>, <CARDINAL></CARDINAL>.\n",
      "\n",
      "Invalid entry, empty tags.\n",
      "\t<PER>Dataae (I.) c o</PER>, <ACT>fae. de ppters peiis</ACT><TITRE> ((g)</TITRE>; <LOC>r. eea--Antoie</LOC>s <CARDINAL></CARDINAL> -\n",
      "\n",
      "Invalid entry, empty tags.\n",
      "\t<PER>Dnfour</PER>, <ACT>M. garni</ACT>, <LOC>r. Veiadour</LOC>,<CARDINAL></CARDINAL>. M8\n",
      "\n",
      "Invalid entry, empty tags.\n",
      "\t<PER>ufanr</PER>, <ACT>zereetr</ACT>, x<LOC>res Netss</LOC>3t<CARDINAL></CARDINAL> a\n",
      "\n",
      "Invalid entry, empty tags.\n",
      "\t<PER>Dafsue (Ia.)</PER>, <ACT>maeh. de apeaux s yaife</ACT>, <LOC>paseuge t Panoaa</LOC>tt<CARDINAL></CARDINAL> 3o\n",
      "\n",
      "Invalid entry, empty tags.\n",
      "\t<PER>Iil</PER> <ACT>Iueurde ecnnosses</ACT> ; <LOC>r. de aas- Sos tPoisonnire</LOC>, <CARDINAL></CARDINAL>.L\n",
      "\n",
      "Invalid entry, empty tags.\n",
      "\t<PER>Iui&apos;</PER>, <ACT>lionier</ACT>, <LOC>x. des Calsnnes</LOC>. <CARDINAL></CARDINAL>, 3gfi\n",
      "\n",
      "Invalid entry, empty tags.\n",
      "\t<PER>D Vo)</PER>, <ACT>ire</ACT>l <LOC>.di Ga-Ce et</LOC>. <CARDINAL></CARDINAL>3\n",
      "\n",
      "Invalid entry, empty tags.\n",
      "\t<PER>P slg ggsee</PER> <ACT>s</ACT>. <LOC>hAsse-d&apos;Autfn</LOC>. <CARDINAL></CARDINAL>. <TITRE>EIi.</TITRE>\n",
      "\n",
      "================================\n",
      "Invalid entries:    775\n",
      "Total entries:     8765\n",
      "================================\n"
     ]
    }
   ],
   "source": [
    "out_path = os.path.join(DATASET_PATH, \"33-ner_align_krak\", \"all.json\")\n",
    "ner_krak_align = generate_aligned_gt(ref_path, krak_path, out_path)"
   ]
  },
  {
   "cell_type": "code",
   "execution_count": 11,
   "metadata": {},
   "outputs": [],
   "source": [
    "import io"
   ]
  },
  {
   "cell_type": "code",
   "execution_count": 12,
   "metadata": {},
   "outputs": [],
   "source": [
    "def export_gold(entries, csv_path):\n",
    "    lines_to_write = []\n",
    "    for entry in entries:\n",
    "        if not entry[\"has_valid_ner_xml\"]:\n",
    "            continue\n",
    "        line = '\"' + entry['ner_xml'] + '\", \"' + entry['book'] + '\"'\n",
    "        lines_to_write.append(line)\n",
    "    print(f\"Valid entries: {len(lines_to_write)}\")\n",
    "    all_lines = \"\\n\".join(lines_to_write)\n",
    "\n",
    "    with io.open(csv_path, \"wt\", encoding=\"UTF-8\", newline='',\n",
    "                errors=\"strict\") as file_output:\n",
    "        file_output.write(all_lines)"
   ]
  },
  {
   "cell_type": "code",
   "execution_count": 13,
   "metadata": {},
   "outputs": [
    {
     "name": "stdout",
     "output_type": "stream",
     "text": [
      "Valid entries: 8392\n"
     ]
    }
   ],
   "source": [
    "out_path_csv = os.path.join(DATASET_PATH, \"31-ner_align_pero\", \"gold.csv\")\n",
    "export_gold(ner_pero_align, out_path_csv)"
   ]
  },
  {
   "cell_type": "code",
   "execution_count": 14,
   "metadata": {},
   "outputs": [
    {
     "name": "stdout",
     "output_type": "stream",
     "text": [
      "Valid entries: 8700\n"
     ]
    }
   ],
   "source": [
    "out_path_csv = os.path.join(DATASET_PATH, \"32-ner_align_tess\", \"gold.csv\")\n",
    "export_gold(ner_tess_align, out_path_csv)"
   ]
  },
  {
   "cell_type": "code",
   "execution_count": 15,
   "metadata": {},
   "outputs": [
    {
     "name": "stdout",
     "output_type": "stream",
     "text": [
      "Valid entries: 7990\n"
     ]
    }
   ],
   "source": [
    "out_path_csv = os.path.join(DATASET_PATH, \"33-ner_align_krak\", \"gold.csv\")\n",
    "export_gold(ner_krak_align, out_path_csv)"
   ]
  }
 ],
 "metadata": {
  "kernelspec": {
   "display_name": "Python 3",
   "language": "python",
   "name": "python3"
  },
  "language_info": {
   "codemirror_mode": {
    "name": "ipython",
    "version": 3
   },
   "file_extension": ".py",
   "mimetype": "text/x-python",
   "name": "python",
   "nbconvert_exporter": "python",
   "pygments_lexer": "ipython3",
   "version": "3.8.10"
  },
  "orig_nbformat": 4
 },
 "nbformat": 4,
 "nbformat_minor": 2
}
